{
 "cells": [
  {
   "cell_type": "markdown",
   "id": "f346e43a",
   "metadata": {},
   "source": [
    "# Naive Bayes: Gaussian, Multinomial y Bernulli"
   ]
  },
  {
   "cell_type": "markdown",
   "id": "a93de0de",
   "metadata": {},
   "source": [
    "## 1. Librerias y configuraciones previas"
   ]
  },
  {
   "cell_type": "code",
   "execution_count": 1,
   "id": "b2c8c84c",
   "metadata": {},
   "outputs": [],
   "source": [
    "# Tratamiento de datos\n",
    "# ==============================================================================\n",
    "import pandas as pd\n",
    "import numpy as np\n",
    "\n",
    "\n",
    "# Almacenar en caché los resultados de funciones en el disco\n",
    "# ==============================================================================\n",
    "import joblib\n",
    "\n",
    "\n",
    "# Gestion de librerias\n",
    "# ==============================================================================\n",
    "from importlib import reload\n",
    "\n",
    "\n",
    "# Matemáticas y estadísticas\n",
    "# ==============================================================================\n",
    "import math\n",
    "\n",
    "\n",
    "# Preprocesado y modelado\n",
    "# ==============================================================================\n",
    "import math\n",
    "\n",
    "#Separar los datos entrenamiento y prueba\n",
    "from sklearn.model_selection import train_test_split\n",
    "\n",
    "\n",
    "#Escalar Variables\n",
    "from sklearn.preprocessing import MinMaxScaler\n",
    "\n",
    "\n",
    "#Evaluación del modelo\n",
    "from sklearn import metrics\n",
    "from sklearn.metrics import classification_report, confusion_matrix, ConfusionMatrixDisplay\n",
    "from sklearn.metrics import roc_auc_score\n",
    "from sklearn.metrics import roc_curve\n",
    "\n",
    "\n",
    "#Creación de modelo\n",
    "from sklearn.naive_bayes import GaussianNB\n",
    "from sklearn.naive_bayes import BernoulliNB\n",
    "from sklearn.naive_bayes import MultinomialNB\n",
    "\n",
    "\n",
    "# Gráficos\n",
    "# ==============================================================================\n",
    "import matplotlib.pyplot as plt\n",
    "from matplotlib import style\n",
    "import seaborn as sns\n",
    "\n",
    "\n",
    "# Configuración warnings\n",
    "# ==============================================================================\n",
    "import warnings\n",
    "warnings.filterwarnings('ignore')"
   ]
  },
  {
   "cell_type": "markdown",
   "id": "c91a71c8",
   "metadata": {},
   "source": [
    "## 2. Funciones"
   ]
  },
  {
   "cell_type": "code",
   "execution_count": 2,
   "id": "8ebb607a",
   "metadata": {},
   "outputs": [],
   "source": [
    "#reload(utils.funciones)\n",
    "\n",
    "# Funciones externas\n",
    "# ==============================================================================\n",
    "from utils.funciones import multiple_plot, plot_roc_curve"
   ]
  },
  {
   "cell_type": "markdown",
   "id": "86dee2a9",
   "metadata": {},
   "source": [
    "## 3. Carga del dataset"
   ]
  },
  {
   "cell_type": "code",
   "execution_count": 3,
   "id": "6dd528ee",
   "metadata": {},
   "outputs": [],
   "source": [
    "#Se crea un dataframe d con los datos obtenidos de archivo de entrada\n",
    "d=pd.read_csv('./datasets/02_GermanCredit_Prep.csv')"
   ]
  },
  {
   "cell_type": "code",
   "execution_count": 4,
   "id": "59032b23",
   "metadata": {},
   "outputs": [],
   "source": [
    "## Cargar datos con colab\n",
    "## =============================================================================\n",
    "\n",
    "#from google.colab import drive \n",
    "#import os\n",
    "\n",
    "#drive.mount('/gdrive')"
   ]
  },
  {
   "cell_type": "code",
   "execution_count": 5,
   "id": "afe4c536",
   "metadata": {},
   "outputs": [],
   "source": [
    "#os.chdir(\"/gdrive/MyDrive/ModelosCuantitativosPython/Notebooks\")\n",
    "#!ls"
   ]
  },
  {
   "cell_type": "code",
   "execution_count": 6,
   "id": "b3f82e85",
   "metadata": {},
   "outputs": [
    {
     "name": "stdout",
     "output_type": "stream",
     "text": [
      "<class 'pandas.core.frame.DataFrame'>\n",
      "RangeIndex: 1138 entries, 0 to 1137\n",
      "Data columns (total 21 columns):\n",
      " #   Column                    Non-Null Count  Dtype \n",
      "---  ------                    --------------  ----- \n",
      " 0   checking_account_status   1138 non-null   object\n",
      " 1   loan_duration_mo          1138 non-null   int64 \n",
      " 2   credit_history            1138 non-null   object\n",
      " 3   purpose                   1138 non-null   object\n",
      " 4   loan_amount               1138 non-null   int64 \n",
      " 5   savings_account_balance   1138 non-null   object\n",
      " 6   time_employed_yrs         1138 non-null   object\n",
      " 7   payment_pcnt_income       1138 non-null   int64 \n",
      " 8   gender_status             1138 non-null   object\n",
      " 9   other_signators           1138 non-null   object\n",
      " 10  time_in_residence         1138 non-null   int64 \n",
      " 11  property                  1138 non-null   object\n",
      " 12  age_yrs                   1138 non-null   int64 \n",
      " 13  other_credit_outstanding  1138 non-null   object\n",
      " 14  home_ownership            1138 non-null   object\n",
      " 15  number_loans              1138 non-null   int64 \n",
      " 16  job_category              1138 non-null   object\n",
      " 17  dependents                1138 non-null   int64 \n",
      " 18  telephone                 1138 non-null   object\n",
      " 19  foreign_worker            1138 non-null   object\n",
      " 20  bad_credit                1138 non-null   int64 \n",
      "dtypes: int64(8), object(13)\n",
      "memory usage: 186.8+ KB\n"
     ]
    }
   ],
   "source": [
    "d.info()"
   ]
  },
  {
   "cell_type": "markdown",
   "id": "4ed04891",
   "metadata": {},
   "source": [
    "## 4. Visualización de datos"
   ]
  },
  {
   "cell_type": "markdown",
   "id": "597ae589",
   "metadata": {},
   "source": [
    "### Variables de entrada"
   ]
  },
  {
   "cell_type": "code",
   "execution_count": 7,
   "id": "d334fca8",
   "metadata": {},
   "outputs": [
    {
     "data": {
      "text/html": [
       "<div>\n",
       "<style scoped>\n",
       "    .dataframe tbody tr th:only-of-type {\n",
       "        vertical-align: middle;\n",
       "    }\n",
       "\n",
       "    .dataframe tbody tr th {\n",
       "        vertical-align: top;\n",
       "    }\n",
       "\n",
       "    .dataframe thead th {\n",
       "        text-align: right;\n",
       "    }\n",
       "</style>\n",
       "<table border=\"1\" class=\"dataframe\">\n",
       "  <thead>\n",
       "    <tr style=\"text-align: right;\">\n",
       "      <th></th>\n",
       "      <th>checking_account_status</th>\n",
       "      <th>credit_history</th>\n",
       "      <th>purpose</th>\n",
       "      <th>savings_account_balance</th>\n",
       "      <th>time_employed_yrs</th>\n",
       "      <th>gender_status</th>\n",
       "      <th>other_signators</th>\n",
       "      <th>property</th>\n",
       "      <th>other_credit_outstanding</th>\n",
       "      <th>home_ownership</th>\n",
       "      <th>job_category</th>\n",
       "      <th>telephone</th>\n",
       "      <th>foreign_worker</th>\n",
       "    </tr>\n",
       "  </thead>\n",
       "  <tbody>\n",
       "    <tr>\n",
       "      <th>0</th>\n",
       "      <td>&lt; 0 DM</td>\n",
       "      <td>critical account - other non-bank loans</td>\n",
       "      <td>car</td>\n",
       "      <td>&lt; 100 DM</td>\n",
       "      <td>1 - 4 years</td>\n",
       "      <td>female-divorced/separated/married</td>\n",
       "      <td>co-applicant</td>\n",
       "      <td>real estate</td>\n",
       "      <td>none</td>\n",
       "      <td>own</td>\n",
       "      <td>skilled</td>\n",
       "      <td>none</td>\n",
       "      <td>yes</td>\n",
       "    </tr>\n",
       "    <tr>\n",
       "      <th>1</th>\n",
       "      <td>&lt; 0 DM</td>\n",
       "      <td>current loans paid</td>\n",
       "      <td>car</td>\n",
       "      <td>&lt; 100 DM</td>\n",
       "      <td>1 - 4 years</td>\n",
       "      <td>male-married/widowed</td>\n",
       "      <td>none</td>\n",
       "      <td>real estate</td>\n",
       "      <td>none</td>\n",
       "      <td>own</td>\n",
       "      <td>unskilled-resident</td>\n",
       "      <td>none</td>\n",
       "      <td>yes</td>\n",
       "    </tr>\n",
       "  </tbody>\n",
       "</table>\n",
       "</div>"
      ],
      "text/plain": [
       "  checking_account_status                           credit_history purpose  \\\n",
       "0                  < 0 DM  critical account - other non-bank loans     car   \n",
       "1                  < 0 DM                       current loans paid     car   \n",
       "\n",
       "  savings_account_balance time_employed_yrs  \\\n",
       "0                < 100 DM       1 - 4 years   \n",
       "1                < 100 DM       1 - 4 years   \n",
       "\n",
       "                       gender_status other_signators     property  \\\n",
       "0  female-divorced/separated/married    co-applicant  real estate   \n",
       "1               male-married/widowed            none  real estate   \n",
       "\n",
       "  other_credit_outstanding home_ownership        job_category telephone  \\\n",
       "0                     none            own             skilled      none   \n",
       "1                     none            own  unskilled-resident      none   \n",
       "\n",
       "  foreign_worker  \n",
       "0            yes  \n",
       "1            yes  "
      ]
     },
     "execution_count": 7,
     "metadata": {},
     "output_type": "execute_result"
    }
   ],
   "source": [
    "#Lista de variables categóricas\n",
    "catCols = d.select_dtypes(include = [\"object\", 'category']).columns.tolist()\n",
    "\n",
    "d[catCols].head(2)"
   ]
  },
  {
   "cell_type": "code",
   "execution_count": 8,
   "id": "aeae22a3",
   "metadata": {},
   "outputs": [
    {
     "data": {
      "text/html": [
       "<div>\n",
       "<style scoped>\n",
       "    .dataframe tbody tr th:only-of-type {\n",
       "        vertical-align: middle;\n",
       "    }\n",
       "\n",
       "    .dataframe tbody tr th {\n",
       "        vertical-align: top;\n",
       "    }\n",
       "\n",
       "    .dataframe thead th {\n",
       "        text-align: right;\n",
       "    }\n",
       "</style>\n",
       "<table border=\"1\" class=\"dataframe\">\n",
       "  <thead>\n",
       "    <tr style=\"text-align: right;\">\n",
       "      <th></th>\n",
       "      <th>loan_duration_mo</th>\n",
       "      <th>loan_amount</th>\n",
       "      <th>payment_pcnt_income</th>\n",
       "      <th>time_in_residence</th>\n",
       "      <th>age_yrs</th>\n",
       "      <th>number_loans</th>\n",
       "      <th>dependents</th>\n",
       "      <th>bad_credit</th>\n",
       "    </tr>\n",
       "  </thead>\n",
       "  <tbody>\n",
       "    <tr>\n",
       "      <th>0</th>\n",
       "      <td>12</td>\n",
       "      <td>3499</td>\n",
       "      <td>3</td>\n",
       "      <td>2</td>\n",
       "      <td>29</td>\n",
       "      <td>2</td>\n",
       "      <td>1</td>\n",
       "      <td>1</td>\n",
       "    </tr>\n",
       "    <tr>\n",
       "      <th>1</th>\n",
       "      <td>12</td>\n",
       "      <td>1168</td>\n",
       "      <td>4</td>\n",
       "      <td>3</td>\n",
       "      <td>27</td>\n",
       "      <td>1</td>\n",
       "      <td>1</td>\n",
       "      <td>0</td>\n",
       "    </tr>\n",
       "  </tbody>\n",
       "</table>\n",
       "</div>"
      ],
      "text/plain": [
       "   loan_duration_mo  loan_amount  payment_pcnt_income  time_in_residence  \\\n",
       "0                12         3499                    3                  2   \n",
       "1                12         1168                    4                  3   \n",
       "\n",
       "   age_yrs  number_loans  dependents  bad_credit  \n",
       "0       29             2           1           1  \n",
       "1       27             1           1           0  "
      ]
     },
     "execution_count": 8,
     "metadata": {},
     "output_type": "execute_result"
    }
   ],
   "source": [
    "#Lista de variables numéricas\n",
    "\n",
    "numCols=d.select_dtypes(include = ['float64','float64','int32','int64']).columns.tolist()\n",
    "\n",
    "d[numCols].head(2)"
   ]
  },
  {
   "cell_type": "code",
   "execution_count": 9,
   "id": "518a9b6a",
   "metadata": {},
   "outputs": [],
   "source": [
    "##Visualización de frecuencia de instancias para variables categóricas\n",
    "#multiple_plot(3, d , catCols, None, 'countplot', 'Frecuencia de instancias para variables categóricas',30)"
   ]
  },
  {
   "cell_type": "code",
   "execution_count": 10,
   "id": "1badae88",
   "metadata": {},
   "outputs": [],
   "source": [
    "##Visualización de variables numéricas\n",
    "#multiple_plot(1, d , numCols, None, 'scatterplot', 'Relación entre las variables numéricas',30)"
   ]
  },
  {
   "cell_type": "code",
   "execution_count": 11,
   "id": "c98c5fbd",
   "metadata": {},
   "outputs": [],
   "source": [
    "#Eliminar la variable de salida de la lista de variable numéricas\n",
    "numCols.remove('bad_credit')"
   ]
  },
  {
   "cell_type": "markdown",
   "id": "b2a648ba",
   "metadata": {},
   "source": [
    "### Variable de salida"
   ]
  },
  {
   "cell_type": "code",
   "execution_count": 12,
   "id": "3ef481da",
   "metadata": {},
   "outputs": [
    {
     "data": {
      "text/plain": [
       "bad_credit\n",
       "0    569\n",
       "1    569\n",
       "Name: bad_credit, dtype: int64"
      ]
     },
     "execution_count": 12,
     "metadata": {},
     "output_type": "execute_result"
    }
   ],
   "source": [
    "# Distriución de la variable de salida\n",
    "\n",
    "d.groupby('bad_credit').bad_credit.count().sort_values(ascending=False)"
   ]
  },
  {
   "cell_type": "code",
   "execution_count": 13,
   "id": "da09a6f4",
   "metadata": {},
   "outputs": [],
   "source": [
    "##Visualización de la variable de salida\n",
    "#multiple_plot(1, d , None, 'bad_credit', 'countplot', 'Gráfica de frecuencia de bad Credit',0)"
   ]
  },
  {
   "cell_type": "markdown",
   "id": "9a38e68d",
   "metadata": {},
   "source": [
    "## 5. Transformación de datos"
   ]
  },
  {
   "cell_type": "markdown",
   "id": "968ad737",
   "metadata": {},
   "source": [
    "### Creación de variables Dummies "
   ]
  },
  {
   "cell_type": "code",
   "execution_count": 14,
   "id": "f67e8666",
   "metadata": {},
   "outputs": [
    {
     "name": "stdout",
     "output_type": "stream",
     "text": [
      "<class 'pandas.core.frame.DataFrame'>\n",
      "RangeIndex: 1138 entries, 0 to 1137\n",
      "Data columns (total 46 columns):\n",
      " #   Column                                                  Non-Null Count  Dtype\n",
      "---  ------                                                  --------------  -----\n",
      " 0   loan_duration_mo                                        1138 non-null   int64\n",
      " 1   loan_amount                                             1138 non-null   int64\n",
      " 2   payment_pcnt_income                                     1138 non-null   int64\n",
      " 3   time_in_residence                                       1138 non-null   int64\n",
      " 4   age_yrs                                                 1138 non-null   int64\n",
      " 5   number_loans                                            1138 non-null   int64\n",
      " 6   dependents                                              1138 non-null   int64\n",
      " 7   bad_credit                                              1138 non-null   int64\n",
      " 8   checking_account_status_< 0 DM                          1138 non-null   uint8\n",
      " 9   checking_account_status_> 200 DM or salary assignment   1138 non-null   uint8\n",
      " 10  checking_account_status_none                            1138 non-null   uint8\n",
      " 11  credit_history_critical account - other non-bank loans  1138 non-null   uint8\n",
      " 12  credit_history_current loans paid                       1138 non-null   uint8\n",
      " 13  credit_history_no credit - paid                         1138 non-null   uint8\n",
      " 14  credit_history_past payment delays                      1138 non-null   uint8\n",
      " 15  purpose_car                                             1138 non-null   uint8\n",
      " 16  purpose_education                                       1138 non-null   uint8\n",
      " 17  purpose_furniture/equipment                             1138 non-null   uint8\n",
      " 18  purpose_other                                           1138 non-null   uint8\n",
      " 19  purpose_radio/television                                1138 non-null   uint8\n",
      " 20  purpose_repairs                                         1138 non-null   uint8\n",
      " 21  savings_account_balance_500 - 1000 DM                   1138 non-null   uint8\n",
      " 22  savings_account_balance_< 100 DM                        1138 non-null   uint8\n",
      " 23  savings_account_balance_>= 1000 DM                      1138 non-null   uint8\n",
      " 24  savings_account_balance_unknown/none                    1138 non-null   uint8\n",
      " 25  time_employed_yrs_4 - 7 years                           1138 non-null   uint8\n",
      " 26  time_employed_yrs_< 1 year                              1138 non-null   uint8\n",
      " 27  time_employed_yrs_>= 7 years                            1138 non-null   uint8\n",
      " 28  time_employed_yrs_unemployed                            1138 non-null   uint8\n",
      " 29  gender_status_male-divorced/separated                   1138 non-null   uint8\n",
      " 30  gender_status_male-married/widowed                      1138 non-null   uint8\n",
      " 31  gender_status_male-single                               1138 non-null   uint8\n",
      " 32  other_signators_guarantor                               1138 non-null   uint8\n",
      " 33  other_signators_none                                    1138 non-null   uint8\n",
      " 34  property_car or other                                   1138 non-null   uint8\n",
      " 35  property_real estate                                    1138 non-null   uint8\n",
      " 36  property_unknown-none                                   1138 non-null   uint8\n",
      " 37  other_credit_outstanding_none                           1138 non-null   uint8\n",
      " 38  other_credit_outstanding_stores                         1138 non-null   uint8\n",
      " 39  home_ownership_own                                      1138 non-null   uint8\n",
      " 40  home_ownership_rent                                     1138 non-null   uint8\n",
      " 41  job_category_skilled                                    1138 non-null   uint8\n",
      " 42  job_category_unemployed-unskilled-non-resident          1138 non-null   uint8\n",
      " 43  job_category_unskilled-resident                         1138 non-null   uint8\n",
      " 44  telephone_yes                                           1138 non-null   uint8\n",
      " 45  foreign_worker_yes                                      1138 non-null   uint8\n",
      "dtypes: int64(8), uint8(38)\n",
      "memory usage: 113.5 KB\n"
     ]
    }
   ],
   "source": [
    "# Aplicación de la función de usuario Dummies: one-hot encoding\n",
    "\n",
    "d =pd.get_dummies(d, drop_first=1)\n",
    "\n",
    "d.info()"
   ]
  },
  {
   "cell_type": "markdown",
   "id": "56ca20f9",
   "metadata": {},
   "source": [
    "## 6. Creación del modelo"
   ]
  },
  {
   "cell_type": "markdown",
   "id": "404f63af",
   "metadata": {},
   "source": [
    "### Dividir el conjunto de datos"
   ]
  },
  {
   "cell_type": "code",
   "execution_count": 15,
   "id": "0b0783a1",
   "metadata": {},
   "outputs": [],
   "source": [
    "#Se crea una lista con todas las varibles de entrada\n",
    "\n",
    "vDep = list(d.columns)\n",
    "vDep.remove('bad_credit')\n",
    "\n",
    "#Se establece las variables de entrada 'X' y la variable de salida 'y'\n",
    "X = d.drop(columns ='bad_credit')\n",
    "y = d['bad_credit']"
   ]
  },
  {
   "cell_type": "code",
   "execution_count": 16,
   "id": "39853144",
   "metadata": {},
   "outputs": [],
   "source": [
    "# Se crean los datasets de entrenamiento y prueba para las variables de entrada y salida \n",
    "\n",
    "X_train, X_test, y_train, y_test = train_test_split(\n",
    "                                        X,\n",
    "                                        y.values.reshape(-1,1), \n",
    "                                        train_size   = 0.8,\n",
    "                                        random_state = 123,\n",
    "                                        shuffle      = True\n",
    "                                    )"
   ]
  },
  {
   "cell_type": "markdown",
   "id": "1ee42b04",
   "metadata": {},
   "source": [
    "### Escalar Variables"
   ]
  },
  {
   "cell_type": "code",
   "execution_count": 17,
   "id": "bcb1f26b",
   "metadata": {},
   "outputs": [
    {
     "name": "stdout",
     "output_type": "stream",
     "text": [
      "['loan_duration_mo', 'loan_amount', 'payment_pcnt_income', 'time_in_residence', 'age_yrs', 'number_loans', 'dependents']\n"
     ]
    }
   ],
   "source": [
    "#Se establecen las variables numéricas a escalar\n",
    "\n",
    "#Num_vars se le asigna la lista con las variables numerivas para posteriormente escalarlas\n",
    "num_vars = numCols\n",
    "\n",
    "print(num_vars)"
   ]
  },
  {
   "cell_type": "code",
   "execution_count": 18,
   "id": "afb2e426",
   "metadata": {},
   "outputs": [
    {
     "data": {
      "text/html": [
       "<div>\n",
       "<style scoped>\n",
       "    .dataframe tbody tr th:only-of-type {\n",
       "        vertical-align: middle;\n",
       "    }\n",
       "\n",
       "    .dataframe tbody tr th {\n",
       "        vertical-align: top;\n",
       "    }\n",
       "\n",
       "    .dataframe thead th {\n",
       "        text-align: right;\n",
       "    }\n",
       "</style>\n",
       "<table border=\"1\" class=\"dataframe\">\n",
       "  <thead>\n",
       "    <tr style=\"text-align: right;\">\n",
       "      <th></th>\n",
       "      <th>loan_duration_mo</th>\n",
       "      <th>loan_amount</th>\n",
       "      <th>payment_pcnt_income</th>\n",
       "      <th>time_in_residence</th>\n",
       "      <th>age_yrs</th>\n",
       "      <th>number_loans</th>\n",
       "      <th>dependents</th>\n",
       "    </tr>\n",
       "  </thead>\n",
       "  <tbody>\n",
       "    <tr>\n",
       "      <th>9</th>\n",
       "      <td>0.0294</td>\n",
       "      <td>0.1319</td>\n",
       "      <td>0.3333</td>\n",
       "      <td>0.3333</td>\n",
       "      <td>0.1667</td>\n",
       "      <td>0.0000</td>\n",
       "      <td>0.0000</td>\n",
       "    </tr>\n",
       "    <tr>\n",
       "      <th>798</th>\n",
       "      <td>0.5588</td>\n",
       "      <td>0.5622</td>\n",
       "      <td>0.3333</td>\n",
       "      <td>1.0000</td>\n",
       "      <td>0.4630</td>\n",
       "      <td>0.0000</td>\n",
       "      <td>1.0000</td>\n",
       "    </tr>\n",
       "  </tbody>\n",
       "</table>\n",
       "</div>"
      ],
      "text/plain": [
       "     loan_duration_mo  loan_amount  payment_pcnt_income  time_in_residence  \\\n",
       "9              0.0294       0.1319               0.3333             0.3333   \n",
       "798            0.5588       0.5622               0.3333             1.0000   \n",
       "\n",
       "     age_yrs  number_loans  dependents  \n",
       "9     0.1667        0.0000      0.0000  \n",
       "798   0.4630        0.0000      1.0000  "
      ]
     },
     "execution_count": 18,
     "metadata": {},
     "output_type": "execute_result"
    }
   ],
   "source": [
    "#Escalar Variables númericas\n",
    "\n",
    "pd.set_option('display.float_format', lambda x: '%.4f' % x)\n",
    "\n",
    "# Se crea un objeto MinMaxScaler\n",
    "scaler = MinMaxScaler()\n",
    "\n",
    "# Se escalan los valores del dataset entrenamiento y prueba de las columnas numéricas\n",
    "X_train[num_vars] = scaler.fit_transform(X_train[num_vars])\n",
    "X_test[num_vars] = scaler.transform(X_test[num_vars])\n",
    "\n",
    "X_train[num_vars].head(2)"
   ]
  },
  {
   "cell_type": "markdown",
   "id": "cc0d7d08",
   "metadata": {},
   "source": [
    "### Creación del modelo"
   ]
  },
  {
   "cell_type": "markdown",
   "id": "8277cce0",
   "metadata": {},
   "source": [
    "#### Creación y entrenamiento del modelo"
   ]
  },
  {
   "cell_type": "markdown",
   "id": "7157a2f7",
   "metadata": {},
   "source": [
    "Las características de los modelos Naive Bayes son las siguientes:\n",
    "\n",
    "**GaussianNB**: Este modelo se utiliza cuando las características de entrada se distribuyen de acuerdo con una distribución gaussiana (normal). <u>Es adecuado para variables numéricas continuas</u>.\n",
    "\n",
    "**MultinomialNB**: Este modelo se utiliza cuando las características de entrada son variables categóricas con recuento discreto. <u>Es adecuado para variables categóricas que representan recuentos o frecuencias</u>.\n",
    "\n",
    "**BernoulliNB**: Este modelo se utiliza cuando las características de entrada son variables binarias o se pueden binarizar. Es decir, cada característica representa la presencia o ausencia de algo. <u>Es adecuado para variables categóricas binarias o variables que se pueden convertir en binarias</u>. Los valores de características mayores que el umbral se establecen en 1, mientras que los valores iguales o inferiores al umbral se establecen en 0. El umbral se define mediante el parámetro **binarize**, que especifica el valor de corte para la binarización."
   ]
  },
  {
   "cell_type": "code",
   "execution_count": 19,
   "id": "c578c5e3",
   "metadata": {},
   "outputs": [
    {
     "data": {
      "text/html": [
       "<style>#sk-container-id-1 {color: black;background-color: white;}#sk-container-id-1 pre{padding: 0;}#sk-container-id-1 div.sk-toggleable {background-color: white;}#sk-container-id-1 label.sk-toggleable__label {cursor: pointer;display: block;width: 100%;margin-bottom: 0;padding: 0.3em;box-sizing: border-box;text-align: center;}#sk-container-id-1 label.sk-toggleable__label-arrow:before {content: \"▸\";float: left;margin-right: 0.25em;color: #696969;}#sk-container-id-1 label.sk-toggleable__label-arrow:hover:before {color: black;}#sk-container-id-1 div.sk-estimator:hover label.sk-toggleable__label-arrow:before {color: black;}#sk-container-id-1 div.sk-toggleable__content {max-height: 0;max-width: 0;overflow: hidden;text-align: left;background-color: #f0f8ff;}#sk-container-id-1 div.sk-toggleable__content pre {margin: 0.2em;color: black;border-radius: 0.25em;background-color: #f0f8ff;}#sk-container-id-1 input.sk-toggleable__control:checked~div.sk-toggleable__content {max-height: 200px;max-width: 100%;overflow: auto;}#sk-container-id-1 input.sk-toggleable__control:checked~label.sk-toggleable__label-arrow:before {content: \"▾\";}#sk-container-id-1 div.sk-estimator input.sk-toggleable__control:checked~label.sk-toggleable__label {background-color: #d4ebff;}#sk-container-id-1 div.sk-label input.sk-toggleable__control:checked~label.sk-toggleable__label {background-color: #d4ebff;}#sk-container-id-1 input.sk-hidden--visually {border: 0;clip: rect(1px 1px 1px 1px);clip: rect(1px, 1px, 1px, 1px);height: 1px;margin: -1px;overflow: hidden;padding: 0;position: absolute;width: 1px;}#sk-container-id-1 div.sk-estimator {font-family: monospace;background-color: #f0f8ff;border: 1px dotted black;border-radius: 0.25em;box-sizing: border-box;margin-bottom: 0.5em;}#sk-container-id-1 div.sk-estimator:hover {background-color: #d4ebff;}#sk-container-id-1 div.sk-parallel-item::after {content: \"\";width: 100%;border-bottom: 1px solid gray;flex-grow: 1;}#sk-container-id-1 div.sk-label:hover label.sk-toggleable__label {background-color: #d4ebff;}#sk-container-id-1 div.sk-serial::before {content: \"\";position: absolute;border-left: 1px solid gray;box-sizing: border-box;top: 0;bottom: 0;left: 50%;z-index: 0;}#sk-container-id-1 div.sk-serial {display: flex;flex-direction: column;align-items: center;background-color: white;padding-right: 0.2em;padding-left: 0.2em;position: relative;}#sk-container-id-1 div.sk-item {position: relative;z-index: 1;}#sk-container-id-1 div.sk-parallel {display: flex;align-items: stretch;justify-content: center;background-color: white;position: relative;}#sk-container-id-1 div.sk-item::before, #sk-container-id-1 div.sk-parallel-item::before {content: \"\";position: absolute;border-left: 1px solid gray;box-sizing: border-box;top: 0;bottom: 0;left: 50%;z-index: -1;}#sk-container-id-1 div.sk-parallel-item {display: flex;flex-direction: column;z-index: 1;position: relative;background-color: white;}#sk-container-id-1 div.sk-parallel-item:first-child::after {align-self: flex-end;width: 50%;}#sk-container-id-1 div.sk-parallel-item:last-child::after {align-self: flex-start;width: 50%;}#sk-container-id-1 div.sk-parallel-item:only-child::after {width: 0;}#sk-container-id-1 div.sk-dashed-wrapped {border: 1px dashed gray;margin: 0 0.4em 0.5em 0.4em;box-sizing: border-box;padding-bottom: 0.4em;background-color: white;}#sk-container-id-1 div.sk-label label {font-family: monospace;font-weight: bold;display: inline-block;line-height: 1.2em;}#sk-container-id-1 div.sk-label-container {text-align: center;}#sk-container-id-1 div.sk-container {/* jupyter's `normalize.less` sets `[hidden] { display: none; }` but bootstrap.min.css set `[hidden] { display: none !important; }` so we also need the `!important` here to be able to override the default hidden behavior on the sphinx rendered scikit-learn.org. See: https://github.com/scikit-learn/scikit-learn/issues/21755 */display: inline-block !important;position: relative;}#sk-container-id-1 div.sk-text-repr-fallback {display: none;}</style><div id=\"sk-container-id-1\" class=\"sk-top-container\"><div class=\"sk-text-repr-fallback\"><pre>MultinomialNB()</pre><b>In a Jupyter environment, please rerun this cell to show the HTML representation or trust the notebook. <br />On GitHub, the HTML representation is unable to render, please try loading this page with nbviewer.org.</b></div><div class=\"sk-container\" hidden><div class=\"sk-item\"><div class=\"sk-estimator sk-toggleable\"><input class=\"sk-toggleable__control sk-hidden--visually\" id=\"sk-estimator-id-1\" type=\"checkbox\" checked><label for=\"sk-estimator-id-1\" class=\"sk-toggleable__label sk-toggleable__label-arrow\">MultinomialNB</label><div class=\"sk-toggleable__content\"><pre>MultinomialNB()</pre></div></div></div></div></div>"
      ],
      "text/plain": [
       "MultinomialNB()"
      ]
     },
     "execution_count": 19,
     "metadata": {},
     "output_type": "execute_result"
    }
   ],
   "source": [
    "#Creación del modelo \n",
    "\n",
    "modelGNB       = GaussianNB()\n",
    "modelBNB       = BernoulliNB(binarize=0.5)\n",
    "modelMNB       = MultinomialNB()\n",
    "\n",
    "#Entrenamiento \n",
    "\n",
    "modelGNB.fit(X_train, y_train)\n",
    "modelBNB.fit(X_train, y_train)\n",
    "modelMNB.fit(X_train, y_train)"
   ]
  },
  {
   "cell_type": "markdown",
   "id": "a1392213",
   "metadata": {},
   "source": [
    "### Evaluación del modelo"
   ]
  },
  {
   "cell_type": "code",
   "execution_count": 20,
   "id": "aa46985c",
   "metadata": {},
   "outputs": [
    {
     "name": "stdout",
     "output_type": "stream",
     "text": [
      "modelMNB: 0.7175824175824176\n"
     ]
    }
   ],
   "source": [
    "y_modelGNBT = modelGNB.predict(X_train)\n",
    "print(\"modelMNB:\",metrics.accuracy_score(y_train, y_modelGNBT))"
   ]
  },
  {
   "cell_type": "code",
   "execution_count": 21,
   "id": "843768a2",
   "metadata": {},
   "outputs": [],
   "source": [
    "# Se realiza la predicción de cada uno de los modelos creados utilizando los datos prueba\n",
    "y_modelGNB = modelGNB.predict(X_test)\n",
    "y_modelBNB = modelBNB.predict(X_test)\n",
    "y_modelMNB = modelMNB.predict(X_test)"
   ]
  },
  {
   "cell_type": "code",
   "execution_count": 22,
   "id": "26893fcb",
   "metadata": {},
   "outputs": [
    {
     "data": {
      "image/png": "[encoded data removed]",
      "text/plain": [
       "<Figure size 432x288 with 2 Axes>"
      ]
     },
     "metadata": {
      "needs_background": "light"
     },
     "output_type": "display_data"
    },
    {
     "name": "stdout",
     "output_type": "stream",
     "text": [
      "              precision    recall  f1-score   support\n",
      "\n",
      "           0       0.80      0.62      0.70       114\n",
      "           1       0.69      0.84      0.76       114\n",
      "\n",
      "    accuracy                           0.73       228\n",
      "   macro avg       0.74      0.73      0.73       228\n",
      "weighted avg       0.74      0.73      0.73       228\n",
      "\n"
     ]
    },
    {
     "data": {
      "image/png": "[encoded data removed]",
      "text/plain": [
       "<Figure size 432x288 with 2 Axes>"
      ]
     },
     "metadata": {
      "needs_background": "light"
     },
     "output_type": "display_data"
    },
    {
     "name": "stdout",
     "output_type": "stream",
     "text": [
      "              precision    recall  f1-score   support\n",
      "\n",
      "           0       0.72      0.74      0.73       114\n",
      "           1       0.73      0.72      0.73       114\n",
      "\n",
      "    accuracy                           0.73       228\n",
      "   macro avg       0.73      0.73      0.73       228\n",
      "weighted avg       0.73      0.73      0.73       228\n",
      "\n"
     ]
    },
    {
     "data": {
      "image/png": "[encoded data removed]",
      "text/plain": [
       "<Figure size 432x288 with 2 Axes>"
      ]
     },
     "metadata": {
      "needs_background": "light"
     },
     "output_type": "display_data"
    },
    {
     "name": "stdout",
     "output_type": "stream",
     "text": [
      "              precision    recall  f1-score   support\n",
      "\n",
      "           0       0.70      0.71      0.71       114\n",
      "           1       0.71      0.70      0.70       114\n",
      "\n",
      "    accuracy                           0.71       228\n",
      "   macro avg       0.71      0.71      0.71       228\n",
      "weighted avg       0.71      0.71      0.71       228\n",
      "\n"
     ]
    }
   ],
   "source": [
    "# Crear un diccionario de modelos\n",
    "models = {\n",
    "    'modelGNB': [modelGNB, y_modelGNB],\n",
    "    'modelBNB': [modelBNB, y_modelBNB],\n",
    "    'modelMNB': [modelMNB, y_modelMNB]\n",
    "}\n",
    "\n",
    "# Para cada modelo se se extrae un elemento del diccionario models\n",
    "for model_name, (model, y_pred) in models.items():\n",
    "    # Calcular la matriz de confusión\n",
    "    cm = confusion_matrix(y_test, y_pred)\n",
    "    \n",
    "    # Crear la visualización de la matriz de confusión\n",
    "    disp = ConfusionMatrixDisplay(confusion_matrix=cm, display_labels=np.unique(y_test))\n",
    "    \n",
    "    # Mostrar la visualización\n",
    "    disp.plot(cmap='Blues')\n",
    "    \n",
    "    # Mostrar el título usando matplotlib\n",
    "    plt.title(model_name)\n",
    "    \n",
    "    # Mostrar la figura\n",
    "    plt.show()\n",
    "\n",
    "    # Mostrar el informe de clasificación\n",
    "    print(classification_report(y_test, y_pred))\n"
   ]
  },
  {
   "cell_type": "markdown",
   "id": "36eb4433",
   "metadata": {},
   "source": [
    "#### ROC - Receiver Operating Characteristic"
   ]
  },
  {
   "cell_type": "code",
   "execution_count": 23,
   "id": "844e9765",
   "metadata": {},
   "outputs": [
    {
     "name": "stdout",
     "output_type": "stream",
     "text": [
      "0.77: BernoulliNB(binarize=0.5)\n",
      "0.76: MultinomialNB()\n",
      "0.75: GaussianNB()\n"
     ]
    },
    {
     "data": {
      "image/png": "[encoded data removed]",
      "text/plain": [
       "<Figure size 720x432 with 1 Axes>"
      ]
     },
     "metadata": {
      "needs_background": "light"
     },
     "output_type": "display_data"
    }
   ],
   "source": [
    "# Crear figura de tamaño 10x6\n",
    "fig = plt.figure(figsize=(10, 6))  \n",
    "\n",
    "# Lista de modelos a evaluar\n",
    "Modelos = [modelBNB, modelMNB, modelGNB]  \n",
    "\n",
    "# Iterar sobre los modelos\n",
    "for i in range(len(Modelos)):\n",
    "    \n",
    "    # Obtener probabilidades de predicción del modelo\n",
    "    probs = Modelos[i].predict_proba(X_test)  \n",
    "    \n",
    "    # Seleccionar la columna correspondiente a la probabilidad de clase positiva\n",
    "    probs = probs[:, 1]  \n",
    "\n",
    "    # Calcular el AUC-ROC\n",
    "    auc = roc_auc_score(y_test, probs*(1))  \n",
    "\n",
    "    # Calcular las tasas de FPR y TPR\n",
    "    fpr, tpr, _ = roc_curve(y_test, probs*(1))  \n",
    "\n",
    "    # Graficar la curva ROC del modelo actual\n",
    "    plt.plot(fpr, tpr, label=Modelos[i])  \n",
    "\n",
    "    # Mostrar el AUC-ROC y el nombre del modelo\n",
    "    print(\"{:.2f}: {}\".format(auc, Modelos[i]))  \n",
    "\n",
    "\n",
    "# Graficar la línea diagonal punteada (clasificador aleatorio)\n",
    "plt.plot([0, 1], [0, 1], linestyle='--')  \n",
    "plt.xlabel('False Positive Rate')  # Etiqueta del eje x\n",
    "plt.ylabel('True Positive Rate')  # Etiqueta del eje y\n",
    "plt.title('Receiver Operating Characteristic (ROC) Curve')  # Título del gráfico\n",
    "plt.legend()  # Mostrar la leyenda de los modelos\n",
    "plt.show()  # Mostrar el gráfico\n"
   ]
  },
  {
   "cell_type": "markdown",
   "id": "2a0e5d3e",
   "metadata": {},
   "source": [
    "### Guardar modelo"
   ]
  },
  {
   "cell_type": "code",
   "execution_count": 24,
   "id": "873aeea7",
   "metadata": {},
   "outputs": [
    {
     "data": {
      "text/plain": [
       "['./modelos/clasificacion/NB_Ret_Bernulli.pkl']"
      ]
     },
     "execution_count": 24,
     "metadata": {},
     "output_type": "execute_result"
    }
   ],
   "source": [
    "#Se guarda el modelo\n",
    "joblib.dump(modelBNB, './modelos/clasificacion/NB_Ret_Bernulli.pkl')"
   ]
  },
  {
   "cell_type": "markdown",
   "id": "0943ab42",
   "metadata": {},
   "source": [
    "### Referencias\n",
    "\n",
    "- https://www.analyticsvidhya.com/blog/2021/11/implementation-of-gaussian-naive-bayes-in-python-sklearn/\n",
    "\n",
    "- Multinomial: https://www.youtube.com/watch?v=99MN-rl8jGY&t=90s"
   ]
  }
 ],
 "metadata": {
  "kernelspec": {
   "display_name": "Python 3 (ipykernel)",
   "language": "python",
   "name": "python3"
  },
  "language_info": {
   "codemirror_mode": {
    "name": "ipython",
    "version": 3
   },
   "file_extension": ".py",
   "mimetype": "text/x-python",
   "name": "python",
   "nbconvert_exporter": "python",
   "pygments_lexer": "ipython3",
   "version": "3.9.7"
  }
 },
 "nbformat": 4,
 "nbformat_minor": 5
}
