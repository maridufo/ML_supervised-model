{
 "cells": [
  {
   "cell_type": "markdown",
   "metadata": {},
   "source": [
    "# AdaBoost (Clasificación)"
   ]
  },
  {
   "cell_type": "markdown",
   "metadata": {
    "id": "UoeVw4gTwXet"
   },
   "source": [
    "## 1. Librerias y configuraciones previas\n"
   ]
  },
  {
   "cell_type": "code",
   "execution_count": 1,
   "metadata": {},
   "outputs": [],
   "source": [
    "# Tratamiento de datos\n",
    "# ==============================================================================\n",
    "import pandas as pd\n",
    "import numpy as np\n",
    "\n",
    "\n",
    "# Almacenar en caché los resultados de funciones en el disco\n",
    "# ==============================================================================\n",
    "import joblib\n",
    "\n",
    "\n",
    "# Gestion de librerias\n",
    "# ==============================================================================\n",
    "from importlib import reload\n",
    "\n",
    "\n",
    "# Matemáticas y estadísticas\n",
    "# ==============================================================================\n",
    "import math\n",
    "\n",
    "\n",
    "# Preprocesado y modelado\n",
    "# ==============================================================================\n",
    "import math\n",
    "\n",
    "#Separar los datos entrenamiento y prueba\n",
    "from sklearn.model_selection import train_test_split\n",
    "\n",
    "\n",
    "#Escalar Variables\n",
    "from sklearn.preprocessing import MinMaxScaler\n",
    "\n",
    "\n",
    "#Evaluación del modelo\n",
    "from sklearn import metrics\n",
    "from sklearn.metrics import classification_report, confusion_matrix, ConfusionMatrixDisplay\n",
    "from sklearn.metrics import roc_auc_score\n",
    "from sklearn.metrics import roc_curve\n",
    "\n",
    "\n",
    "#Creación de modelo\n",
    "from sklearn.ensemble import AdaBoostClassifier\n",
    "from sklearn.tree import DecisionTreeClassifier\n",
    "\n",
    "\n",
    "\n",
    "#configuracion de hiperparámetros\n",
    "from sklearn.model_selection import GridSearchCV\n",
    "from sklearn.model_selection import cross_val_score\n",
    "\n",
    "# Gráficos\n",
    "# ==============================================================================\n",
    "import matplotlib.pyplot as plt\n",
    "from matplotlib import style\n",
    "import seaborn as sns\n",
    "\n",
    "\n",
    "# Configuración warnings\n",
    "# ==============================================================================\n",
    "import warnings\n",
    "warnings.filterwarnings('ignore')"
   ]
  },
  {
   "cell_type": "markdown",
   "metadata": {},
   "source": [
    "## 2. Funciones"
   ]
  },
  {
   "cell_type": "code",
   "execution_count": 2,
   "metadata": {},
   "outputs": [],
   "source": [
    "#reload(utils.funciones)\n",
    "\n",
    "# Funciones externas\n",
    "# ==============================================================================\n",
    "from utils.funciones import multiple_plot, plot_roc_curve"
   ]
  },
  {
   "cell_type": "markdown",
   "metadata": {},
   "source": [
    "## 3. Carga del dataset"
   ]
  },
  {
   "cell_type": "code",
   "execution_count": 3,
   "metadata": {},
   "outputs": [],
   "source": [
    "#Se crea un dataframe d con los datos obtenidos de archivo de entrada\n",
    "d=pd.read_csv('./datasets/02_GermanCredit_Prep.csv')"
   ]
  },
  {
   "cell_type": "code",
   "execution_count": 4,
   "metadata": {},
   "outputs": [],
   "source": [
    "## Cargar datos con colab\n",
    "## =============================================================================\n",
    "\n",
    "#from google.colab import drive \n",
    "#import os\n",
    "\n",
    "#drive.mount('/gdrive')"
   ]
  },
  {
   "cell_type": "code",
   "execution_count": 5,
   "metadata": {},
   "outputs": [],
   "source": [
    "#os.chdir(\"/gdrive/MyDrive/ModelosCuantitativosPython/Notebooks\")\n",
    "#!ls"
   ]
  },
  {
   "cell_type": "code",
   "execution_count": 6,
   "metadata": {},
   "outputs": [
    {
     "name": "stdout",
     "output_type": "stream",
     "text": [
      "<class 'pandas.core.frame.DataFrame'>\n",
      "RangeIndex: 1138 entries, 0 to 1137\n",
      "Data columns (total 21 columns):\n",
      " #   Column                    Non-Null Count  Dtype \n",
      "---  ------                    --------------  ----- \n",
      " 0   checking_account_status   1138 non-null   object\n",
      " 1   loan_duration_mo          1138 non-null   int64 \n",
      " 2   credit_history            1138 non-null   object\n",
      " 3   purpose                   1138 non-null   object\n",
      " 4   loan_amount               1138 non-null   int64 \n",
      " 5   savings_account_balance   1138 non-null   object\n",
      " 6   time_employed_yrs         1138 non-null   object\n",
      " 7   payment_pcnt_income       1138 non-null   int64 \n",
      " 8   gender_status             1138 non-null   object\n",
      " 9   other_signators           1138 non-null   object\n",
      " 10  time_in_residence         1138 non-null   int64 \n",
      " 11  property                  1138 non-null   object\n",
      " 12  age_yrs                   1138 non-null   int64 \n",
      " 13  other_credit_outstanding  1138 non-null   object\n",
      " 14  home_ownership            1138 non-null   object\n",
      " 15  number_loans              1138 non-null   int64 \n",
      " 16  job_category              1138 non-null   object\n",
      " 17  dependents                1138 non-null   int64 \n",
      " 18  telephone                 1138 non-null   object\n",
      " 19  foreign_worker            1138 non-null   object\n",
      " 20  bad_credit                1138 non-null   int64 \n",
      "dtypes: int64(8), object(13)\n",
      "memory usage: 186.8+ KB\n"
     ]
    }
   ],
   "source": [
    "d.info()"
   ]
  },
  {
   "cell_type": "markdown",
   "metadata": {},
   "source": [
    "## 4. Visualización de datos"
   ]
  },
  {
   "cell_type": "markdown",
   "metadata": {},
   "source": [
    "### Variables de entrada"
   ]
  },
  {
   "cell_type": "code",
   "execution_count": 7,
   "metadata": {},
   "outputs": [
    {
     "data": {
      "text/html": [
       "<div>\n",
       "<style scoped>\n",
       "    .dataframe tbody tr th:only-of-type {\n",
       "        vertical-align: middle;\n",
       "    }\n",
       "\n",
       "    .dataframe tbody tr th {\n",
       "        vertical-align: top;\n",
       "    }\n",
       "\n",
       "    .dataframe thead th {\n",
       "        text-align: right;\n",
       "    }\n",
       "</style>\n",
       "<table border=\"1\" class=\"dataframe\">\n",
       "  <thead>\n",
       "    <tr style=\"text-align: right;\">\n",
       "      <th></th>\n",
       "      <th>checking_account_status</th>\n",
       "      <th>credit_history</th>\n",
       "      <th>purpose</th>\n",
       "      <th>savings_account_balance</th>\n",
       "      <th>time_employed_yrs</th>\n",
       "      <th>gender_status</th>\n",
       "      <th>other_signators</th>\n",
       "      <th>property</th>\n",
       "      <th>other_credit_outstanding</th>\n",
       "      <th>home_ownership</th>\n",
       "      <th>job_category</th>\n",
       "      <th>telephone</th>\n",
       "      <th>foreign_worker</th>\n",
       "    </tr>\n",
       "  </thead>\n",
       "  <tbody>\n",
       "    <tr>\n",
       "      <th>0</th>\n",
       "      <td>&lt; 0 DM</td>\n",
       "      <td>critical account - other non-bank loans</td>\n",
       "      <td>car</td>\n",
       "      <td>&lt; 100 DM</td>\n",
       "      <td>1 - 4 years</td>\n",
       "      <td>female-divorced/separated/married</td>\n",
       "      <td>co-applicant</td>\n",
       "      <td>real estate</td>\n",
       "      <td>none</td>\n",
       "      <td>own</td>\n",
       "      <td>skilled</td>\n",
       "      <td>none</td>\n",
       "      <td>yes</td>\n",
       "    </tr>\n",
       "    <tr>\n",
       "      <th>1</th>\n",
       "      <td>&lt; 0 DM</td>\n",
       "      <td>current loans paid</td>\n",
       "      <td>car</td>\n",
       "      <td>&lt; 100 DM</td>\n",
       "      <td>1 - 4 years</td>\n",
       "      <td>male-married/widowed</td>\n",
       "      <td>none</td>\n",
       "      <td>real estate</td>\n",
       "      <td>none</td>\n",
       "      <td>own</td>\n",
       "      <td>unskilled-resident</td>\n",
       "      <td>none</td>\n",
       "      <td>yes</td>\n",
       "    </tr>\n",
       "  </tbody>\n",
       "</table>\n",
       "</div>"
      ],
      "text/plain": [
       "  checking_account_status                           credit_history purpose  \\\n",
       "0                  < 0 DM  critical account - other non-bank loans     car   \n",
       "1                  < 0 DM                       current loans paid     car   \n",
       "\n",
       "  savings_account_balance time_employed_yrs  \\\n",
       "0                < 100 DM       1 - 4 years   \n",
       "1                < 100 DM       1 - 4 years   \n",
       "\n",
       "                       gender_status other_signators     property  \\\n",
       "0  female-divorced/separated/married    co-applicant  real estate   \n",
       "1               male-married/widowed            none  real estate   \n",
       "\n",
       "  other_credit_outstanding home_ownership        job_category telephone  \\\n",
       "0                     none            own             skilled      none   \n",
       "1                     none            own  unskilled-resident      none   \n",
       "\n",
       "  foreign_worker  \n",
       "0            yes  \n",
       "1            yes  "
      ]
     },
     "execution_count": 7,
     "metadata": {},
     "output_type": "execute_result"
    }
   ],
   "source": [
    "#Lista de variables categóricas\n",
    "catCols = d.select_dtypes(include = [\"object\", 'category']).columns.tolist()\n",
    "\n",
    "d[catCols].head(2)"
   ]
  },
  {
   "cell_type": "code",
   "execution_count": 8,
   "metadata": {},
   "outputs": [
    {
     "data": {
      "text/html": [
       "<div>\n",
       "<style scoped>\n",
       "    .dataframe tbody tr th:only-of-type {\n",
       "        vertical-align: middle;\n",
       "    }\n",
       "\n",
       "    .dataframe tbody tr th {\n",
       "        vertical-align: top;\n",
       "    }\n",
       "\n",
       "    .dataframe thead th {\n",
       "        text-align: right;\n",
       "    }\n",
       "</style>\n",
       "<table border=\"1\" class=\"dataframe\">\n",
       "  <thead>\n",
       "    <tr style=\"text-align: right;\">\n",
       "      <th></th>\n",
       "      <th>loan_duration_mo</th>\n",
       "      <th>loan_amount</th>\n",
       "      <th>payment_pcnt_income</th>\n",
       "      <th>time_in_residence</th>\n",
       "      <th>age_yrs</th>\n",
       "      <th>number_loans</th>\n",
       "      <th>dependents</th>\n",
       "      <th>bad_credit</th>\n",
       "    </tr>\n",
       "  </thead>\n",
       "  <tbody>\n",
       "    <tr>\n",
       "      <th>0</th>\n",
       "      <td>12</td>\n",
       "      <td>3499</td>\n",
       "      <td>3</td>\n",
       "      <td>2</td>\n",
       "      <td>29</td>\n",
       "      <td>2</td>\n",
       "      <td>1</td>\n",
       "      <td>1</td>\n",
       "    </tr>\n",
       "    <tr>\n",
       "      <th>1</th>\n",
       "      <td>12</td>\n",
       "      <td>1168</td>\n",
       "      <td>4</td>\n",
       "      <td>3</td>\n",
       "      <td>27</td>\n",
       "      <td>1</td>\n",
       "      <td>1</td>\n",
       "      <td>0</td>\n",
       "    </tr>\n",
       "  </tbody>\n",
       "</table>\n",
       "</div>"
      ],
      "text/plain": [
       "   loan_duration_mo  loan_amount  payment_pcnt_income  time_in_residence  \\\n",
       "0                12         3499                    3                  2   \n",
       "1                12         1168                    4                  3   \n",
       "\n",
       "   age_yrs  number_loans  dependents  bad_credit  \n",
       "0       29             2           1           1  \n",
       "1       27             1           1           0  "
      ]
     },
     "execution_count": 8,
     "metadata": {},
     "output_type": "execute_result"
    }
   ],
   "source": [
    "#Lista de variables numéricas\n",
    "\n",
    "numCols=d.select_dtypes(include = ['float64','float64','int32','int64']).columns.tolist()\n",
    "\n",
    "d[numCols].head(2)"
   ]
  },
  {
   "cell_type": "code",
   "execution_count": 9,
   "metadata": {},
   "outputs": [],
   "source": [
    "##Visualización de frecuencia de instancias para variables categóricas\n",
    "#multiple_plot(3, d , catCols, None, 'countplot', 'Frecuencia de instancias para variables categóricas',30)"
   ]
  },
  {
   "cell_type": "code",
   "execution_count": 10,
   "metadata": {},
   "outputs": [],
   "source": [
    "##Visualización de variables numéricas\n",
    "#multiple_plot(1, d , numCols, None, 'scatterplot', 'Relación entre las variables numéricas',30)"
   ]
  },
  {
   "cell_type": "code",
   "execution_count": 11,
   "metadata": {},
   "outputs": [],
   "source": [
    "#Eliminar la variable de salida de la lista de variable numéricas\n",
    "numCols.remove('bad_credit')"
   ]
  },
  {
   "cell_type": "markdown",
   "metadata": {},
   "source": [
    "### Variable de salida"
   ]
  },
  {
   "cell_type": "code",
   "execution_count": 12,
   "metadata": {},
   "outputs": [
    {
     "data": {
      "text/plain": [
       "bad_credit\n",
       "0    569\n",
       "1    569\n",
       "Name: bad_credit, dtype: int64"
      ]
     },
     "execution_count": 12,
     "metadata": {},
     "output_type": "execute_result"
    }
   ],
   "source": [
    "# Distriución de la variable de salida\n",
    "\n",
    "d.groupby('bad_credit').bad_credit.count().sort_values(ascending=False)"
   ]
  },
  {
   "cell_type": "code",
   "execution_count": 13,
   "metadata": {},
   "outputs": [],
   "source": [
    "##Visualización de la variable de salida\n",
    "#multiple_plot(1, d , None, 'bad_credit', 'countplot', 'Gráfica de frecuencia de bad Credit',0)"
   ]
  },
  {
   "cell_type": "markdown",
   "metadata": {},
   "source": [
    "## 5. Transformación de datos"
   ]
  },
  {
   "cell_type": "markdown",
   "metadata": {},
   "source": [
    "### Creación de variables Dummies "
   ]
  },
  {
   "cell_type": "code",
   "execution_count": 14,
   "metadata": {},
   "outputs": [
    {
     "name": "stdout",
     "output_type": "stream",
     "text": [
      "<class 'pandas.core.frame.DataFrame'>\n",
      "RangeIndex: 1138 entries, 0 to 1137\n",
      "Data columns (total 46 columns):\n",
      " #   Column                                                  Non-Null Count  Dtype\n",
      "---  ------                                                  --------------  -----\n",
      " 0   loan_duration_mo                                        1138 non-null   int64\n",
      " 1   loan_amount                                             1138 non-null   int64\n",
      " 2   payment_pcnt_income                                     1138 non-null   int64\n",
      " 3   time_in_residence                                       1138 non-null   int64\n",
      " 4   age_yrs                                                 1138 non-null   int64\n",
      " 5   number_loans                                            1138 non-null   int64\n",
      " 6   dependents                                              1138 non-null   int64\n",
      " 7   bad_credit                                              1138 non-null   int64\n",
      " 8   checking_account_status_< 0 DM                          1138 non-null   uint8\n",
      " 9   checking_account_status_> 200 DM or salary assignment   1138 non-null   uint8\n",
      " 10  checking_account_status_none                            1138 non-null   uint8\n",
      " 11  credit_history_critical account - other non-bank loans  1138 non-null   uint8\n",
      " 12  credit_history_current loans paid                       1138 non-null   uint8\n",
      " 13  credit_history_no credit - paid                         1138 non-null   uint8\n",
      " 14  credit_history_past payment delays                      1138 non-null   uint8\n",
      " 15  purpose_car                                             1138 non-null   uint8\n",
      " 16  purpose_education                                       1138 non-null   uint8\n",
      " 17  purpose_furniture/equipment                             1138 non-null   uint8\n",
      " 18  purpose_other                                           1138 non-null   uint8\n",
      " 19  purpose_radio/television                                1138 non-null   uint8\n",
      " 20  purpose_repairs                                         1138 non-null   uint8\n",
      " 21  savings_account_balance_500 - 1000 DM                   1138 non-null   uint8\n",
      " 22  savings_account_balance_< 100 DM                        1138 non-null   uint8\n",
      " 23  savings_account_balance_>= 1000 DM                      1138 non-null   uint8\n",
      " 24  savings_account_balance_unknown/none                    1138 non-null   uint8\n",
      " 25  time_employed_yrs_4 - 7 years                           1138 non-null   uint8\n",
      " 26  time_employed_yrs_< 1 year                              1138 non-null   uint8\n",
      " 27  time_employed_yrs_>= 7 years                            1138 non-null   uint8\n",
      " 28  time_employed_yrs_unemployed                            1138 non-null   uint8\n",
      " 29  gender_status_male-divorced/separated                   1138 non-null   uint8\n",
      " 30  gender_status_male-married/widowed                      1138 non-null   uint8\n",
      " 31  gender_status_male-single                               1138 non-null   uint8\n",
      " 32  other_signators_guarantor                               1138 non-null   uint8\n",
      " 33  other_signators_none                                    1138 non-null   uint8\n",
      " 34  property_car or other                                   1138 non-null   uint8\n",
      " 35  property_real estate                                    1138 non-null   uint8\n",
      " 36  property_unknown-none                                   1138 non-null   uint8\n",
      " 37  other_credit_outstanding_none                           1138 non-null   uint8\n",
      " 38  other_credit_outstanding_stores                         1138 non-null   uint8\n",
      " 39  home_ownership_own                                      1138 non-null   uint8\n",
      " 40  home_ownership_rent                                     1138 non-null   uint8\n",
      " 41  job_category_skilled                                    1138 non-null   uint8\n",
      " 42  job_category_unemployed-unskilled-non-resident          1138 non-null   uint8\n",
      " 43  job_category_unskilled-resident                         1138 non-null   uint8\n",
      " 44  telephone_yes                                           1138 non-null   uint8\n",
      " 45  foreign_worker_yes                                      1138 non-null   uint8\n",
      "dtypes: int64(8), uint8(38)\n",
      "memory usage: 113.5 KB\n"
     ]
    }
   ],
   "source": [
    "# Aplicación de la función de usuario Dummies: one-hot encoding\n",
    "\n",
    "d =pd.get_dummies(d, drop_first=1)\n",
    "\n",
    "d.info()"
   ]
  },
  {
   "cell_type": "markdown",
   "metadata": {},
   "source": [
    "## 6. Creación del modelo"
   ]
  },
  {
   "cell_type": "markdown",
   "metadata": {},
   "source": [
    "### Dividir el conjunto de datos"
   ]
  },
  {
   "cell_type": "code",
   "execution_count": 15,
   "metadata": {},
   "outputs": [],
   "source": [
    "#Se crea una lista con todas las varibles de entrada\n",
    "\n",
    "vDep = list(d.columns)\n",
    "vDep.remove('bad_credit')\n",
    "\n",
    "#Se establece las variables de entrada 'X' y la variable de salida 'y'\n",
    "X = d.drop(columns ='bad_credit')\n",
    "y = d['bad_credit']"
   ]
  },
  {
   "cell_type": "code",
   "execution_count": 16,
   "metadata": {},
   "outputs": [],
   "source": [
    "# Se crean los datasets de entrenamiento y prueba para las variables de entrada y salida \n",
    "\n",
    "X_train, X_test, y_train, y_test = train_test_split(\n",
    "                                        X,\n",
    "                                        y.values.reshape(-1,1), \n",
    "                                        train_size   = 0.8,\n",
    "                                        random_state = 123,\n",
    "                                        shuffle      = True\n",
    "                                    )"
   ]
  },
  {
   "cell_type": "markdown",
   "metadata": {},
   "source": [
    "### Escalar Variables"
   ]
  },
  {
   "cell_type": "code",
   "execution_count": 17,
   "metadata": {},
   "outputs": [
    {
     "name": "stdout",
     "output_type": "stream",
     "text": [
      "['loan_duration_mo', 'loan_amount', 'payment_pcnt_income', 'time_in_residence', 'age_yrs', 'number_loans', 'dependents']\n"
     ]
    }
   ],
   "source": [
    "#Se establecen las variables numéricas a escalar\n",
    "\n",
    "#Num_vars se le asigna la lista con las variables numerivas para posteriormente escalarlas\n",
    "num_vars = numCols\n",
    "\n",
    "print(num_vars)"
   ]
  },
  {
   "cell_type": "code",
   "execution_count": 18,
   "metadata": {},
   "outputs": [
    {
     "data": {
      "text/html": [
       "<div>\n",
       "<style scoped>\n",
       "    .dataframe tbody tr th:only-of-type {\n",
       "        vertical-align: middle;\n",
       "    }\n",
       "\n",
       "    .dataframe tbody tr th {\n",
       "        vertical-align: top;\n",
       "    }\n",
       "\n",
       "    .dataframe thead th {\n",
       "        text-align: right;\n",
       "    }\n",
       "</style>\n",
       "<table border=\"1\" class=\"dataframe\">\n",
       "  <thead>\n",
       "    <tr style=\"text-align: right;\">\n",
       "      <th></th>\n",
       "      <th>loan_duration_mo</th>\n",
       "      <th>loan_amount</th>\n",
       "      <th>payment_pcnt_income</th>\n",
       "      <th>time_in_residence</th>\n",
       "      <th>age_yrs</th>\n",
       "      <th>number_loans</th>\n",
       "      <th>dependents</th>\n",
       "    </tr>\n",
       "  </thead>\n",
       "  <tbody>\n",
       "    <tr>\n",
       "      <th>9</th>\n",
       "      <td>0.0294</td>\n",
       "      <td>0.1319</td>\n",
       "      <td>0.3333</td>\n",
       "      <td>0.3333</td>\n",
       "      <td>0.1667</td>\n",
       "      <td>0.0000</td>\n",
       "      <td>0.0000</td>\n",
       "    </tr>\n",
       "    <tr>\n",
       "      <th>798</th>\n",
       "      <td>0.5588</td>\n",
       "      <td>0.5622</td>\n",
       "      <td>0.3333</td>\n",
       "      <td>1.0000</td>\n",
       "      <td>0.4630</td>\n",
       "      <td>0.0000</td>\n",
       "      <td>1.0000</td>\n",
       "    </tr>\n",
       "  </tbody>\n",
       "</table>\n",
       "</div>"
      ],
      "text/plain": [
       "     loan_duration_mo  loan_amount  payment_pcnt_income  time_in_residence  \\\n",
       "9              0.0294       0.1319               0.3333             0.3333   \n",
       "798            0.5588       0.5622               0.3333             1.0000   \n",
       "\n",
       "     age_yrs  number_loans  dependents  \n",
       "9     0.1667        0.0000      0.0000  \n",
       "798   0.4630        0.0000      1.0000  "
      ]
     },
     "execution_count": 18,
     "metadata": {},
     "output_type": "execute_result"
    }
   ],
   "source": [
    "#Escalar Variables númericas\n",
    "\n",
    "pd.set_option('display.float_format', lambda x: '%.4f' % x)\n",
    "\n",
    "# Se crea un objeto MinMaxScaler\n",
    "scaler = MinMaxScaler()\n",
    "\n",
    "# Se escalan los valores del dataset entrenamiento y prueba de las columnas numéricas\n",
    "X_train[num_vars] = scaler.fit_transform(X_train[num_vars])\n",
    "X_test[num_vars] = scaler.transform(X_test[num_vars])\n",
    "\n",
    "X_train[num_vars].head(2)"
   ]
  },
  {
   "cell_type": "code",
   "execution_count": 19,
   "metadata": {},
   "outputs": [
    {
     "data": {
      "text/plain": [
       "['./modelos/scaler/minmaxFull_GermanCredits.pkl']"
      ]
     },
     "execution_count": 19,
     "metadata": {},
     "output_type": "execute_result"
    }
   ],
   "source": [
    "# Guardar el scaler\n",
    "joblib.dump(scaler, './modelos/scaler/minmaxFull_GermanCredits.pkl')"
   ]
  },
  {
   "cell_type": "markdown",
   "metadata": {},
   "source": [
    "### Creación del modelos"
   ]
  },
  {
   "cell_type": "markdown",
   "metadata": {},
   "source": [
    "#### Árbol de decisión"
   ]
  },
  {
   "cell_type": "code",
   "execution_count": 20,
   "metadata": {},
   "outputs": [
    {
     "data": {
      "text/html": [
       "<style>#sk-container-id-1 {color: black;background-color: white;}#sk-container-id-1 pre{padding: 0;}#sk-container-id-1 div.sk-toggleable {background-color: white;}#sk-container-id-1 label.sk-toggleable__label {cursor: pointer;display: block;width: 100%;margin-bottom: 0;padding: 0.3em;box-sizing: border-box;text-align: center;}#sk-container-id-1 label.sk-toggleable__label-arrow:before {content: \"▸\";float: left;margin-right: 0.25em;color: #696969;}#sk-container-id-1 label.sk-toggleable__label-arrow:hover:before {color: black;}#sk-container-id-1 div.sk-estimator:hover label.sk-toggleable__label-arrow:before {color: black;}#sk-container-id-1 div.sk-toggleable__content {max-height: 0;max-width: 0;overflow: hidden;text-align: left;background-color: #f0f8ff;}#sk-container-id-1 div.sk-toggleable__content pre {margin: 0.2em;color: black;border-radius: 0.25em;background-color: #f0f8ff;}#sk-container-id-1 input.sk-toggleable__control:checked~div.sk-toggleable__content {max-height: 200px;max-width: 100%;overflow: auto;}#sk-container-id-1 input.sk-toggleable__control:checked~label.sk-toggleable__label-arrow:before {content: \"▾\";}#sk-container-id-1 div.sk-estimator input.sk-toggleable__control:checked~label.sk-toggleable__label {background-color: #d4ebff;}#sk-container-id-1 div.sk-label input.sk-toggleable__control:checked~label.sk-toggleable__label {background-color: #d4ebff;}#sk-container-id-1 input.sk-hidden--visually {border: 0;clip: rect(1px 1px 1px 1px);clip: rect(1px, 1px, 1px, 1px);height: 1px;margin: -1px;overflow: hidden;padding: 0;position: absolute;width: 1px;}#sk-container-id-1 div.sk-estimator {font-family: monospace;background-color: #f0f8ff;border: 1px dotted black;border-radius: 0.25em;box-sizing: border-box;margin-bottom: 0.5em;}#sk-container-id-1 div.sk-estimator:hover {background-color: #d4ebff;}#sk-container-id-1 div.sk-parallel-item::after {content: \"\";width: 100%;border-bottom: 1px solid gray;flex-grow: 1;}#sk-container-id-1 div.sk-label:hover label.sk-toggleable__label {background-color: #d4ebff;}#sk-container-id-1 div.sk-serial::before {content: \"\";position: absolute;border-left: 1px solid gray;box-sizing: border-box;top: 0;bottom: 0;left: 50%;z-index: 0;}#sk-container-id-1 div.sk-serial {display: flex;flex-direction: column;align-items: center;background-color: white;padding-right: 0.2em;padding-left: 0.2em;position: relative;}#sk-container-id-1 div.sk-item {position: relative;z-index: 1;}#sk-container-id-1 div.sk-parallel {display: flex;align-items: stretch;justify-content: center;background-color: white;position: relative;}#sk-container-id-1 div.sk-item::before, #sk-container-id-1 div.sk-parallel-item::before {content: \"\";position: absolute;border-left: 1px solid gray;box-sizing: border-box;top: 0;bottom: 0;left: 50%;z-index: -1;}#sk-container-id-1 div.sk-parallel-item {display: flex;flex-direction: column;z-index: 1;position: relative;background-color: white;}#sk-container-id-1 div.sk-parallel-item:first-child::after {align-self: flex-end;width: 50%;}#sk-container-id-1 div.sk-parallel-item:last-child::after {align-self: flex-start;width: 50%;}#sk-container-id-1 div.sk-parallel-item:only-child::after {width: 0;}#sk-container-id-1 div.sk-dashed-wrapped {border: 1px dashed gray;margin: 0 0.4em 0.5em 0.4em;box-sizing: border-box;padding-bottom: 0.4em;background-color: white;}#sk-container-id-1 div.sk-label label {font-family: monospace;font-weight: bold;display: inline-block;line-height: 1.2em;}#sk-container-id-1 div.sk-label-container {text-align: center;}#sk-container-id-1 div.sk-container {/* jupyter's `normalize.less` sets `[hidden] { display: none; }` but bootstrap.min.css set `[hidden] { display: none !important; }` so we also need the `!important` here to be able to override the default hidden behavior on the sphinx rendered scikit-learn.org. See: https://github.com/scikit-learn/scikit-learn/issues/21755 */display: inline-block !important;position: relative;}#sk-container-id-1 div.sk-text-repr-fallback {display: none;}</style><div id=\"sk-container-id-1\" class=\"sk-top-container\"><div class=\"sk-text-repr-fallback\"><pre>DecisionTreeClassifier(max_depth=2, max_features=&#x27;auto&#x27;, random_state=0)</pre><b>In a Jupyter environment, please rerun this cell to show the HTML representation or trust the notebook. <br />On GitHub, the HTML representation is unable to render, please try loading this page with nbviewer.org.</b></div><div class=\"sk-container\" hidden><div class=\"sk-item\"><div class=\"sk-estimator sk-toggleable\"><input class=\"sk-toggleable__control sk-hidden--visually\" id=\"sk-estimator-id-1\" type=\"checkbox\" checked><label for=\"sk-estimator-id-1\" class=\"sk-toggleable__label sk-toggleable__label-arrow\">DecisionTreeClassifier</label><div class=\"sk-toggleable__content\"><pre>DecisionTreeClassifier(max_depth=2, max_features=&#x27;auto&#x27;, random_state=0)</pre></div></div></div></div></div>"
      ],
      "text/plain": [
       "DecisionTreeClassifier(max_depth=2, max_features='auto', random_state=0)"
      ]
     },
     "execution_count": 20,
     "metadata": {},
     "output_type": "execute_result"
    }
   ],
   "source": [
    "#Creación del modelo \n",
    "\n",
    "#Armando un simple árbol de decisión\n",
    "tree = DecisionTreeClassifier(max_depth=2, max_features = 'auto', random_state=0)\n",
    "\n",
    "\n",
    "#Entrenamiento del modelo\n",
    "tree.fit(X_train, y_train)"
   ]
  },
  {
   "cell_type": "code",
   "execution_count": 21,
   "metadata": {},
   "outputs": [
    {
     "name": "stdout",
     "output_type": "stream",
     "text": [
      "Exactitud modelo inicial train/test  0.582/0.588\n"
     ]
    }
   ],
   "source": [
    "#Exactitud del modelo\n",
    "\n",
    "print('Exactitud modelo inicial train/test  {0:.3f}/{1:.3f}'\n",
    "      .format(tree.score(X_train, y_train), tree.score(X_test, y_test)))"
   ]
  },
  {
   "cell_type": "markdown",
   "metadata": {},
   "source": [
    "**Analisis:** el resultado no es bueno"
   ]
  },
  {
   "cell_type": "code",
   "execution_count": 22,
   "metadata": {},
   "outputs": [
    {
     "data": {
      "text/html": [
       "<style>#sk-container-id-2 {color: black;background-color: white;}#sk-container-id-2 pre{padding: 0;}#sk-container-id-2 div.sk-toggleable {background-color: white;}#sk-container-id-2 label.sk-toggleable__label {cursor: pointer;display: block;width: 100%;margin-bottom: 0;padding: 0.3em;box-sizing: border-box;text-align: center;}#sk-container-id-2 label.sk-toggleable__label-arrow:before {content: \"▸\";float: left;margin-right: 0.25em;color: #696969;}#sk-container-id-2 label.sk-toggleable__label-arrow:hover:before {color: black;}#sk-container-id-2 div.sk-estimator:hover label.sk-toggleable__label-arrow:before {color: black;}#sk-container-id-2 div.sk-toggleable__content {max-height: 0;max-width: 0;overflow: hidden;text-align: left;background-color: #f0f8ff;}#sk-container-id-2 div.sk-toggleable__content pre {margin: 0.2em;color: black;border-radius: 0.25em;background-color: #f0f8ff;}#sk-container-id-2 input.sk-toggleable__control:checked~div.sk-toggleable__content {max-height: 200px;max-width: 100%;overflow: auto;}#sk-container-id-2 input.sk-toggleable__control:checked~label.sk-toggleable__label-arrow:before {content: \"▾\";}#sk-container-id-2 div.sk-estimator input.sk-toggleable__control:checked~label.sk-toggleable__label {background-color: #d4ebff;}#sk-container-id-2 div.sk-label input.sk-toggleable__control:checked~label.sk-toggleable__label {background-color: #d4ebff;}#sk-container-id-2 input.sk-hidden--visually {border: 0;clip: rect(1px 1px 1px 1px);clip: rect(1px, 1px, 1px, 1px);height: 1px;margin: -1px;overflow: hidden;padding: 0;position: absolute;width: 1px;}#sk-container-id-2 div.sk-estimator {font-family: monospace;background-color: #f0f8ff;border: 1px dotted black;border-radius: 0.25em;box-sizing: border-box;margin-bottom: 0.5em;}#sk-container-id-2 div.sk-estimator:hover {background-color: #d4ebff;}#sk-container-id-2 div.sk-parallel-item::after {content: \"\";width: 100%;border-bottom: 1px solid gray;flex-grow: 1;}#sk-container-id-2 div.sk-label:hover label.sk-toggleable__label {background-color: #d4ebff;}#sk-container-id-2 div.sk-serial::before {content: \"\";position: absolute;border-left: 1px solid gray;box-sizing: border-box;top: 0;bottom: 0;left: 50%;z-index: 0;}#sk-container-id-2 div.sk-serial {display: flex;flex-direction: column;align-items: center;background-color: white;padding-right: 0.2em;padding-left: 0.2em;position: relative;}#sk-container-id-2 div.sk-item {position: relative;z-index: 1;}#sk-container-id-2 div.sk-parallel {display: flex;align-items: stretch;justify-content: center;background-color: white;position: relative;}#sk-container-id-2 div.sk-item::before, #sk-container-id-2 div.sk-parallel-item::before {content: \"\";position: absolute;border-left: 1px solid gray;box-sizing: border-box;top: 0;bottom: 0;left: 50%;z-index: -1;}#sk-container-id-2 div.sk-parallel-item {display: flex;flex-direction: column;z-index: 1;position: relative;background-color: white;}#sk-container-id-2 div.sk-parallel-item:first-child::after {align-self: flex-end;width: 50%;}#sk-container-id-2 div.sk-parallel-item:last-child::after {align-self: flex-start;width: 50%;}#sk-container-id-2 div.sk-parallel-item:only-child::after {width: 0;}#sk-container-id-2 div.sk-dashed-wrapped {border: 1px dashed gray;margin: 0 0.4em 0.5em 0.4em;box-sizing: border-box;padding-bottom: 0.4em;background-color: white;}#sk-container-id-2 div.sk-label label {font-family: monospace;font-weight: bold;display: inline-block;line-height: 1.2em;}#sk-container-id-2 div.sk-label-container {text-align: center;}#sk-container-id-2 div.sk-container {/* jupyter's `normalize.less` sets `[hidden] { display: none; }` but bootstrap.min.css set `[hidden] { display: none !important; }` so we also need the `!important` here to be able to override the default hidden behavior on the sphinx rendered scikit-learn.org. See: https://github.com/scikit-learn/scikit-learn/issues/21755 */display: inline-block !important;position: relative;}#sk-container-id-2 div.sk-text-repr-fallback {display: none;}</style><div id=\"sk-container-id-2\" class=\"sk-top-container\"><div class=\"sk-text-repr-fallback\"><pre>DecisionTreeClassifier(max_depth=18, random_state=123)</pre><b>In a Jupyter environment, please rerun this cell to show the HTML representation or trust the notebook. <br />On GitHub, the HTML representation is unable to render, please try loading this page with nbviewer.org.</b></div><div class=\"sk-container\" hidden><div class=\"sk-item\"><div class=\"sk-estimator sk-toggleable\"><input class=\"sk-toggleable__control sk-hidden--visually\" id=\"sk-estimator-id-2\" type=\"checkbox\" checked><label for=\"sk-estimator-id-2\" class=\"sk-toggleable__label sk-toggleable__label-arrow\">DecisionTreeClassifier</label><div class=\"sk-toggleable__content\"><pre>DecisionTreeClassifier(max_depth=18, random_state=123)</pre></div></div></div></div></div>"
      ],
      "text/plain": [
       "DecisionTreeClassifier(max_depth=18, random_state=123)"
      ]
     },
     "execution_count": 22,
     "metadata": {},
     "output_type": "execute_result"
    }
   ],
   "source": [
    "#creacion de otro modelo que mejore la exactitud\n",
    "\n",
    "treeModel = DecisionTreeClassifier(\n",
    "            max_depth         = 18,\n",
    "            ccp_alpha         = 0.0,\n",
    "            criterion         = 'gini',\n",
    "            random_state      = 123\n",
    ")\n",
    "treeModel.fit(X_train, y_train)\n"
   ]
  },
  {
   "cell_type": "code",
   "execution_count": 23,
   "metadata": {},
   "outputs": [
    {
     "name": "stdout",
     "output_type": "stream",
     "text": [
      "Exactitud modelo inicial train/test  1.000/0.851\n"
     ]
    }
   ],
   "source": [
    "#Exactitud del modelo\n",
    "\n",
    "print('Exactitud modelo inicial train/test  {0:.3f}/{1:.3f}'\n",
    "      .format(treeModel.score(X_train, y_train), treeModel.score(X_test, y_test)))"
   ]
  },
  {
   "cell_type": "markdown",
   "metadata": {},
   "source": [
    "**Análisis:** El resultado nos muestra que tenemos ***overfitting***"
   ]
  },
  {
   "cell_type": "markdown",
   "metadata": {},
   "source": [
    "#### AdaBoost"
   ]
  },
  {
   "cell_type": "code",
   "execution_count": 24,
   "metadata": {},
   "outputs": [
    {
     "name": "stdout",
     "output_type": "stream",
     "text": [
      "Precisión modelo inicial train/test  0.969/0.794\n"
     ]
    }
   ],
   "source": [
    "#Creación del modelo\n",
    "\n",
    "modelo = AdaBoostClassifier(base_estimator=tree, \n",
    "                            n_estimators=150, \n",
    "                            learning_rate=1.5, \n",
    "                            random_state=1)           \n",
    "\n",
    "\n",
    "modelo.fit(X_train, y_train)\n",
    "\n",
    "print('Precisión modelo inicial train/test  {0:.3f}/{1:.3f}'\n",
    "      .format(modelo.score(X_train, y_train), modelo.score(X_test, y_test)))"
   ]
  },
  {
   "cell_type": "markdown",
   "metadata": {},
   "source": [
    "**Análisis:** El resultado nos muestra ***overfitting***"
   ]
  },
  {
   "cell_type": "code",
   "execution_count": 25,
   "metadata": {},
   "outputs": [
    {
     "data": {
      "image/png": "[encoded data removed]",
      "text/plain": [
       "<Figure size 864x276.48 with 1 Axes>"
      ]
     },
     "metadata": {
      "needs_background": "light"
     },
     "output_type": "display_data"
    }
   ],
   "source": [
    "#Identificar cuanto es el valor de árboles (estimadores) que no me genere overfitting\n",
    "\n",
    "train_scores = []\n",
    "test_scores = []\n",
    "\n",
    "# Valores evaluados\n",
    "estimator_range = range(1, 100, 5)\n",
    "\n",
    "# Bucle para entrenar un modelo con cada valor de n_estimators\n",
    "for n_estimators in estimator_range:\n",
    "    \n",
    "        modelo = AdaBoostClassifier(base_estimator=tree, n_estimators=n_estimators, learning_rate=1.5, random_state=1)           \n",
    "        modelo.fit(X_train, y_train)\n",
    "        test_scores.append(modelo.score(X_test, y_test))\n",
    "        train_scores.append(modelo.score(X_train, y_train))\n",
    "    \n",
    "    \n",
    "# Gráfico con la evolución de los errores\n",
    "fig, ax = plt.subplots(figsize=(12, 3.84))\n",
    "ax.plot(estimator_range, train_scores, label=\"train scores\")\n",
    "ax.plot(estimator_range, test_scores, label=\"test scores\")\n",
    "ax.set_ylabel(\"score\")\n",
    "ax.set_xlabel(\"n_estimators\")\n",
    "ax.set_xticks(estimator_range)\n",
    "ax.set_title(\"Evolución del score vs. número árboles\")\n",
    "plt.legend();"
   ]
  },
  {
   "cell_type": "code",
   "execution_count": 26,
   "metadata": {},
   "outputs": [
    {
     "name": "stdout",
     "output_type": "stream",
     "text": [
      "    estimator_range  train_scores  test_scores  diferencia\n",
      "0                 1        0.5714       0.5965     -0.0251\n",
      "1                 6        0.6967       0.6886      0.0081\n",
      "2                11        0.7242       0.6491      0.0751\n",
      "3                16        0.7571       0.6886      0.0685\n",
      "4                21        0.7593       0.6623      0.0971\n",
      "5                26        0.7890       0.6579      0.1311\n",
      "6                31        0.8099       0.7018      0.1081\n",
      "7                36        0.8176       0.6974      0.1202\n",
      "8                41        0.8187       0.7018      0.1169\n",
      "9                46        0.8451       0.7018      0.1433\n",
      "10               51        0.8560       0.7105      0.1455\n",
      "11               56        0.8505       0.7105      0.1400\n",
      "12               61        0.8615       0.7325      0.1291\n",
      "13               66        0.8769       0.7412      0.1357\n",
      "14               71        0.8791       0.7632      0.1160\n",
      "15               76        0.8835       0.7412      0.1423\n",
      "16               81        0.9000       0.7456      0.1544\n",
      "17               86        0.9077       0.7500      0.1577\n",
      "18               91        0.9033       0.7325      0.1708\n",
      "19               96        0.9187       0.7456      0.1731\n"
     ]
    }
   ],
   "source": [
    "# Crear un DataFrame con las listas estimator_range y test_scores\n",
    "df = pd.DataFrame({'estimator_range': estimator_range, 'train_scores': train_scores, 'test_scores': test_scores})\n",
    "\n",
    "# Calcular la diferencia entre las dos columnas y agregarla como una nueva columna\n",
    "df['diferencia'] = df['train_scores'] - df['test_scores']\n",
    "\n",
    "# Imprimir el DataFrame resultante\n",
    "print(df)"
   ]
  },
  {
   "cell_type": "code",
   "execution_count": 27,
   "metadata": {},
   "outputs": [
    {
     "data": {
      "text/html": [
       "<div>\n",
       "<style scoped>\n",
       "    .dataframe tbody tr th:only-of-type {\n",
       "        vertical-align: middle;\n",
       "    }\n",
       "\n",
       "    .dataframe tbody tr th {\n",
       "        vertical-align: top;\n",
       "    }\n",
       "\n",
       "    .dataframe thead th {\n",
       "        text-align: right;\n",
       "    }\n",
       "</style>\n",
       "<table border=\"1\" class=\"dataframe\">\n",
       "  <thead>\n",
       "    <tr style=\"text-align: right;\">\n",
       "      <th></th>\n",
       "      <th>estimator_range</th>\n",
       "      <th>train_scores</th>\n",
       "      <th>test_scores</th>\n",
       "      <th>diferencia</th>\n",
       "    </tr>\n",
       "  </thead>\n",
       "  <tbody>\n",
       "    <tr>\n",
       "      <th>0</th>\n",
       "      <td>1</td>\n",
       "      <td>0.5714</td>\n",
       "      <td>0.5965</td>\n",
       "      <td>-0.0251</td>\n",
       "    </tr>\n",
       "    <tr>\n",
       "      <th>1</th>\n",
       "      <td>6</td>\n",
       "      <td>0.6967</td>\n",
       "      <td>0.6886</td>\n",
       "      <td>0.0081</td>\n",
       "    </tr>\n",
       "    <tr>\n",
       "      <th>3</th>\n",
       "      <td>16</td>\n",
       "      <td>0.7571</td>\n",
       "      <td>0.6886</td>\n",
       "      <td>0.0685</td>\n",
       "    </tr>\n",
       "    <tr>\n",
       "      <th>2</th>\n",
       "      <td>11</td>\n",
       "      <td>0.7242</td>\n",
       "      <td>0.6491</td>\n",
       "      <td>0.0751</td>\n",
       "    </tr>\n",
       "    <tr>\n",
       "      <th>4</th>\n",
       "      <td>21</td>\n",
       "      <td>0.7593</td>\n",
       "      <td>0.6623</td>\n",
       "      <td>0.0971</td>\n",
       "    </tr>\n",
       "  </tbody>\n",
       "</table>\n",
       "</div>"
      ],
      "text/plain": [
       "   estimator_range  train_scores  test_scores  diferencia\n",
       "0                1        0.5714       0.5965     -0.0251\n",
       "1                6        0.6967       0.6886      0.0081\n",
       "3               16        0.7571       0.6886      0.0685\n",
       "2               11        0.7242       0.6491      0.0751\n",
       "4               21        0.7593       0.6623      0.0971"
      ]
     },
     "execution_count": 27,
     "metadata": {},
     "output_type": "execute_result"
    }
   ],
   "source": [
    "# Obtener el primer registro del DataFrame ordenado\n",
    "df.sort_values('diferencia', ascending=True).head(5)"
   ]
  },
  {
   "cell_type": "markdown",
   "metadata": {
    "id": "Zez1nXy9wXe4"
   },
   "source": [
    "#### Grid Search basado en validación cruzada"
   ]
  },
  {
   "cell_type": "markdown",
   "metadata": {},
   "source": [
    "### Dividir el conjunto de datos"
   ]
  },
  {
   "cell_type": "code",
   "execution_count": 28,
   "metadata": {},
   "outputs": [],
   "source": [
    "#Se establece las variables de entrada 'X' y la variable de salida 'y'\n",
    "\n",
    "X = d.drop(columns ='bad_credit')\n",
    "y = d['bad_credit']\n",
    "\n",
    "# la validación cruzada se realiza sobre todo el dataset\n",
    "X_Completo = X\n",
    "y_Completo = y"
   ]
  },
  {
   "cell_type": "markdown",
   "metadata": {},
   "source": [
    "### Escalar Variables"
   ]
  },
  {
   "cell_type": "code",
   "execution_count": 29,
   "metadata": {},
   "outputs": [
    {
     "name": "stdout",
     "output_type": "stream",
     "text": [
      "['loan_duration_mo', 'loan_amount', 'payment_pcnt_income', 'time_in_residence', 'age_yrs', 'number_loans', 'dependents']\n"
     ]
    }
   ],
   "source": [
    "#Se establecen las variables numéricas a escalar\n",
    "\n",
    "#Num_vars se le asigna la lista con las variables numerivas para posteriormente escalarlas\n",
    "num_vars = numCols\n",
    "\n",
    "print(num_vars)"
   ]
  },
  {
   "cell_type": "code",
   "execution_count": 30,
   "metadata": {},
   "outputs": [
    {
     "data": {
      "text/html": [
       "<div>\n",
       "<style scoped>\n",
       "    .dataframe tbody tr th:only-of-type {\n",
       "        vertical-align: middle;\n",
       "    }\n",
       "\n",
       "    .dataframe tbody tr th {\n",
       "        vertical-align: top;\n",
       "    }\n",
       "\n",
       "    .dataframe thead th {\n",
       "        text-align: right;\n",
       "    }\n",
       "</style>\n",
       "<table border=\"1\" class=\"dataframe\">\n",
       "  <thead>\n",
       "    <tr style=\"text-align: right;\">\n",
       "      <th></th>\n",
       "      <th>loan_duration_mo</th>\n",
       "      <th>loan_amount</th>\n",
       "      <th>payment_pcnt_income</th>\n",
       "      <th>time_in_residence</th>\n",
       "      <th>age_yrs</th>\n",
       "      <th>number_loans</th>\n",
       "      <th>dependents</th>\n",
       "    </tr>\n",
       "  </thead>\n",
       "  <tbody>\n",
       "    <tr>\n",
       "      <th>0</th>\n",
       "      <td>0.1176</td>\n",
       "      <td>0.2356</td>\n",
       "      <td>0.6667</td>\n",
       "      <td>0.3333</td>\n",
       "      <td>0.1667</td>\n",
       "      <td>0.3333</td>\n",
       "      <td>0.0000</td>\n",
       "    </tr>\n",
       "    <tr>\n",
       "      <th>1</th>\n",
       "      <td>0.1176</td>\n",
       "      <td>0.0619</td>\n",
       "      <td>1.0000</td>\n",
       "      <td>0.6667</td>\n",
       "      <td>0.1296</td>\n",
       "      <td>0.0000</td>\n",
       "      <td>0.0000</td>\n",
       "    </tr>\n",
       "    <tr>\n",
       "      <th>2</th>\n",
       "      <td>0.2941</td>\n",
       "      <td>0.1487</td>\n",
       "      <td>1.0000</td>\n",
       "      <td>0.3333</td>\n",
       "      <td>0.1667</td>\n",
       "      <td>0.0000</td>\n",
       "      <td>0.0000</td>\n",
       "    </tr>\n",
       "    <tr>\n",
       "      <th>3</th>\n",
       "      <td>0.0735</td>\n",
       "      <td>0.0783</td>\n",
       "      <td>1.0000</td>\n",
       "      <td>0.3333</td>\n",
       "      <td>0.1111</td>\n",
       "      <td>0.0000</td>\n",
       "      <td>0.0000</td>\n",
       "    </tr>\n",
       "    <tr>\n",
       "      <th>4</th>\n",
       "      <td>0.3382</td>\n",
       "      <td>0.6167</td>\n",
       "      <td>0.3333</td>\n",
       "      <td>0.3333</td>\n",
       "      <td>0.1296</td>\n",
       "      <td>0.3333</td>\n",
       "      <td>0.0000</td>\n",
       "    </tr>\n",
       "  </tbody>\n",
       "</table>\n",
       "</div>"
      ],
      "text/plain": [
       "   loan_duration_mo  loan_amount  payment_pcnt_income  time_in_residence  \\\n",
       "0            0.1176       0.2356               0.6667             0.3333   \n",
       "1            0.1176       0.0619               1.0000             0.6667   \n",
       "2            0.2941       0.1487               1.0000             0.3333   \n",
       "3            0.0735       0.0783               1.0000             0.3333   \n",
       "4            0.3382       0.6167               0.3333             0.3333   \n",
       "\n",
       "   age_yrs  number_loans  dependents  \n",
       "0   0.1667        0.3333      0.0000  \n",
       "1   0.1296        0.0000      0.0000  \n",
       "2   0.1667        0.0000      0.0000  \n",
       "3   0.1111        0.0000      0.0000  \n",
       "4   0.1296        0.3333      0.0000  "
      ]
     },
     "execution_count": 30,
     "metadata": {},
     "output_type": "execute_result"
    }
   ],
   "source": [
    "#Se establecen las variables numéricas a escalar\n",
    "\n",
    "#Num_vars se le asigna la lista con las variables numerivas para posteriormente escalarlas\n",
    "num_vars = numCols\n",
    "\n",
    "# Se crea un objeto MinMaxScaler\n",
    "scaler = MinMaxScaler()\n",
    "\n",
    "# Se escalan los valores del dataset entrenamiento y prueba de las columnas numéricas\n",
    "X_Completo[num_vars] = scaler.fit_transform(X_Completo[num_vars])\n",
    "\n",
    "X_Completo[num_vars].head()"
   ]
  },
  {
   "cell_type": "code",
   "execution_count": 31,
   "metadata": {},
   "outputs": [
    {
     "data": {
      "text/plain": [
       "['./modelos/scaler/minmaxFull_GermanCredits.pkl']"
      ]
     },
     "execution_count": 31,
     "metadata": {},
     "output_type": "execute_result"
    }
   ],
   "source": [
    "# Guardar el scaler\n",
    "joblib.dump(scaler, './modelos/scaler/minmaxFull_GermanCredits.pkl')"
   ]
  },
  {
   "cell_type": "markdown",
   "metadata": {},
   "source": [
    "### Creación del modelo"
   ]
  },
  {
   "cell_type": "code",
   "execution_count": 32,
   "metadata": {
    "executionInfo": {
     "elapsed": 802,
     "status": "ok",
     "timestamp": 1612408335997,
     "user": {
      "displayName": "JORGE ALONSO BEDOYA PUERTA",
      "photoUrl": "",
      "userId": "14875356627137784897"
     },
     "user_tz": 300
    },
    "id": "DrVWrVrjwXe4"
   },
   "outputs": [
    {
     "data": {
      "text/html": [
       "<style>#sk-container-id-3 {color: black;background-color: white;}#sk-container-id-3 pre{padding: 0;}#sk-container-id-3 div.sk-toggleable {background-color: white;}#sk-container-id-3 label.sk-toggleable__label {cursor: pointer;display: block;width: 100%;margin-bottom: 0;padding: 0.3em;box-sizing: border-box;text-align: center;}#sk-container-id-3 label.sk-toggleable__label-arrow:before {content: \"▸\";float: left;margin-right: 0.25em;color: #696969;}#sk-container-id-3 label.sk-toggleable__label-arrow:hover:before {color: black;}#sk-container-id-3 div.sk-estimator:hover label.sk-toggleable__label-arrow:before {color: black;}#sk-container-id-3 div.sk-toggleable__content {max-height: 0;max-width: 0;overflow: hidden;text-align: left;background-color: #f0f8ff;}#sk-container-id-3 div.sk-toggleable__content pre {margin: 0.2em;color: black;border-radius: 0.25em;background-color: #f0f8ff;}#sk-container-id-3 input.sk-toggleable__control:checked~div.sk-toggleable__content {max-height: 200px;max-width: 100%;overflow: auto;}#sk-container-id-3 input.sk-toggleable__control:checked~label.sk-toggleable__label-arrow:before {content: \"▾\";}#sk-container-id-3 div.sk-estimator input.sk-toggleable__control:checked~label.sk-toggleable__label {background-color: #d4ebff;}#sk-container-id-3 div.sk-label input.sk-toggleable__control:checked~label.sk-toggleable__label {background-color: #d4ebff;}#sk-container-id-3 input.sk-hidden--visually {border: 0;clip: rect(1px 1px 1px 1px);clip: rect(1px, 1px, 1px, 1px);height: 1px;margin: -1px;overflow: hidden;padding: 0;position: absolute;width: 1px;}#sk-container-id-3 div.sk-estimator {font-family: monospace;background-color: #f0f8ff;border: 1px dotted black;border-radius: 0.25em;box-sizing: border-box;margin-bottom: 0.5em;}#sk-container-id-3 div.sk-estimator:hover {background-color: #d4ebff;}#sk-container-id-3 div.sk-parallel-item::after {content: \"\";width: 100%;border-bottom: 1px solid gray;flex-grow: 1;}#sk-container-id-3 div.sk-label:hover label.sk-toggleable__label {background-color: #d4ebff;}#sk-container-id-3 div.sk-serial::before {content: \"\";position: absolute;border-left: 1px solid gray;box-sizing: border-box;top: 0;bottom: 0;left: 50%;z-index: 0;}#sk-container-id-3 div.sk-serial {display: flex;flex-direction: column;align-items: center;background-color: white;padding-right: 0.2em;padding-left: 0.2em;position: relative;}#sk-container-id-3 div.sk-item {position: relative;z-index: 1;}#sk-container-id-3 div.sk-parallel {display: flex;align-items: stretch;justify-content: center;background-color: white;position: relative;}#sk-container-id-3 div.sk-item::before, #sk-container-id-3 div.sk-parallel-item::before {content: \"\";position: absolute;border-left: 1px solid gray;box-sizing: border-box;top: 0;bottom: 0;left: 50%;z-index: -1;}#sk-container-id-3 div.sk-parallel-item {display: flex;flex-direction: column;z-index: 1;position: relative;background-color: white;}#sk-container-id-3 div.sk-parallel-item:first-child::after {align-self: flex-end;width: 50%;}#sk-container-id-3 div.sk-parallel-item:last-child::after {align-self: flex-start;width: 50%;}#sk-container-id-3 div.sk-parallel-item:only-child::after {width: 0;}#sk-container-id-3 div.sk-dashed-wrapped {border: 1px dashed gray;margin: 0 0.4em 0.5em 0.4em;box-sizing: border-box;padding-bottom: 0.4em;background-color: white;}#sk-container-id-3 div.sk-label label {font-family: monospace;font-weight: bold;display: inline-block;line-height: 1.2em;}#sk-container-id-3 div.sk-label-container {text-align: center;}#sk-container-id-3 div.sk-container {/* jupyter's `normalize.less` sets `[hidden] { display: none; }` but bootstrap.min.css set `[hidden] { display: none !important; }` so we also need the `!important` here to be able to override the default hidden behavior on the sphinx rendered scikit-learn.org. See: https://github.com/scikit-learn/scikit-learn/issues/21755 */display: inline-block !important;position: relative;}#sk-container-id-3 div.sk-text-repr-fallback {display: none;}</style><div id=\"sk-container-id-3\" class=\"sk-top-container\"><div class=\"sk-text-repr-fallback\"><pre>GridSearchCV(cv=10, estimator=AdaBoostClassifier(), n_jobs=-1,\n",
       "             param_grid={&#x27;learning_rate&#x27;: [0.001, 0.01, 0.1],\n",
       "                         &#x27;n_estimators&#x27;: range(5, 51, 5)},\n",
       "             return_train_score=True, scoring=&#x27;f1&#x27;)</pre><b>In a Jupyter environment, please rerun this cell to show the HTML representation or trust the notebook. <br />On GitHub, the HTML representation is unable to render, please try loading this page with nbviewer.org.</b></div><div class=\"sk-container\" hidden><div class=\"sk-item sk-dashed-wrapped\"><div class=\"sk-label-container\"><div class=\"sk-label sk-toggleable\"><input class=\"sk-toggleable__control sk-hidden--visually\" id=\"sk-estimator-id-3\" type=\"checkbox\" ><label for=\"sk-estimator-id-3\" class=\"sk-toggleable__label sk-toggleable__label-arrow\">GridSearchCV</label><div class=\"sk-toggleable__content\"><pre>GridSearchCV(cv=10, estimator=AdaBoostClassifier(), n_jobs=-1,\n",
       "             param_grid={&#x27;learning_rate&#x27;: [0.001, 0.01, 0.1],\n",
       "                         &#x27;n_estimators&#x27;: range(5, 51, 5)},\n",
       "             return_train_score=True, scoring=&#x27;f1&#x27;)</pre></div></div></div><div class=\"sk-parallel\"><div class=\"sk-parallel-item\"><div class=\"sk-item\"><div class=\"sk-label-container\"><div class=\"sk-label sk-toggleable\"><input class=\"sk-toggleable__control sk-hidden--visually\" id=\"sk-estimator-id-4\" type=\"checkbox\" ><label for=\"sk-estimator-id-4\" class=\"sk-toggleable__label sk-toggleable__label-arrow\">estimator: AdaBoostClassifier</label><div class=\"sk-toggleable__content\"><pre>AdaBoostClassifier()</pre></div></div></div><div class=\"sk-serial\"><div class=\"sk-item\"><div class=\"sk-estimator sk-toggleable\"><input class=\"sk-toggleable__control sk-hidden--visually\" id=\"sk-estimator-id-5\" type=\"checkbox\" ><label for=\"sk-estimator-id-5\" class=\"sk-toggleable__label sk-toggleable__label-arrow\">AdaBoostClassifier</label><div class=\"sk-toggleable__content\"><pre>AdaBoostClassifier()</pre></div></div></div></div></div></div></div></div></div></div>"
      ],
      "text/plain": [
       "GridSearchCV(cv=10, estimator=AdaBoostClassifier(), n_jobs=-1,\n",
       "             param_grid={'learning_rate': [0.001, 0.01, 0.1],\n",
       "                         'n_estimators': range(5, 51, 5)},\n",
       "             return_train_score=True, scoring='f1')"
      ]
     },
     "execution_count": 32,
     "metadata": {},
     "output_type": "execute_result"
    }
   ],
   "source": [
    "#Definicion del modelo\n",
    "modelAda2 = AdaBoostClassifier()\n",
    "\n",
    "\n",
    "# Grid de hiperparámetros evaluados\n",
    "param_grid = {'n_estimators': range(5, 51, 5),\n",
    "             'learning_rate':[0.001,0.01,.1]\n",
    "             }\n",
    "\n",
    "\n",
    "\n",
    "# definicion de la variable con el número de pliegues\n",
    "CV = 10\n",
    "\n",
    "# las metricas sobre las se evaluará el modelo\n",
    "scoring = 'f1'\n",
    "\n",
    "# Búsqueda por grid search con validación cruzada\n",
    "grid_AdaB = GridSearchCV(\n",
    "                        estimator  = modelAda2,\n",
    "                        param_grid = param_grid,\n",
    "                        scoring    = scoring,\n",
    "                        n_jobs     = - 1,\n",
    "                        cv         = CV, \n",
    "                        refit      = True,\n",
    "                        verbose    = 0,\n",
    "                        return_train_score = True\n",
    "                       )\n",
    "\n",
    "grid_AdaB.fit(X_Completo, y_Completo)\n"
   ]
  },
  {
   "cell_type": "code",
   "execution_count": 33,
   "metadata": {},
   "outputs": [
    {
     "data": {
      "text/html": [
       "<div>\n",
       "<style scoped>\n",
       "    .dataframe tbody tr th:only-of-type {\n",
       "        vertical-align: middle;\n",
       "    }\n",
       "\n",
       "    .dataframe tbody tr th {\n",
       "        vertical-align: top;\n",
       "    }\n",
       "\n",
       "    .dataframe thead th {\n",
       "        text-align: right;\n",
       "    }\n",
       "</style>\n",
       "<table border=\"1\" class=\"dataframe\">\n",
       "  <thead>\n",
       "    <tr style=\"text-align: right;\">\n",
       "      <th></th>\n",
       "      <th>param_learning_rate</th>\n",
       "      <th>param_n_estimators</th>\n",
       "      <th>mean_test_score</th>\n",
       "      <th>std_test_score</th>\n",
       "      <th>mean_train_score</th>\n",
       "      <th>std_train_score</th>\n",
       "    </tr>\n",
       "  </thead>\n",
       "  <tbody>\n",
       "    <tr>\n",
       "      <th>28</th>\n",
       "      <td>0.1000</td>\n",
       "      <td>45</td>\n",
       "      <td>0.7207</td>\n",
       "      <td>0.0418</td>\n",
       "      <td>0.7301</td>\n",
       "      <td>0.0062</td>\n",
       "    </tr>\n",
       "    <tr>\n",
       "      <th>29</th>\n",
       "      <td>0.1000</td>\n",
       "      <td>50</td>\n",
       "      <td>0.7187</td>\n",
       "      <td>0.0417</td>\n",
       "      <td>0.7329</td>\n",
       "      <td>0.0054</td>\n",
       "    </tr>\n",
       "    <tr>\n",
       "      <th>12</th>\n",
       "      <td>0.0100</td>\n",
       "      <td>15</td>\n",
       "      <td>0.7175</td>\n",
       "      <td>0.0329</td>\n",
       "      <td>0.7173</td>\n",
       "      <td>0.0036</td>\n",
       "    </tr>\n",
       "    <tr>\n",
       "      <th>21</th>\n",
       "      <td>0.1000</td>\n",
       "      <td>10</td>\n",
       "      <td>0.7175</td>\n",
       "      <td>0.0329</td>\n",
       "      <td>0.7173</td>\n",
       "      <td>0.0036</td>\n",
       "    </tr>\n",
       "    <tr>\n",
       "      <th>20</th>\n",
       "      <td>0.1000</td>\n",
       "      <td>5</td>\n",
       "      <td>0.7175</td>\n",
       "      <td>0.0329</td>\n",
       "      <td>0.7173</td>\n",
       "      <td>0.0036</td>\n",
       "    </tr>\n",
       "    <tr>\n",
       "      <th>19</th>\n",
       "      <td>0.0100</td>\n",
       "      <td>50</td>\n",
       "      <td>0.7175</td>\n",
       "      <td>0.0329</td>\n",
       "      <td>0.7173</td>\n",
       "      <td>0.0036</td>\n",
       "    </tr>\n",
       "    <tr>\n",
       "      <th>18</th>\n",
       "      <td>0.0100</td>\n",
       "      <td>45</td>\n",
       "      <td>0.7175</td>\n",
       "      <td>0.0329</td>\n",
       "      <td>0.7173</td>\n",
       "      <td>0.0036</td>\n",
       "    </tr>\n",
       "    <tr>\n",
       "      <th>17</th>\n",
       "      <td>0.0100</td>\n",
       "      <td>40</td>\n",
       "      <td>0.7175</td>\n",
       "      <td>0.0329</td>\n",
       "      <td>0.7173</td>\n",
       "      <td>0.0036</td>\n",
       "    </tr>\n",
       "    <tr>\n",
       "      <th>16</th>\n",
       "      <td>0.0100</td>\n",
       "      <td>35</td>\n",
       "      <td>0.7175</td>\n",
       "      <td>0.0329</td>\n",
       "      <td>0.7173</td>\n",
       "      <td>0.0036</td>\n",
       "    </tr>\n",
       "    <tr>\n",
       "      <th>1</th>\n",
       "      <td>0.0010</td>\n",
       "      <td>10</td>\n",
       "      <td>0.7175</td>\n",
       "      <td>0.0329</td>\n",
       "      <td>0.7173</td>\n",
       "      <td>0.0036</td>\n",
       "    </tr>\n",
       "  </tbody>\n",
       "</table>\n",
       "</div>"
      ],
      "text/plain": [
       "   param_learning_rate param_n_estimators  mean_test_score  std_test_score  \\\n",
       "28              0.1000                 45           0.7207          0.0418   \n",
       "29              0.1000                 50           0.7187          0.0417   \n",
       "12              0.0100                 15           0.7175          0.0329   \n",
       "21              0.1000                 10           0.7175          0.0329   \n",
       "20              0.1000                  5           0.7175          0.0329   \n",
       "19              0.0100                 50           0.7175          0.0329   \n",
       "18              0.0100                 45           0.7175          0.0329   \n",
       "17              0.0100                 40           0.7175          0.0329   \n",
       "16              0.0100                 35           0.7175          0.0329   \n",
       "1               0.0010                 10           0.7175          0.0329   \n",
       "\n",
       "    mean_train_score  std_train_score  \n",
       "28            0.7301           0.0062  \n",
       "29            0.7329           0.0054  \n",
       "12            0.7173           0.0036  \n",
       "21            0.7173           0.0036  \n",
       "20            0.7173           0.0036  \n",
       "19            0.7173           0.0036  \n",
       "18            0.7173           0.0036  \n",
       "17            0.7173           0.0036  \n",
       "16            0.7173           0.0036  \n",
       "1             0.7173           0.0036  "
      ]
     },
     "execution_count": 33,
     "metadata": {},
     "output_type": "execute_result"
    }
   ],
   "source": [
    "# Resultados\n",
    "# ==============================================================================\n",
    "resultados = pd.DataFrame(grid_AdaB.cv_results_)\n",
    "resultados.filter(regex = '(param*|mean_t|std_t)') \\\n",
    "    .drop(columns = 'params') \\\n",
    "    .sort_values('mean_test_score', ascending = False) \\\n",
    "    .head(10)"
   ]
  },
  {
   "cell_type": "code",
   "execution_count": 34,
   "metadata": {},
   "outputs": [
    {
     "data": {
      "text/html": [
       "<div>\n",
       "<style scoped>\n",
       "    .dataframe tbody tr th:only-of-type {\n",
       "        vertical-align: middle;\n",
       "    }\n",
       "\n",
       "    .dataframe tbody tr th {\n",
       "        vertical-align: top;\n",
       "    }\n",
       "\n",
       "    .dataframe thead th {\n",
       "        text-align: right;\n",
       "    }\n",
       "</style>\n",
       "<table border=\"1\" class=\"dataframe\">\n",
       "  <thead>\n",
       "    <tr style=\"text-align: right;\">\n",
       "      <th></th>\n",
       "      <th>param_learning_rate</th>\n",
       "      <th>param_n_estimators</th>\n",
       "      <th>mean_test_score</th>\n",
       "      <th>std_test_score</th>\n",
       "      <th>scoreWithStd</th>\n",
       "    </tr>\n",
       "  </thead>\n",
       "  <tbody>\n",
       "    <tr>\n",
       "      <th>0</th>\n",
       "      <td>0.0010</td>\n",
       "      <td>5</td>\n",
       "      <td>0.7175</td>\n",
       "      <td>0.0329</td>\n",
       "      <td>21.8172</td>\n",
       "    </tr>\n",
       "    <tr>\n",
       "      <th>1</th>\n",
       "      <td>0.0010</td>\n",
       "      <td>10</td>\n",
       "      <td>0.7175</td>\n",
       "      <td>0.0329</td>\n",
       "      <td>21.8172</td>\n",
       "    </tr>\n",
       "    <tr>\n",
       "      <th>2</th>\n",
       "      <td>0.0010</td>\n",
       "      <td>15</td>\n",
       "      <td>0.7175</td>\n",
       "      <td>0.0329</td>\n",
       "      <td>21.8172</td>\n",
       "    </tr>\n",
       "    <tr>\n",
       "      <th>3</th>\n",
       "      <td>0.0010</td>\n",
       "      <td>20</td>\n",
       "      <td>0.7175</td>\n",
       "      <td>0.0329</td>\n",
       "      <td>21.8172</td>\n",
       "    </tr>\n",
       "    <tr>\n",
       "      <th>4</th>\n",
       "      <td>0.0010</td>\n",
       "      <td>25</td>\n",
       "      <td>0.7175</td>\n",
       "      <td>0.0329</td>\n",
       "      <td>21.8172</td>\n",
       "    </tr>\n",
       "    <tr>\n",
       "      <th>5</th>\n",
       "      <td>0.0010</td>\n",
       "      <td>30</td>\n",
       "      <td>0.7175</td>\n",
       "      <td>0.0329</td>\n",
       "      <td>21.8172</td>\n",
       "    </tr>\n",
       "    <tr>\n",
       "      <th>6</th>\n",
       "      <td>0.0010</td>\n",
       "      <td>35</td>\n",
       "      <td>0.7175</td>\n",
       "      <td>0.0329</td>\n",
       "      <td>21.8172</td>\n",
       "    </tr>\n",
       "    <tr>\n",
       "      <th>7</th>\n",
       "      <td>0.0010</td>\n",
       "      <td>40</td>\n",
       "      <td>0.7175</td>\n",
       "      <td>0.0329</td>\n",
       "      <td>21.8172</td>\n",
       "    </tr>\n",
       "    <tr>\n",
       "      <th>8</th>\n",
       "      <td>0.0010</td>\n",
       "      <td>45</td>\n",
       "      <td>0.7175</td>\n",
       "      <td>0.0329</td>\n",
       "      <td>21.8172</td>\n",
       "    </tr>\n",
       "    <tr>\n",
       "      <th>9</th>\n",
       "      <td>0.0010</td>\n",
       "      <td>50</td>\n",
       "      <td>0.7175</td>\n",
       "      <td>0.0329</td>\n",
       "      <td>21.8172</td>\n",
       "    </tr>\n",
       "  </tbody>\n",
       "</table>\n",
       "</div>"
      ],
      "text/plain": [
       "  param_learning_rate param_n_estimators  mean_test_score  std_test_score  \\\n",
       "0              0.0010                  5           0.7175          0.0329   \n",
       "1              0.0010                 10           0.7175          0.0329   \n",
       "2              0.0010                 15           0.7175          0.0329   \n",
       "3              0.0010                 20           0.7175          0.0329   \n",
       "4              0.0010                 25           0.7175          0.0329   \n",
       "5              0.0010                 30           0.7175          0.0329   \n",
       "6              0.0010                 35           0.7175          0.0329   \n",
       "7              0.0010                 40           0.7175          0.0329   \n",
       "8              0.0010                 45           0.7175          0.0329   \n",
       "9              0.0010                 50           0.7175          0.0329   \n",
       "\n",
       "   scoreWithStd  \n",
       "0       21.8172  \n",
       "1       21.8172  \n",
       "2       21.8172  \n",
       "3       21.8172  \n",
       "4       21.8172  \n",
       "5       21.8172  \n",
       "6       21.8172  \n",
       "7       21.8172  \n",
       "8       21.8172  \n",
       "9       21.8172  "
      ]
     },
     "execution_count": 34,
     "metadata": {},
     "output_type": "execute_result"
    }
   ],
   "source": [
    "# Obtener los resultados del grid search\n",
    "results_grid_AdaB = pd.DataFrame(grid_AdaB.cv_results_)\n",
    "\n",
    "# Seleccionar las columnas deseadas\n",
    "columns_grid_AdaB = ['param_learning_rate'] + \\\n",
    "                    ['param_n_estimators'] + \\\n",
    "                    ['mean_test_score', 'std_test_score']  + \\\n",
    "                    [f'split{i}_test_score' for i in range(CV)]\n",
    "\n",
    "# Filtrar y mostrar los resultados\n",
    "results_grid_AdaB_filtered = results_grid_AdaB[columns_grid_AdaB]\n",
    "\n",
    "# Crear la columna scoreWithStd: f1 / std\n",
    "results_grid_AdaB_filtered['scoreWithStd'] = results_grid_AdaB_filtered.apply(\n",
    "    lambda row: row['mean_test_score'] / row['std_test_score'] if row['std_test_score'] != 0 else 0,\n",
    "    axis=1\n",
    ")\n",
    "\n",
    "# Encuentra el índice del máximo valor en la columna scoreWithStd\n",
    "indice_max_scoreWithStd = results_grid_AdaB_filtered['scoreWithStd'].idxmax()\n",
    "\n",
    "# Mostrar los scores promedios por cada parámetro\n",
    "results_grid_AdaB_filtered[['param_learning_rate','param_n_estimators', 'mean_test_score', 'std_test_score', 'scoreWithStd']].head(10)"
   ]
  },
  {
   "cell_type": "code",
   "execution_count": 35,
   "metadata": {},
   "outputs": [
    {
     "data": {
      "text/html": [
       "<div>\n",
       "<style scoped>\n",
       "    .dataframe tbody tr th:only-of-type {\n",
       "        vertical-align: middle;\n",
       "    }\n",
       "\n",
       "    .dataframe tbody tr th {\n",
       "        vertical-align: top;\n",
       "    }\n",
       "\n",
       "    .dataframe thead th {\n",
       "        text-align: right;\n",
       "    }\n",
       "</style>\n",
       "<table border=\"1\" class=\"dataframe\">\n",
       "  <thead>\n",
       "    <tr style=\"text-align: right;\">\n",
       "      <th></th>\n",
       "      <th>param_learning_rate</th>\n",
       "      <th>param_n_estimators</th>\n",
       "      <th>mean_test_score</th>\n",
       "      <th>std_test_score</th>\n",
       "      <th>scoreWithStd</th>\n",
       "    </tr>\n",
       "  </thead>\n",
       "  <tbody>\n",
       "    <tr>\n",
       "      <th>0</th>\n",
       "      <td>0.0010</td>\n",
       "      <td>5</td>\n",
       "      <td>0.7175</td>\n",
       "      <td>0.0329</td>\n",
       "      <td>21.8172</td>\n",
       "    </tr>\n",
       "    <tr>\n",
       "      <th>12</th>\n",
       "      <td>0.0100</td>\n",
       "      <td>15</td>\n",
       "      <td>0.7175</td>\n",
       "      <td>0.0329</td>\n",
       "      <td>21.8172</td>\n",
       "    </tr>\n",
       "    <tr>\n",
       "      <th>21</th>\n",
       "      <td>0.1000</td>\n",
       "      <td>10</td>\n",
       "      <td>0.7175</td>\n",
       "      <td>0.0329</td>\n",
       "      <td>21.8172</td>\n",
       "    </tr>\n",
       "  </tbody>\n",
       "</table>\n",
       "</div>"
      ],
      "text/plain": [
       "   param_learning_rate param_n_estimators  mean_test_score  std_test_score  \\\n",
       "0               0.0010                  5           0.7175          0.0329   \n",
       "12              0.0100                 15           0.7175          0.0329   \n",
       "21              0.1000                 10           0.7175          0.0329   \n",
       "\n",
       "    scoreWithStd  \n",
       "0        21.8172  \n",
       "12       21.8172  \n",
       "21       21.8172  "
      ]
     },
     "execution_count": 35,
     "metadata": {},
     "output_type": "execute_result"
    }
   ],
   "source": [
    "# Top 3 de los mejores scores\n",
    "results_grid_AdaB_filtered.sort_values(by='scoreWithStd', ascending=False).head(10)[\n",
    "    ['param_learning_rate','param_n_estimators'\n",
    "     , 'mean_test_score', 'std_test_score', 'scoreWithStd']].head(3)"
   ]
  },
  {
   "cell_type": "code",
   "execution_count": 36,
   "metadata": {},
   "outputs": [
    {
     "data": {
      "text/plain": [
       "param_learning_rate    0.0010\n",
       "param_n_estimators          5\n",
       "mean_test_score        0.7175\n",
       "std_test_score         0.0329\n",
       "split0_test_score      0.7101\n",
       "split1_test_score      0.7395\n",
       "split2_test_score      0.7619\n",
       "split3_test_score      0.7218\n",
       "split4_test_score      0.6970\n",
       "split5_test_score      0.6364\n",
       "split6_test_score      0.7015\n",
       "split7_test_score      0.7391\n",
       "split8_test_score      0.7299\n",
       "split9_test_score      0.7376\n",
       "scoreWithStd          21.8172\n",
       "Name: 0, dtype: object"
      ]
     },
     "execution_count": 36,
     "metadata": {},
     "output_type": "execute_result"
    }
   ],
   "source": [
    "# Seleccionar el registro correspondiente al índice máximo\n",
    "registro_max_scoreWithStd = results_grid_AdaB_filtered.loc[indice_max_scoreWithStd]\n",
    "\n",
    "registro_max_scoreWithStd.transpose()"
   ]
  },
  {
   "cell_type": "code",
   "execution_count": 37,
   "metadata": {},
   "outputs": [
    {
     "data": {
      "text/html": [
       "<style>#sk-container-id-4 {color: black;background-color: white;}#sk-container-id-4 pre{padding: 0;}#sk-container-id-4 div.sk-toggleable {background-color: white;}#sk-container-id-4 label.sk-toggleable__label {cursor: pointer;display: block;width: 100%;margin-bottom: 0;padding: 0.3em;box-sizing: border-box;text-align: center;}#sk-container-id-4 label.sk-toggleable__label-arrow:before {content: \"▸\";float: left;margin-right: 0.25em;color: #696969;}#sk-container-id-4 label.sk-toggleable__label-arrow:hover:before {color: black;}#sk-container-id-4 div.sk-estimator:hover label.sk-toggleable__label-arrow:before {color: black;}#sk-container-id-4 div.sk-toggleable__content {max-height: 0;max-width: 0;overflow: hidden;text-align: left;background-color: #f0f8ff;}#sk-container-id-4 div.sk-toggleable__content pre {margin: 0.2em;color: black;border-radius: 0.25em;background-color: #f0f8ff;}#sk-container-id-4 input.sk-toggleable__control:checked~div.sk-toggleable__content {max-height: 200px;max-width: 100%;overflow: auto;}#sk-container-id-4 input.sk-toggleable__control:checked~label.sk-toggleable__label-arrow:before {content: \"▾\";}#sk-container-id-4 div.sk-estimator input.sk-toggleable__control:checked~label.sk-toggleable__label {background-color: #d4ebff;}#sk-container-id-4 div.sk-label input.sk-toggleable__control:checked~label.sk-toggleable__label {background-color: #d4ebff;}#sk-container-id-4 input.sk-hidden--visually {border: 0;clip: rect(1px 1px 1px 1px);clip: rect(1px, 1px, 1px, 1px);height: 1px;margin: -1px;overflow: hidden;padding: 0;position: absolute;width: 1px;}#sk-container-id-4 div.sk-estimator {font-family: monospace;background-color: #f0f8ff;border: 1px dotted black;border-radius: 0.25em;box-sizing: border-box;margin-bottom: 0.5em;}#sk-container-id-4 div.sk-estimator:hover {background-color: #d4ebff;}#sk-container-id-4 div.sk-parallel-item::after {content: \"\";width: 100%;border-bottom: 1px solid gray;flex-grow: 1;}#sk-container-id-4 div.sk-label:hover label.sk-toggleable__label {background-color: #d4ebff;}#sk-container-id-4 div.sk-serial::before {content: \"\";position: absolute;border-left: 1px solid gray;box-sizing: border-box;top: 0;bottom: 0;left: 50%;z-index: 0;}#sk-container-id-4 div.sk-serial {display: flex;flex-direction: column;align-items: center;background-color: white;padding-right: 0.2em;padding-left: 0.2em;position: relative;}#sk-container-id-4 div.sk-item {position: relative;z-index: 1;}#sk-container-id-4 div.sk-parallel {display: flex;align-items: stretch;justify-content: center;background-color: white;position: relative;}#sk-container-id-4 div.sk-item::before, #sk-container-id-4 div.sk-parallel-item::before {content: \"\";position: absolute;border-left: 1px solid gray;box-sizing: border-box;top: 0;bottom: 0;left: 50%;z-index: -1;}#sk-container-id-4 div.sk-parallel-item {display: flex;flex-direction: column;z-index: 1;position: relative;background-color: white;}#sk-container-id-4 div.sk-parallel-item:first-child::after {align-self: flex-end;width: 50%;}#sk-container-id-4 div.sk-parallel-item:last-child::after {align-self: flex-start;width: 50%;}#sk-container-id-4 div.sk-parallel-item:only-child::after {width: 0;}#sk-container-id-4 div.sk-dashed-wrapped {border: 1px dashed gray;margin: 0 0.4em 0.5em 0.4em;box-sizing: border-box;padding-bottom: 0.4em;background-color: white;}#sk-container-id-4 div.sk-label label {font-family: monospace;font-weight: bold;display: inline-block;line-height: 1.2em;}#sk-container-id-4 div.sk-label-container {text-align: center;}#sk-container-id-4 div.sk-container {/* jupyter's `normalize.less` sets `[hidden] { display: none; }` but bootstrap.min.css set `[hidden] { display: none !important; }` so we also need the `!important` here to be able to override the default hidden behavior on the sphinx rendered scikit-learn.org. See: https://github.com/scikit-learn/scikit-learn/issues/21755 */display: inline-block !important;position: relative;}#sk-container-id-4 div.sk-text-repr-fallback {display: none;}</style><div id=\"sk-container-id-4\" class=\"sk-top-container\"><div class=\"sk-text-repr-fallback\"><pre>AdaBoostClassifier(learning_rate=0.001, n_estimators=5)</pre><b>In a Jupyter environment, please rerun this cell to show the HTML representation or trust the notebook. <br />On GitHub, the HTML representation is unable to render, please try loading this page with nbviewer.org.</b></div><div class=\"sk-container\" hidden><div class=\"sk-item\"><div class=\"sk-estimator sk-toggleable\"><input class=\"sk-toggleable__control sk-hidden--visually\" id=\"sk-estimator-id-6\" type=\"checkbox\" checked><label for=\"sk-estimator-id-6\" class=\"sk-toggleable__label sk-toggleable__label-arrow\">AdaBoostClassifier</label><div class=\"sk-toggleable__content\"><pre>AdaBoostClassifier(learning_rate=0.001, n_estimators=5)</pre></div></div></div></div></div>"
      ],
      "text/plain": [
       "AdaBoostClassifier(learning_rate=0.001, n_estimators=5)"
      ]
     },
     "execution_count": 37,
     "metadata": {},
     "output_type": "execute_result"
    }
   ],
   "source": [
    "# Usar los mejores parámetros para crear el modelo\n",
    "modelAda2.set_params(learning_rate = results_grid_AdaB_filtered.loc[indice_max_scoreWithStd]['param_learning_rate']\n",
    "                        , n_estimators = results_grid_AdaB_filtered.loc[indice_max_scoreWithStd]['param_n_estimators'])\n",
    "\n",
    "modelAda2.fit(X_Completo, y_Completo)"
   ]
  },
  {
   "cell_type": "code",
   "execution_count": 38,
   "metadata": {},
   "outputs": [],
   "source": [
    "y_pred = modelAda2.predict(X_Completo)"
   ]
  },
  {
   "cell_type": "markdown",
   "metadata": {
    "id": "EVVZB3wDwXe5"
   },
   "source": [
    "#### Evaluación del modelo"
   ]
  },
  {
   "cell_type": "code",
   "execution_count": 39,
   "metadata": {},
   "outputs": [
    {
     "data": {
      "image/png": "[encoded data removed]",
      "text/plain": [
       "<Figure size 432x288 with 2 Axes>"
      ]
     },
     "metadata": {
      "needs_background": "light"
     },
     "output_type": "display_data"
    },
    {
     "name": "stdout",
     "output_type": "stream",
     "text": [
      "              precision    recall  f1-score   support\n",
      "\n",
      "           0       0.76      0.50      0.60       569\n",
      "           1       0.63      0.84      0.72       569\n",
      "\n",
      "    accuracy                           0.67      1138\n",
      "   macro avg       0.69      0.67      0.66      1138\n",
      "weighted avg       0.69      0.67      0.66      1138\n",
      "\n"
     ]
    }
   ],
   "source": [
    "# Calcular la matriz de confusión\n",
    "cm = confusion_matrix(y_Completo, y_pred)\n",
    "\n",
    "# Crear la visualización de la matriz de confusión\n",
    "disp = ConfusionMatrixDisplay(confusion_matrix=cm, display_labels=np.unique(y_Completo))\n",
    "\n",
    "# Mostrar la visualización\n",
    "disp.plot(cmap='Blues')\n",
    "\n",
    "# Configurar el título\n",
    "plt.title('Ada Boost')\n",
    "\n",
    "# Mostrar la figura\n",
    "plt.show()\n",
    "\n",
    "# Mostrar el informe de clasificación\n",
    "print(classification_report(y_Completo, y_pred))\n"
   ]
  },
  {
   "cell_type": "markdown",
   "metadata": {},
   "source": [
    "#### ROC - Receiver Operating Characteristic"
   ]
  },
  {
   "cell_type": "code",
   "execution_count": 40,
   "metadata": {},
   "outputs": [
    {
     "name": "stdout",
     "output_type": "stream",
     "text": [
      "AUC: 0.65\n"
     ]
    },
    {
     "data": {
      "image/png": "[encoded data removed]",
      "text/plain": [
       "<Figure size 720x432 with 1 Axes>"
      ]
     },
     "metadata": {
      "needs_background": "light"
     },
     "output_type": "display_data"
    }
   ],
   "source": [
    "fig = plt.figure(figsize=(10,6))\n",
    "\n",
    "# Predecir las probabilidades de la clase positiva usando el modelo de regresión logística entrenado\n",
    "probs = modelAda2.predict_proba(X_test)\n",
    "\n",
    "# Tomar las probabilidades de la clase positiva solamente\n",
    "probs = probs[:, 1]\n",
    "\n",
    "# Calcular el área bajo la curva ROC\n",
    "auc = roc_auc_score(y_test, probs*(1))\n",
    "\n",
    "# Imprimir el valor del AUC\n",
    "print('AUC: %.2f' % auc)\n",
    "\n",
    "# Calcular la curva ROC usando los valores verdaderos y las probabilidades predichas\n",
    "fpr, tpr, thresholds = roc_curve(y_test, probs*(1))\n",
    "\n",
    "# Graficar la curva ROC\n",
    "plot_roc_curve(fpr, tpr)\n",
    "\n",
    "\n",
    "##Nota: es necesario que la variable de salida sea numérica, sino debe transformarse"
   ]
  },
  {
   "cell_type": "markdown",
   "metadata": {},
   "source": [
    "### Guardar modelo"
   ]
  },
  {
   "cell_type": "code",
   "execution_count": 41,
   "metadata": {},
   "outputs": [
    {
     "data": {
      "text/plain": [
       "['./modelos/clasificacion/AdaB_CV.pkl']"
      ]
     },
     "execution_count": 41,
     "metadata": {},
     "output_type": "execute_result"
    }
   ],
   "source": [
    "#Se guarda el modelo de Random Forest\n",
    "joblib.dump(modelAda2, './modelos/clasificacion/AdaB_CV.pkl')"
   ]
  },
  {
   "cell_type": "markdown",
   "metadata": {
    "id": "1zXB7bOYwXe6"
   },
   "source": [
    "#### Referencias\n",
    "\n",
    "\n",
    "- Random Forest\n",
    "    - https://www.cienciadedatos.net/documentos/py08_random_forest_python.html\n",
    "    - https://fhernanb.github.io/libro_mod_pred/rand-forests.html\n",
    "    - https://quantdare.com/decision-trees-gini-vs-entropy/\n",
    "    "
   ]
  }
 ],
 "metadata": {
  "colab": {
   "collapsed_sections": [
    "1zXB7bOYwXe6"
   ],
   "name": "04_3_RegresionLogistica.ipynb",
   "provenance": []
  },
  "kernelspec": {
   "display_name": "Python 3 (ipykernel)",
   "language": "python",
   "name": "python3"
  },
  "language_info": {
   "codemirror_mode": {
    "name": "ipython",
    "version": 3
   },
   "file_extension": ".py",
   "mimetype": "text/x-python",
   "name": "python",
   "nbconvert_exporter": "python",
   "pygments_lexer": "ipython3",
   "version": "3.9.7"
  }
 },
 "nbformat": 4,
 "nbformat_minor": 1
}
