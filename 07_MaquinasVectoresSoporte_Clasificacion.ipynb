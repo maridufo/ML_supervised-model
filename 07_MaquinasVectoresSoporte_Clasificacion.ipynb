{
 "cells": [
  {
   "cell_type": "markdown",
   "metadata": {
    "id": "G_w9PlxZQRoW"
   },
   "source": [
    "# Máquinas de Vectores de Soporte (SVM)"
   ]
  },
  {
   "cell_type": "markdown",
   "metadata": {
    "id": "BLUjhqLkQRoc"
   },
   "source": [
    "**Las máquinas de vectores de soporte (SVM)** son una categoría muy utilizada y poderosa de algoritmos de aprendizaje automático. Hay muchas variaciones en la idea básica de un SVM. Un SVM intenta **separar al máximo** las clases al encontrar el **vector de soporte** con la tasa de error más baja o la separación máxima. Los SVM pueden usar muchos tipos de **funciones del núcleo**. Las funciones del núcleo más comunes son **lineal** y la **función de base radial** o **RBF**. La función de base lineal intenta separar las clases al encontrar hiperplanos en el espacio de características que separan las clases al máximo. El RBF utiliza un conjunto de núcleos locales en forma de Gauss para encontrar una separación no lineal de las clases.\n"
   ]
  },
  {
   "cell_type": "markdown",
   "metadata": {
    "id": "gQOjxkXRQRoc"
   },
   "source": [
    "Consiste en seleccionar como clasificador óptimo al que se conoce como maximal margin hyperplane o hiperplano óptimo de separación, que se corresponde con el hiperplano que se encuentra más alejado de todas las observaciones de entrenamiento.\n",
    "Para obtenerlo, se tiene que calcular la distancia perpendicular de cada observación a un determinado hiperplano. La menor de estas distancias (conocida como margen) determina como de alejado está el hiperplano de las observaciones de entrenamiento.\n",
    "\n",
    "*https://rpubs.com/Joaquin_AR/267926"
   ]
  },
  {
   "cell_type": "markdown",
   "metadata": {
    "id": "YHDmwJLSQRod"
   },
   "source": [
    "## 1. Librerias y configuraciones previas\n"
   ]
  },
  {
   "cell_type": "code",
   "execution_count": 1,
   "metadata": {},
   "outputs": [],
   "source": [
    "# Tratamiento de datos\n",
    "# ==============================================================================\n",
    "import pandas as pd\n",
    "import numpy as np\n",
    "\n",
    "\n",
    "# Almacenar en caché los resultados de funciones en el disco\n",
    "# ==============================================================================\n",
    "import joblib\n",
    "\n",
    "\n",
    "# Gestion de librerias\n",
    "# ==============================================================================\n",
    "from importlib import reload\n",
    "\n",
    "\n",
    "# Matemáticas y estadísticas\n",
    "# ==============================================================================\n",
    "import math\n",
    "\n",
    "\n",
    "# Preprocesado y modelado\n",
    "# ==============================================================================\n",
    "import math\n",
    "\n",
    "#Separar los datos entrenamiento y prueba\n",
    "from sklearn.model_selection import train_test_split\n",
    "\n",
    "\n",
    "#Escalar Variables\n",
    "from sklearn.preprocessing import MinMaxScaler\n",
    "\n",
    "\n",
    "#Evaluación del modelo\n",
    "from sklearn import metrics\n",
    "from sklearn.metrics import classification_report, confusion_matrix, ConfusionMatrixDisplay\n",
    "from sklearn.metrics import roc_auc_score\n",
    "from sklearn.metrics import roc_curve\n",
    "\n",
    "\n",
    "#Creación de modelo\n",
    "from sklearn import svm\n",
    "\n",
    "\n",
    "#configuracion de hiperparámetros\n",
    "from sklearn.model_selection import GridSearchCV\n",
    "from sklearn.model_selection import cross_val_score\n",
    "\n",
    "# Gráficos\n",
    "# ==============================================================================\n",
    "import matplotlib.pyplot as plt\n",
    "from matplotlib import style\n",
    "import seaborn as sns\n",
    "\n",
    "\n",
    "# Configuración warnings\n",
    "# ==============================================================================\n",
    "import warnings\n",
    "warnings.filterwarnings('ignore')"
   ]
  },
  {
   "cell_type": "markdown",
   "metadata": {
    "id": "83AuiHcWQRoe"
   },
   "source": [
    "## 2. Funciones"
   ]
  },
  {
   "cell_type": "code",
   "execution_count": 2,
   "metadata": {},
   "outputs": [],
   "source": [
    "#reload(utils.funciones)\n",
    "\n",
    "# Funciones externas\n",
    "# ==============================================================================\n",
    "from utils.funciones import multiple_plot, plot_roc_curve"
   ]
  },
  {
   "cell_type": "markdown",
   "metadata": {},
   "source": [
    "## 3. Carga del dataset"
   ]
  },
  {
   "cell_type": "code",
   "execution_count": 3,
   "metadata": {},
   "outputs": [],
   "source": [
    "#Se crea un dataframe d con los datos obtenidos de archivo de entrada\n",
    "d=pd.read_csv('./datasets/02_GermanCredit_Prep.csv')"
   ]
  },
  {
   "cell_type": "code",
   "execution_count": 4,
   "metadata": {},
   "outputs": [],
   "source": [
    "## Cargar datos con colab\n",
    "## =============================================================================\n",
    "\n",
    "#from google.colab import drive \n",
    "#import os\n",
    "\n",
    "#drive.mount('/gdrive')"
   ]
  },
  {
   "cell_type": "code",
   "execution_count": 5,
   "metadata": {},
   "outputs": [],
   "source": [
    "#os.chdir(\"/gdrive/MyDrive/ModelosCuantitativosPython/Notebooks\")\n",
    "#!ls"
   ]
  },
  {
   "cell_type": "code",
   "execution_count": 6,
   "metadata": {},
   "outputs": [
    {
     "name": "stdout",
     "output_type": "stream",
     "text": [
      "<class 'pandas.core.frame.DataFrame'>\n",
      "RangeIndex: 1138 entries, 0 to 1137\n",
      "Data columns (total 21 columns):\n",
      " #   Column                    Non-Null Count  Dtype \n",
      "---  ------                    --------------  ----- \n",
      " 0   checking_account_status   1138 non-null   object\n",
      " 1   loan_duration_mo          1138 non-null   int64 \n",
      " 2   credit_history            1138 non-null   object\n",
      " 3   purpose                   1138 non-null   object\n",
      " 4   loan_amount               1138 non-null   int64 \n",
      " 5   savings_account_balance   1138 non-null   object\n",
      " 6   time_employed_yrs         1138 non-null   object\n",
      " 7   payment_pcnt_income       1138 non-null   int64 \n",
      " 8   gender_status             1138 non-null   object\n",
      " 9   other_signators           1138 non-null   object\n",
      " 10  time_in_residence         1138 non-null   int64 \n",
      " 11  property                  1138 non-null   object\n",
      " 12  age_yrs                   1138 non-null   int64 \n",
      " 13  other_credit_outstanding  1138 non-null   object\n",
      " 14  home_ownership            1138 non-null   object\n",
      " 15  number_loans              1138 non-null   int64 \n",
      " 16  job_category              1138 non-null   object\n",
      " 17  dependents                1138 non-null   int64 \n",
      " 18  telephone                 1138 non-null   object\n",
      " 19  foreign_worker            1138 non-null   object\n",
      " 20  bad_credit                1138 non-null   int64 \n",
      "dtypes: int64(8), object(13)\n",
      "memory usage: 186.8+ KB\n"
     ]
    }
   ],
   "source": [
    "d.info()"
   ]
  },
  {
   "cell_type": "markdown",
   "metadata": {},
   "source": [
    "## 4. Visualización de datos"
   ]
  },
  {
   "cell_type": "markdown",
   "metadata": {},
   "source": [
    "### Variables de entrada"
   ]
  },
  {
   "cell_type": "code",
   "execution_count": 7,
   "metadata": {},
   "outputs": [
    {
     "data": {
      "text/html": [
       "<div>\n",
       "<style scoped>\n",
       "    .dataframe tbody tr th:only-of-type {\n",
       "        vertical-align: middle;\n",
       "    }\n",
       "\n",
       "    .dataframe tbody tr th {\n",
       "        vertical-align: top;\n",
       "    }\n",
       "\n",
       "    .dataframe thead th {\n",
       "        text-align: right;\n",
       "    }\n",
       "</style>\n",
       "<table border=\"1\" class=\"dataframe\">\n",
       "  <thead>\n",
       "    <tr style=\"text-align: right;\">\n",
       "      <th></th>\n",
       "      <th>checking_account_status</th>\n",
       "      <th>credit_history</th>\n",
       "      <th>purpose</th>\n",
       "      <th>savings_account_balance</th>\n",
       "      <th>time_employed_yrs</th>\n",
       "      <th>gender_status</th>\n",
       "      <th>other_signators</th>\n",
       "      <th>property</th>\n",
       "      <th>other_credit_outstanding</th>\n",
       "      <th>home_ownership</th>\n",
       "      <th>job_category</th>\n",
       "      <th>telephone</th>\n",
       "      <th>foreign_worker</th>\n",
       "    </tr>\n",
       "  </thead>\n",
       "  <tbody>\n",
       "    <tr>\n",
       "      <th>0</th>\n",
       "      <td>&lt; 0 DM</td>\n",
       "      <td>critical account - other non-bank loans</td>\n",
       "      <td>car</td>\n",
       "      <td>&lt; 100 DM</td>\n",
       "      <td>1 - 4 years</td>\n",
       "      <td>female-divorced/separated/married</td>\n",
       "      <td>co-applicant</td>\n",
       "      <td>real estate</td>\n",
       "      <td>none</td>\n",
       "      <td>own</td>\n",
       "      <td>skilled</td>\n",
       "      <td>none</td>\n",
       "      <td>yes</td>\n",
       "    </tr>\n",
       "    <tr>\n",
       "      <th>1</th>\n",
       "      <td>&lt; 0 DM</td>\n",
       "      <td>current loans paid</td>\n",
       "      <td>car</td>\n",
       "      <td>&lt; 100 DM</td>\n",
       "      <td>1 - 4 years</td>\n",
       "      <td>male-married/widowed</td>\n",
       "      <td>none</td>\n",
       "      <td>real estate</td>\n",
       "      <td>none</td>\n",
       "      <td>own</td>\n",
       "      <td>unskilled-resident</td>\n",
       "      <td>none</td>\n",
       "      <td>yes</td>\n",
       "    </tr>\n",
       "  </tbody>\n",
       "</table>\n",
       "</div>"
      ],
      "text/plain": [
       "  checking_account_status                           credit_history purpose  \\\n",
       "0                  < 0 DM  critical account - other non-bank loans     car   \n",
       "1                  < 0 DM                       current loans paid     car   \n",
       "\n",
       "  savings_account_balance time_employed_yrs  \\\n",
       "0                < 100 DM       1 - 4 years   \n",
       "1                < 100 DM       1 - 4 years   \n",
       "\n",
       "                       gender_status other_signators     property  \\\n",
       "0  female-divorced/separated/married    co-applicant  real estate   \n",
       "1               male-married/widowed            none  real estate   \n",
       "\n",
       "  other_credit_outstanding home_ownership        job_category telephone  \\\n",
       "0                     none            own             skilled      none   \n",
       "1                     none            own  unskilled-resident      none   \n",
       "\n",
       "  foreign_worker  \n",
       "0            yes  \n",
       "1            yes  "
      ]
     },
     "execution_count": 7,
     "metadata": {},
     "output_type": "execute_result"
    }
   ],
   "source": [
    "#Lista de variables categóricas\n",
    "catCols = d.select_dtypes(include = [\"object\", 'category']).columns.tolist()\n",
    "\n",
    "d[catCols].head(2)"
   ]
  },
  {
   "cell_type": "code",
   "execution_count": 8,
   "metadata": {},
   "outputs": [
    {
     "data": {
      "text/html": [
       "<div>\n",
       "<style scoped>\n",
       "    .dataframe tbody tr th:only-of-type {\n",
       "        vertical-align: middle;\n",
       "    }\n",
       "\n",
       "    .dataframe tbody tr th {\n",
       "        vertical-align: top;\n",
       "    }\n",
       "\n",
       "    .dataframe thead th {\n",
       "        text-align: right;\n",
       "    }\n",
       "</style>\n",
       "<table border=\"1\" class=\"dataframe\">\n",
       "  <thead>\n",
       "    <tr style=\"text-align: right;\">\n",
       "      <th></th>\n",
       "      <th>loan_duration_mo</th>\n",
       "      <th>loan_amount</th>\n",
       "      <th>payment_pcnt_income</th>\n",
       "      <th>time_in_residence</th>\n",
       "      <th>age_yrs</th>\n",
       "      <th>number_loans</th>\n",
       "      <th>dependents</th>\n",
       "      <th>bad_credit</th>\n",
       "    </tr>\n",
       "  </thead>\n",
       "  <tbody>\n",
       "    <tr>\n",
       "      <th>0</th>\n",
       "      <td>12</td>\n",
       "      <td>3499</td>\n",
       "      <td>3</td>\n",
       "      <td>2</td>\n",
       "      <td>29</td>\n",
       "      <td>2</td>\n",
       "      <td>1</td>\n",
       "      <td>1</td>\n",
       "    </tr>\n",
       "    <tr>\n",
       "      <th>1</th>\n",
       "      <td>12</td>\n",
       "      <td>1168</td>\n",
       "      <td>4</td>\n",
       "      <td>3</td>\n",
       "      <td>27</td>\n",
       "      <td>1</td>\n",
       "      <td>1</td>\n",
       "      <td>0</td>\n",
       "    </tr>\n",
       "  </tbody>\n",
       "</table>\n",
       "</div>"
      ],
      "text/plain": [
       "   loan_duration_mo  loan_amount  payment_pcnt_income  time_in_residence  \\\n",
       "0                12         3499                    3                  2   \n",
       "1                12         1168                    4                  3   \n",
       "\n",
       "   age_yrs  number_loans  dependents  bad_credit  \n",
       "0       29             2           1           1  \n",
       "1       27             1           1           0  "
      ]
     },
     "execution_count": 8,
     "metadata": {},
     "output_type": "execute_result"
    }
   ],
   "source": [
    "#Lista de variables numéricas\n",
    "\n",
    "numCols=d.select_dtypes(include = ['float64','float64','int32','int64']).columns.tolist()\n",
    "\n",
    "d[numCols].head(2)"
   ]
  },
  {
   "cell_type": "code",
   "execution_count": 9,
   "metadata": {},
   "outputs": [],
   "source": [
    "##Visualización de frecuencia de instancias para variables categóricas\n",
    "#multiple_plot(3, d , catCols, None, 'countplot', 'Frecuencia de instancias para variables categóricas',30)"
   ]
  },
  {
   "cell_type": "code",
   "execution_count": 10,
   "metadata": {},
   "outputs": [],
   "source": [
    "##Visualización de variables numéricas\n",
    "#multiple_plot(1, d , numCols, None, 'scatterplot', 'Relación entre las variables numéricas',30)"
   ]
  },
  {
   "cell_type": "code",
   "execution_count": 11,
   "metadata": {},
   "outputs": [],
   "source": [
    "#Eliminar la variable de salida de la lista de variable numéricas\n",
    "numCols.remove('bad_credit')"
   ]
  },
  {
   "cell_type": "markdown",
   "metadata": {},
   "source": [
    "### Variable de salida"
   ]
  },
  {
   "cell_type": "code",
   "execution_count": 12,
   "metadata": {},
   "outputs": [
    {
     "data": {
      "text/plain": [
       "bad_credit\n",
       "0    569\n",
       "1    569\n",
       "Name: bad_credit, dtype: int64"
      ]
     },
     "execution_count": 12,
     "metadata": {},
     "output_type": "execute_result"
    }
   ],
   "source": [
    "# Distriución de la variable de salida\n",
    "\n",
    "d.groupby('bad_credit').bad_credit.count().sort_values(ascending=False)"
   ]
  },
  {
   "cell_type": "code",
   "execution_count": 13,
   "metadata": {},
   "outputs": [],
   "source": [
    "##Visualización de la variable de salida\n",
    "#multiple_plot(1, d , None, 'bad_credit', 'countplot', 'Gráfica de frecuencia de bad Credit',0)"
   ]
  },
  {
   "cell_type": "markdown",
   "metadata": {},
   "source": [
    "## 5. Transformación de datos"
   ]
  },
  {
   "cell_type": "markdown",
   "metadata": {},
   "source": [
    "### Creación de variables Dummies "
   ]
  },
  {
   "cell_type": "code",
   "execution_count": 14,
   "metadata": {},
   "outputs": [
    {
     "name": "stdout",
     "output_type": "stream",
     "text": [
      "<class 'pandas.core.frame.DataFrame'>\n",
      "RangeIndex: 1138 entries, 0 to 1137\n",
      "Data columns (total 46 columns):\n",
      " #   Column                                                  Non-Null Count  Dtype\n",
      "---  ------                                                  --------------  -----\n",
      " 0   loan_duration_mo                                        1138 non-null   int64\n",
      " 1   loan_amount                                             1138 non-null   int64\n",
      " 2   payment_pcnt_income                                     1138 non-null   int64\n",
      " 3   time_in_residence                                       1138 non-null   int64\n",
      " 4   age_yrs                                                 1138 non-null   int64\n",
      " 5   number_loans                                            1138 non-null   int64\n",
      " 6   dependents                                              1138 non-null   int64\n",
      " 7   bad_credit                                              1138 non-null   int64\n",
      " 8   checking_account_status_< 0 DM                          1138 non-null   uint8\n",
      " 9   checking_account_status_> 200 DM or salary assignment   1138 non-null   uint8\n",
      " 10  checking_account_status_none                            1138 non-null   uint8\n",
      " 11  credit_history_critical account - other non-bank loans  1138 non-null   uint8\n",
      " 12  credit_history_current loans paid                       1138 non-null   uint8\n",
      " 13  credit_history_no credit - paid                         1138 non-null   uint8\n",
      " 14  credit_history_past payment delays                      1138 non-null   uint8\n",
      " 15  purpose_car                                             1138 non-null   uint8\n",
      " 16  purpose_education                                       1138 non-null   uint8\n",
      " 17  purpose_furniture/equipment                             1138 non-null   uint8\n",
      " 18  purpose_other                                           1138 non-null   uint8\n",
      " 19  purpose_radio/television                                1138 non-null   uint8\n",
      " 20  purpose_repairs                                         1138 non-null   uint8\n",
      " 21  savings_account_balance_500 - 1000 DM                   1138 non-null   uint8\n",
      " 22  savings_account_balance_< 100 DM                        1138 non-null   uint8\n",
      " 23  savings_account_balance_>= 1000 DM                      1138 non-null   uint8\n",
      " 24  savings_account_balance_unknown/none                    1138 non-null   uint8\n",
      " 25  time_employed_yrs_4 - 7 years                           1138 non-null   uint8\n",
      " 26  time_employed_yrs_< 1 year                              1138 non-null   uint8\n",
      " 27  time_employed_yrs_>= 7 years                            1138 non-null   uint8\n",
      " 28  time_employed_yrs_unemployed                            1138 non-null   uint8\n",
      " 29  gender_status_male-divorced/separated                   1138 non-null   uint8\n",
      " 30  gender_status_male-married/widowed                      1138 non-null   uint8\n",
      " 31  gender_status_male-single                               1138 non-null   uint8\n",
      " 32  other_signators_guarantor                               1138 non-null   uint8\n",
      " 33  other_signators_none                                    1138 non-null   uint8\n",
      " 34  property_car or other                                   1138 non-null   uint8\n",
      " 35  property_real estate                                    1138 non-null   uint8\n",
      " 36  property_unknown-none                                   1138 non-null   uint8\n",
      " 37  other_credit_outstanding_none                           1138 non-null   uint8\n",
      " 38  other_credit_outstanding_stores                         1138 non-null   uint8\n",
      " 39  home_ownership_own                                      1138 non-null   uint8\n",
      " 40  home_ownership_rent                                     1138 non-null   uint8\n",
      " 41  job_category_skilled                                    1138 non-null   uint8\n",
      " 42  job_category_unemployed-unskilled-non-resident          1138 non-null   uint8\n",
      " 43  job_category_unskilled-resident                         1138 non-null   uint8\n",
      " 44  telephone_yes                                           1138 non-null   uint8\n",
      " 45  foreign_worker_yes                                      1138 non-null   uint8\n",
      "dtypes: int64(8), uint8(38)\n",
      "memory usage: 113.5 KB\n"
     ]
    }
   ],
   "source": [
    "# Aplicación de la función de usuario Dummies: one-hot encoding\n",
    "\n",
    "d =pd.get_dummies(d, drop_first=1)\n",
    "\n",
    "d.info()"
   ]
  },
  {
   "cell_type": "markdown",
   "metadata": {},
   "source": [
    "## 6. Creación del modelo"
   ]
  },
  {
   "cell_type": "markdown",
   "metadata": {},
   "source": [
    "### Dividir el conjunto de datos"
   ]
  },
  {
   "cell_type": "code",
   "execution_count": 15,
   "metadata": {},
   "outputs": [],
   "source": [
    "#Se crea una lista con todas las varibles de entrada\n",
    "\n",
    "vDep = list(d.columns)\n",
    "vDep.remove('bad_credit')\n",
    "\n",
    "#Se establece las variables de entrada 'X' y la variable de salida 'y'\n",
    "X = d.drop(columns ='bad_credit')\n",
    "y = d['bad_credit']"
   ]
  },
  {
   "cell_type": "code",
   "execution_count": 16,
   "metadata": {},
   "outputs": [],
   "source": [
    "# Se crean los datasets de entrenamiento y prueba para las variables de entrada y salida \n",
    "\n",
    "X_train, X_test, y_train, y_test = train_test_split(\n",
    "                                        X,\n",
    "                                        y.values.reshape(-1,1), \n",
    "                                        train_size   = 0.8,\n",
    "                                        random_state = 123,\n",
    "                                        shuffle      = True\n",
    "                                    )"
   ]
  },
  {
   "cell_type": "markdown",
   "metadata": {},
   "source": [
    "### Escalar Variables"
   ]
  },
  {
   "cell_type": "code",
   "execution_count": 17,
   "metadata": {},
   "outputs": [
    {
     "name": "stdout",
     "output_type": "stream",
     "text": [
      "['loan_duration_mo', 'loan_amount', 'payment_pcnt_income', 'time_in_residence', 'age_yrs', 'number_loans', 'dependents']\n"
     ]
    }
   ],
   "source": [
    "#Se establecen las variables numéricas a escalar\n",
    "\n",
    "#Num_vars se le asigna la lista con las variables numerivas para posteriormente escalarlas\n",
    "num_vars = numCols\n",
    "\n",
    "print(num_vars)"
   ]
  },
  {
   "cell_type": "code",
   "execution_count": 18,
   "metadata": {},
   "outputs": [
    {
     "data": {
      "text/html": [
       "<div>\n",
       "<style scoped>\n",
       "    .dataframe tbody tr th:only-of-type {\n",
       "        vertical-align: middle;\n",
       "    }\n",
       "\n",
       "    .dataframe tbody tr th {\n",
       "        vertical-align: top;\n",
       "    }\n",
       "\n",
       "    .dataframe thead th {\n",
       "        text-align: right;\n",
       "    }\n",
       "</style>\n",
       "<table border=\"1\" class=\"dataframe\">\n",
       "  <thead>\n",
       "    <tr style=\"text-align: right;\">\n",
       "      <th></th>\n",
       "      <th>loan_duration_mo</th>\n",
       "      <th>loan_amount</th>\n",
       "      <th>payment_pcnt_income</th>\n",
       "      <th>time_in_residence</th>\n",
       "      <th>age_yrs</th>\n",
       "      <th>number_loans</th>\n",
       "      <th>dependents</th>\n",
       "    </tr>\n",
       "  </thead>\n",
       "  <tbody>\n",
       "    <tr>\n",
       "      <th>9</th>\n",
       "      <td>0.0294</td>\n",
       "      <td>0.1319</td>\n",
       "      <td>0.3333</td>\n",
       "      <td>0.3333</td>\n",
       "      <td>0.1667</td>\n",
       "      <td>0.0000</td>\n",
       "      <td>0.0000</td>\n",
       "    </tr>\n",
       "    <tr>\n",
       "      <th>798</th>\n",
       "      <td>0.5588</td>\n",
       "      <td>0.5622</td>\n",
       "      <td>0.3333</td>\n",
       "      <td>1.0000</td>\n",
       "      <td>0.4630</td>\n",
       "      <td>0.0000</td>\n",
       "      <td>1.0000</td>\n",
       "    </tr>\n",
       "  </tbody>\n",
       "</table>\n",
       "</div>"
      ],
      "text/plain": [
       "     loan_duration_mo  loan_amount  payment_pcnt_income  time_in_residence  \\\n",
       "9              0.0294       0.1319               0.3333             0.3333   \n",
       "798            0.5588       0.5622               0.3333             1.0000   \n",
       "\n",
       "     age_yrs  number_loans  dependents  \n",
       "9     0.1667        0.0000      0.0000  \n",
       "798   0.4630        0.0000      1.0000  "
      ]
     },
     "execution_count": 18,
     "metadata": {},
     "output_type": "execute_result"
    }
   ],
   "source": [
    "#Escalar Variables númericas\n",
    "\n",
    "pd.set_option('display.float_format', lambda x: '%.4f' % x)\n",
    "\n",
    "# Se crea un objeto MinMaxScaler\n",
    "scaler = MinMaxScaler()\n",
    "\n",
    "# Se escalan los valores del dataset entrenamiento y prueba de las columnas numéricas\n",
    "X_train[num_vars] = scaler.fit_transform(X_train[num_vars])\n",
    "X_test[num_vars] = scaler.transform(X_test[num_vars])\n",
    "\n",
    "X_train[num_vars].head(2)"
   ]
  },
  {
   "cell_type": "markdown",
   "metadata": {
    "id": "zK4IvHnPQRoo"
   },
   "source": [
    "### Creación del modelo"
   ]
  },
  {
   "cell_type": "markdown",
   "metadata": {
    "id": "72gE0ecyQRoo"
   },
   "source": [
    "#### 6.1. Lineal y método de retención (*holdout method*)"
   ]
  },
  {
   "cell_type": "markdown",
   "metadata": {
    "id": "xnMisNTxQRoo"
   },
   "source": [
    "##### Creación y entrenamiento del modelo"
   ]
  },
  {
   "cell_type": "code",
   "execution_count": 19,
   "metadata": {
    "colab": {
     "base_uri": "https://localhost:8080/",
     "height": 235
    },
    "executionInfo": {
     "elapsed": 400,
     "status": "error",
     "timestamp": 1644637117574,
     "user": {
      "displayName": "Jorge Bedoya",
      "photoUrl": "https://lh3.googleusercontent.com/a/default-user=s64",
      "userId": "02105687072814835950"
     },
     "user_tz": 300
    },
    "id": "YuESNwqrQRop",
    "outputId": "2055f70e-32ff-4375-fd1b-320f3b35b31e"
   },
   "outputs": [
    {
     "data": {
      "text/html": [
       "<style>#sk-container-id-1 {color: black;background-color: white;}#sk-container-id-1 pre{padding: 0;}#sk-container-id-1 div.sk-toggleable {background-color: white;}#sk-container-id-1 label.sk-toggleable__label {cursor: pointer;display: block;width: 100%;margin-bottom: 0;padding: 0.3em;box-sizing: border-box;text-align: center;}#sk-container-id-1 label.sk-toggleable__label-arrow:before {content: \"▸\";float: left;margin-right: 0.25em;color: #696969;}#sk-container-id-1 label.sk-toggleable__label-arrow:hover:before {color: black;}#sk-container-id-1 div.sk-estimator:hover label.sk-toggleable__label-arrow:before {color: black;}#sk-container-id-1 div.sk-toggleable__content {max-height: 0;max-width: 0;overflow: hidden;text-align: left;background-color: #f0f8ff;}#sk-container-id-1 div.sk-toggleable__content pre {margin: 0.2em;color: black;border-radius: 0.25em;background-color: #f0f8ff;}#sk-container-id-1 input.sk-toggleable__control:checked~div.sk-toggleable__content {max-height: 200px;max-width: 100%;overflow: auto;}#sk-container-id-1 input.sk-toggleable__control:checked~label.sk-toggleable__label-arrow:before {content: \"▾\";}#sk-container-id-1 div.sk-estimator input.sk-toggleable__control:checked~label.sk-toggleable__label {background-color: #d4ebff;}#sk-container-id-1 div.sk-label input.sk-toggleable__control:checked~label.sk-toggleable__label {background-color: #d4ebff;}#sk-container-id-1 input.sk-hidden--visually {border: 0;clip: rect(1px 1px 1px 1px);clip: rect(1px, 1px, 1px, 1px);height: 1px;margin: -1px;overflow: hidden;padding: 0;position: absolute;width: 1px;}#sk-container-id-1 div.sk-estimator {font-family: monospace;background-color: #f0f8ff;border: 1px dotted black;border-radius: 0.25em;box-sizing: border-box;margin-bottom: 0.5em;}#sk-container-id-1 div.sk-estimator:hover {background-color: #d4ebff;}#sk-container-id-1 div.sk-parallel-item::after {content: \"\";width: 100%;border-bottom: 1px solid gray;flex-grow: 1;}#sk-container-id-1 div.sk-label:hover label.sk-toggleable__label {background-color: #d4ebff;}#sk-container-id-1 div.sk-serial::before {content: \"\";position: absolute;border-left: 1px solid gray;box-sizing: border-box;top: 0;bottom: 0;left: 50%;z-index: 0;}#sk-container-id-1 div.sk-serial {display: flex;flex-direction: column;align-items: center;background-color: white;padding-right: 0.2em;padding-left: 0.2em;position: relative;}#sk-container-id-1 div.sk-item {position: relative;z-index: 1;}#sk-container-id-1 div.sk-parallel {display: flex;align-items: stretch;justify-content: center;background-color: white;position: relative;}#sk-container-id-1 div.sk-item::before, #sk-container-id-1 div.sk-parallel-item::before {content: \"\";position: absolute;border-left: 1px solid gray;box-sizing: border-box;top: 0;bottom: 0;left: 50%;z-index: -1;}#sk-container-id-1 div.sk-parallel-item {display: flex;flex-direction: column;z-index: 1;position: relative;background-color: white;}#sk-container-id-1 div.sk-parallel-item:first-child::after {align-self: flex-end;width: 50%;}#sk-container-id-1 div.sk-parallel-item:last-child::after {align-self: flex-start;width: 50%;}#sk-container-id-1 div.sk-parallel-item:only-child::after {width: 0;}#sk-container-id-1 div.sk-dashed-wrapped {border: 1px dashed gray;margin: 0 0.4em 0.5em 0.4em;box-sizing: border-box;padding-bottom: 0.4em;background-color: white;}#sk-container-id-1 div.sk-label label {font-family: monospace;font-weight: bold;display: inline-block;line-height: 1.2em;}#sk-container-id-1 div.sk-label-container {text-align: center;}#sk-container-id-1 div.sk-container {/* jupyter's `normalize.less` sets `[hidden] { display: none; }` but bootstrap.min.css set `[hidden] { display: none !important; }` so we also need the `!important` here to be able to override the default hidden behavior on the sphinx rendered scikit-learn.org. See: https://github.com/scikit-learn/scikit-learn/issues/21755 */display: inline-block !important;position: relative;}#sk-container-id-1 div.sk-text-repr-fallback {display: none;}</style><div id=\"sk-container-id-1\" class=\"sk-top-container\"><div class=\"sk-text-repr-fallback\"><pre>SVC(kernel=&#x27;linear&#x27;)</pre><b>In a Jupyter environment, please rerun this cell to show the HTML representation or trust the notebook. <br />On GitHub, the HTML representation is unable to render, please try loading this page with nbviewer.org.</b></div><div class=\"sk-container\" hidden><div class=\"sk-item\"><div class=\"sk-estimator sk-toggleable\"><input class=\"sk-toggleable__control sk-hidden--visually\" id=\"sk-estimator-id-1\" type=\"checkbox\" checked><label for=\"sk-estimator-id-1\" class=\"sk-toggleable__label sk-toggleable__label-arrow\">SVC</label><div class=\"sk-toggleable__content\"><pre>SVC(kernel=&#x27;linear&#x27;)</pre></div></div></div></div></div>"
      ],
      "text/plain": [
       "SVC(kernel='linear')"
      ]
     },
     "execution_count": 19,
     "metadata": {},
     "output_type": "execute_result"
    }
   ],
   "source": [
    "#Creación del modelo \n",
    "\n",
    "modelSVC = svm.SVC(kernel='linear')\n",
    "\n",
    "#Entrenamiento del modelo con 80% de training\n",
    "modelSVC.fit(X_train, y_train)"
   ]
  },
  {
   "cell_type": "code",
   "execution_count": 20,
   "metadata": {
    "executionInfo": {
     "elapsed": 5,
     "status": "aborted",
     "timestamp": 1644637117570,
     "user": {
      "displayName": "Jorge Bedoya",
      "photoUrl": "https://lh3.googleusercontent.com/a/default-user=s64",
      "userId": "02105687072814835950"
     },
     "user_tz": 300
    },
    "id": "EmN0YsfOQRop"
   },
   "outputs": [],
   "source": [
    "y_pred = modelSVC.predict(X_test)"
   ]
  },
  {
   "cell_type": "markdown",
   "metadata": {
    "id": "d8t1666lQRop"
   },
   "source": [
    "##### Evaluación del modelo"
   ]
  },
  {
   "cell_type": "code",
   "execution_count": 21,
   "metadata": {
    "executionInfo": {
     "elapsed": 6,
     "status": "aborted",
     "timestamp": 1644637117571,
     "user": {
      "displayName": "Jorge Bedoya",
      "photoUrl": "https://lh3.googleusercontent.com/a/default-user=s64",
      "userId": "02105687072814835950"
     },
     "user_tz": 300
    },
    "id": "j1-cThoZQRop"
   },
   "outputs": [
    {
     "data": {
      "image/png": "[encoded data removed]",
      "text/plain": [
       "<Figure size 432x288 with 2 Axes>"
      ]
     },
     "metadata": {
      "needs_background": "light"
     },
     "output_type": "display_data"
    },
    {
     "name": "stdout",
     "output_type": "stream",
     "text": [
      "              precision    recall  f1-score   support\n",
      "\n",
      "           0       0.74      0.68      0.71       114\n",
      "           1       0.70      0.75      0.73       114\n",
      "\n",
      "    accuracy                           0.72       228\n",
      "   macro avg       0.72      0.72      0.72       228\n",
      "weighted avg       0.72      0.72      0.72       228\n",
      "\n"
     ]
    }
   ],
   "source": [
    "# Calcular la matriz de confusión\n",
    "cm = confusion_matrix(y_test, y_pred)\n",
    "\n",
    "# Crear la visualización de la matriz de confusión\n",
    "disp = ConfusionMatrixDisplay(confusion_matrix=cm, display_labels=np.unique(y_test))\n",
    "\n",
    "# Mostrar la visualización\n",
    "disp.plot(cmap='Blues')\n",
    "\n",
    "# Configurar el título\n",
    "plt.title('Modelo SVC')\n",
    "\n",
    "# Mostrar la figura\n",
    "plt.show()\n",
    "\n",
    "# Mostrar el informe de clasificación\n",
    "print(classification_report(y_test, y_pred))"
   ]
  },
  {
   "cell_type": "code",
   "execution_count": 22,
   "metadata": {
    "executionInfo": {
     "elapsed": 7,
     "status": "aborted",
     "timestamp": 1644637117572,
     "user": {
      "displayName": "Jorge Bedoya",
      "photoUrl": "https://lh3.googleusercontent.com/a/default-user=s64",
      "userId": "02105687072814835950"
     },
     "user_tz": 300
    },
    "id": "dld1NHpUQRop"
   },
   "outputs": [
    {
     "name": "stdout",
     "output_type": "stream",
     "text": [
      "f1-score: 0.7288135593220338\n"
     ]
    }
   ],
   "source": [
    "#f1-Score\n",
    "print(\"f1-score:\",metrics.f1_score(y_test, y_pred))"
   ]
  },
  {
   "cell_type": "code",
   "execution_count": 23,
   "metadata": {},
   "outputs": [],
   "source": [
    "#Crear un dataframe para guardar los resultados\n",
    "dfResults = pd.DataFrame(columns=['Tipo', 'f1-score'])\n",
    "\n",
    "\n",
    "dfResults = dfResults.append({'Tipo': 'Lineal y método de retención'\n",
    "                              , 'f1-score': metrics.f1_score(y_test, y_pred)}, ignore_index=True)"
   ]
  },
  {
   "cell_type": "code",
   "execution_count": 24,
   "metadata": {},
   "outputs": [
    {
     "data": {
      "text/html": [
       "<div>\n",
       "<style scoped>\n",
       "    .dataframe tbody tr th:only-of-type {\n",
       "        vertical-align: middle;\n",
       "    }\n",
       "\n",
       "    .dataframe tbody tr th {\n",
       "        vertical-align: top;\n",
       "    }\n",
       "\n",
       "    .dataframe thead th {\n",
       "        text-align: right;\n",
       "    }\n",
       "</style>\n",
       "<table border=\"1\" class=\"dataframe\">\n",
       "  <thead>\n",
       "    <tr style=\"text-align: right;\">\n",
       "      <th></th>\n",
       "      <th>Tipo</th>\n",
       "      <th>f1-score</th>\n",
       "    </tr>\n",
       "  </thead>\n",
       "  <tbody>\n",
       "    <tr>\n",
       "      <th>0</th>\n",
       "      <td>Lineal y método de retención</td>\n",
       "      <td>0.7288</td>\n",
       "    </tr>\n",
       "  </tbody>\n",
       "</table>\n",
       "</div>"
      ],
      "text/plain": [
       "                           Tipo  f1-score\n",
       "0  Lineal y método de retención    0.7288"
      ]
     },
     "execution_count": 24,
     "metadata": {},
     "output_type": "execute_result"
    }
   ],
   "source": [
    "dfResults"
   ]
  },
  {
   "cell_type": "markdown",
   "metadata": {
    "id": "EMNa3gMoQRoq"
   },
   "source": [
    "#### 6.2. Lineal y validación cruzada (*Cross validation*)"
   ]
  },
  {
   "cell_type": "markdown",
   "metadata": {
    "id": "EwtIPSCfQRoq"
   },
   "source": [
    "##### Creación y entrenamiento del modelo"
   ]
  },
  {
   "cell_type": "code",
   "execution_count": 25,
   "metadata": {},
   "outputs": [],
   "source": [
    "#Se establece las variables de entrada 'X' y la variable de salida 'y'\n",
    "\n",
    "X = d.drop(columns ='bad_credit')\n",
    "y = d['bad_credit']\n",
    "\n",
    "# la validación cruzada se realiza sobre todo el dataset\n",
    "X_Completo = X\n",
    "y_Completo = y"
   ]
  },
  {
   "cell_type": "code",
   "execution_count": 26,
   "metadata": {},
   "outputs": [
    {
     "data": {
      "text/html": [
       "<div>\n",
       "<style scoped>\n",
       "    .dataframe tbody tr th:only-of-type {\n",
       "        vertical-align: middle;\n",
       "    }\n",
       "\n",
       "    .dataframe tbody tr th {\n",
       "        vertical-align: top;\n",
       "    }\n",
       "\n",
       "    .dataframe thead th {\n",
       "        text-align: right;\n",
       "    }\n",
       "</style>\n",
       "<table border=\"1\" class=\"dataframe\">\n",
       "  <thead>\n",
       "    <tr style=\"text-align: right;\">\n",
       "      <th></th>\n",
       "      <th>loan_duration_mo</th>\n",
       "      <th>loan_amount</th>\n",
       "      <th>payment_pcnt_income</th>\n",
       "      <th>time_in_residence</th>\n",
       "      <th>age_yrs</th>\n",
       "      <th>number_loans</th>\n",
       "      <th>dependents</th>\n",
       "    </tr>\n",
       "  </thead>\n",
       "  <tbody>\n",
       "    <tr>\n",
       "      <th>0</th>\n",
       "      <td>0.1176</td>\n",
       "      <td>0.2356</td>\n",
       "      <td>0.6667</td>\n",
       "      <td>0.3333</td>\n",
       "      <td>0.1667</td>\n",
       "      <td>0.3333</td>\n",
       "      <td>0.0000</td>\n",
       "    </tr>\n",
       "    <tr>\n",
       "      <th>1</th>\n",
       "      <td>0.1176</td>\n",
       "      <td>0.0619</td>\n",
       "      <td>1.0000</td>\n",
       "      <td>0.6667</td>\n",
       "      <td>0.1296</td>\n",
       "      <td>0.0000</td>\n",
       "      <td>0.0000</td>\n",
       "    </tr>\n",
       "    <tr>\n",
       "      <th>2</th>\n",
       "      <td>0.2941</td>\n",
       "      <td>0.1487</td>\n",
       "      <td>1.0000</td>\n",
       "      <td>0.3333</td>\n",
       "      <td>0.1667</td>\n",
       "      <td>0.0000</td>\n",
       "      <td>0.0000</td>\n",
       "    </tr>\n",
       "    <tr>\n",
       "      <th>3</th>\n",
       "      <td>0.0735</td>\n",
       "      <td>0.0783</td>\n",
       "      <td>1.0000</td>\n",
       "      <td>0.3333</td>\n",
       "      <td>0.1111</td>\n",
       "      <td>0.0000</td>\n",
       "      <td>0.0000</td>\n",
       "    </tr>\n",
       "    <tr>\n",
       "      <th>4</th>\n",
       "      <td>0.3382</td>\n",
       "      <td>0.6167</td>\n",
       "      <td>0.3333</td>\n",
       "      <td>0.3333</td>\n",
       "      <td>0.1296</td>\n",
       "      <td>0.3333</td>\n",
       "      <td>0.0000</td>\n",
       "    </tr>\n",
       "  </tbody>\n",
       "</table>\n",
       "</div>"
      ],
      "text/plain": [
       "   loan_duration_mo  loan_amount  payment_pcnt_income  time_in_residence  \\\n",
       "0            0.1176       0.2356               0.6667             0.3333   \n",
       "1            0.1176       0.0619               1.0000             0.6667   \n",
       "2            0.2941       0.1487               1.0000             0.3333   \n",
       "3            0.0735       0.0783               1.0000             0.3333   \n",
       "4            0.3382       0.6167               0.3333             0.3333   \n",
       "\n",
       "   age_yrs  number_loans  dependents  \n",
       "0   0.1667        0.3333      0.0000  \n",
       "1   0.1296        0.0000      0.0000  \n",
       "2   0.1667        0.0000      0.0000  \n",
       "3   0.1111        0.0000      0.0000  \n",
       "4   0.1296        0.3333      0.0000  "
      ]
     },
     "execution_count": 26,
     "metadata": {},
     "output_type": "execute_result"
    }
   ],
   "source": [
    "#Se establecen las variables numéricas a escalar\n",
    "\n",
    "#Num_vars se le asigna la lista con las variables numerivas para posteriormente escalarlas\n",
    "num_vars = numCols\n",
    "\n",
    "# Se crea un objeto MinMaxScaler\n",
    "scaler = MinMaxScaler()\n",
    "\n",
    "# Se escalan los valores del dataset entrenamiento y prueba de las columnas numéricas\n",
    "X_Completo[num_vars] = scaler.fit_transform(X_Completo[num_vars])\n",
    "\n",
    "X_Completo[num_vars].head()"
   ]
  },
  {
   "cell_type": "code",
   "execution_count": 27,
   "metadata": {},
   "outputs": [
    {
     "data": {
      "text/plain": [
       "['./modelos/scaler/minmaxFull_GermanCredits.pkl']"
      ]
     },
     "execution_count": 27,
     "metadata": {},
     "output_type": "execute_result"
    }
   ],
   "source": [
    "# Guardar el scaler\n",
    "joblib.dump(scaler, './modelos/scaler/minmaxFull_GermanCredits.pkl')"
   ]
  },
  {
   "cell_type": "code",
   "execution_count": 28,
   "metadata": {
    "executionInfo": {
     "elapsed": 7,
     "status": "aborted",
     "timestamp": 1644637117573,
     "user": {
      "displayName": "Jorge Bedoya",
      "photoUrl": "https://lh3.googleusercontent.com/a/default-user=s64",
      "userId": "02105687072814835950"
     },
     "user_tz": 300
    },
    "id": "hZSAgBfiQRoq"
   },
   "outputs": [],
   "source": [
    "CV = 10 #Folks:  Pliegues\n",
    "scoring = 'f1'\n",
    "\n",
    "\n",
    "entries = []\n",
    "accuracies = cross_val_score(modelSVC, X_Completo, y_Completo, cv=CV, scoring=scoring)\n",
    "\n",
    "for fold_idx, accuracy in enumerate(accuracies):\n",
    "    entries.append(( fold_idx, accuracy))\n",
    "cv_df = pd.DataFrame(entries, columns=['fold_idx', 'f1-Score'])"
   ]
  },
  {
   "cell_type": "markdown",
   "metadata": {
    "id": "q1thQiluQRor"
   },
   "source": [
    "#### Evaluación del modelo"
   ]
  },
  {
   "cell_type": "code",
   "execution_count": 29,
   "metadata": {
    "executionInfo": {
     "elapsed": 8,
     "status": "aborted",
     "timestamp": 1644637117574,
     "user": {
      "displayName": "Jorge Bedoya",
      "photoUrl": "https://lh3.googleusercontent.com/a/default-user=s64",
      "userId": "02105687072814835950"
     },
     "user_tz": 300
    },
    "id": "9Cy5P0NYQRor"
   },
   "outputs": [
    {
     "name": "stdout",
     "output_type": "stream",
     "text": [
      "   fold_idx  f1-Score\n",
      "0         0    0.7200\n",
      "1         1    0.7965\n",
      "2         2    0.7652\n",
      "3         3    0.7027\n",
      "4         4    0.7290\n",
      "5         5    0.7000\n",
      "6         6    0.7563\n",
      "7         7    0.7559\n",
      "8         8    0.7478\n",
      "9         9    0.7627\n",
      "f1-score: 0.7436098217797752\n"
     ]
    }
   ],
   "source": [
    "print(cv_df)\n",
    "print('f1-score:', cv_df['f1-Score'].mean())"
   ]
  },
  {
   "cell_type": "markdown",
   "metadata": {
    "id": "hEPyi5SgQRor"
   },
   "source": [
    "### 7. Afinando el modelo (tuning)"
   ]
  },
  {
   "cell_type": "markdown",
   "metadata": {
    "id": "EeTSrSR2QRor"
   },
   "source": [
    "Entre sus parámetros, encontramos:\n",
    "\n",
    "- C: parámetro de regularización.\n",
    "- kernel: especifica el tipo de kernel usado por el algoritmo (lineal, polinómico, radial, etc.).\n",
    "- degree: grado de la función con kernel polinómico.\n",
    "- gamma: coeficiente del kernel para ‘rbf’, ‘poly’ y ‘sigmoid’.\n",
    "- probability: indica si se permite la estimación de probabilidades.\n",
    "- max_iter: límite de iteraciones.\n",
    "- decision_function_shape: permite establecer el método one-vs-one o one-vs-all.\n",
    "- random_state: semilla para el generador de número pseudoaleatorios."
   ]
  },
  {
   "cell_type": "markdown",
   "metadata": {
    "id": "ZiR8vzsrQRor"
   },
   "source": [
    "El parámetro \"C\" es el inverso del parámetro λ de regularización por lo cual, si tenemos un valor alto de nuestro parámetro tendremos una mayor varianza y la regularización será menor, mientras que por el contrario, si tenemos un valor bajo, tendremos un mayor efecto de la regularización. Ver: https://dzone.com/articles/support-vector-machines-tutorial"
   ]
  },
  {
   "cell_type": "markdown",
   "metadata": {
    "id": "azD73oedQRor"
   },
   "source": [
    "#### 7.1. Lineal e hiperparámetro *C*  (con validación cruzada - *Cross validation*)"
   ]
  },
  {
   "cell_type": "markdown",
   "metadata": {
    "id": "2v-XO_2iQRos"
   },
   "source": [
    "##### Identificacion del mejor hiperparametro *C*"
   ]
  },
  {
   "cell_type": "code",
   "execution_count": 30,
   "metadata": {
    "colab": {
     "base_uri": "https://localhost:8080/"
    },
    "executionInfo": {
     "elapsed": 9625,
     "status": "ok",
     "timestamp": 1612413006050,
     "user": {
      "displayName": "JORGE ALONSO BEDOYA PUERTA",
      "photoUrl": "",
      "userId": "14875356627137784897"
     },
     "user_tz": 300
    },
    "id": "dXHeatBFQRos",
    "outputId": "1b0f9aa7-baae-4255-f914-a7cae257dc6c",
    "scrolled": true
   },
   "outputs": [
    {
     "name": "stdout",
     "output_type": "stream",
     "text": [
      "Fitting 10 folds for each of 12 candidates, totalling 120 fits\n",
      "[CV 1/10] END ......C=0.001;, score=(train=0.732, test=0.733) total time=   0.9s\n",
      "[CV 2/10] END ......C=0.001;, score=(train=0.724, test=0.783) total time=   1.0s\n",
      "[CV 3/10] END ......C=0.001;, score=(train=0.732, test=0.712) total time=   0.8s\n",
      "[CV 4/10] END ......C=0.001;, score=(train=0.735, test=0.683) total time=   0.9s\n",
      "[CV 5/10] END ......C=0.001;, score=(train=0.730, test=0.661) total time=   0.7s\n",
      "[CV 6/10] END ......C=0.001;, score=(train=0.732, test=0.704) total time=   0.8s\n",
      "[CV 7/10] END ......C=0.001;, score=(train=0.725, test=0.760) total time=   0.8s\n",
      "[CV 8/10] END ......C=0.001;, score=(train=0.731, test=0.729) total time=   0.7s\n",
      "[CV 9/10] END ......C=0.001;, score=(train=0.000, test=0.000) total time=   0.7s\n",
      "[CV 10/10] END .....C=0.001;, score=(train=0.667, test=0.663) total time=   0.8s\n",
      "[CV 1/10] END .......C=0.01;, score=(train=0.720, test=0.740) total time=   0.6s\n",
      "[CV 2/10] END .......C=0.01;, score=(train=0.729, test=0.761) total time=   0.7s\n",
      "[CV 3/10] END .......C=0.01;, score=(train=0.728, test=0.696) total time=   0.9s\n",
      "[CV 4/10] END .......C=0.01;, score=(train=0.732, test=0.699) total time=   0.6s\n",
      "[CV 5/10] END .......C=0.01;, score=(train=0.734, test=0.667) total time=   0.7s\n",
      "[CV 6/10] END .......C=0.01;, score=(train=0.727, test=0.694) total time=   0.7s\n",
      "[CV 7/10] END .......C=0.01;, score=(train=0.725, test=0.754) total time=   0.6s\n",
      "[CV 8/10] END .......C=0.01;, score=(train=0.732, test=0.698) total time=   0.6s\n",
      "[CV 9/10] END .......C=0.01;, score=(train=0.727, test=0.729) total time=   0.6s\n",
      "[CV 10/10] END ......C=0.01;, score=(train=0.724, test=0.715) total time=   0.5s\n",
      "[CV 1/10] END ........C=0.1;, score=(train=0.747, test=0.724) total time=   0.5s\n",
      "[CV 2/10] END ........C=0.1;, score=(train=0.742, test=0.771) total time=   0.5s\n",
      "[CV 3/10] END ........C=0.1;, score=(train=0.760, test=0.772) total time=   0.5s\n",
      "[CV 4/10] END ........C=0.1;, score=(train=0.743, test=0.696) total time=   0.5s\n",
      "[CV 5/10] END ........C=0.1;, score=(train=0.746, test=0.685) total time=   0.5s\n",
      "[CV 6/10] END ........C=0.1;, score=(train=0.755, test=0.700) total time=   0.5s\n",
      "[CV 7/10] END ........C=0.1;, score=(train=0.740, test=0.746) total time=   0.5s\n",
      "[CV 8/10] END ........C=0.1;, score=(train=0.748, test=0.726) total time=   0.5s\n",
      "[CV 9/10] END ........C=0.1;, score=(train=0.743, test=0.759) total time=   0.5s\n",
      "[CV 10/10] END .......C=0.1;, score=(train=0.745, test=0.717) total time=   0.5s\n",
      "[CV 1/10] END ........C=0.3;, score=(train=0.758, test=0.730) total time=   0.5s\n",
      "[CV 2/10] END ........C=0.3;, score=(train=0.766, test=0.783) total time=   0.5s\n",
      "[CV 3/10] END ........C=0.3;, score=(train=0.767, test=0.759) total time=   0.6s\n",
      "[CV 4/10] END ........C=0.3;, score=(train=0.767, test=0.703) total time=   0.5s\n",
      "[CV 5/10] END ........C=0.3;, score=(train=0.763, test=0.696) total time=   0.9s\n",
      "[CV 6/10] END ........C=0.3;, score=(train=0.764, test=0.678) total time=   0.7s\n",
      "[CV 7/10] END ........C=0.3;, score=(train=0.753, test=0.750) total time=   0.7s\n",
      "[CV 8/10] END ........C=0.3;, score=(train=0.762, test=0.756) total time=   0.6s\n",
      "[CV 9/10] END ........C=0.3;, score=(train=0.755, test=0.741) total time=   0.6s\n",
      "[CV 10/10] END .......C=0.3;, score=(train=0.764, test=0.733) total time=   0.6s\n",
      "[CV 1/10] END ........C=0.5;, score=(train=0.758, test=0.720) total time=   0.6s\n",
      "[CV 2/10] END ........C=0.5;, score=(train=0.768, test=0.789) total time=   0.6s\n",
      "[CV 3/10] END ........C=0.5;, score=(train=0.764, test=0.754) total time=   0.6s\n",
      "[CV 4/10] END ........C=0.5;, score=(train=0.766, test=0.703) total time=   0.7s\n",
      "[CV 5/10] END ........C=0.5;, score=(train=0.763, test=0.716) total time=   0.5s\n",
      "[CV 6/10] END ........C=0.5;, score=(train=0.774, test=0.700) total time=   0.6s\n",
      "[CV 7/10] END ........C=0.5;, score=(train=0.760, test=0.756) total time=   0.6s\n",
      "[CV 8/10] END ........C=0.5;, score=(train=0.757, test=0.750) total time=   0.6s\n",
      "[CV 9/10] END ........C=0.5;, score=(train=0.756, test=0.737) total time=   0.7s\n",
      "[CV 10/10] END .......C=0.5;, score=(train=0.767, test=0.739) total time=   0.6s\n",
      "[CV 1/10] END ..........C=1;, score=(train=0.763, test=0.720) total time=   0.8s\n",
      "[CV 2/10] END ..........C=1;, score=(train=0.771, test=0.796) total time=   0.8s\n",
      "[CV 3/10] END ..........C=1;, score=(train=0.775, test=0.765) total time=   0.7s\n",
      "[CV 4/10] END ..........C=1;, score=(train=0.759, test=0.703) total time=   0.8s\n",
      "[CV 5/10] END ..........C=1;, score=(train=0.761, test=0.729) total time=   0.8s\n",
      "[CV 6/10] END ..........C=1;, score=(train=0.777, test=0.700) total time=   0.7s\n",
      "[CV 7/10] END ..........C=1;, score=(train=0.759, test=0.756) total time=   0.7s\n",
      "[CV 8/10] END ..........C=1;, score=(train=0.767, test=0.756) total time=   0.7s\n",
      "[CV 9/10] END ..........C=1;, score=(train=0.759, test=0.748) total time=   0.7s\n",
      "[CV 10/10] END .........C=1;, score=(train=0.769, test=0.763) total time=   0.6s\n",
      "[CV 1/10] END ..........C=2;, score=(train=0.762, test=0.732) total time=   1.1s\n",
      "[CV 2/10] END ..........C=2;, score=(train=0.773, test=0.789) total time=   1.2s\n",
      "[CV 3/10] END ..........C=2;, score=(train=0.774, test=0.759) total time=   1.1s\n",
      "[CV 4/10] END ..........C=2;, score=(train=0.763, test=0.709) total time=   1.2s\n",
      "[CV 5/10] END ..........C=2;, score=(train=0.753, test=0.729) total time=   1.1s\n",
      "[CV 6/10] END ..........C=2;, score=(train=0.779, test=0.706) total time=   1.2s\n",
      "[CV 7/10] END ..........C=2;, score=(train=0.769, test=0.750) total time=   1.3s\n",
      "[CV 8/10] END ..........C=2;, score=(train=0.768, test=0.746) total time=   1.5s\n",
      "[CV 9/10] END ..........C=2;, score=(train=0.758, test=0.754) total time=   1.3s\n",
      "[CV 10/10] END .........C=2;, score=(train=0.769, test=0.763) total time=   1.4s\n",
      "[CV 1/10] END ..........C=3;, score=(train=0.762, test=0.726) total time=   1.7s\n",
      "[CV 2/10] END ..........C=3;, score=(train=0.775, test=0.789) total time=   1.6s\n",
      "[CV 3/10] END ..........C=3;, score=(train=0.770, test=0.737) total time=   1.4s\n",
      "[CV 4/10] END ..........C=3;, score=(train=0.764, test=0.709) total time=   1.5s\n",
      "[CV 5/10] END ..........C=3;, score=(train=0.760, test=0.729) total time=   1.3s\n",
      "[CV 6/10] END ..........C=3;, score=(train=0.781, test=0.701) total time=   1.5s\n",
      "[CV 7/10] END ..........C=3;, score=(train=0.767, test=0.750) total time=   1.6s\n",
      "[CV 8/10] END ..........C=3;, score=(train=0.772, test=0.746) total time=   1.5s\n",
      "[CV 9/10] END ..........C=3;, score=(train=0.761, test=0.754) total time=   1.5s\n",
      "[CV 10/10] END .........C=3;, score=(train=0.772, test=0.756) total time=   1.4s\n",
      "[CV 1/10] END ..........C=4;, score=(train=0.760, test=0.726) total time=   1.6s\n",
      "[CV 2/10] END ..........C=4;, score=(train=0.775, test=0.789) total time=   1.5s\n",
      "[CV 3/10] END ..........C=4;, score=(train=0.769, test=0.748) total time=   1.7s\n",
      "[CV 4/10] END ..........C=4;, score=(train=0.764, test=0.709) total time=   1.7s\n",
      "[CV 5/10] END ..........C=4;, score=(train=0.763, test=0.722) total time=   1.8s\n",
      "[CV 6/10] END ..........C=4;, score=(train=0.781, test=0.701) total time=   1.8s\n",
      "[CV 7/10] END ..........C=4;, score=(train=0.767, test=0.750) total time=   2.0s\n",
      "[CV 8/10] END ..........C=4;, score=(train=0.772, test=0.746) total time=   1.8s\n",
      "[CV 9/10] END ..........C=4;, score=(train=0.768, test=0.765) total time=   1.9s\n",
      "[CV 10/10] END .........C=4;, score=(train=0.772, test=0.756) total time=   1.6s\n",
      "[CV 1/10] END ..........C=5;, score=(train=0.758, test=0.720) total time=   1.8s\n",
      "[CV 2/10] END ..........C=5;, score=(train=0.775, test=0.789) total time=   2.1s\n",
      "[CV 3/10] END ..........C=5;, score=(train=0.770, test=0.748) total time=   1.7s\n",
      "[CV 4/10] END ..........C=5;, score=(train=0.766, test=0.709) total time=   2.1s\n",
      "[CV 5/10] END ..........C=5;, score=(train=0.763, test=0.722) total time=   1.9s\n",
      "[CV 6/10] END ..........C=5;, score=(train=0.784, test=0.712) total time=   1.5s\n",
      "[CV 7/10] END ..........C=5;, score=(train=0.767, test=0.750) total time=   2.0s\n",
      "[CV 8/10] END ..........C=5;, score=(train=0.771, test=0.746) total time=   1.5s\n",
      "[CV 9/10] END ..........C=5;, score=(train=0.767, test=0.754) total time=   1.9s\n",
      "[CV 10/10] END .........C=5;, score=(train=0.774, test=0.756) total time=   2.0s\n",
      "[CV 1/10] END ..........C=7;, score=(train=0.757, test=0.720) total time=   2.5s\n"
     ]
    },
    {
     "name": "stdout",
     "output_type": "stream",
     "text": [
      "[CV 2/10] END ..........C=7;, score=(train=0.765, test=0.789) total time=   2.5s\n",
      "[CV 3/10] END ..........C=7;, score=(train=0.773, test=0.748) total time=   1.7s\n",
      "[CV 4/10] END ..........C=7;, score=(train=0.765, test=0.709) total time=   2.1s\n",
      "[CV 5/10] END ..........C=7;, score=(train=0.763, test=0.722) total time=   1.9s\n",
      "[CV 6/10] END ..........C=7;, score=(train=0.785, test=0.712) total time=   1.7s\n",
      "[CV 7/10] END ..........C=7;, score=(train=0.770, test=0.750) total time=   1.9s\n",
      "[CV 8/10] END ..........C=7;, score=(train=0.772, test=0.740) total time=   1.8s\n",
      "[CV 9/10] END ..........C=7;, score=(train=0.769, test=0.765) total time=   2.2s\n",
      "[CV 10/10] END .........C=7;, score=(train=0.773, test=0.752) total time=   2.0s\n",
      "[CV 1/10] END .........C=10;, score=(train=0.761, test=0.720) total time=   2.5s\n",
      "[CV 2/10] END .........C=10;, score=(train=0.767, test=0.789) total time=   2.6s\n",
      "[CV 3/10] END .........C=10;, score=(train=0.778, test=0.759) total time=   2.6s\n",
      "[CV 4/10] END .........C=10;, score=(train=0.765, test=0.709) total time=   3.5s\n",
      "[CV 5/10] END .........C=10;, score=(train=0.764, test=0.722) total time=   2.5s\n",
      "[CV 6/10] END .........C=10;, score=(train=0.771, test=0.684) total time=   2.3s\n",
      "[CV 7/10] END .........C=10;, score=(train=0.770, test=0.750) total time=   3.0s\n",
      "[CV 8/10] END .........C=10;, score=(train=0.772, test=0.740) total time=   2.8s\n",
      "[CV 9/10] END .........C=10;, score=(train=0.768, test=0.765) total time=   3.1s\n",
      "[CV 10/10] END ........C=10;, score=(train=0.771, test=0.739) total time=   2.9s\n"
     ]
    },
    {
     "data": {
      "text/html": [
       "<style>#sk-container-id-2 {color: black;background-color: white;}#sk-container-id-2 pre{padding: 0;}#sk-container-id-2 div.sk-toggleable {background-color: white;}#sk-container-id-2 label.sk-toggleable__label {cursor: pointer;display: block;width: 100%;margin-bottom: 0;padding: 0.3em;box-sizing: border-box;text-align: center;}#sk-container-id-2 label.sk-toggleable__label-arrow:before {content: \"▸\";float: left;margin-right: 0.25em;color: #696969;}#sk-container-id-2 label.sk-toggleable__label-arrow:hover:before {color: black;}#sk-container-id-2 div.sk-estimator:hover label.sk-toggleable__label-arrow:before {color: black;}#sk-container-id-2 div.sk-toggleable__content {max-height: 0;max-width: 0;overflow: hidden;text-align: left;background-color: #f0f8ff;}#sk-container-id-2 div.sk-toggleable__content pre {margin: 0.2em;color: black;border-radius: 0.25em;background-color: #f0f8ff;}#sk-container-id-2 input.sk-toggleable__control:checked~div.sk-toggleable__content {max-height: 200px;max-width: 100%;overflow: auto;}#sk-container-id-2 input.sk-toggleable__control:checked~label.sk-toggleable__label-arrow:before {content: \"▾\";}#sk-container-id-2 div.sk-estimator input.sk-toggleable__control:checked~label.sk-toggleable__label {background-color: #d4ebff;}#sk-container-id-2 div.sk-label input.sk-toggleable__control:checked~label.sk-toggleable__label {background-color: #d4ebff;}#sk-container-id-2 input.sk-hidden--visually {border: 0;clip: rect(1px 1px 1px 1px);clip: rect(1px, 1px, 1px, 1px);height: 1px;margin: -1px;overflow: hidden;padding: 0;position: absolute;width: 1px;}#sk-container-id-2 div.sk-estimator {font-family: monospace;background-color: #f0f8ff;border: 1px dotted black;border-radius: 0.25em;box-sizing: border-box;margin-bottom: 0.5em;}#sk-container-id-2 div.sk-estimator:hover {background-color: #d4ebff;}#sk-container-id-2 div.sk-parallel-item::after {content: \"\";width: 100%;border-bottom: 1px solid gray;flex-grow: 1;}#sk-container-id-2 div.sk-label:hover label.sk-toggleable__label {background-color: #d4ebff;}#sk-container-id-2 div.sk-serial::before {content: \"\";position: absolute;border-left: 1px solid gray;box-sizing: border-box;top: 0;bottom: 0;left: 50%;z-index: 0;}#sk-container-id-2 div.sk-serial {display: flex;flex-direction: column;align-items: center;background-color: white;padding-right: 0.2em;padding-left: 0.2em;position: relative;}#sk-container-id-2 div.sk-item {position: relative;z-index: 1;}#sk-container-id-2 div.sk-parallel {display: flex;align-items: stretch;justify-content: center;background-color: white;position: relative;}#sk-container-id-2 div.sk-item::before, #sk-container-id-2 div.sk-parallel-item::before {content: \"\";position: absolute;border-left: 1px solid gray;box-sizing: border-box;top: 0;bottom: 0;left: 50%;z-index: -1;}#sk-container-id-2 div.sk-parallel-item {display: flex;flex-direction: column;z-index: 1;position: relative;background-color: white;}#sk-container-id-2 div.sk-parallel-item:first-child::after {align-self: flex-end;width: 50%;}#sk-container-id-2 div.sk-parallel-item:last-child::after {align-self: flex-start;width: 50%;}#sk-container-id-2 div.sk-parallel-item:only-child::after {width: 0;}#sk-container-id-2 div.sk-dashed-wrapped {border: 1px dashed gray;margin: 0 0.4em 0.5em 0.4em;box-sizing: border-box;padding-bottom: 0.4em;background-color: white;}#sk-container-id-2 div.sk-label label {font-family: monospace;font-weight: bold;display: inline-block;line-height: 1.2em;}#sk-container-id-2 div.sk-label-container {text-align: center;}#sk-container-id-2 div.sk-container {/* jupyter's `normalize.less` sets `[hidden] { display: none; }` but bootstrap.min.css set `[hidden] { display: none !important; }` so we also need the `!important` here to be able to override the default hidden behavior on the sphinx rendered scikit-learn.org. See: https://github.com/scikit-learn/scikit-learn/issues/21755 */display: inline-block !important;position: relative;}#sk-container-id-2 div.sk-text-repr-fallback {display: none;}</style><div id=\"sk-container-id-2\" class=\"sk-top-container\"><div class=\"sk-text-repr-fallback\"><pre>GridSearchCV(cv=10,\n",
       "             estimator=SVC(kernel=&#x27;linear&#x27;, probability=True, random_state=0),\n",
       "             param_grid={&#x27;C&#x27;: [0.001, 0.01, 0.1, 0.3, 0.5, 1, 2, 3, 4, 5, 7,\n",
       "                               10]},\n",
       "             return_train_score=True, scoring=&#x27;f1&#x27;, verbose=4)</pre><b>In a Jupyter environment, please rerun this cell to show the HTML representation or trust the notebook. <br />On GitHub, the HTML representation is unable to render, please try loading this page with nbviewer.org.</b></div><div class=\"sk-container\" hidden><div class=\"sk-item sk-dashed-wrapped\"><div class=\"sk-label-container\"><div class=\"sk-label sk-toggleable\"><input class=\"sk-toggleable__control sk-hidden--visually\" id=\"sk-estimator-id-2\" type=\"checkbox\" ><label for=\"sk-estimator-id-2\" class=\"sk-toggleable__label sk-toggleable__label-arrow\">GridSearchCV</label><div class=\"sk-toggleable__content\"><pre>GridSearchCV(cv=10,\n",
       "             estimator=SVC(kernel=&#x27;linear&#x27;, probability=True, random_state=0),\n",
       "             param_grid={&#x27;C&#x27;: [0.001, 0.01, 0.1, 0.3, 0.5, 1, 2, 3, 4, 5, 7,\n",
       "                               10]},\n",
       "             return_train_score=True, scoring=&#x27;f1&#x27;, verbose=4)</pre></div></div></div><div class=\"sk-parallel\"><div class=\"sk-parallel-item\"><div class=\"sk-item\"><div class=\"sk-label-container\"><div class=\"sk-label sk-toggleable\"><input class=\"sk-toggleable__control sk-hidden--visually\" id=\"sk-estimator-id-3\" type=\"checkbox\" ><label for=\"sk-estimator-id-3\" class=\"sk-toggleable__label sk-toggleable__label-arrow\">estimator: SVC</label><div class=\"sk-toggleable__content\"><pre>SVC(kernel=&#x27;linear&#x27;, probability=True, random_state=0)</pre></div></div></div><div class=\"sk-serial\"><div class=\"sk-item\"><div class=\"sk-estimator sk-toggleable\"><input class=\"sk-toggleable__control sk-hidden--visually\" id=\"sk-estimator-id-4\" type=\"checkbox\" ><label for=\"sk-estimator-id-4\" class=\"sk-toggleable__label sk-toggleable__label-arrow\">SVC</label><div class=\"sk-toggleable__content\"><pre>SVC(kernel=&#x27;linear&#x27;, probability=True, random_state=0)</pre></div></div></div></div></div></div></div></div></div></div>"
      ],
      "text/plain": [
       "GridSearchCV(cv=10,\n",
       "             estimator=SVC(kernel='linear', probability=True, random_state=0),\n",
       "             param_grid={'C': [0.001, 0.01, 0.1, 0.3, 0.5, 1, 2, 3, 4, 5, 7,\n",
       "                               10]},\n",
       "             return_train_score=True, scoring='f1', verbose=4)"
      ]
     },
     "execution_count": 30,
     "metadata": {},
     "output_type": "execute_result"
    }
   ],
   "source": [
    "#Definicion del modelo\n",
    "modelsvmL = svm.SVC(kernel='linear', probability = True, random_state = 0)\n",
    "\n",
    "# Establecemos un grid con los valores de coste que queremos evaluar\n",
    "grid_hiperparametros = {'C': [0.001, 0.01, 0.1, 0.3, 0.5, 1, 2, 3, 4, 5, 7, 10]} \n",
    "\n",
    "# definicion de la variable con el número de pliegues\n",
    "CV = 10\n",
    "\n",
    "# las metricas sobre las se evaluará el modelo\n",
    "scoring = 'f1'\n",
    "\n",
    "# Definimos la busqueda mediante 10-fold CV\n",
    "grid_svmL = GridSearchCV(estimator = modelsvmL\n",
    "                             , param_grid = grid_hiperparametros \n",
    "                             , cv = CV\n",
    "                             , scoring = scoring\n",
    "                             , return_train_score = True\n",
    "                             , verbose=4)\n",
    "\n",
    "\n",
    "\n",
    "# Aplicamos la busqueda\n",
    "grid_svmL.fit(X_Completo, y_Completo)\n",
    "\n",
    "#gridsvmL.cv_results_.keys()"
   ]
  },
  {
   "cell_type": "code",
   "execution_count": 31,
   "metadata": {},
   "outputs": [
    {
     "data": {
      "text/html": [
       "<div>\n",
       "<style scoped>\n",
       "    .dataframe tbody tr th:only-of-type {\n",
       "        vertical-align: middle;\n",
       "    }\n",
       "\n",
       "    .dataframe tbody tr th {\n",
       "        vertical-align: top;\n",
       "    }\n",
       "\n",
       "    .dataframe thead th {\n",
       "        text-align: right;\n",
       "    }\n",
       "</style>\n",
       "<table border=\"1\" class=\"dataframe\">\n",
       "  <thead>\n",
       "    <tr style=\"text-align: right;\">\n",
       "      <th></th>\n",
       "      <th>param_C</th>\n",
       "      <th>mean_test_score</th>\n",
       "      <th>std_test_score</th>\n",
       "      <th>mean_train_score</th>\n",
       "      <th>std_train_score</th>\n",
       "    </tr>\n",
       "  </thead>\n",
       "  <tbody>\n",
       "    <tr>\n",
       "      <th>6</th>\n",
       "      <td>2</td>\n",
       "      <td>0.7437</td>\n",
       "      <td>0.0241</td>\n",
       "      <td>0.7668</td>\n",
       "      <td>0.0075</td>\n",
       "    </tr>\n",
       "    <tr>\n",
       "      <th>5</th>\n",
       "      <td>1</td>\n",
       "      <td>0.7436</td>\n",
       "      <td>0.0288</td>\n",
       "      <td>0.7662</td>\n",
       "      <td>0.0064</td>\n",
       "    </tr>\n",
       "    <tr>\n",
       "      <th>8</th>\n",
       "      <td>4</td>\n",
       "      <td>0.7413</td>\n",
       "      <td>0.0256</td>\n",
       "      <td>0.7692</td>\n",
       "      <td>0.0059</td>\n",
       "    </tr>\n",
       "    <tr>\n",
       "      <th>10</th>\n",
       "      <td>7</td>\n",
       "      <td>0.7408</td>\n",
       "      <td>0.0242</td>\n",
       "      <td>0.7691</td>\n",
       "      <td>0.0070</td>\n",
       "    </tr>\n",
       "  </tbody>\n",
       "</table>\n",
       "</div>"
      ],
      "text/plain": [
       "   param_C  mean_test_score  std_test_score  mean_train_score  std_train_score\n",
       "6        2           0.7437          0.0241            0.7668           0.0075\n",
       "5        1           0.7436          0.0288            0.7662           0.0064\n",
       "8        4           0.7413          0.0256            0.7692           0.0059\n",
       "10       7           0.7408          0.0242            0.7691           0.0070"
      ]
     },
     "execution_count": 31,
     "metadata": {},
     "output_type": "execute_result"
    }
   ],
   "source": [
    "# Resultados\n",
    "resultados = pd.DataFrame(grid_svmL.cv_results_)\n",
    "resultados.filter(regex = '(param.*|mean_t|std_t)') \\\n",
    "    .drop(columns = 'params') \\\n",
    "    .sort_values('mean_test_score', ascending = False) \\\n",
    "    .head(4)"
   ]
  },
  {
   "cell_type": "code",
   "execution_count": 32,
   "metadata": {},
   "outputs": [
    {
     "name": "stdout",
     "output_type": "stream",
     "text": [
      "   param_C  mean_test_score  std_test_score  scoreWithStd\n",
      "0   0.0010           0.6426          0.2174        2.9556\n",
      "1   0.0100           0.7154          0.0285       25.0754\n",
      "2   0.1000           0.7295          0.0296       24.6163\n",
      "3   0.3000           0.7329          0.0305       24.0414\n",
      "4   0.5000           0.7365          0.0263       28.0509\n",
      "5        1           0.7436          0.0288       25.8081\n",
      "6        2           0.7437          0.0241       30.8075\n",
      "7        3           0.7398          0.0242       30.5156\n",
      "8        4           0.7413          0.0256       28.9959\n",
      "9        5           0.7407          0.0236       31.3688\n",
      "10       7           0.7408          0.0242       30.6314\n",
      "11      10           0.7378          0.0288       25.5839\n"
     ]
    }
   ],
   "source": [
    "# Obtener los resultados del grid search\n",
    "results_grid_svmL = pd.DataFrame(grid_svmL.cv_results_)\n",
    "\n",
    "# Seleccionar las columnas deseadas\n",
    "columns_grid_svmL = ['param_C']  + \\\n",
    "                    ['mean_test_score', 'std_test_score']  + \\\n",
    "                    [f'split{i}_test_score' for i in range(CV)]\n",
    "\n",
    "# Filtrar y mostrar los resultados\n",
    "results_grid_svmL_filtered = results_grid_svmL[columns_grid_svmL]\n",
    "\n",
    "# Crear la columna scoreWithStd: f1 / std\n",
    "results_grid_svmL_filtered['scoreWithStd'] = results_grid_svmL_filtered.apply(\n",
    "    lambda row: row['mean_test_score'] / row['std_test_score'] if row['std_test_score'] != 0 else 0,\n",
    "    axis=1\n",
    ")\n",
    "\n",
    "# Encuentra el índice del máximo valor en la columna scoreWithStd\n",
    "indice_max_scoreWithStd = results_grid_svmL_filtered['scoreWithStd'].idxmax()\n",
    "\n",
    "# Mostrar los scores promedios por cada parámetro\n",
    "print(results_grid_svmL_filtered[['param_C', 'mean_test_score', 'std_test_score', 'scoreWithStd']])"
   ]
  },
  {
   "cell_type": "code",
   "execution_count": 33,
   "metadata": {},
   "outputs": [
    {
     "data": {
      "text/html": [
       "<div>\n",
       "<style scoped>\n",
       "    .dataframe tbody tr th:only-of-type {\n",
       "        vertical-align: middle;\n",
       "    }\n",
       "\n",
       "    .dataframe tbody tr th {\n",
       "        vertical-align: top;\n",
       "    }\n",
       "\n",
       "    .dataframe thead th {\n",
       "        text-align: right;\n",
       "    }\n",
       "</style>\n",
       "<table border=\"1\" class=\"dataframe\">\n",
       "  <thead>\n",
       "    <tr style=\"text-align: right;\">\n",
       "      <th></th>\n",
       "      <th>param_C</th>\n",
       "      <th>mean_test_score</th>\n",
       "      <th>std_test_score</th>\n",
       "      <th>scoreWithStd</th>\n",
       "    </tr>\n",
       "  </thead>\n",
       "  <tbody>\n",
       "    <tr>\n",
       "      <th>9</th>\n",
       "      <td>5</td>\n",
       "      <td>0.7407</td>\n",
       "      <td>0.0236</td>\n",
       "      <td>31.3688</td>\n",
       "    </tr>\n",
       "    <tr>\n",
       "      <th>6</th>\n",
       "      <td>2</td>\n",
       "      <td>0.7437</td>\n",
       "      <td>0.0241</td>\n",
       "      <td>30.8075</td>\n",
       "    </tr>\n",
       "    <tr>\n",
       "      <th>10</th>\n",
       "      <td>7</td>\n",
       "      <td>0.7408</td>\n",
       "      <td>0.0242</td>\n",
       "      <td>30.6314</td>\n",
       "    </tr>\n",
       "  </tbody>\n",
       "</table>\n",
       "</div>"
      ],
      "text/plain": [
       "   param_C  mean_test_score  std_test_score  scoreWithStd\n",
       "9        5           0.7407          0.0236       31.3688\n",
       "6        2           0.7437          0.0241       30.8075\n",
       "10       7           0.7408          0.0242       30.6314"
      ]
     },
     "execution_count": 33,
     "metadata": {},
     "output_type": "execute_result"
    }
   ],
   "source": [
    "# Top 3 de los mejores scores\n",
    "results_grid_svmL_filtered.sort_values(by='scoreWithStd', ascending=False).head(3)[\n",
    "    ['param_C',  'mean_test_score', 'std_test_score', 'scoreWithStd']]"
   ]
  },
  {
   "cell_type": "markdown",
   "metadata": {},
   "source": [
    "#### Evaluación del modelo"
   ]
  },
  {
   "cell_type": "code",
   "execution_count": 34,
   "metadata": {},
   "outputs": [
    {
     "data": {
      "text/plain": [
       "param_C                   5\n",
       "mean_test_score      0.7407\n",
       "std_test_score       0.0236\n",
       "split0_test_score    0.7200\n",
       "split1_test_score    0.7895\n",
       "split2_test_score    0.7478\n",
       "split3_test_score    0.7091\n",
       "split4_test_score    0.7222\n",
       "split5_test_score    0.7119\n",
       "split6_test_score    0.7500\n",
       "split7_test_score    0.7460\n",
       "split8_test_score    0.7544\n",
       "split9_test_score    0.7563\n",
       "scoreWithStd        31.3688\n",
       "Name: 9, dtype: object"
      ]
     },
     "execution_count": 34,
     "metadata": {},
     "output_type": "execute_result"
    }
   ],
   "source": [
    "# Seleccionar el registro correspondiente al índice máximo\n",
    "registro_max_scoreWithStd = results_grid_svmL_filtered.loc[indice_max_scoreWithStd]\n",
    "\n",
    "registro_max_scoreWithStd.transpose()"
   ]
  },
  {
   "cell_type": "code",
   "execution_count": 35,
   "metadata": {},
   "outputs": [
    {
     "data": {
      "text/html": [
       "<div>\n",
       "<style scoped>\n",
       "    .dataframe tbody tr th:only-of-type {\n",
       "        vertical-align: middle;\n",
       "    }\n",
       "\n",
       "    .dataframe tbody tr th {\n",
       "        vertical-align: top;\n",
       "    }\n",
       "\n",
       "    .dataframe thead th {\n",
       "        text-align: right;\n",
       "    }\n",
       "</style>\n",
       "<table border=\"1\" class=\"dataframe\">\n",
       "  <thead>\n",
       "    <tr style=\"text-align: right;\">\n",
       "      <th></th>\n",
       "      <th>Tipo</th>\n",
       "      <th>f1-score</th>\n",
       "    </tr>\n",
       "  </thead>\n",
       "  <tbody>\n",
       "    <tr>\n",
       "      <th>0</th>\n",
       "      <td>Lineal y método de retención</td>\n",
       "      <td>0.7288</td>\n",
       "    </tr>\n",
       "    <tr>\n",
       "      <th>0</th>\n",
       "      <td>Lineal e hiperparámetro C con validación cruzada</td>\n",
       "      <td>0.7407</td>\n",
       "    </tr>\n",
       "  </tbody>\n",
       "</table>\n",
       "</div>"
      ],
      "text/plain": [
       "                                               Tipo  f1-score\n",
       "0                      Lineal y método de retención    0.7288\n",
       "0  Lineal e hiperparámetro C con validación cruzada    0.7407"
      ]
     },
     "execution_count": 35,
     "metadata": {},
     "output_type": "execute_result"
    }
   ],
   "source": [
    "# Guardar los resultados en el dataframe de resultados \n",
    "dfResults = dfResults.append(pd.DataFrame(\n",
    "                {'Tipo': ['Lineal e hiperparámetro C con validación cruzada'],\n",
    "                 'f1-score':results_grid_svmL_filtered.loc[indice_max_scoreWithStd]['mean_test_score']}))\n",
    "dfResults"
   ]
  },
  {
   "cell_type": "markdown",
   "metadata": {},
   "source": [
    "#### Creación del modelo final"
   ]
  },
  {
   "cell_type": "code",
   "execution_count": 36,
   "metadata": {},
   "outputs": [
    {
     "data": {
      "text/html": [
       "<style>#sk-container-id-3 {color: black;background-color: white;}#sk-container-id-3 pre{padding: 0;}#sk-container-id-3 div.sk-toggleable {background-color: white;}#sk-container-id-3 label.sk-toggleable__label {cursor: pointer;display: block;width: 100%;margin-bottom: 0;padding: 0.3em;box-sizing: border-box;text-align: center;}#sk-container-id-3 label.sk-toggleable__label-arrow:before {content: \"▸\";float: left;margin-right: 0.25em;color: #696969;}#sk-container-id-3 label.sk-toggleable__label-arrow:hover:before {color: black;}#sk-container-id-3 div.sk-estimator:hover label.sk-toggleable__label-arrow:before {color: black;}#sk-container-id-3 div.sk-toggleable__content {max-height: 0;max-width: 0;overflow: hidden;text-align: left;background-color: #f0f8ff;}#sk-container-id-3 div.sk-toggleable__content pre {margin: 0.2em;color: black;border-radius: 0.25em;background-color: #f0f8ff;}#sk-container-id-3 input.sk-toggleable__control:checked~div.sk-toggleable__content {max-height: 200px;max-width: 100%;overflow: auto;}#sk-container-id-3 input.sk-toggleable__control:checked~label.sk-toggleable__label-arrow:before {content: \"▾\";}#sk-container-id-3 div.sk-estimator input.sk-toggleable__control:checked~label.sk-toggleable__label {background-color: #d4ebff;}#sk-container-id-3 div.sk-label input.sk-toggleable__control:checked~label.sk-toggleable__label {background-color: #d4ebff;}#sk-container-id-3 input.sk-hidden--visually {border: 0;clip: rect(1px 1px 1px 1px);clip: rect(1px, 1px, 1px, 1px);height: 1px;margin: -1px;overflow: hidden;padding: 0;position: absolute;width: 1px;}#sk-container-id-3 div.sk-estimator {font-family: monospace;background-color: #f0f8ff;border: 1px dotted black;border-radius: 0.25em;box-sizing: border-box;margin-bottom: 0.5em;}#sk-container-id-3 div.sk-estimator:hover {background-color: #d4ebff;}#sk-container-id-3 div.sk-parallel-item::after {content: \"\";width: 100%;border-bottom: 1px solid gray;flex-grow: 1;}#sk-container-id-3 div.sk-label:hover label.sk-toggleable__label {background-color: #d4ebff;}#sk-container-id-3 div.sk-serial::before {content: \"\";position: absolute;border-left: 1px solid gray;box-sizing: border-box;top: 0;bottom: 0;left: 50%;z-index: 0;}#sk-container-id-3 div.sk-serial {display: flex;flex-direction: column;align-items: center;background-color: white;padding-right: 0.2em;padding-left: 0.2em;position: relative;}#sk-container-id-3 div.sk-item {position: relative;z-index: 1;}#sk-container-id-3 div.sk-parallel {display: flex;align-items: stretch;justify-content: center;background-color: white;position: relative;}#sk-container-id-3 div.sk-item::before, #sk-container-id-3 div.sk-parallel-item::before {content: \"\";position: absolute;border-left: 1px solid gray;box-sizing: border-box;top: 0;bottom: 0;left: 50%;z-index: -1;}#sk-container-id-3 div.sk-parallel-item {display: flex;flex-direction: column;z-index: 1;position: relative;background-color: white;}#sk-container-id-3 div.sk-parallel-item:first-child::after {align-self: flex-end;width: 50%;}#sk-container-id-3 div.sk-parallel-item:last-child::after {align-self: flex-start;width: 50%;}#sk-container-id-3 div.sk-parallel-item:only-child::after {width: 0;}#sk-container-id-3 div.sk-dashed-wrapped {border: 1px dashed gray;margin: 0 0.4em 0.5em 0.4em;box-sizing: border-box;padding-bottom: 0.4em;background-color: white;}#sk-container-id-3 div.sk-label label {font-family: monospace;font-weight: bold;display: inline-block;line-height: 1.2em;}#sk-container-id-3 div.sk-label-container {text-align: center;}#sk-container-id-3 div.sk-container {/* jupyter's `normalize.less` sets `[hidden] { display: none; }` but bootstrap.min.css set `[hidden] { display: none !important; }` so we also need the `!important` here to be able to override the default hidden behavior on the sphinx rendered scikit-learn.org. See: https://github.com/scikit-learn/scikit-learn/issues/21755 */display: inline-block !important;position: relative;}#sk-container-id-3 div.sk-text-repr-fallback {display: none;}</style><div id=\"sk-container-id-3\" class=\"sk-top-container\"><div class=\"sk-text-repr-fallback\"><pre>SVC(C=5, kernel=&#x27;linear&#x27;, probability=True, random_state=0)</pre><b>In a Jupyter environment, please rerun this cell to show the HTML representation or trust the notebook. <br />On GitHub, the HTML representation is unable to render, please try loading this page with nbviewer.org.</b></div><div class=\"sk-container\" hidden><div class=\"sk-item\"><div class=\"sk-estimator sk-toggleable\"><input class=\"sk-toggleable__control sk-hidden--visually\" id=\"sk-estimator-id-5\" type=\"checkbox\" checked><label for=\"sk-estimator-id-5\" class=\"sk-toggleable__label sk-toggleable__label-arrow\">SVC</label><div class=\"sk-toggleable__content\"><pre>SVC(C=5, kernel=&#x27;linear&#x27;, probability=True, random_state=0)</pre></div></div></div></div></div>"
      ],
      "text/plain": [
       "SVC(C=5, kernel='linear', probability=True, random_state=0)"
      ]
     },
     "execution_count": 36,
     "metadata": {},
     "output_type": "execute_result"
    }
   ],
   "source": [
    "# Usar los mejores parámetros para crear el modelo\n",
    "modelsvmL.set_params(kernel='linear'\n",
    "                     , C = results_grid_svmL_filtered.loc[indice_max_scoreWithStd]['param_C'])\n",
    "\n",
    "modelsvmL.fit(X_Completo, y_Completo)"
   ]
  },
  {
   "cell_type": "markdown",
   "metadata": {
    "id": "uqmDeS6uQRov"
   },
   "source": [
    "#### 7.2. Polinómico e hiperparámetros: *C* y *degree*  (con validación cruzada  - *Cross validation*)"
   ]
  },
  {
   "cell_type": "markdown",
   "metadata": {
    "id": "LQ9wiUEBQRov"
   },
   "source": [
    "##### Identificación del mejor hiperparametro *C* y *degree*"
   ]
  },
  {
   "cell_type": "code",
   "execution_count": 37,
   "metadata": {
    "colab": {
     "base_uri": "https://localhost:8080/"
    },
    "executionInfo": {
     "elapsed": 13804,
     "status": "ok",
     "timestamp": 1612413373629,
     "user": {
      "displayName": "JORGE ALONSO BEDOYA PUERTA",
      "photoUrl": "",
      "userId": "14875356627137784897"
     },
     "user_tz": 300
    },
    "id": "DuEZbZp8QRov",
    "outputId": "ddb9be17-9bd8-4536-848a-6e8315c0b6cb",
    "scrolled": true
   },
   "outputs": [
    {
     "name": "stdout",
     "output_type": "stream",
     "text": [
      "Fitting 10 folds for each of 24 candidates, totalling 240 fits\n",
      "[CV 1/10] END C=0.001, degree=2;, score=(train=0.735, test=0.705) total time=   0.6s\n",
      "[CV 2/10] END C=0.001, degree=2;, score=(train=0.721, test=0.779) total time=   0.5s\n",
      "[CV 3/10] END C=0.001, degree=2;, score=(train=0.735, test=0.736) total time=   0.6s\n",
      "[CV 4/10] END C=0.001, degree=2;, score=(train=0.735, test=0.692) total time=   0.6s\n",
      "[CV 5/10] END C=0.001, degree=2;, score=(train=0.740, test=0.650) total time=   0.6s\n",
      "[CV 6/10] END C=0.001, degree=2;, score=(train=0.739, test=0.687) total time=   0.5s\n",
      "[CV 7/10] END C=0.001, degree=2;, score=(train=0.730, test=0.776) total time=   0.5s\n",
      "[CV 8/10] END C=0.001, degree=2;, score=(train=0.734, test=0.707) total time=   0.5s\n",
      "[CV 9/10] END C=0.001, degree=2;, score=(train=0.000, test=0.000) total time=   0.6s\n",
      "[CV 10/10] END C=0.001, degree=2;, score=(train=0.667, test=0.663) total time=   0.5s\n",
      "[CV 1/10] END C=0.001, degree=3;, score=(train=0.734, test=0.699) total time=   0.6s\n",
      "[CV 2/10] END C=0.001, degree=3;, score=(train=0.734, test=0.778) total time=   0.5s\n",
      "[CV 3/10] END C=0.001, degree=3;, score=(train=0.721, test=0.756) total time=   0.5s\n",
      "[CV 4/10] END C=0.001, degree=3;, score=(train=0.738, test=0.699) total time=   0.5s\n",
      "[CV 5/10] END C=0.001, degree=3;, score=(train=0.734, test=0.691) total time=   0.5s\n",
      "[CV 6/10] END C=0.001, degree=3;, score=(train=0.739, test=0.699) total time=   0.6s\n",
      "[CV 7/10] END C=0.001, degree=3;, score=(train=0.737, test=0.731) total time=   0.5s\n",
      "[CV 8/10] END C=0.001, degree=3;, score=(train=0.729, test=0.763) total time=   0.6s\n",
      "[CV 9/10] END C=0.001, degree=3;, score=(train=0.000, test=0.000) total time=   0.6s\n",
      "[CV 10/10] END C=0.001, degree=3;, score=(train=0.667, test=0.663) total time=   0.6s\n",
      "[CV 1/10] END C=0.01, degree=2;, score=(train=0.736, test=0.705) total time=   0.6s\n",
      "[CV 2/10] END C=0.01, degree=2;, score=(train=0.721, test=0.779) total time=   0.6s\n",
      "[CV 3/10] END C=0.01, degree=2;, score=(train=0.735, test=0.721) total time=   0.6s\n",
      "[CV 4/10] END C=0.01, degree=2;, score=(train=0.736, test=0.708) total time=   0.6s\n",
      "[CV 5/10] END C=0.01, degree=2;, score=(train=0.743, test=0.672) total time=   0.6s\n",
      "[CV 6/10] END C=0.01, degree=2;, score=(train=0.739, test=0.688) total time=   0.5s\n",
      "[CV 7/10] END C=0.01, degree=2;, score=(train=0.728, test=0.763) total time=   0.6s\n",
      "[CV 8/10] END C=0.01, degree=2;, score=(train=0.738, test=0.723) total time=   0.8s\n",
      "[CV 9/10] END C=0.01, degree=2;, score=(train=0.722, test=0.738) total time=   0.5s\n",
      "[CV 10/10] END C=0.01, degree=2;, score=(train=0.735, test=0.723) total time=   0.6s\n",
      "[CV 1/10] END C=0.01, degree=3;, score=(train=0.751, test=0.719) total time=   0.6s\n",
      "[CV 2/10] END C=0.01, degree=3;, score=(train=0.730, test=0.779) total time=   0.6s\n",
      "[CV 3/10] END C=0.01, degree=3;, score=(train=0.732, test=0.718) total time=   0.7s\n",
      "[CV 4/10] END C=0.01, degree=3;, score=(train=0.749, test=0.727) total time=   0.6s\n",
      "[CV 5/10] END C=0.01, degree=3;, score=(train=0.742, test=0.661) total time=   0.5s\n",
      "[CV 6/10] END C=0.01, degree=3;, score=(train=0.753, test=0.688) total time=   0.5s\n",
      "[CV 7/10] END C=0.01, degree=3;, score=(train=0.741, test=0.752) total time=   0.7s\n",
      "[CV 8/10] END C=0.01, degree=3;, score=(train=0.742, test=0.718) total time=   0.7s\n",
      "[CV 9/10] END C=0.01, degree=3;, score=(train=0.745, test=0.752) total time=   0.6s\n",
      "[CV 10/10] END C=0.01, degree=3;, score=(train=0.745, test=0.733) total time=   0.7s\n",
      "[CV 1/10] END C=0.1, degree=2;, score=(train=0.751, test=0.744) total time=   0.5s\n",
      "[CV 2/10] END C=0.1, degree=2;, score=(train=0.744, test=0.775) total time=   0.5s\n",
      "[CV 3/10] END C=0.1, degree=2;, score=(train=0.748, test=0.696) total time=   0.6s\n",
      "[CV 4/10] END C=0.1, degree=2;, score=(train=0.753, test=0.684) total time=   0.5s\n",
      "[CV 5/10] END C=0.1, degree=2;, score=(train=0.748, test=0.707) total time=   0.5s\n",
      "[CV 6/10] END C=0.1, degree=2;, score=(train=0.767, test=0.699) total time=   0.5s\n",
      "[CV 7/10] END C=0.1, degree=2;, score=(train=0.745, test=0.773) total time=   0.5s\n",
      "[CV 8/10] END C=0.1, degree=2;, score=(train=0.760, test=0.720) total time=   0.4s\n",
      "[CV 9/10] END C=0.1, degree=2;, score=(train=0.757, test=0.752) total time=   0.4s\n",
      "[CV 10/10] END C=0.1, degree=2;, score=(train=0.751, test=0.738) total time=   0.5s\n",
      "[CV 1/10] END C=0.1, degree=3;, score=(train=0.797, test=0.762) total time=   0.4s\n",
      "[CV 2/10] END C=0.1, degree=3;, score=(train=0.797, test=0.779) total time=   0.4s\n",
      "[CV 3/10] END C=0.1, degree=3;, score=(train=0.792, test=0.726) total time=   0.4s\n",
      "[CV 4/10] END C=0.1, degree=3;, score=(train=0.789, test=0.718) total time=   0.5s\n",
      "[CV 5/10] END C=0.1, degree=3;, score=(train=0.787, test=0.741) total time=   0.4s\n",
      "[CV 6/10] END C=0.1, degree=3;, score=(train=0.800, test=0.723) total time=   0.4s\n",
      "[CV 7/10] END C=0.1, degree=3;, score=(train=0.790, test=0.787) total time=   0.4s\n",
      "[CV 8/10] END C=0.1, degree=3;, score=(train=0.795, test=0.758) total time=   0.4s\n",
      "[CV 9/10] END C=0.1, degree=3;, score=(train=0.792, test=0.750) total time=   0.5s\n",
      "[CV 10/10] END C=0.1, degree=3;, score=(train=0.793, test=0.770) total time=   0.5s\n",
      "[CV 1/10] END C=0.3, degree=2;, score=(train=0.786, test=0.752) total time=   0.5s\n",
      "[CV 2/10] END C=0.3, degree=2;, score=(train=0.781, test=0.779) total time=   0.5s\n",
      "[CV 3/10] END C=0.3, degree=2;, score=(train=0.783, test=0.743) total time=   0.4s\n",
      "[CV 4/10] END C=0.3, degree=2;, score=(train=0.776, test=0.703) total time=   0.4s\n",
      "[CV 5/10] END C=0.3, degree=2;, score=(train=0.777, test=0.713) total time=   0.4s\n",
      "[CV 6/10] END C=0.3, degree=2;, score=(train=0.799, test=0.689) total time=   0.4s\n",
      "[CV 7/10] END C=0.3, degree=2;, score=(train=0.786, test=0.752) total time=   0.5s\n",
      "[CV 8/10] END C=0.3, degree=2;, score=(train=0.780, test=0.760) total time=   0.4s\n",
      "[CV 9/10] END C=0.3, degree=2;, score=(train=0.785, test=0.750) total time=   0.5s\n",
      "[CV 10/10] END C=0.3, degree=2;, score=(train=0.792, test=0.767) total time=   0.5s\n",
      "[CV 1/10] END C=0.3, degree=3;, score=(train=0.850, test=0.746) total time=   0.5s\n",
      "[CV 2/10] END C=0.3, degree=3;, score=(train=0.853, test=0.779) total time=   0.4s\n",
      "[CV 3/10] END C=0.3, degree=3;, score=(train=0.845, test=0.752) total time=   0.4s\n",
      "[CV 4/10] END C=0.3, degree=3;, score=(train=0.856, test=0.732) total time=   0.4s\n",
      "[CV 5/10] END C=0.3, degree=3;, score=(train=0.834, test=0.773) total time=   0.5s\n",
      "[CV 6/10] END C=0.3, degree=3;, score=(train=0.843, test=0.696) total time=   0.4s\n",
      "[CV 7/10] END C=0.3, degree=3;, score=(train=0.848, test=0.744) total time=   0.5s\n",
      "[CV 8/10] END C=0.3, degree=3;, score=(train=0.851, test=0.812) total time=   0.4s\n",
      "[CV 9/10] END C=0.3, degree=3;, score=(train=0.848, test=0.797) total time=   0.6s\n",
      "[CV 10/10] END C=0.3, degree=3;, score=(train=0.851, test=0.790) total time=   0.5s\n",
      "[CV 1/10] END C=0.5, degree=2;, score=(train=0.808, test=0.736) total time=   0.5s\n",
      "[CV 2/10] END C=0.5, degree=2;, score=(train=0.804, test=0.768) total time=   0.5s\n",
      "[CV 3/10] END C=0.5, degree=2;, score=(train=0.814, test=0.737) total time=   0.5s\n",
      "[CV 4/10] END C=0.5, degree=2;, score=(train=0.814, test=0.739) total time=   0.5s\n",
      "[CV 5/10] END C=0.5, degree=2;, score=(train=0.798, test=0.752) total time=   0.4s\n",
      "[CV 6/10] END C=0.5, degree=2;, score=(train=0.818, test=0.713) total time=   0.4s\n",
      "[CV 7/10] END C=0.5, degree=2;, score=(train=0.808, test=0.760) total time=   0.5s\n",
      "[CV 8/10] END C=0.5, degree=2;, score=(train=0.809, test=0.758) total time=   0.5s\n",
      "[CV 9/10] END C=0.5, degree=2;, score=(train=0.809, test=0.752) total time=   0.5s\n",
      "[CV 10/10] END C=0.5, degree=2;, score=(train=0.808, test=0.780) total time=   0.4s\n",
      "[CV 1/10] END C=0.5, degree=3;, score=(train=0.888, test=0.778) total time=   0.4s\n",
      "[CV 2/10] END C=0.5, degree=3;, score=(train=0.877, test=0.748) total time=   0.4s\n",
      "[CV 3/10] END C=0.5, degree=3;, score=(train=0.880, test=0.748) total time=   0.5s\n",
      "[CV 4/10] END C=0.5, degree=3;, score=(train=0.894, test=0.696) total time=   0.5s\n",
      "[CV 5/10] END C=0.5, degree=3;, score=(train=0.874, test=0.790) total time=   0.6s\n",
      "[CV 6/10] END C=0.5, degree=3;, score=(train=0.874, test=0.719) total time=   0.6s\n",
      "[CV 7/10] END C=0.5, degree=3;, score=(train=0.878, test=0.750) total time=   0.4s\n",
      "[CV 8/10] END C=0.5, degree=3;, score=(train=0.887, test=0.822) total time=   0.4s\n"
     ]
    },
    {
     "name": "stdout",
     "output_type": "stream",
     "text": [
      "[CV 9/10] END C=0.5, degree=3;, score=(train=0.876, test=0.807) total time=   0.4s\n",
      "[CV 10/10] END C=0.5, degree=3;, score=(train=0.886, test=0.803) total time=   0.4s\n",
      "[CV 1/10] END C=1, degree=2;, score=(train=0.840, test=0.764) total time=   0.4s\n",
      "[CV 2/10] END C=1, degree=2;, score=(train=0.838, test=0.782) total time=   0.5s\n",
      "[CV 3/10] END C=1, degree=2;, score=(train=0.836, test=0.737) total time=   0.5s\n",
      "[CV 4/10] END C=1, degree=2;, score=(train=0.845, test=0.716) total time=   0.5s\n",
      "[CV 5/10] END C=1, degree=2;, score=(train=0.839, test=0.793) total time=   0.6s\n",
      "[CV 6/10] END C=1, degree=2;, score=(train=0.837, test=0.702) total time=   0.4s\n",
      "[CV 7/10] END C=1, degree=2;, score=(train=0.849, test=0.739) total time=   0.4s\n",
      "[CV 8/10] END C=1, degree=2;, score=(train=0.840, test=0.780) total time=   0.4s\n",
      "[CV 9/10] END C=1, degree=2;, score=(train=0.838, test=0.772) total time=   0.4s\n",
      "[CV 10/10] END C=1, degree=2;, score=(train=0.835, test=0.790) total time=   0.4s\n",
      "[CV 1/10] END C=1, degree=3;, score=(train=0.939, test=0.784) total time=   0.5s\n",
      "[CV 2/10] END C=1, degree=3;, score=(train=0.932, test=0.739) total time=   0.5s\n",
      "[CV 3/10] END C=1, degree=3;, score=(train=0.935, test=0.789) total time=   0.6s\n",
      "[CV 4/10] END C=1, degree=3;, score=(train=0.931, test=0.761) total time=   0.5s\n",
      "[CV 5/10] END C=1, degree=3;, score=(train=0.921, test=0.789) total time=   0.4s\n",
      "[CV 6/10] END C=1, degree=3;, score=(train=0.918, test=0.786) total time=   0.4s\n",
      "[CV 7/10] END C=1, degree=3;, score=(train=0.933, test=0.783) total time=   0.5s\n",
      "[CV 8/10] END C=1, degree=3;, score=(train=0.933, test=0.841) total time=   0.5s\n",
      "[CV 9/10] END C=1, degree=3;, score=(train=0.928, test=0.833) total time=   0.5s\n",
      "[CV 10/10] END C=1, degree=3;, score=(train=0.927, test=0.823) total time=   0.4s\n",
      "[CV 1/10] END C=2, degree=2;, score=(train=0.875, test=0.758) total time=   0.4s\n",
      "[CV 2/10] END C=2, degree=2;, score=(train=0.867, test=0.752) total time=   0.5s\n",
      "[CV 3/10] END C=2, degree=2;, score=(train=0.874, test=0.761) total time=   0.5s\n",
      "[CV 4/10] END C=2, degree=2;, score=(train=0.881, test=0.703) total time=   0.5s\n",
      "[CV 5/10] END C=2, degree=2;, score=(train=0.867, test=0.765) total time=   0.5s\n",
      "[CV 6/10] END C=2, degree=2;, score=(train=0.877, test=0.737) total time=   0.5s\n",
      "[CV 7/10] END C=2, degree=2;, score=(train=0.882, test=0.765) total time=   0.5s\n",
      "[CV 8/10] END C=2, degree=2;, score=(train=0.889, test=0.825) total time=   0.4s\n",
      "[CV 9/10] END C=2, degree=2;, score=(train=0.872, test=0.800) total time=   0.4s\n",
      "[CV 10/10] END C=2, degree=2;, score=(train=0.887, test=0.820) total time=   0.6s\n",
      "[CV 1/10] END C=2, degree=3;, score=(train=0.969, test=0.781) total time=   0.6s\n",
      "[CV 2/10] END C=2, degree=3;, score=(train=0.965, test=0.739) total time=   0.5s\n",
      "[CV 3/10] END C=2, degree=3;, score=(train=0.971, test=0.810) total time=   0.5s\n",
      "[CV 4/10] END C=2, degree=3;, score=(train=0.964, test=0.797) total time=   0.5s\n",
      "[CV 5/10] END C=2, degree=3;, score=(train=0.957, test=0.810) total time=   0.6s\n",
      "[CV 6/10] END C=2, degree=3;, score=(train=0.964, test=0.843) total time=   0.5s\n",
      "[CV 7/10] END C=2, degree=3;, score=(train=0.967, test=0.860) total time=   0.6s\n",
      "[CV 8/10] END C=2, degree=3;, score=(train=0.966, test=0.855) total time=   0.5s\n",
      "[CV 9/10] END C=2, degree=3;, score=(train=0.969, test=0.873) total time=   0.5s\n",
      "[CV 10/10] END C=2, degree=3;, score=(train=0.967, test=0.857) total time=   0.5s\n",
      "[CV 1/10] END C=3, degree=2;, score=(train=0.895, test=0.748) total time=   0.5s\n",
      "[CV 2/10] END C=3, degree=2;, score=(train=0.895, test=0.726) total time=   0.5s\n",
      "[CV 3/10] END C=3, degree=2;, score=(train=0.907, test=0.789) total time=   0.5s\n",
      "[CV 4/10] END C=3, degree=2;, score=(train=0.895, test=0.708) total time=   0.5s\n",
      "[CV 5/10] END C=3, degree=2;, score=(train=0.892, test=0.786) total time=   0.6s\n",
      "[CV 6/10] END C=3, degree=2;, score=(train=0.899, test=0.756) total time=   0.5s\n",
      "[CV 7/10] END C=3, degree=2;, score=(train=0.897, test=0.796) total time=   0.5s\n",
      "[CV 8/10] END C=3, degree=2;, score=(train=0.901, test=0.816) total time=   0.5s\n",
      "[CV 9/10] END C=3, degree=2;, score=(train=0.902, test=0.810) total time=   0.5s\n",
      "[CV 10/10] END C=3, degree=2;, score=(train=0.908, test=0.832) total time=   0.5s\n",
      "[CV 1/10] END C=3, degree=3;, score=(train=0.977, test=0.800) total time=   0.5s\n",
      "[CV 2/10] END C=3, degree=3;, score=(train=0.978, test=0.779) total time=   0.5s\n",
      "[CV 3/10] END C=3, degree=3;, score=(train=0.983, test=0.810) total time=   0.5s\n",
      "[CV 4/10] END C=3, degree=3;, score=(train=0.977, test=0.797) total time=   0.5s\n",
      "[CV 5/10] END C=3, degree=3;, score=(train=0.974, test=0.852) total time=   0.5s\n",
      "[CV 6/10] END C=3, degree=3;, score=(train=0.977, test=0.893) total time=   0.6s\n",
      "[CV 7/10] END C=3, degree=3;, score=(train=0.976, test=0.846) total time=   0.6s\n",
      "[CV 8/10] END C=3, degree=3;, score=(train=0.973, test=0.868) total time=   0.6s\n",
      "[CV 9/10] END C=3, degree=3;, score=(train=0.972, test=0.880) total time=   0.5s\n",
      "[CV 10/10] END C=3, degree=3;, score=(train=0.977, test=0.857) total time=   0.5s\n",
      "[CV 1/10] END C=4, degree=2;, score=(train=0.913, test=0.774) total time=   0.6s\n",
      "[CV 2/10] END C=4, degree=2;, score=(train=0.916, test=0.732) total time=   0.5s\n",
      "[CV 3/10] END C=4, degree=2;, score=(train=0.919, test=0.783) total time=   0.6s\n",
      "[CV 4/10] END C=4, degree=2;, score=(train=0.912, test=0.708) total time=   0.7s\n",
      "[CV 5/10] END C=4, degree=2;, score=(train=0.905, test=0.793) total time=   0.6s\n",
      "[CV 6/10] END C=4, degree=2;, score=(train=0.909, test=0.752) total time=   0.7s\n",
      "[CV 7/10] END C=4, degree=2;, score=(train=0.909, test=0.800) total time=   1.0s\n",
      "[CV 8/10] END C=4, degree=2;, score=(train=0.913, test=0.810) total time=   0.7s\n",
      "[CV 9/10] END C=4, degree=2;, score=(train=0.917, test=0.810) total time=   0.6s\n",
      "[CV 10/10] END C=4, degree=2;, score=(train=0.920, test=0.832) total time=   0.6s\n",
      "[CV 1/10] END C=4, degree=3;, score=(train=0.981, test=0.787) total time=   0.6s\n",
      "[CV 2/10] END C=4, degree=3;, score=(train=0.992, test=0.817) total time=   0.6s\n",
      "[CV 3/10] END C=4, degree=3;, score=(train=0.985, test=0.797) total time=   0.7s\n",
      "[CV 4/10] END C=4, degree=3;, score=(train=0.985, test=0.817) total time=   0.7s\n",
      "[CV 5/10] END C=4, degree=3;, score=(train=0.985, test=0.852) total time=   0.6s\n",
      "[CV 6/10] END C=4, degree=3;, score=(train=0.983, test=0.894) total time=   0.8s\n",
      "[CV 7/10] END C=4, degree=3;, score=(train=0.978, test=0.846) total time=   0.7s\n",
      "[CV 8/10] END C=4, degree=3;, score=(train=0.980, test=0.862) total time=   0.7s\n",
      "[CV 9/10] END C=4, degree=3;, score=(train=0.983, test=0.873) total time=   0.7s\n",
      "[CV 10/10] END C=4, degree=3;, score=(train=0.982, test=0.853) total time=   0.7s\n",
      "[CV 1/10] END C=5, degree=2;, score=(train=0.926, test=0.752) total time=   0.6s\n",
      "[CV 2/10] END C=5, degree=2;, score=(train=0.919, test=0.743) total time=   0.7s\n",
      "[CV 3/10] END C=5, degree=2;, score=(train=0.930, test=0.793) total time=   0.7s\n",
      "[CV 4/10] END C=5, degree=2;, score=(train=0.925, test=0.730) total time=   0.6s\n",
      "[CV 5/10] END C=5, degree=2;, score=(train=0.914, test=0.776) total time=   0.6s\n",
      "[CV 6/10] END C=5, degree=2;, score=(train=0.915, test=0.752) total time=   1.0s\n",
      "[CV 7/10] END C=5, degree=2;, score=(train=0.919, test=0.803) total time=   0.9s\n",
      "[CV 8/10] END C=5, degree=2;, score=(train=0.918, test=0.812) total time=   0.9s\n",
      "[CV 9/10] END C=5, degree=2;, score=(train=0.918, test=0.810) total time=   0.7s\n",
      "[CV 10/10] END C=5, degree=2;, score=(train=0.922, test=0.825) total time=   0.6s\n",
      "[CV 1/10] END C=5, degree=3;, score=(train=0.987, test=0.777) total time=   0.8s\n",
      "[CV 2/10] END C=5, degree=3;, score=(train=0.993, test=0.810) total time=   0.6s\n",
      "[CV 3/10] END C=5, degree=3;, score=(train=0.989, test=0.797) total time=   0.7s\n",
      "[CV 4/10] END C=5, degree=3;, score=(train=0.989, test=0.852) total time=   0.6s\n",
      "[CV 5/10] END C=5, degree=3;, score=(train=0.990, test=0.852) total time=   0.8s\n",
      "[CV 6/10] END C=5, degree=3;, score=(train=0.989, test=0.894) total time=   0.6s\n",
      "[CV 7/10] END C=5, degree=3;, score=(train=0.986, test=0.855) total time=   0.6s\n",
      "[CV 8/10] END C=5, degree=3;, score=(train=0.988, test=0.870) total time=   0.7s\n",
      "[CV 9/10] END C=5, degree=3;, score=(train=0.990, test=0.887) total time=   0.7s\n"
     ]
    },
    {
     "name": "stdout",
     "output_type": "stream",
     "text": [
      "[CV 10/10] END C=5, degree=3;, score=(train=0.988, test=0.862) total time=   0.7s\n",
      "[CV 1/10] END C=7, degree=2;, score=(train=0.946, test=0.760) total time=   0.6s\n",
      "[CV 2/10] END C=7, degree=2;, score=(train=0.933, test=0.768) total time=   0.7s\n",
      "[CV 3/10] END C=7, degree=2;, score=(train=0.940, test=0.793) total time=   0.6s\n",
      "[CV 4/10] END C=7, degree=2;, score=(train=0.938, test=0.719) total time=   0.6s\n",
      "[CV 5/10] END C=7, degree=2;, score=(train=0.937, test=0.776) total time=   0.6s\n",
      "[CV 6/10] END C=7, degree=2;, score=(train=0.933, test=0.780) total time=   0.6s\n",
      "[CV 7/10] END C=7, degree=2;, score=(train=0.924, test=0.807) total time=   0.7s\n",
      "[CV 8/10] END C=7, degree=2;, score=(train=0.930, test=0.828) total time=   0.7s\n",
      "[CV 9/10] END C=7, degree=2;, score=(train=0.940, test=0.846) total time=   0.7s\n",
      "[CV 10/10] END C=7, degree=2;, score=(train=0.943, test=0.835) total time=   0.7s\n",
      "[CV 1/10] END C=7, degree=3;, score=(train=0.990, test=0.773) total time=   0.8s\n",
      "[CV 2/10] END C=7, degree=3;, score=(train=0.993, test=0.814) total time=   0.7s\n",
      "[CV 3/10] END C=7, degree=3;, score=(train=0.992, test=0.810) total time=   0.8s\n",
      "[CV 4/10] END C=7, degree=3;, score=(train=0.991, test=0.862) total time=   0.6s\n",
      "[CV 5/10] END C=7, degree=3;, score=(train=0.991, test=0.852) total time=   0.7s\n",
      "[CV 6/10] END C=7, degree=3;, score=(train=0.991, test=0.889) total time=   0.7s\n",
      "[CV 7/10] END C=7, degree=3;, score=(train=0.990, test=0.868) total time=   0.7s\n",
      "[CV 8/10] END C=7, degree=3;, score=(train=0.991, test=0.884) total time=   0.6s\n",
      "[CV 9/10] END C=7, degree=3;, score=(train=0.991, test=0.887) total time=   0.6s\n",
      "[CV 10/10] END C=7, degree=3;, score=(train=0.992, test=0.868) total time=   0.7s\n",
      "[CV 1/10] END C=10, degree=2;, score=(train=0.958, test=0.744) total time=   0.7s\n",
      "[CV 2/10] END C=10, degree=2;, score=(train=0.949, test=0.782) total time=   0.7s\n",
      "[CV 3/10] END C=10, degree=2;, score=(train=0.950, test=0.786) total time=   0.8s\n",
      "[CV 4/10] END C=10, degree=2;, score=(train=0.950, test=0.743) total time=   0.7s\n",
      "[CV 5/10] END C=10, degree=2;, score=(train=0.944, test=0.786) total time=   0.8s\n",
      "[CV 6/10] END C=10, degree=2;, score=(train=0.947, test=0.836) total time=   0.8s\n",
      "[CV 7/10] END C=10, degree=2;, score=(train=0.949, test=0.817) total time=   0.7s\n",
      "[CV 8/10] END C=10, degree=2;, score=(train=0.944, test=0.850) total time=   0.8s\n",
      "[CV 9/10] END C=10, degree=2;, score=(train=0.953, test=0.832) total time=   0.7s\n",
      "[CV 10/10] END C=10, degree=2;, score=(train=0.956, test=0.850) total time=   0.7s\n",
      "[CV 1/10] END C=10, degree=3;, score=(train=0.994, test=0.790) total time=   0.7s\n",
      "[CV 2/10] END C=10, degree=3;, score=(train=0.997, test=0.814) total time=   0.7s\n",
      "[CV 3/10] END C=10, degree=3;, score=(train=0.995, test=0.803) total time=   0.7s\n",
      "[CV 4/10] END C=10, degree=3;, score=(train=0.994, test=0.862) total time=   0.6s\n",
      "[CV 5/10] END C=10, degree=3;, score=(train=0.994, test=0.869) total time=   0.7s\n",
      "[CV 6/10] END C=10, degree=3;, score=(train=0.993, test=0.882) total time=   0.8s\n",
      "[CV 7/10] END C=10, degree=3;, score=(train=0.992, test=0.870) total time=   0.7s\n",
      "[CV 8/10] END C=10, degree=3;, score=(train=0.992, test=0.898) total time=   0.7s\n",
      "[CV 9/10] END C=10, degree=3;, score=(train=0.994, test=0.896) total time=   0.8s\n",
      "[CV 10/10] END C=10, degree=3;, score=(train=0.991, test=0.875) total time=   0.9s\n"
     ]
    },
    {
     "data": {
      "text/html": [
       "<style>#sk-container-id-4 {color: black;background-color: white;}#sk-container-id-4 pre{padding: 0;}#sk-container-id-4 div.sk-toggleable {background-color: white;}#sk-container-id-4 label.sk-toggleable__label {cursor: pointer;display: block;width: 100%;margin-bottom: 0;padding: 0.3em;box-sizing: border-box;text-align: center;}#sk-container-id-4 label.sk-toggleable__label-arrow:before {content: \"▸\";float: left;margin-right: 0.25em;color: #696969;}#sk-container-id-4 label.sk-toggleable__label-arrow:hover:before {color: black;}#sk-container-id-4 div.sk-estimator:hover label.sk-toggleable__label-arrow:before {color: black;}#sk-container-id-4 div.sk-toggleable__content {max-height: 0;max-width: 0;overflow: hidden;text-align: left;background-color: #f0f8ff;}#sk-container-id-4 div.sk-toggleable__content pre {margin: 0.2em;color: black;border-radius: 0.25em;background-color: #f0f8ff;}#sk-container-id-4 input.sk-toggleable__control:checked~div.sk-toggleable__content {max-height: 200px;max-width: 100%;overflow: auto;}#sk-container-id-4 input.sk-toggleable__control:checked~label.sk-toggleable__label-arrow:before {content: \"▾\";}#sk-container-id-4 div.sk-estimator input.sk-toggleable__control:checked~label.sk-toggleable__label {background-color: #d4ebff;}#sk-container-id-4 div.sk-label input.sk-toggleable__control:checked~label.sk-toggleable__label {background-color: #d4ebff;}#sk-container-id-4 input.sk-hidden--visually {border: 0;clip: rect(1px 1px 1px 1px);clip: rect(1px, 1px, 1px, 1px);height: 1px;margin: -1px;overflow: hidden;padding: 0;position: absolute;width: 1px;}#sk-container-id-4 div.sk-estimator {font-family: monospace;background-color: #f0f8ff;border: 1px dotted black;border-radius: 0.25em;box-sizing: border-box;margin-bottom: 0.5em;}#sk-container-id-4 div.sk-estimator:hover {background-color: #d4ebff;}#sk-container-id-4 div.sk-parallel-item::after {content: \"\";width: 100%;border-bottom: 1px solid gray;flex-grow: 1;}#sk-container-id-4 div.sk-label:hover label.sk-toggleable__label {background-color: #d4ebff;}#sk-container-id-4 div.sk-serial::before {content: \"\";position: absolute;border-left: 1px solid gray;box-sizing: border-box;top: 0;bottom: 0;left: 50%;z-index: 0;}#sk-container-id-4 div.sk-serial {display: flex;flex-direction: column;align-items: center;background-color: white;padding-right: 0.2em;padding-left: 0.2em;position: relative;}#sk-container-id-4 div.sk-item {position: relative;z-index: 1;}#sk-container-id-4 div.sk-parallel {display: flex;align-items: stretch;justify-content: center;background-color: white;position: relative;}#sk-container-id-4 div.sk-item::before, #sk-container-id-4 div.sk-parallel-item::before {content: \"\";position: absolute;border-left: 1px solid gray;box-sizing: border-box;top: 0;bottom: 0;left: 50%;z-index: -1;}#sk-container-id-4 div.sk-parallel-item {display: flex;flex-direction: column;z-index: 1;position: relative;background-color: white;}#sk-container-id-4 div.sk-parallel-item:first-child::after {align-self: flex-end;width: 50%;}#sk-container-id-4 div.sk-parallel-item:last-child::after {align-self: flex-start;width: 50%;}#sk-container-id-4 div.sk-parallel-item:only-child::after {width: 0;}#sk-container-id-4 div.sk-dashed-wrapped {border: 1px dashed gray;margin: 0 0.4em 0.5em 0.4em;box-sizing: border-box;padding-bottom: 0.4em;background-color: white;}#sk-container-id-4 div.sk-label label {font-family: monospace;font-weight: bold;display: inline-block;line-height: 1.2em;}#sk-container-id-4 div.sk-label-container {text-align: center;}#sk-container-id-4 div.sk-container {/* jupyter's `normalize.less` sets `[hidden] { display: none; }` but bootstrap.min.css set `[hidden] { display: none !important; }` so we also need the `!important` here to be able to override the default hidden behavior on the sphinx rendered scikit-learn.org. See: https://github.com/scikit-learn/scikit-learn/issues/21755 */display: inline-block !important;position: relative;}#sk-container-id-4 div.sk-text-repr-fallback {display: none;}</style><div id=\"sk-container-id-4\" class=\"sk-top-container\"><div class=\"sk-text-repr-fallback\"><pre>GridSearchCV(cv=10,\n",
       "             estimator=SVC(kernel=&#x27;poly&#x27;, probability=True, random_state=0),\n",
       "             param_grid={&#x27;C&#x27;: [0.001, 0.01, 0.1, 0.3, 0.5, 1, 2, 3, 4, 5, 7,\n",
       "                               10],\n",
       "                         &#x27;degree&#x27;: [2, 3]},\n",
       "             return_train_score=True, scoring=&#x27;f1&#x27;, verbose=4)</pre><b>In a Jupyter environment, please rerun this cell to show the HTML representation or trust the notebook. <br />On GitHub, the HTML representation is unable to render, please try loading this page with nbviewer.org.</b></div><div class=\"sk-container\" hidden><div class=\"sk-item sk-dashed-wrapped\"><div class=\"sk-label-container\"><div class=\"sk-label sk-toggleable\"><input class=\"sk-toggleable__control sk-hidden--visually\" id=\"sk-estimator-id-6\" type=\"checkbox\" ><label for=\"sk-estimator-id-6\" class=\"sk-toggleable__label sk-toggleable__label-arrow\">GridSearchCV</label><div class=\"sk-toggleable__content\"><pre>GridSearchCV(cv=10,\n",
       "             estimator=SVC(kernel=&#x27;poly&#x27;, probability=True, random_state=0),\n",
       "             param_grid={&#x27;C&#x27;: [0.001, 0.01, 0.1, 0.3, 0.5, 1, 2, 3, 4, 5, 7,\n",
       "                               10],\n",
       "                         &#x27;degree&#x27;: [2, 3]},\n",
       "             return_train_score=True, scoring=&#x27;f1&#x27;, verbose=4)</pre></div></div></div><div class=\"sk-parallel\"><div class=\"sk-parallel-item\"><div class=\"sk-item\"><div class=\"sk-label-container\"><div class=\"sk-label sk-toggleable\"><input class=\"sk-toggleable__control sk-hidden--visually\" id=\"sk-estimator-id-7\" type=\"checkbox\" ><label for=\"sk-estimator-id-7\" class=\"sk-toggleable__label sk-toggleable__label-arrow\">estimator: SVC</label><div class=\"sk-toggleable__content\"><pre>SVC(kernel=&#x27;poly&#x27;, probability=True, random_state=0)</pre></div></div></div><div class=\"sk-serial\"><div class=\"sk-item\"><div class=\"sk-estimator sk-toggleable\"><input class=\"sk-toggleable__control sk-hidden--visually\" id=\"sk-estimator-id-8\" type=\"checkbox\" ><label for=\"sk-estimator-id-8\" class=\"sk-toggleable__label sk-toggleable__label-arrow\">SVC</label><div class=\"sk-toggleable__content\"><pre>SVC(kernel=&#x27;poly&#x27;, probability=True, random_state=0)</pre></div></div></div></div></div></div></div></div></div></div>"
      ],
      "text/plain": [
       "GridSearchCV(cv=10,\n",
       "             estimator=SVC(kernel='poly', probability=True, random_state=0),\n",
       "             param_grid={'C': [0.001, 0.01, 0.1, 0.3, 0.5, 1, 2, 3, 4, 5, 7,\n",
       "                               10],\n",
       "                         'degree': [2, 3]},\n",
       "             return_train_score=True, scoring='f1', verbose=4)"
      ]
     },
     "execution_count": 37,
     "metadata": {},
     "output_type": "execute_result"
    }
   ],
   "source": [
    "#Definición del modelo\n",
    "modelsvmP = svm.SVC(kernel='poly', probability = True, random_state = 0)\n",
    "\n",
    "# Establecemos un grid con los valores de coste que queremos evaluar\n",
    "grid_hiperparametros = {'C': [0.001, 0.01, 0.1, 0.3, 0.5, 1, 2, 3, 4, 5, 7, 10],\n",
    "                        'degree': [2, 3]} \n",
    "\n",
    "# definicion de la variable con el número de pliegues\n",
    "CV = 10\n",
    "\n",
    "# las metricas sobre las se evaluará el modelo\n",
    "scoring = 'f1'\n",
    "\n",
    "# Definimos la busqueda mediante 10-fold CV\n",
    "grid_svmP = GridSearchCV(estimator = modelsvmP \n",
    "                             , param_grid = grid_hiperparametros \n",
    "                             , cv = CV\n",
    "                             , scoring = scoring\n",
    "                             , return_train_score = True\n",
    "                             , verbose=4)\n",
    "\n",
    "\n",
    "# Aplicamos la busqueda\n",
    "grid_svmP.fit(X_Completo, y_Completo)"
   ]
  },
  {
   "cell_type": "code",
   "execution_count": 38,
   "metadata": {},
   "outputs": [
    {
     "data": {
      "text/html": [
       "<div>\n",
       "<style scoped>\n",
       "    .dataframe tbody tr th:only-of-type {\n",
       "        vertical-align: middle;\n",
       "    }\n",
       "\n",
       "    .dataframe tbody tr th {\n",
       "        vertical-align: top;\n",
       "    }\n",
       "\n",
       "    .dataframe thead th {\n",
       "        text-align: right;\n",
       "    }\n",
       "</style>\n",
       "<table border=\"1\" class=\"dataframe\">\n",
       "  <thead>\n",
       "    <tr style=\"text-align: right;\">\n",
       "      <th></th>\n",
       "      <th>param_C</th>\n",
       "      <th>param_degree</th>\n",
       "      <th>mean_test_score</th>\n",
       "      <th>std_test_score</th>\n",
       "      <th>mean_train_score</th>\n",
       "      <th>std_train_score</th>\n",
       "    </tr>\n",
       "  </thead>\n",
       "  <tbody>\n",
       "    <tr>\n",
       "      <th>23</th>\n",
       "      <td>10</td>\n",
       "      <td>3</td>\n",
       "      <td>0.8559</td>\n",
       "      <td>0.0369</td>\n",
       "      <td>0.9937</td>\n",
       "      <td>0.0016</td>\n",
       "    </tr>\n",
       "    <tr>\n",
       "      <th>21</th>\n",
       "      <td>7</td>\n",
       "      <td>3</td>\n",
       "      <td>0.8508</td>\n",
       "      <td>0.0369</td>\n",
       "      <td>0.9914</td>\n",
       "      <td>0.0009</td>\n",
       "    </tr>\n",
       "    <tr>\n",
       "      <th>19</th>\n",
       "      <td>5</td>\n",
       "      <td>3</td>\n",
       "      <td>0.8457</td>\n",
       "      <td>0.0367</td>\n",
       "      <td>0.9892</td>\n",
       "      <td>0.0018</td>\n",
       "    </tr>\n",
       "    <tr>\n",
       "      <th>17</th>\n",
       "      <td>4</td>\n",
       "      <td>3</td>\n",
       "      <td>0.8397</td>\n",
       "      <td>0.0326</td>\n",
       "      <td>0.9836</td>\n",
       "      <td>0.0038</td>\n",
       "    </tr>\n",
       "  </tbody>\n",
       "</table>\n",
       "</div>"
      ],
      "text/plain": [
       "   param_C param_degree  mean_test_score  std_test_score  mean_train_score  \\\n",
       "23      10            3           0.8559          0.0369            0.9937   \n",
       "21       7            3           0.8508          0.0369            0.9914   \n",
       "19       5            3           0.8457          0.0367            0.9892   \n",
       "17       4            3           0.8397          0.0326            0.9836   \n",
       "\n",
       "    std_train_score  \n",
       "23           0.0016  \n",
       "21           0.0009  \n",
       "19           0.0018  \n",
       "17           0.0038  "
      ]
     },
     "execution_count": 38,
     "metadata": {},
     "output_type": "execute_result"
    }
   ],
   "source": [
    "# Resultados\n",
    "resultados = pd.DataFrame(grid_svmP.cv_results_)\n",
    "resultados.filter(regex = '(param.*|mean_t|std_t)') \\\n",
    "    .drop(columns = 'params') \\\n",
    "    .sort_values('mean_test_score', ascending = False) \\\n",
    "    .head(4)"
   ]
  },
  {
   "cell_type": "code",
   "execution_count": 39,
   "metadata": {},
   "outputs": [
    {
     "name": "stdout",
     "output_type": "stream",
     "text": [
      "   param_C param_degree  mean_test_score  std_test_score  scoreWithStd\n",
      "0   0.0010            2           0.6394          0.2170        2.9469\n",
      "1   0.0010            3           0.6477          0.2187        2.9621\n",
      "2   0.0100            2           0.7220          0.0306       23.6090\n",
      "3   0.0100            3           0.7246          0.0317       22.8861\n",
      "4   0.1000            2           0.7288          0.0307       23.7107\n",
      "5   0.1000            3           0.7514          0.0229       32.8394\n",
      "6   0.3000            2           0.7408          0.0278       26.6382\n",
      "7   0.3000            3           0.7621          0.0331       23.0503\n",
      "8   0.5000            2           0.7496          0.0181       41.3304\n",
      "9   0.5000            3           0.7661          0.0385       19.9091\n",
      "10       1            2           0.7576          0.0305       24.7979\n",
      "11       1            3           0.7930          0.0301       26.3735\n",
      "12       2            2           0.7686          0.0355       21.6303\n",
      "13       2            3           0.8224          0.0404       20.3785\n",
      "14       3            2           0.7768          0.0386       20.1088\n",
      "15       3            3           0.8382          0.0370       22.6306\n",
      "16       4            2           0.7794          0.0365       21.3426\n",
      "17       4            3           0.8397          0.0326       25.7801\n",
      "18       5            2           0.7798          0.0318       24.5272\n",
      "19       5            3           0.8457          0.0367       23.0140\n",
      "20       7            2           0.7910          0.0368       21.5114\n",
      "21       7            3           0.8508          0.0369       23.0729\n",
      "22      10            2           0.8028          0.0383       20.9851\n",
      "23      10            3           0.8559          0.0369       23.1672\n"
     ]
    }
   ],
   "source": [
    "# Obtener los resultados del grid search\n",
    "results_grid_svmP = pd.DataFrame(grid_svmP.cv_results_)\n",
    "\n",
    "# Seleccionar las columnas deseadas\n",
    "columns_grid_svmP = ['param_C']  + \\\n",
    "                    ['param_degree']  + \\\n",
    "                    ['mean_test_score', 'std_test_score']  + \\\n",
    "                    [f'split{i}_test_score' for i in range(CV)]\n",
    "\n",
    "# Filtrar y mostrar los resultados\n",
    "results_grid_svmP_filtered = results_grid_svmP[columns_grid_svmP]\n",
    "\n",
    "# Crear la columna scoreWithStd: f1 / std\n",
    "results_grid_svmP_filtered['scoreWithStd'] = results_grid_svmP_filtered.apply(\n",
    "    lambda row: row['mean_test_score'] / row['std_test_score'] if row['std_test_score'] != 0 else 0,\n",
    "    axis=1\n",
    ")\n",
    "\n",
    "# Encuentra el índice del máximo valor en la columna scoreWithStd\n",
    "indice_max_scoreWithStd = results_grid_svmP_filtered['scoreWithStd'].idxmax()\n",
    "\n",
    "# Mostrar los scores promedios por cada parámetro\n",
    "print(results_grid_svmP_filtered[['param_C', 'param_degree', 'mean_test_score', 'std_test_score', 'scoreWithStd']])"
   ]
  },
  {
   "cell_type": "code",
   "execution_count": 40,
   "metadata": {
    "scrolled": true
   },
   "outputs": [
    {
     "data": {
      "text/html": [
       "<div>\n",
       "<style scoped>\n",
       "    .dataframe tbody tr th:only-of-type {\n",
       "        vertical-align: middle;\n",
       "    }\n",
       "\n",
       "    .dataframe tbody tr th {\n",
       "        vertical-align: top;\n",
       "    }\n",
       "\n",
       "    .dataframe thead th {\n",
       "        text-align: right;\n",
       "    }\n",
       "</style>\n",
       "<table border=\"1\" class=\"dataframe\">\n",
       "  <thead>\n",
       "    <tr style=\"text-align: right;\">\n",
       "      <th></th>\n",
       "      <th>param_C</th>\n",
       "      <th>param_degree</th>\n",
       "      <th>mean_test_score</th>\n",
       "      <th>std_test_score</th>\n",
       "      <th>scoreWithStd</th>\n",
       "    </tr>\n",
       "  </thead>\n",
       "  <tbody>\n",
       "    <tr>\n",
       "      <th>8</th>\n",
       "      <td>0.5000</td>\n",
       "      <td>2</td>\n",
       "      <td>0.7496</td>\n",
       "      <td>0.0181</td>\n",
       "      <td>41.3304</td>\n",
       "    </tr>\n",
       "    <tr>\n",
       "      <th>5</th>\n",
       "      <td>0.1000</td>\n",
       "      <td>3</td>\n",
       "      <td>0.7514</td>\n",
       "      <td>0.0229</td>\n",
       "      <td>32.8394</td>\n",
       "    </tr>\n",
       "    <tr>\n",
       "      <th>6</th>\n",
       "      <td>0.3000</td>\n",
       "      <td>2</td>\n",
       "      <td>0.7408</td>\n",
       "      <td>0.0278</td>\n",
       "      <td>26.6382</td>\n",
       "    </tr>\n",
       "  </tbody>\n",
       "</table>\n",
       "</div>"
      ],
      "text/plain": [
       "  param_C param_degree  mean_test_score  std_test_score  scoreWithStd\n",
       "8  0.5000            2           0.7496          0.0181       41.3304\n",
       "5  0.1000            3           0.7514          0.0229       32.8394\n",
       "6  0.3000            2           0.7408          0.0278       26.6382"
      ]
     },
     "execution_count": 40,
     "metadata": {},
     "output_type": "execute_result"
    }
   ],
   "source": [
    "# Top 3 de los mejores scores\n",
    "results_grid_svmP_filtered.sort_values(by='scoreWithStd', ascending=False).head(3)[\n",
    "    ['param_C', 'param_degree', 'mean_test_score', 'std_test_score', 'scoreWithStd']]"
   ]
  },
  {
   "cell_type": "markdown",
   "metadata": {},
   "source": [
    "#### Evaluación del modelo"
   ]
  },
  {
   "cell_type": "code",
   "execution_count": 41,
   "metadata": {},
   "outputs": [
    {
     "data": {
      "text/plain": [
       "param_C              0.5000\n",
       "param_degree              2\n",
       "mean_test_score      0.7496\n",
       "std_test_score       0.0181\n",
       "split0_test_score    0.7360\n",
       "split1_test_score    0.7679\n",
       "split2_test_score    0.7368\n",
       "split3_test_score    0.7387\n",
       "split4_test_score    0.7521\n",
       "split5_test_score    0.7130\n",
       "split6_test_score    0.7603\n",
       "split7_test_score    0.7581\n",
       "split8_test_score    0.7521\n",
       "split9_test_score    0.7805\n",
       "scoreWithStd        41.3304\n",
       "Name: 8, dtype: object"
      ]
     },
     "execution_count": 41,
     "metadata": {},
     "output_type": "execute_result"
    }
   ],
   "source": [
    "# Seleccionar el registro correspondiente al índice máximo\n",
    "registro_max_scoreWithStd = results_grid_svmP_filtered.loc[indice_max_scoreWithStd]\n",
    "\n",
    "registro_max_scoreWithStd.transpose()"
   ]
  },
  {
   "cell_type": "code",
   "execution_count": 42,
   "metadata": {},
   "outputs": [
    {
     "data": {
      "text/html": [
       "<div>\n",
       "<style scoped>\n",
       "    .dataframe tbody tr th:only-of-type {\n",
       "        vertical-align: middle;\n",
       "    }\n",
       "\n",
       "    .dataframe tbody tr th {\n",
       "        vertical-align: top;\n",
       "    }\n",
       "\n",
       "    .dataframe thead th {\n",
       "        text-align: right;\n",
       "    }\n",
       "</style>\n",
       "<table border=\"1\" class=\"dataframe\">\n",
       "  <thead>\n",
       "    <tr style=\"text-align: right;\">\n",
       "      <th></th>\n",
       "      <th>Tipo</th>\n",
       "      <th>f1-score</th>\n",
       "    </tr>\n",
       "  </thead>\n",
       "  <tbody>\n",
       "    <tr>\n",
       "      <th>0</th>\n",
       "      <td>Lineal y método de retención</td>\n",
       "      <td>0.7288</td>\n",
       "    </tr>\n",
       "    <tr>\n",
       "      <th>0</th>\n",
       "      <td>Lineal e hiperparámetro C con validación cruzada</td>\n",
       "      <td>0.7407</td>\n",
       "    </tr>\n",
       "    <tr>\n",
       "      <th>0</th>\n",
       "      <td>Polinómico e hiperparámetros: C y degree con v...</td>\n",
       "      <td>0.7496</td>\n",
       "    </tr>\n",
       "  </tbody>\n",
       "</table>\n",
       "</div>"
      ],
      "text/plain": [
       "                                                Tipo  f1-score\n",
       "0                       Lineal y método de retención    0.7288\n",
       "0   Lineal e hiperparámetro C con validación cruzada    0.7407\n",
       "0  Polinómico e hiperparámetros: C y degree con v...    0.7496"
      ]
     },
     "execution_count": 42,
     "metadata": {},
     "output_type": "execute_result"
    }
   ],
   "source": [
    "dfResults = dfResults.append(pd.DataFrame(\n",
    "                {'Tipo': ['Polinómico e hiperparámetros: C y degree con validación cruzada'],\n",
    "                 'f1-score':results_grid_svmP_filtered.loc[indice_max_scoreWithStd]['mean_test_score']}))\n",
    "dfResults"
   ]
  },
  {
   "cell_type": "markdown",
   "metadata": {},
   "source": [
    "#### Creación del modelo final"
   ]
  },
  {
   "cell_type": "code",
   "execution_count": 43,
   "metadata": {},
   "outputs": [
    {
     "data": {
      "text/html": [
       "<style>#sk-container-id-5 {color: black;background-color: white;}#sk-container-id-5 pre{padding: 0;}#sk-container-id-5 div.sk-toggleable {background-color: white;}#sk-container-id-5 label.sk-toggleable__label {cursor: pointer;display: block;width: 100%;margin-bottom: 0;padding: 0.3em;box-sizing: border-box;text-align: center;}#sk-container-id-5 label.sk-toggleable__label-arrow:before {content: \"▸\";float: left;margin-right: 0.25em;color: #696969;}#sk-container-id-5 label.sk-toggleable__label-arrow:hover:before {color: black;}#sk-container-id-5 div.sk-estimator:hover label.sk-toggleable__label-arrow:before {color: black;}#sk-container-id-5 div.sk-toggleable__content {max-height: 0;max-width: 0;overflow: hidden;text-align: left;background-color: #f0f8ff;}#sk-container-id-5 div.sk-toggleable__content pre {margin: 0.2em;color: black;border-radius: 0.25em;background-color: #f0f8ff;}#sk-container-id-5 input.sk-toggleable__control:checked~div.sk-toggleable__content {max-height: 200px;max-width: 100%;overflow: auto;}#sk-container-id-5 input.sk-toggleable__control:checked~label.sk-toggleable__label-arrow:before {content: \"▾\";}#sk-container-id-5 div.sk-estimator input.sk-toggleable__control:checked~label.sk-toggleable__label {background-color: #d4ebff;}#sk-container-id-5 div.sk-label input.sk-toggleable__control:checked~label.sk-toggleable__label {background-color: #d4ebff;}#sk-container-id-5 input.sk-hidden--visually {border: 0;clip: rect(1px 1px 1px 1px);clip: rect(1px, 1px, 1px, 1px);height: 1px;margin: -1px;overflow: hidden;padding: 0;position: absolute;width: 1px;}#sk-container-id-5 div.sk-estimator {font-family: monospace;background-color: #f0f8ff;border: 1px dotted black;border-radius: 0.25em;box-sizing: border-box;margin-bottom: 0.5em;}#sk-container-id-5 div.sk-estimator:hover {background-color: #d4ebff;}#sk-container-id-5 div.sk-parallel-item::after {content: \"\";width: 100%;border-bottom: 1px solid gray;flex-grow: 1;}#sk-container-id-5 div.sk-label:hover label.sk-toggleable__label {background-color: #d4ebff;}#sk-container-id-5 div.sk-serial::before {content: \"\";position: absolute;border-left: 1px solid gray;box-sizing: border-box;top: 0;bottom: 0;left: 50%;z-index: 0;}#sk-container-id-5 div.sk-serial {display: flex;flex-direction: column;align-items: center;background-color: white;padding-right: 0.2em;padding-left: 0.2em;position: relative;}#sk-container-id-5 div.sk-item {position: relative;z-index: 1;}#sk-container-id-5 div.sk-parallel {display: flex;align-items: stretch;justify-content: center;background-color: white;position: relative;}#sk-container-id-5 div.sk-item::before, #sk-container-id-5 div.sk-parallel-item::before {content: \"\";position: absolute;border-left: 1px solid gray;box-sizing: border-box;top: 0;bottom: 0;left: 50%;z-index: -1;}#sk-container-id-5 div.sk-parallel-item {display: flex;flex-direction: column;z-index: 1;position: relative;background-color: white;}#sk-container-id-5 div.sk-parallel-item:first-child::after {align-self: flex-end;width: 50%;}#sk-container-id-5 div.sk-parallel-item:last-child::after {align-self: flex-start;width: 50%;}#sk-container-id-5 div.sk-parallel-item:only-child::after {width: 0;}#sk-container-id-5 div.sk-dashed-wrapped {border: 1px dashed gray;margin: 0 0.4em 0.5em 0.4em;box-sizing: border-box;padding-bottom: 0.4em;background-color: white;}#sk-container-id-5 div.sk-label label {font-family: monospace;font-weight: bold;display: inline-block;line-height: 1.2em;}#sk-container-id-5 div.sk-label-container {text-align: center;}#sk-container-id-5 div.sk-container {/* jupyter's `normalize.less` sets `[hidden] { display: none; }` but bootstrap.min.css set `[hidden] { display: none !important; }` so we also need the `!important` here to be able to override the default hidden behavior on the sphinx rendered scikit-learn.org. See: https://github.com/scikit-learn/scikit-learn/issues/21755 */display: inline-block !important;position: relative;}#sk-container-id-5 div.sk-text-repr-fallback {display: none;}</style><div id=\"sk-container-id-5\" class=\"sk-top-container\"><div class=\"sk-text-repr-fallback\"><pre>SVC(C=0.5, degree=2, kernel=&#x27;poly&#x27;, probability=True, random_state=0)</pre><b>In a Jupyter environment, please rerun this cell to show the HTML representation or trust the notebook. <br />On GitHub, the HTML representation is unable to render, please try loading this page with nbviewer.org.</b></div><div class=\"sk-container\" hidden><div class=\"sk-item\"><div class=\"sk-estimator sk-toggleable\"><input class=\"sk-toggleable__control sk-hidden--visually\" id=\"sk-estimator-id-9\" type=\"checkbox\" checked><label for=\"sk-estimator-id-9\" class=\"sk-toggleable__label sk-toggleable__label-arrow\">SVC</label><div class=\"sk-toggleable__content\"><pre>SVC(C=0.5, degree=2, kernel=&#x27;poly&#x27;, probability=True, random_state=0)</pre></div></div></div></div></div>"
      ],
      "text/plain": [
       "SVC(C=0.5, degree=2, kernel='poly', probability=True, random_state=0)"
      ]
     },
     "execution_count": 43,
     "metadata": {},
     "output_type": "execute_result"
    }
   ],
   "source": [
    "# Usar los mejores parámetros para crear el modelo\n",
    "modelsvmP.set_params(kernel='poly'\n",
    "                     , C = results_grid_svmP_filtered.loc[indice_max_scoreWithStd]['param_C']\n",
    "                     , degree = results_grid_svmP_filtered.loc[indice_max_scoreWithStd]['param_degree']\n",
    "                    )\n",
    "\n",
    "modelsvmP.fit(X_Completo, y_Completo)"
   ]
  },
  {
   "cell_type": "markdown",
   "metadata": {
    "id": "3fT3qeEJQRo0"
   },
   "source": [
    "#### 7.3. Radial e hiperparámetros: *C* y *gamma*  (con validación cruzada  - *Cross validation*)"
   ]
  },
  {
   "cell_type": "markdown",
   "metadata": {
    "id": "GfGWb-zFQRo0"
   },
   "source": [
    "##### Identificación del mejor hiperparametro *C* y *gamma*"
   ]
  },
  {
   "cell_type": "code",
   "execution_count": 44,
   "metadata": {
    "colab": {
     "base_uri": "https://localhost:8080/"
    },
    "executionInfo": {
     "elapsed": 42095,
     "status": "ok",
     "timestamp": 1612413555436,
     "user": {
      "displayName": "JORGE ALONSO BEDOYA PUERTA",
      "photoUrl": "",
      "userId": "14875356627137784897"
     },
     "user_tz": 300
    },
    "id": "ElxXZ5tGQRo0",
    "outputId": "d1f663f2-aade-4f08-b3e9-a38d112b584a",
    "scrolled": true
   },
   "outputs": [
    {
     "name": "stdout",
     "output_type": "stream",
     "text": [
      "Fitting 10 folds for each of 24 candidates, totalling 240 fits\n",
      "[CV 1/10] END C=0.001, gamma=scale;, score=(train=0.731, test=0.700) total time=   1.1s\n",
      "[CV 2/10] END C=0.001, gamma=scale;, score=(train=0.716, test=0.736) total time=   1.5s\n",
      "[CV 3/10] END C=0.001, gamma=scale;, score=(train=0.727, test=0.741) total time=   1.2s\n",
      "[CV 4/10] END C=0.001, gamma=scale;, score=(train=0.731, test=0.667) total time=   1.0s\n",
      "[CV 5/10] END C=0.001, gamma=scale;, score=(train=0.718, test=0.667) total time=   1.1s\n",
      "[CV 6/10] END C=0.001, gamma=scale;, score=(train=0.729, test=0.724) total time=   1.1s\n",
      "[CV 7/10] END C=0.001, gamma=scale;, score=(train=0.719, test=0.765) total time=   1.2s\n",
      "[CV 8/10] END C=0.001, gamma=scale;, score=(train=0.728, test=0.727) total time=   1.1s\n",
      "[CV 9/10] END C=0.001, gamma=scale;, score=(train=0.000, test=0.000) total time=   1.3s\n",
      "[CV 10/10] END C=0.001, gamma=scale;, score=(train=0.667, test=0.663) total time=   1.1s\n",
      "[CV 1/10] END C=0.001, gamma=auto;, score=(train=0.730, test=0.719) total time=   1.1s\n",
      "[CV 2/10] END C=0.001, gamma=auto;, score=(train=0.717, test=0.779) total time=   1.1s\n",
      "[CV 3/10] END C=0.001, gamma=auto;, score=(train=0.726, test=0.690) total time=   1.0s\n",
      "[CV 4/10] END C=0.001, gamma=auto;, score=(train=0.729, test=0.672) total time=   1.1s\n",
      "[CV 5/10] END C=0.001, gamma=auto;, score=(train=0.728, test=0.679) total time=   1.0s\n",
      "[CV 6/10] END C=0.001, gamma=auto;, score=(train=0.733, test=0.704) total time=   1.2s\n",
      "[CV 7/10] END C=0.001, gamma=auto;, score=(train=0.725, test=0.760) total time=   1.3s\n",
      "[CV 8/10] END C=0.001, gamma=auto;, score=(train=0.727, test=0.709) total time=   1.3s\n",
      "[CV 9/10] END C=0.001, gamma=auto;, score=(train=0.000, test=0.000) total time=   1.6s\n",
      "[CV 10/10] END C=0.001, gamma=auto;, score=(train=0.667, test=0.663) total time=   1.2s\n",
      "[CV 1/10] END C=0.01, gamma=scale;, score=(train=0.731, test=0.700) total time=   1.1s\n",
      "[CV 2/10] END C=0.01, gamma=scale;, score=(train=0.716, test=0.736) total time=   1.2s\n",
      "[CV 3/10] END C=0.01, gamma=scale;, score=(train=0.727, test=0.741) total time=   1.1s\n",
      "[CV 4/10] END C=0.01, gamma=scale;, score=(train=0.731, test=0.667) total time=   1.1s\n",
      "[CV 5/10] END C=0.01, gamma=scale;, score=(train=0.718, test=0.667) total time=   1.2s\n",
      "[CV 6/10] END C=0.01, gamma=scale;, score=(train=0.729, test=0.724) total time=   1.3s\n",
      "[CV 7/10] END C=0.01, gamma=scale;, score=(train=0.719, test=0.765) total time=   1.1s\n",
      "[CV 8/10] END C=0.01, gamma=scale;, score=(train=0.728, test=0.727) total time=   1.1s\n",
      "[CV 9/10] END C=0.01, gamma=scale;, score=(train=0.000, test=0.000) total time=   1.0s\n",
      "[CV 10/10] END C=0.01, gamma=scale;, score=(train=0.667, test=0.663) total time=   1.1s\n",
      "[CV 1/10] END C=0.01, gamma=auto;, score=(train=0.730, test=0.719) total time=   1.3s\n",
      "[CV 2/10] END C=0.01, gamma=auto;, score=(train=0.717, test=0.779) total time=   1.3s\n",
      "[CV 3/10] END C=0.01, gamma=auto;, score=(train=0.726, test=0.690) total time=   1.3s\n",
      "[CV 4/10] END C=0.01, gamma=auto;, score=(train=0.729, test=0.672) total time=   1.1s\n",
      "[CV 5/10] END C=0.01, gamma=auto;, score=(train=0.728, test=0.679) total time=   1.1s\n",
      "[CV 6/10] END C=0.01, gamma=auto;, score=(train=0.733, test=0.704) total time=   1.1s\n",
      "[CV 7/10] END C=0.01, gamma=auto;, score=(train=0.725, test=0.760) total time=   1.1s\n",
      "[CV 8/10] END C=0.01, gamma=auto;, score=(train=0.727, test=0.709) total time=   1.2s\n",
      "[CV 9/10] END C=0.01, gamma=auto;, score=(train=0.000, test=0.000) total time=   1.5s\n",
      "[CV 10/10] END C=0.01, gamma=auto;, score=(train=0.667, test=0.663) total time=   2.0s\n",
      "[CV 1/10] END C=0.1, gamma=scale;, score=(train=0.750, test=0.756) total time=   1.1s\n",
      "[CV 2/10] END C=0.1, gamma=scale;, score=(train=0.744, test=0.764) total time=   1.0s\n",
      "[CV 3/10] END C=0.1, gamma=scale;, score=(train=0.747, test=0.709) total time=   1.0s\n",
      "[CV 4/10] END C=0.1, gamma=scale;, score=(train=0.747, test=0.689) total time=   0.9s\n",
      "[CV 5/10] END C=0.1, gamma=scale;, score=(train=0.759, test=0.690) total time=   1.0s\n",
      "[CV 6/10] END C=0.1, gamma=scale;, score=(train=0.764, test=0.726) total time=   1.0s\n",
      "[CV 7/10] END C=0.1, gamma=scale;, score=(train=0.743, test=0.780) total time=   0.9s\n",
      "[CV 8/10] END C=0.1, gamma=scale;, score=(train=0.741, test=0.699) total time=   0.9s\n",
      "[CV 9/10] END C=0.1, gamma=scale;, score=(train=0.748, test=0.746) total time=   1.0s\n",
      "[CV 10/10] END C=0.1, gamma=scale;, score=(train=0.749, test=0.715) total time=   0.8s\n",
      "[CV 1/10] END C=0.1, gamma=auto;, score=(train=0.725, test=0.732) total time=   1.1s\n",
      "[CV 2/10] END C=0.1, gamma=auto;, score=(train=0.716, test=0.764) total time=   1.2s\n",
      "[CV 3/10] END C=0.1, gamma=auto;, score=(train=0.728, test=0.709) total time=   1.1s\n",
      "[CV 4/10] END C=0.1, gamma=auto;, score=(train=0.724, test=0.683) total time=   1.4s\n",
      "[CV 5/10] END C=0.1, gamma=auto;, score=(train=0.724, test=0.679) total time=   1.0s\n",
      "[CV 6/10] END C=0.1, gamma=auto;, score=(train=0.723, test=0.717) total time=   1.1s\n",
      "[CV 7/10] END C=0.1, gamma=auto;, score=(train=0.712, test=0.738) total time=   1.1s\n",
      "[CV 8/10] END C=0.1, gamma=auto;, score=(train=0.722, test=0.694) total time=   1.0s\n",
      "[CV 9/10] END C=0.1, gamma=auto;, score=(train=0.718, test=0.754) total time=   1.0s\n",
      "[CV 10/10] END C=0.1, gamma=auto;, score=(train=0.715, test=0.678) total time=   0.9s\n",
      "[CV 1/10] END C=0.3, gamma=scale;, score=(train=0.785, test=0.746) total time=   0.9s\n",
      "[CV 2/10] END C=0.3, gamma=scale;, score=(train=0.772, test=0.771) total time=   0.9s\n",
      "[CV 3/10] END C=0.3, gamma=scale;, score=(train=0.789, test=0.721) total time=   1.0s\n",
      "[CV 4/10] END C=0.3, gamma=scale;, score=(train=0.780, test=0.708) total time=   0.8s\n",
      "[CV 5/10] END C=0.3, gamma=scale;, score=(train=0.782, test=0.726) total time=   0.9s\n",
      "[CV 6/10] END C=0.3, gamma=scale;, score=(train=0.786, test=0.700) total time=   0.9s\n",
      "[CV 7/10] END C=0.3, gamma=scale;, score=(train=0.782, test=0.773) total time=   0.8s\n",
      "[CV 8/10] END C=0.3, gamma=scale;, score=(train=0.777, test=0.738) total time=   0.9s\n",
      "[CV 9/10] END C=0.3, gamma=scale;, score=(train=0.780, test=0.746) total time=   0.9s\n",
      "[CV 10/10] END C=0.3, gamma=scale;, score=(train=0.789, test=0.754) total time=   0.9s\n",
      "[CV 1/10] END C=0.3, gamma=auto;, score=(train=0.724, test=0.750) total time=   1.0s\n",
      "[CV 2/10] END C=0.3, gamma=auto;, score=(train=0.737, test=0.768) total time=   1.0s\n",
      "[CV 3/10] END C=0.3, gamma=auto;, score=(train=0.728, test=0.696) total time=   1.0s\n",
      "[CV 4/10] END C=0.3, gamma=auto;, score=(train=0.733, test=0.694) total time=   1.4s\n",
      "[CV 5/10] END C=0.3, gamma=auto;, score=(train=0.733, test=0.667) total time=   0.9s\n",
      "[CV 6/10] END C=0.3, gamma=auto;, score=(train=0.739, test=0.704) total time=   0.9s\n",
      "[CV 7/10] END C=0.3, gamma=auto;, score=(train=0.730, test=0.780) total time=   1.0s\n",
      "[CV 8/10] END C=0.3, gamma=auto;, score=(train=0.733, test=0.704) total time=   1.0s\n",
      "[CV 9/10] END C=0.3, gamma=auto;, score=(train=0.735, test=0.735) total time=   0.9s\n",
      "[CV 10/10] END C=0.3, gamma=auto;, score=(train=0.728, test=0.721) total time=   1.0s\n",
      "[CV 1/10] END C=0.5, gamma=scale;, score=(train=0.818, test=0.754) total time=   1.0s\n",
      "[CV 2/10] END C=0.5, gamma=scale;, score=(train=0.817, test=0.775) total time=   0.8s\n",
      "[CV 3/10] END C=0.5, gamma=scale;, score=(train=0.818, test=0.754) total time=   0.8s\n",
      "[CV 4/10] END C=0.5, gamma=scale;, score=(train=0.821, test=0.726) total time=   0.8s\n",
      "[CV 5/10] END C=0.5, gamma=scale;, score=(train=0.803, test=0.721) total time=   0.6s\n",
      "[CV 6/10] END C=0.5, gamma=scale;, score=(train=0.822, test=0.712) total time=   0.4s\n",
      "[CV 7/10] END C=0.5, gamma=scale;, score=(train=0.807, test=0.773) total time=   0.4s\n",
      "[CV 8/10] END C=0.5, gamma=scale;, score=(train=0.808, test=0.770) total time=   0.4s\n",
      "[CV 9/10] END C=0.5, gamma=scale;, score=(train=0.821, test=0.756) total time=   0.4s\n",
      "[CV 10/10] END C=0.5, gamma=scale;, score=(train=0.818, test=0.767) total time=   0.4s\n",
      "[CV 1/10] END C=0.5, gamma=auto;, score=(train=0.724, test=0.730) total time=   0.5s\n",
      "[CV 2/10] END C=0.5, gamma=auto;, score=(train=0.732, test=0.768) total time=   0.5s\n",
      "[CV 3/10] END C=0.5, gamma=auto;, score=(train=0.730, test=0.703) total time=   0.5s\n",
      "[CV 4/10] END C=0.5, gamma=auto;, score=(train=0.728, test=0.706) total time=   0.6s\n",
      "[CV 5/10] END C=0.5, gamma=auto;, score=(train=0.733, test=0.655) total time=   0.5s\n"
     ]
    },
    {
     "name": "stdout",
     "output_type": "stream",
     "text": [
      "[CV 6/10] END C=0.5, gamma=auto;, score=(train=0.749, test=0.694) total time=   0.5s\n",
      "[CV 7/10] END C=0.5, gamma=auto;, score=(train=0.727, test=0.756) total time=   0.6s\n",
      "[CV 8/10] END C=0.5, gamma=auto;, score=(train=0.730, test=0.720) total time=   0.8s\n",
      "[CV 9/10] END C=0.5, gamma=auto;, score=(train=0.729, test=0.735) total time=   0.7s\n",
      "[CV 10/10] END C=0.5, gamma=auto;, score=(train=0.736, test=0.715) total time=   0.7s\n",
      "[CV 1/10] END C=1, gamma=scale;, score=(train=0.863, test=0.780) total time=   0.6s\n",
      "[CV 2/10] END C=1, gamma=scale;, score=(train=0.862, test=0.804) total time=   0.5s\n",
      "[CV 3/10] END C=1, gamma=scale;, score=(train=0.859, test=0.765) total time=   1.1s\n",
      "[CV 4/10] END C=1, gamma=scale;, score=(train=0.868, test=0.739) total time=   0.8s\n",
      "[CV 5/10] END C=1, gamma=scale;, score=(train=0.854, test=0.793) total time=   0.9s\n",
      "[CV 6/10] END C=1, gamma=scale;, score=(train=0.854, test=0.726) total time=   0.9s\n",
      "[CV 7/10] END C=1, gamma=scale;, score=(train=0.862, test=0.773) total time=   0.9s\n",
      "[CV 8/10] END C=1, gamma=scale;, score=(train=0.860, test=0.824) total time=   0.9s\n",
      "[CV 9/10] END C=1, gamma=scale;, score=(train=0.857, test=0.783) total time=   0.8s\n",
      "[CV 10/10] END C=1, gamma=scale;, score=(train=0.862, test=0.790) total time=   0.8s\n",
      "[CV 1/10] END C=1, gamma=auto;, score=(train=0.736, test=0.740) total time=   1.0s\n",
      "[CV 2/10] END C=1, gamma=auto;, score=(train=0.745, test=0.782) total time=   0.7s\n",
      "[CV 3/10] END C=1, gamma=auto;, score=(train=0.746, test=0.714) total time=   0.8s\n",
      "[CV 4/10] END C=1, gamma=auto;, score=(train=0.737, test=0.732) total time=   0.7s\n",
      "[CV 5/10] END C=1, gamma=auto;, score=(train=0.736, test=0.655) total time=   0.7s\n",
      "[CV 6/10] END C=1, gamma=auto;, score=(train=0.755, test=0.689) total time=   0.9s\n",
      "[CV 7/10] END C=1, gamma=auto;, score=(train=0.742, test=0.769) total time=   1.0s\n",
      "[CV 8/10] END C=1, gamma=auto;, score=(train=0.747, test=0.730) total time=   1.0s\n",
      "[CV 9/10] END C=1, gamma=auto;, score=(train=0.738, test=0.752) total time=   1.0s\n",
      "[CV 10/10] END C=1, gamma=auto;, score=(train=0.733, test=0.711) total time=   1.0s\n",
      "[CV 1/10] END C=2, gamma=scale;, score=(train=0.926, test=0.797) total time=   0.9s\n",
      "[CV 2/10] END C=2, gamma=scale;, score=(train=0.924, test=0.793) total time=   0.8s\n",
      "[CV 3/10] END C=2, gamma=scale;, score=(train=0.919, test=0.789) total time=   0.8s\n",
      "[CV 4/10] END C=2, gamma=scale;, score=(train=0.918, test=0.732) total time=   0.8s\n",
      "[CV 5/10] END C=2, gamma=scale;, score=(train=0.910, test=0.797) total time=   1.0s\n",
      "[CV 6/10] END C=2, gamma=scale;, score=(train=0.910, test=0.776) total time=   0.7s\n",
      "[CV 7/10] END C=2, gamma=scale;, score=(train=0.919, test=0.790) total time=   0.8s\n",
      "[CV 8/10] END C=2, gamma=scale;, score=(train=0.921, test=0.841) total time=   0.8s\n",
      "[CV 9/10] END C=2, gamma=scale;, score=(train=0.906, test=0.810) total time=   0.9s\n",
      "[CV 10/10] END C=2, gamma=scale;, score=(train=0.916, test=0.829) total time=   0.8s\n",
      "[CV 1/10] END C=2, gamma=auto;, score=(train=0.762, test=0.740) total time=   0.9s\n",
      "[CV 2/10] END C=2, gamma=auto;, score=(train=0.767, test=0.796) total time=   0.9s\n",
      "[CV 3/10] END C=2, gamma=auto;, score=(train=0.762, test=0.737) total time=   0.7s\n",
      "[CV 4/10] END C=2, gamma=auto;, score=(train=0.772, test=0.714) total time=   0.8s\n",
      "[CV 5/10] END C=2, gamma=auto;, score=(train=0.766, test=0.690) total time=   0.9s\n",
      "[CV 6/10] END C=2, gamma=auto;, score=(train=0.769, test=0.694) total time=   1.0s\n",
      "[CV 7/10] END C=2, gamma=auto;, score=(train=0.766, test=0.750) total time=   0.9s\n",
      "[CV 8/10] END C=2, gamma=auto;, score=(train=0.761, test=0.742) total time=   0.7s\n",
      "[CV 9/10] END C=2, gamma=auto;, score=(train=0.764, test=0.763) total time=   0.7s\n",
      "[CV 10/10] END C=2, gamma=auto;, score=(train=0.755, test=0.739) total time=   0.8s\n",
      "[CV 1/10] END C=3, gamma=scale;, score=(train=0.956, test=0.784) total time=   0.8s\n",
      "[CV 2/10] END C=3, gamma=scale;, score=(train=0.953, test=0.793) total time=   0.9s\n",
      "[CV 3/10] END C=3, gamma=scale;, score=(train=0.960, test=0.807) total time=   0.8s\n",
      "[CV 4/10] END C=3, gamma=scale;, score=(train=0.949, test=0.772) total time=   0.8s\n",
      "[CV 5/10] END C=3, gamma=scale;, score=(train=0.945, test=0.803) total time=   1.1s\n",
      "[CV 6/10] END C=3, gamma=scale;, score=(train=0.941, test=0.797) total time=   1.1s\n",
      "[CV 7/10] END C=3, gamma=scale;, score=(train=0.955, test=0.840) total time=   1.3s\n",
      "[CV 8/10] END C=3, gamma=scale;, score=(train=0.948, test=0.844) total time=   1.2s\n",
      "[CV 9/10] END C=3, gamma=scale;, score=(train=0.945, test=0.847) total time=   1.1s\n",
      "[CV 10/10] END C=3, gamma=scale;, score=(train=0.947, test=0.839) total time=   0.9s\n",
      "[CV 1/10] END C=3, gamma=auto;, score=(train=0.774, test=0.752) total time=   1.0s\n",
      "[CV 2/10] END C=3, gamma=auto;, score=(train=0.771, test=0.804) total time=   0.9s\n",
      "[CV 3/10] END C=3, gamma=auto;, score=(train=0.782, test=0.759) total time=   0.9s\n",
      "[CV 4/10] END C=3, gamma=auto;, score=(train=0.787, test=0.704) total time=   0.8s\n",
      "[CV 5/10] END C=3, gamma=auto;, score=(train=0.769, test=0.690) total time=   0.9s\n",
      "[CV 6/10] END C=3, gamma=auto;, score=(train=0.779, test=0.678) total time=   0.9s\n",
      "[CV 7/10] END C=3, gamma=auto;, score=(train=0.774, test=0.750) total time=   0.9s\n",
      "[CV 8/10] END C=3, gamma=auto;, score=(train=0.769, test=0.758) total time=   0.8s\n",
      "[CV 9/10] END C=3, gamma=auto;, score=(train=0.779, test=0.769) total time=   0.8s\n",
      "[CV 10/10] END C=3, gamma=auto;, score=(train=0.768, test=0.750) total time=   0.8s\n",
      "[CV 1/10] END C=4, gamma=scale;, score=(train=0.972, test=0.803) total time=   0.9s\n",
      "[CV 2/10] END C=4, gamma=scale;, score=(train=0.964, test=0.761) total time=   0.9s\n",
      "[CV 3/10] END C=4, gamma=scale;, score=(train=0.973, test=0.817) total time=   1.2s\n",
      "[CV 4/10] END C=4, gamma=scale;, score=(train=0.958, test=0.793) total time=   1.0s\n",
      "[CV 5/10] END C=4, gamma=scale;, score=(train=0.956, test=0.814) total time=   0.7s\n",
      "[CV 6/10] END C=4, gamma=scale;, score=(train=0.958, test=0.850) total time=   0.8s\n",
      "[CV 7/10] END C=4, gamma=scale;, score=(train=0.966, test=0.883) total time=   1.0s\n",
      "[CV 8/10] END C=4, gamma=scale;, score=(train=0.960, test=0.859) total time=   0.9s\n",
      "[CV 9/10] END C=4, gamma=scale;, score=(train=0.963, test=0.893) total time=   0.7s\n",
      "[CV 10/10] END C=4, gamma=scale;, score=(train=0.963, test=0.864) total time=   1.0s\n",
      "[CV 1/10] END C=4, gamma=auto;, score=(train=0.786, test=0.758) total time=   0.9s\n",
      "[CV 2/10] END C=4, gamma=auto;, score=(train=0.777, test=0.786) total time=   0.9s\n",
      "[CV 3/10] END C=4, gamma=auto;, score=(train=0.792, test=0.776) total time=   0.8s\n",
      "[CV 4/10] END C=4, gamma=auto;, score=(train=0.793, test=0.717) total time=   0.7s\n",
      "[CV 5/10] END C=4, gamma=auto;, score=(train=0.784, test=0.714) total time=   0.9s\n",
      "[CV 6/10] END C=4, gamma=auto;, score=(train=0.792, test=0.689) total time=   1.1s\n",
      "[CV 7/10] END C=4, gamma=auto;, score=(train=0.787, test=0.760) total time=   0.7s\n",
      "[CV 8/10] END C=4, gamma=auto;, score=(train=0.782, test=0.768) total time=   0.8s\n",
      "[CV 9/10] END C=4, gamma=auto;, score=(train=0.784, test=0.759) total time=   0.7s\n",
      "[CV 10/10] END C=4, gamma=auto;, score=(train=0.787, test=0.760) total time=   0.7s\n",
      "[CV 1/10] END C=5, gamma=scale;, score=(train=0.973, test=0.803) total time=   0.7s\n",
      "[CV 2/10] END C=5, gamma=scale;, score=(train=0.977, test=0.768) total time=   0.8s\n",
      "[CV 3/10] END C=5, gamma=scale;, score=(train=0.981, test=0.825) total time=   0.7s\n",
      "[CV 4/10] END C=5, gamma=scale;, score=(train=0.974, test=0.824) total time=   0.7s\n",
      "[CV 5/10] END C=5, gamma=scale;, score=(train=0.967, test=0.860) total time=   1.0s\n",
      "[CV 6/10] END C=5, gamma=scale;, score=(train=0.969, test=0.850) total time=   0.9s\n",
      "[CV 7/10] END C=5, gamma=scale;, score=(train=0.971, test=0.860) total time=   0.8s\n",
      "[CV 8/10] END C=5, gamma=scale;, score=(train=0.973, test=0.868) total time=   0.7s\n",
      "[CV 9/10] END C=5, gamma=scale;, score=(train=0.974, test=0.902) total time=   1.0s\n",
      "[CV 10/10] END C=5, gamma=scale;, score=(train=0.972, test=0.864) total time=   0.9s\n",
      "[CV 1/10] END C=5, gamma=auto;, score=(train=0.795, test=0.752) total time=   0.9s\n",
      "[CV 2/10] END C=5, gamma=auto;, score=(train=0.791, test=0.775) total time=   0.8s\n",
      "[CV 3/10] END C=5, gamma=auto;, score=(train=0.803, test=0.759) total time=   0.9s\n"
     ]
    },
    {
     "name": "stdout",
     "output_type": "stream",
     "text": [
      "[CV 4/10] END C=5, gamma=auto;, score=(train=0.803, test=0.722) total time=   0.9s\n",
      "[CV 5/10] END C=5, gamma=auto;, score=(train=0.791, test=0.739) total time=   0.9s\n",
      "[CV 6/10] END C=5, gamma=auto;, score=(train=0.802, test=0.706) total time=   0.8s\n",
      "[CV 7/10] END C=5, gamma=auto;, score=(train=0.799, test=0.767) total time=   0.8s\n",
      "[CV 8/10] END C=5, gamma=auto;, score=(train=0.790, test=0.794) total time=   0.9s\n",
      "[CV 9/10] END C=5, gamma=auto;, score=(train=0.795, test=0.752) total time=   0.8s\n",
      "[CV 10/10] END C=5, gamma=auto;, score=(train=0.799, test=0.767) total time=   0.8s\n",
      "[CV 1/10] END C=7, gamma=scale;, score=(train=0.983, test=0.813) total time=   0.9s\n",
      "[CV 2/10] END C=7, gamma=scale;, score=(train=0.987, test=0.829) total time=   0.9s\n",
      "[CV 3/10] END C=7, gamma=scale;, score=(train=0.984, test=0.817) total time=   0.9s\n",
      "[CV 4/10] END C=7, gamma=scale;, score=(train=0.983, test=0.840) total time=   0.8s\n",
      "[CV 5/10] END C=7, gamma=scale;, score=(train=0.985, test=0.860) total time=   1.1s\n",
      "[CV 6/10] END C=7, gamma=scale;, score=(train=0.980, test=0.893) total time=   0.9s\n",
      "[CV 7/10] END C=7, gamma=scale;, score=(train=0.978, test=0.852) total time=   1.0s\n",
      "[CV 8/10] END C=7, gamma=scale;, score=(train=0.984, test=0.891) total time=   1.0s\n",
      "[CV 9/10] END C=7, gamma=scale;, score=(train=0.985, test=0.902) total time=   1.2s\n",
      "[CV 10/10] END C=7, gamma=scale;, score=(train=0.985, test=0.864) total time=   1.1s\n",
      "[CV 1/10] END C=7, gamma=auto;, score=(train=0.805, test=0.764) total time=   1.0s\n",
      "[CV 2/10] END C=7, gamma=auto;, score=(train=0.801, test=0.775) total time=   0.9s\n",
      "[CV 3/10] END C=7, gamma=auto;, score=(train=0.814, test=0.748) total time=   0.8s\n",
      "[CV 4/10] END C=7, gamma=auto;, score=(train=0.812, test=0.716) total time=   0.8s\n",
      "[CV 5/10] END C=7, gamma=auto;, score=(train=0.810, test=0.772) total time=   0.8s\n",
      "[CV 6/10] END C=7, gamma=auto;, score=(train=0.823, test=0.712) total time=   0.8s\n",
      "[CV 7/10] END C=7, gamma=auto;, score=(train=0.807, test=0.741) total time=   0.9s\n",
      "[CV 8/10] END C=7, gamma=auto;, score=(train=0.805, test=0.762) total time=   1.0s\n",
      "[CV 9/10] END C=7, gamma=auto;, score=(train=0.807, test=0.748) total time=   1.0s\n",
      "[CV 10/10] END C=7, gamma=auto;, score=(train=0.806, test=0.767) total time=   1.1s\n",
      "[CV 1/10] END C=10, gamma=scale;, score=(train=0.989, test=0.833) total time=   1.0s\n",
      "[CV 2/10] END C=10, gamma=scale;, score=(train=0.994, test=0.850) total time=   1.1s\n",
      "[CV 3/10] END C=10, gamma=scale;, score=(train=0.991, test=0.828) total time=   1.2s\n",
      "[CV 4/10] END C=10, gamma=scale;, score=(train=0.989, test=0.852) total time=   1.0s\n",
      "[CV 5/10] END C=10, gamma=scale;, score=(train=0.992, test=0.867) total time=   1.1s\n",
      "[CV 6/10] END C=10, gamma=scale;, score=(train=0.990, test=0.911) total time=   1.3s\n",
      "[CV 7/10] END C=10, gamma=scale;, score=(train=0.987, test=0.864) total time=   1.3s\n",
      "[CV 8/10] END C=10, gamma=scale;, score=(train=0.990, test=0.891) total time=   1.1s\n",
      "[CV 9/10] END C=10, gamma=scale;, score=(train=0.989, test=0.902) total time=   1.0s\n",
      "[CV 10/10] END C=10, gamma=scale;, score=(train=0.991, test=0.875) total time=   1.1s\n",
      "[CV 1/10] END C=10, gamma=auto;, score=(train=0.826, test=0.754) total time=   0.9s\n",
      "[CV 2/10] END C=10, gamma=auto;, score=(train=0.815, test=0.793) total time=   0.9s\n",
      "[CV 3/10] END C=10, gamma=auto;, score=(train=0.828, test=0.748) total time=   0.8s\n",
      "[CV 4/10] END C=10, gamma=auto;, score=(train=0.825, test=0.734) total time=   1.0s\n",
      "[CV 5/10] END C=10, gamma=auto;, score=(train=0.823, test=0.772) total time=   1.1s\n",
      "[CV 6/10] END C=10, gamma=auto;, score=(train=0.828, test=0.707) total time=   1.2s\n",
      "[CV 7/10] END C=10, gamma=auto;, score=(train=0.830, test=0.752) total time=   1.1s\n",
      "[CV 8/10] END C=10, gamma=auto;, score=(train=0.829, test=0.787) total time=   0.9s\n",
      "[CV 9/10] END C=10, gamma=auto;, score=(train=0.816, test=0.752) total time=   1.4s\n",
      "[CV 10/10] END C=10, gamma=auto;, score=(train=0.825, test=0.787) total time=   1.2s\n"
     ]
    },
    {
     "data": {
      "text/html": [
       "<style>#sk-container-id-6 {color: black;background-color: white;}#sk-container-id-6 pre{padding: 0;}#sk-container-id-6 div.sk-toggleable {background-color: white;}#sk-container-id-6 label.sk-toggleable__label {cursor: pointer;display: block;width: 100%;margin-bottom: 0;padding: 0.3em;box-sizing: border-box;text-align: center;}#sk-container-id-6 label.sk-toggleable__label-arrow:before {content: \"▸\";float: left;margin-right: 0.25em;color: #696969;}#sk-container-id-6 label.sk-toggleable__label-arrow:hover:before {color: black;}#sk-container-id-6 div.sk-estimator:hover label.sk-toggleable__label-arrow:before {color: black;}#sk-container-id-6 div.sk-toggleable__content {max-height: 0;max-width: 0;overflow: hidden;text-align: left;background-color: #f0f8ff;}#sk-container-id-6 div.sk-toggleable__content pre {margin: 0.2em;color: black;border-radius: 0.25em;background-color: #f0f8ff;}#sk-container-id-6 input.sk-toggleable__control:checked~div.sk-toggleable__content {max-height: 200px;max-width: 100%;overflow: auto;}#sk-container-id-6 input.sk-toggleable__control:checked~label.sk-toggleable__label-arrow:before {content: \"▾\";}#sk-container-id-6 div.sk-estimator input.sk-toggleable__control:checked~label.sk-toggleable__label {background-color: #d4ebff;}#sk-container-id-6 div.sk-label input.sk-toggleable__control:checked~label.sk-toggleable__label {background-color: #d4ebff;}#sk-container-id-6 input.sk-hidden--visually {border: 0;clip: rect(1px 1px 1px 1px);clip: rect(1px, 1px, 1px, 1px);height: 1px;margin: -1px;overflow: hidden;padding: 0;position: absolute;width: 1px;}#sk-container-id-6 div.sk-estimator {font-family: monospace;background-color: #f0f8ff;border: 1px dotted black;border-radius: 0.25em;box-sizing: border-box;margin-bottom: 0.5em;}#sk-container-id-6 div.sk-estimator:hover {background-color: #d4ebff;}#sk-container-id-6 div.sk-parallel-item::after {content: \"\";width: 100%;border-bottom: 1px solid gray;flex-grow: 1;}#sk-container-id-6 div.sk-label:hover label.sk-toggleable__label {background-color: #d4ebff;}#sk-container-id-6 div.sk-serial::before {content: \"\";position: absolute;border-left: 1px solid gray;box-sizing: border-box;top: 0;bottom: 0;left: 50%;z-index: 0;}#sk-container-id-6 div.sk-serial {display: flex;flex-direction: column;align-items: center;background-color: white;padding-right: 0.2em;padding-left: 0.2em;position: relative;}#sk-container-id-6 div.sk-item {position: relative;z-index: 1;}#sk-container-id-6 div.sk-parallel {display: flex;align-items: stretch;justify-content: center;background-color: white;position: relative;}#sk-container-id-6 div.sk-item::before, #sk-container-id-6 div.sk-parallel-item::before {content: \"\";position: absolute;border-left: 1px solid gray;box-sizing: border-box;top: 0;bottom: 0;left: 50%;z-index: -1;}#sk-container-id-6 div.sk-parallel-item {display: flex;flex-direction: column;z-index: 1;position: relative;background-color: white;}#sk-container-id-6 div.sk-parallel-item:first-child::after {align-self: flex-end;width: 50%;}#sk-container-id-6 div.sk-parallel-item:last-child::after {align-self: flex-start;width: 50%;}#sk-container-id-6 div.sk-parallel-item:only-child::after {width: 0;}#sk-container-id-6 div.sk-dashed-wrapped {border: 1px dashed gray;margin: 0 0.4em 0.5em 0.4em;box-sizing: border-box;padding-bottom: 0.4em;background-color: white;}#sk-container-id-6 div.sk-label label {font-family: monospace;font-weight: bold;display: inline-block;line-height: 1.2em;}#sk-container-id-6 div.sk-label-container {text-align: center;}#sk-container-id-6 div.sk-container {/* jupyter's `normalize.less` sets `[hidden] { display: none; }` but bootstrap.min.css set `[hidden] { display: none !important; }` so we also need the `!important` here to be able to override the default hidden behavior on the sphinx rendered scikit-learn.org. See: https://github.com/scikit-learn/scikit-learn/issues/21755 */display: inline-block !important;position: relative;}#sk-container-id-6 div.sk-text-repr-fallback {display: none;}</style><div id=\"sk-container-id-6\" class=\"sk-top-container\"><div class=\"sk-text-repr-fallback\"><pre>GridSearchCV(cv=10, estimator=SVC(probability=True, random_state=0),\n",
       "             param_grid={&#x27;C&#x27;: [0.001, 0.01, 0.1, 0.3, 0.5, 1, 2, 3, 4, 5, 7,\n",
       "                               10],\n",
       "                         &#x27;gamma&#x27;: [&#x27;scale&#x27;, &#x27;auto&#x27;]},\n",
       "             return_train_score=True, scoring=&#x27;f1&#x27;, verbose=4)</pre><b>In a Jupyter environment, please rerun this cell to show the HTML representation or trust the notebook. <br />On GitHub, the HTML representation is unable to render, please try loading this page with nbviewer.org.</b></div><div class=\"sk-container\" hidden><div class=\"sk-item sk-dashed-wrapped\"><div class=\"sk-label-container\"><div class=\"sk-label sk-toggleable\"><input class=\"sk-toggleable__control sk-hidden--visually\" id=\"sk-estimator-id-10\" type=\"checkbox\" ><label for=\"sk-estimator-id-10\" class=\"sk-toggleable__label sk-toggleable__label-arrow\">GridSearchCV</label><div class=\"sk-toggleable__content\"><pre>GridSearchCV(cv=10, estimator=SVC(probability=True, random_state=0),\n",
       "             param_grid={&#x27;C&#x27;: [0.001, 0.01, 0.1, 0.3, 0.5, 1, 2, 3, 4, 5, 7,\n",
       "                               10],\n",
       "                         &#x27;gamma&#x27;: [&#x27;scale&#x27;, &#x27;auto&#x27;]},\n",
       "             return_train_score=True, scoring=&#x27;f1&#x27;, verbose=4)</pre></div></div></div><div class=\"sk-parallel\"><div class=\"sk-parallel-item\"><div class=\"sk-item\"><div class=\"sk-label-container\"><div class=\"sk-label sk-toggleable\"><input class=\"sk-toggleable__control sk-hidden--visually\" id=\"sk-estimator-id-11\" type=\"checkbox\" ><label for=\"sk-estimator-id-11\" class=\"sk-toggleable__label sk-toggleable__label-arrow\">estimator: SVC</label><div class=\"sk-toggleable__content\"><pre>SVC(probability=True, random_state=0)</pre></div></div></div><div class=\"sk-serial\"><div class=\"sk-item\"><div class=\"sk-estimator sk-toggleable\"><input class=\"sk-toggleable__control sk-hidden--visually\" id=\"sk-estimator-id-12\" type=\"checkbox\" ><label for=\"sk-estimator-id-12\" class=\"sk-toggleable__label sk-toggleable__label-arrow\">SVC</label><div class=\"sk-toggleable__content\"><pre>SVC(probability=True, random_state=0)</pre></div></div></div></div></div></div></div></div></div></div>"
      ],
      "text/plain": [
       "GridSearchCV(cv=10, estimator=SVC(probability=True, random_state=0),\n",
       "             param_grid={'C': [0.001, 0.01, 0.1, 0.3, 0.5, 1, 2, 3, 4, 5, 7,\n",
       "                               10],\n",
       "                         'gamma': ['scale', 'auto']},\n",
       "             return_train_score=True, scoring='f1', verbose=4)"
      ]
     },
     "execution_count": 44,
     "metadata": {},
     "output_type": "execute_result"
    }
   ],
   "source": [
    "#Definición del modelo\n",
    "modelsvmR = svm.SVC(kernel='rbf', probability = True, random_state = 0)\n",
    "\n",
    "\n",
    "\n",
    "# Establecemos un grid con los valores de coste que queremos evaluar\n",
    "grid_hiperparametros = {'C': [0.001, 0.01, 0.1, 0.3, 0.5, 1, 2, 3, 4, 5, 7, 10],\n",
    "                        'gamma': ['scale', 'auto']}\n",
    "                        \n",
    "# definicion de la variable con el número de pliegues\n",
    "CV = 10\n",
    "\n",
    "# Definimos las metricas sobre las que queremos evaluar\n",
    "scoring = 'f1'\n",
    "\n",
    "# Definimos la busqueda mediante 10-fold CV\n",
    "grid_svmR = GridSearchCV(estimator = modelsvmR\n",
    "                             , param_grid = grid_hiperparametros \n",
    "                             , cv = CV\n",
    "                             , scoring = scoring\n",
    "                             , return_train_score = True\n",
    "                             , verbose=4)\n",
    "\n",
    "\n",
    "# Aplicamos la busqueda\n",
    "grid_svmR.fit(X_Completo, y_Completo)"
   ]
  },
  {
   "cell_type": "code",
   "execution_count": 45,
   "metadata": {},
   "outputs": [
    {
     "data": {
      "text/html": [
       "<div>\n",
       "<style scoped>\n",
       "    .dataframe tbody tr th:only-of-type {\n",
       "        vertical-align: middle;\n",
       "    }\n",
       "\n",
       "    .dataframe tbody tr th {\n",
       "        vertical-align: top;\n",
       "    }\n",
       "\n",
       "    .dataframe thead th {\n",
       "        text-align: right;\n",
       "    }\n",
       "</style>\n",
       "<table border=\"1\" class=\"dataframe\">\n",
       "  <thead>\n",
       "    <tr style=\"text-align: right;\">\n",
       "      <th></th>\n",
       "      <th>param_C</th>\n",
       "      <th>param_gamma</th>\n",
       "      <th>mean_test_score</th>\n",
       "      <th>std_test_score</th>\n",
       "      <th>mean_train_score</th>\n",
       "      <th>std_train_score</th>\n",
       "    </tr>\n",
       "  </thead>\n",
       "  <tbody>\n",
       "    <tr>\n",
       "      <th>22</th>\n",
       "      <td>10</td>\n",
       "      <td>scale</td>\n",
       "      <td>0.8671</td>\n",
       "      <td>0.0263</td>\n",
       "      <td>0.9904</td>\n",
       "      <td>0.0018</td>\n",
       "    </tr>\n",
       "    <tr>\n",
       "      <th>20</th>\n",
       "      <td>7</td>\n",
       "      <td>scale</td>\n",
       "      <td>0.8560</td>\n",
       "      <td>0.0300</td>\n",
       "      <td>0.9837</td>\n",
       "      <td>0.0027</td>\n",
       "    </tr>\n",
       "    <tr>\n",
       "      <th>18</th>\n",
       "      <td>5</td>\n",
       "      <td>scale</td>\n",
       "      <td>0.8422</td>\n",
       "      <td>0.0361</td>\n",
       "      <td>0.9729</td>\n",
       "      <td>0.0037</td>\n",
       "    </tr>\n",
       "    <tr>\n",
       "      <th>16</th>\n",
       "      <td>4</td>\n",
       "      <td>scale</td>\n",
       "      <td>0.8338</td>\n",
       "      <td>0.0404</td>\n",
       "      <td>0.9634</td>\n",
       "      <td>0.0054</td>\n",
       "    </tr>\n",
       "  </tbody>\n",
       "</table>\n",
       "</div>"
      ],
      "text/plain": [
       "   param_C param_gamma  mean_test_score  std_test_score  mean_train_score  \\\n",
       "22      10       scale           0.8671          0.0263            0.9904   \n",
       "20       7       scale           0.8560          0.0300            0.9837   \n",
       "18       5       scale           0.8422          0.0361            0.9729   \n",
       "16       4       scale           0.8338          0.0404            0.9634   \n",
       "\n",
       "    std_train_score  \n",
       "22           0.0018  \n",
       "20           0.0027  \n",
       "18           0.0037  \n",
       "16           0.0054  "
      ]
     },
     "execution_count": 45,
     "metadata": {},
     "output_type": "execute_result"
    }
   ],
   "source": [
    "# Resultados\n",
    "resultados = pd.DataFrame(grid_svmR.cv_results_)\n",
    "resultados.filter(regex = '(param.*|mean_t|std_t)') \\\n",
    "    .drop(columns = 'params') \\\n",
    "    .sort_values('mean_test_score', ascending = False) \\\n",
    "    .head(4)"
   ]
  },
  {
   "cell_type": "code",
   "execution_count": 46,
   "metadata": {
    "scrolled": true
   },
   "outputs": [
    {
     "name": "stdout",
     "output_type": "stream",
     "text": [
      "   param_C param_gamma  mean_test_score  std_test_score  scoreWithStd\n",
      "0   0.0010       scale           0.6389          0.2156        2.9635\n",
      "1   0.0010        auto           0.6373          0.2153        2.9598\n",
      "2   0.0100       scale           0.6389          0.2156        2.9635\n",
      "3   0.0100        auto           0.6373          0.2153        2.9598\n",
      "4   0.1000       scale           0.7274          0.0308       23.6062\n",
      "5   0.1000        auto           0.7147          0.0298       23.9428\n",
      "6   0.3000       scale           0.7382          0.0234       31.5366\n",
      "7   0.3000        auto           0.7220          0.0341       21.1859\n",
      "8   0.5000       scale           0.7508          0.0220       34.2033\n",
      "9   0.5000        auto           0.7182          0.0306       23.4672\n",
      "10       1       scale           0.7777          0.0277       28.0566\n",
      "11       1        auto           0.7274          0.0357       20.3814\n",
      "12       2       scale           0.7954          0.0282       28.2418\n",
      "13       2        auto           0.7366          0.0299       24.6430\n",
      "14       3       scale           0.8126          0.0262       31.0273\n",
      "15       3        auto           0.7413          0.0368       20.1243\n",
      "16       4       scale           0.8338          0.0404       20.6508\n",
      "17       4        auto           0.7487          0.0296       25.3119\n",
      "18       5       scale           0.8422          0.0361       23.3078\n",
      "19       5        auto           0.7531          0.0243       30.9954\n",
      "20       7       scale           0.8560          0.0300       28.4871\n",
      "21       7        auto           0.7504          0.0211       35.6255\n",
      "22      10       scale           0.8671          0.0263       32.9359\n",
      "23      10        auto           0.7586          0.0255       29.8067\n"
     ]
    }
   ],
   "source": [
    "# Obtener los resultados del grid search\n",
    "results_grid_svmR = pd.DataFrame(grid_svmR.cv_results_)\n",
    "\n",
    "# Seleccionar las columnas deseadas\n",
    "columns_grid_svmR = ['param_C']  + \\\n",
    "                    ['param_gamma']  + \\\n",
    "                    ['mean_test_score', 'std_test_score']  + \\\n",
    "                    [f'split{i}_test_score' for i in range(CV)]\n",
    "\n",
    "# Filtrar y mostrar los resultados\n",
    "results_grid_svmR_filtered = results_grid_svmR[columns_grid_svmR]\n",
    "\n",
    "# Crear la columna scoreWithStd: f1 / std\n",
    "results_grid_svmR_filtered['scoreWithStd'] = results_grid_svmR_filtered.apply(\n",
    "    lambda row: row['mean_test_score'] / row['std_test_score'] if row['std_test_score'] != 0 else 0,\n",
    "    axis=1\n",
    ")\n",
    "\n",
    "# Encuentra el índice del máximo valor en la columna scoreWithStd\n",
    "indice_max_scoreWithStd = results_grid_svmR_filtered['scoreWithStd'].idxmax()\n",
    "\n",
    "# Mostrar los scores promedios por cada parámetro\n",
    "print(results_grid_svmR_filtered[['param_C', 'param_gamma', 'mean_test_score', 'std_test_score', 'scoreWithStd']])"
   ]
  },
  {
   "cell_type": "code",
   "execution_count": 47,
   "metadata": {},
   "outputs": [
    {
     "data": {
      "text/html": [
       "<div>\n",
       "<style scoped>\n",
       "    .dataframe tbody tr th:only-of-type {\n",
       "        vertical-align: middle;\n",
       "    }\n",
       "\n",
       "    .dataframe tbody tr th {\n",
       "        vertical-align: top;\n",
       "    }\n",
       "\n",
       "    .dataframe thead th {\n",
       "        text-align: right;\n",
       "    }\n",
       "</style>\n",
       "<table border=\"1\" class=\"dataframe\">\n",
       "  <thead>\n",
       "    <tr style=\"text-align: right;\">\n",
       "      <th></th>\n",
       "      <th>param_C</th>\n",
       "      <th>param_gamma</th>\n",
       "      <th>mean_test_score</th>\n",
       "      <th>std_test_score</th>\n",
       "      <th>scoreWithStd</th>\n",
       "    </tr>\n",
       "  </thead>\n",
       "  <tbody>\n",
       "    <tr>\n",
       "      <th>21</th>\n",
       "      <td>7</td>\n",
       "      <td>auto</td>\n",
       "      <td>0.7504</td>\n",
       "      <td>0.0211</td>\n",
       "      <td>35.6255</td>\n",
       "    </tr>\n",
       "    <tr>\n",
       "      <th>8</th>\n",
       "      <td>0.5000</td>\n",
       "      <td>scale</td>\n",
       "      <td>0.7508</td>\n",
       "      <td>0.0220</td>\n",
       "      <td>34.2033</td>\n",
       "    </tr>\n",
       "    <tr>\n",
       "      <th>22</th>\n",
       "      <td>10</td>\n",
       "      <td>scale</td>\n",
       "      <td>0.8671</td>\n",
       "      <td>0.0263</td>\n",
       "      <td>32.9359</td>\n",
       "    </tr>\n",
       "  </tbody>\n",
       "</table>\n",
       "</div>"
      ],
      "text/plain": [
       "   param_C param_gamma  mean_test_score  std_test_score  scoreWithStd\n",
       "21       7        auto           0.7504          0.0211       35.6255\n",
       "8   0.5000       scale           0.7508          0.0220       34.2033\n",
       "22      10       scale           0.8671          0.0263       32.9359"
      ]
     },
     "execution_count": 47,
     "metadata": {},
     "output_type": "execute_result"
    }
   ],
   "source": [
    "# Top 3 de los mejores scores\n",
    "results_grid_svmR_filtered.sort_values(by='scoreWithStd', ascending=False).head(3)[\n",
    "    ['param_C', 'param_gamma', 'mean_test_score', 'std_test_score', 'scoreWithStd']]"
   ]
  },
  {
   "cell_type": "markdown",
   "metadata": {},
   "source": [
    "#### Evaluación del modelo"
   ]
  },
  {
   "cell_type": "code",
   "execution_count": 48,
   "metadata": {},
   "outputs": [
    {
     "data": {
      "text/plain": [
       "param_C                   7\n",
       "param_gamma            auto\n",
       "mean_test_score      0.7504\n",
       "std_test_score       0.0211\n",
       "split0_test_score    0.7642\n",
       "split1_test_score    0.7748\n",
       "split2_test_score    0.7478\n",
       "split3_test_score    0.7156\n",
       "split4_test_score    0.7719\n",
       "split5_test_score    0.7119\n",
       "split6_test_score    0.7414\n",
       "split7_test_score    0.7619\n",
       "split8_test_score    0.7478\n",
       "split9_test_score    0.7667\n",
       "scoreWithStd        35.6255\n",
       "Name: 21, dtype: object"
      ]
     },
     "execution_count": 48,
     "metadata": {},
     "output_type": "execute_result"
    }
   ],
   "source": [
    "# Seleccionar el registro correspondiente al índice máximo\n",
    "registro_max_scoreWithStd = results_grid_svmR_filtered.loc[indice_max_scoreWithStd]\n",
    "\n",
    "registro_max_scoreWithStd.transpose()"
   ]
  },
  {
   "cell_type": "code",
   "execution_count": 49,
   "metadata": {},
   "outputs": [
    {
     "data": {
      "text/html": [
       "<div>\n",
       "<style scoped>\n",
       "    .dataframe tbody tr th:only-of-type {\n",
       "        vertical-align: middle;\n",
       "    }\n",
       "\n",
       "    .dataframe tbody tr th {\n",
       "        vertical-align: top;\n",
       "    }\n",
       "\n",
       "    .dataframe thead th {\n",
       "        text-align: right;\n",
       "    }\n",
       "</style>\n",
       "<table border=\"1\" class=\"dataframe\">\n",
       "  <thead>\n",
       "    <tr style=\"text-align: right;\">\n",
       "      <th></th>\n",
       "      <th>Tipo</th>\n",
       "      <th>f1-score</th>\n",
       "    </tr>\n",
       "  </thead>\n",
       "  <tbody>\n",
       "    <tr>\n",
       "      <th>0</th>\n",
       "      <td>Lineal y método de retención</td>\n",
       "      <td>0.7288</td>\n",
       "    </tr>\n",
       "    <tr>\n",
       "      <th>0</th>\n",
       "      <td>Lineal e hiperparámetro C con validación cruzada</td>\n",
       "      <td>0.7407</td>\n",
       "    </tr>\n",
       "    <tr>\n",
       "      <th>0</th>\n",
       "      <td>Polinómico e hiperparámetros: C y degree con v...</td>\n",
       "      <td>0.7496</td>\n",
       "    </tr>\n",
       "    <tr>\n",
       "      <th>0</th>\n",
       "      <td>Radial e hiperparámetros: C y gamma con valida...</td>\n",
       "      <td>0.7504</td>\n",
       "    </tr>\n",
       "  </tbody>\n",
       "</table>\n",
       "</div>"
      ],
      "text/plain": [
       "                                                Tipo  f1-score\n",
       "0                       Lineal y método de retención    0.7288\n",
       "0   Lineal e hiperparámetro C con validación cruzada    0.7407\n",
       "0  Polinómico e hiperparámetros: C y degree con v...    0.7496\n",
       "0  Radial e hiperparámetros: C y gamma con valida...    0.7504"
      ]
     },
     "execution_count": 49,
     "metadata": {},
     "output_type": "execute_result"
    }
   ],
   "source": [
    "dfResults = dfResults.append(pd.DataFrame(\n",
    "                {'Tipo': ['Radial e hiperparámetros: C y gamma con validación cruzada'],\n",
    "                 'f1-score':results_grid_svmR_filtered.loc[indice_max_scoreWithStd]['mean_test_score']}))\n",
    "dfResults"
   ]
  },
  {
   "cell_type": "markdown",
   "metadata": {},
   "source": [
    "#### Creación del modelo final"
   ]
  },
  {
   "cell_type": "code",
   "execution_count": 50,
   "metadata": {},
   "outputs": [
    {
     "data": {
      "text/html": [
       "<style>#sk-container-id-7 {color: black;background-color: white;}#sk-container-id-7 pre{padding: 0;}#sk-container-id-7 div.sk-toggleable {background-color: white;}#sk-container-id-7 label.sk-toggleable__label {cursor: pointer;display: block;width: 100%;margin-bottom: 0;padding: 0.3em;box-sizing: border-box;text-align: center;}#sk-container-id-7 label.sk-toggleable__label-arrow:before {content: \"▸\";float: left;margin-right: 0.25em;color: #696969;}#sk-container-id-7 label.sk-toggleable__label-arrow:hover:before {color: black;}#sk-container-id-7 div.sk-estimator:hover label.sk-toggleable__label-arrow:before {color: black;}#sk-container-id-7 div.sk-toggleable__content {max-height: 0;max-width: 0;overflow: hidden;text-align: left;background-color: #f0f8ff;}#sk-container-id-7 div.sk-toggleable__content pre {margin: 0.2em;color: black;border-radius: 0.25em;background-color: #f0f8ff;}#sk-container-id-7 input.sk-toggleable__control:checked~div.sk-toggleable__content {max-height: 200px;max-width: 100%;overflow: auto;}#sk-container-id-7 input.sk-toggleable__control:checked~label.sk-toggleable__label-arrow:before {content: \"▾\";}#sk-container-id-7 div.sk-estimator input.sk-toggleable__control:checked~label.sk-toggleable__label {background-color: #d4ebff;}#sk-container-id-7 div.sk-label input.sk-toggleable__control:checked~label.sk-toggleable__label {background-color: #d4ebff;}#sk-container-id-7 input.sk-hidden--visually {border: 0;clip: rect(1px 1px 1px 1px);clip: rect(1px, 1px, 1px, 1px);height: 1px;margin: -1px;overflow: hidden;padding: 0;position: absolute;width: 1px;}#sk-container-id-7 div.sk-estimator {font-family: monospace;background-color: #f0f8ff;border: 1px dotted black;border-radius: 0.25em;box-sizing: border-box;margin-bottom: 0.5em;}#sk-container-id-7 div.sk-estimator:hover {background-color: #d4ebff;}#sk-container-id-7 div.sk-parallel-item::after {content: \"\";width: 100%;border-bottom: 1px solid gray;flex-grow: 1;}#sk-container-id-7 div.sk-label:hover label.sk-toggleable__label {background-color: #d4ebff;}#sk-container-id-7 div.sk-serial::before {content: \"\";position: absolute;border-left: 1px solid gray;box-sizing: border-box;top: 0;bottom: 0;left: 50%;z-index: 0;}#sk-container-id-7 div.sk-serial {display: flex;flex-direction: column;align-items: center;background-color: white;padding-right: 0.2em;padding-left: 0.2em;position: relative;}#sk-container-id-7 div.sk-item {position: relative;z-index: 1;}#sk-container-id-7 div.sk-parallel {display: flex;align-items: stretch;justify-content: center;background-color: white;position: relative;}#sk-container-id-7 div.sk-item::before, #sk-container-id-7 div.sk-parallel-item::before {content: \"\";position: absolute;border-left: 1px solid gray;box-sizing: border-box;top: 0;bottom: 0;left: 50%;z-index: -1;}#sk-container-id-7 div.sk-parallel-item {display: flex;flex-direction: column;z-index: 1;position: relative;background-color: white;}#sk-container-id-7 div.sk-parallel-item:first-child::after {align-self: flex-end;width: 50%;}#sk-container-id-7 div.sk-parallel-item:last-child::after {align-self: flex-start;width: 50%;}#sk-container-id-7 div.sk-parallel-item:only-child::after {width: 0;}#sk-container-id-7 div.sk-dashed-wrapped {border: 1px dashed gray;margin: 0 0.4em 0.5em 0.4em;box-sizing: border-box;padding-bottom: 0.4em;background-color: white;}#sk-container-id-7 div.sk-label label {font-family: monospace;font-weight: bold;display: inline-block;line-height: 1.2em;}#sk-container-id-7 div.sk-label-container {text-align: center;}#sk-container-id-7 div.sk-container {/* jupyter's `normalize.less` sets `[hidden] { display: none; }` but bootstrap.min.css set `[hidden] { display: none !important; }` so we also need the `!important` here to be able to override the default hidden behavior on the sphinx rendered scikit-learn.org. See: https://github.com/scikit-learn/scikit-learn/issues/21755 */display: inline-block !important;position: relative;}#sk-container-id-7 div.sk-text-repr-fallback {display: none;}</style><div id=\"sk-container-id-7\" class=\"sk-top-container\"><div class=\"sk-text-repr-fallback\"><pre>SVC(C=7, gamma=&#x27;auto&#x27;, probability=True, random_state=0)</pre><b>In a Jupyter environment, please rerun this cell to show the HTML representation or trust the notebook. <br />On GitHub, the HTML representation is unable to render, please try loading this page with nbviewer.org.</b></div><div class=\"sk-container\" hidden><div class=\"sk-item\"><div class=\"sk-estimator sk-toggleable\"><input class=\"sk-toggleable__control sk-hidden--visually\" id=\"sk-estimator-id-13\" type=\"checkbox\" checked><label for=\"sk-estimator-id-13\" class=\"sk-toggleable__label sk-toggleable__label-arrow\">SVC</label><div class=\"sk-toggleable__content\"><pre>SVC(C=7, gamma=&#x27;auto&#x27;, probability=True, random_state=0)</pre></div></div></div></div></div>"
      ],
      "text/plain": [
       "SVC(C=7, gamma='auto', probability=True, random_state=0)"
      ]
     },
     "execution_count": 50,
     "metadata": {},
     "output_type": "execute_result"
    }
   ],
   "source": [
    "# Usar los mejores parámetros para crear el modelo\n",
    "modelsvmR.set_params(kernel='rbf'\n",
    "                     , C = results_grid_svmR_filtered.loc[indice_max_scoreWithStd]['param_C']\n",
    "                     , gamma = results_grid_svmR_filtered.loc[indice_max_scoreWithStd]['param_gamma']\n",
    "                    )\n",
    "\n",
    "modelsvmR.fit(X_Completo, y_Completo)"
   ]
  },
  {
   "cell_type": "markdown",
   "metadata": {
    "id": "ysK0RnoiQRo1"
   },
   "source": [
    "### 8. Eligiendo el modelo"
   ]
  },
  {
   "cell_type": "code",
   "execution_count": 51,
   "metadata": {},
   "outputs": [
    {
     "data": {
      "text/html": [
       "<div>\n",
       "<style scoped>\n",
       "    .dataframe tbody tr th:only-of-type {\n",
       "        vertical-align: middle;\n",
       "    }\n",
       "\n",
       "    .dataframe tbody tr th {\n",
       "        vertical-align: top;\n",
       "    }\n",
       "\n",
       "    .dataframe thead th {\n",
       "        text-align: right;\n",
       "    }\n",
       "</style>\n",
       "<table border=\"1\" class=\"dataframe\">\n",
       "  <thead>\n",
       "    <tr style=\"text-align: right;\">\n",
       "      <th></th>\n",
       "      <th>Tipo</th>\n",
       "      <th>f1-score</th>\n",
       "    </tr>\n",
       "  </thead>\n",
       "  <tbody>\n",
       "    <tr>\n",
       "      <th>0</th>\n",
       "      <td>Lineal y método de retención</td>\n",
       "      <td>0.7288</td>\n",
       "    </tr>\n",
       "    <tr>\n",
       "      <th>0</th>\n",
       "      <td>Lineal e hiperparámetro C con validación cruzada</td>\n",
       "      <td>0.7407</td>\n",
       "    </tr>\n",
       "    <tr>\n",
       "      <th>0</th>\n",
       "      <td>Polinómico e hiperparámetros: C y degree con v...</td>\n",
       "      <td>0.7496</td>\n",
       "    </tr>\n",
       "    <tr>\n",
       "      <th>0</th>\n",
       "      <td>Radial e hiperparámetros: C y gamma con valida...</td>\n",
       "      <td>0.7504</td>\n",
       "    </tr>\n",
       "  </tbody>\n",
       "</table>\n",
       "</div>"
      ],
      "text/plain": [
       "                                                Tipo  f1-score\n",
       "0                       Lineal y método de retención    0.7288\n",
       "0   Lineal e hiperparámetro C con validación cruzada    0.7407\n",
       "0  Polinómico e hiperparámetros: C y degree con v...    0.7496\n",
       "0  Radial e hiperparámetros: C y gamma con valida...    0.7504"
      ]
     },
     "execution_count": 51,
     "metadata": {},
     "output_type": "execute_result"
    }
   ],
   "source": [
    "dfResults"
   ]
  },
  {
   "cell_type": "markdown",
   "metadata": {},
   "source": [
    "### Guardar modelo"
   ]
  },
  {
   "cell_type": "code",
   "execution_count": 52,
   "metadata": {},
   "outputs": [
    {
     "data": {
      "text/plain": [
       "['./modelos/clasificacion/SVC_CV_rbf.pkl']"
      ]
     },
     "execution_count": 52,
     "metadata": {},
     "output_type": "execute_result"
    }
   ],
   "source": [
    "#Se guardan los modelos de SVC\n",
    "\n",
    "joblib.dump(modelsvmL, './modelos/clasificacion/SVC_CV_lineal.pkl')\n",
    "\n",
    "joblib.dump(modelsvmP, './modelos/clasificacion/SVC_CV_poly.pkl')\n",
    "\n",
    "joblib.dump(modelsvmR, './modelos/clasificacion/SVC_CV_rbf.pkl')\n"
   ]
  },
  {
   "cell_type": "markdown",
   "metadata": {
    "id": "JgEmi3aMQRo2"
   },
   "source": [
    "#### Referencias\n",
    "\n",
    "\n",
    "- Maquinas de vectores de soporte\n",
    "\n",
    "    - https://www.datacamp.com/community/tutorials/svm-classification-scikit-learn-python\n",
    "    \n",
    "    \n",
    "- Tuning parametros SVM\n",
    "    - https://github.com/CristinaGil/Ciencia-de-Datos-Python/blob/master/maquinas_vector_soporte.ipynb\n",
    "    \n",
    "\n",
    "- Hiperparametros y Kernels\n",
    "\n",
    "    - https://ichi.pro/es/hiperparametros-de-svm-explicados-con-visualizaciones-22257741819931\n",
    "\n",
    "    - https://jakevdp.github.io/PythonDataScienceHandbook/05.07-support-vector-machines.html\n",
    "\n",
    "\n",
    "- *scikit-learn:*   \n",
    "    - https://scikit-learn.org/stable/modules/svm.html\n",
    "\n",
    "\n",
    "\n",
    "- *Gráficas con  seaborn:*\n",
    "    - https://ichi.pro/es/como-utilizar-python-seaborn-para-analisis-de-datos-exploratorios-28897898172180\n",
    "\n",
    "\n",
    "- *Multicolinealidad:*\n",
    "    - https://www.analyticslane.com/2020/04/22/solucionar-la-multicolinealidad-con-vif/\n",
    "\n",
    "\n",
    "- *Analítica de grandes datos:*\n",
    "    - https://jdvelasq.github.io/courses/analitica-de-grandes-datos/index.html"
   ]
  }
 ],
 "metadata": {
  "colab": {
   "name": "05_2_MaquinasVectoresSoporte_Clasificacion.ipynb",
   "provenance": []
  },
  "kernelspec": {
   "display_name": "Python 3 (ipykernel)",
   "language": "python",
   "name": "python3"
  },
  "language_info": {
   "codemirror_mode": {
    "name": "ipython",
    "version": 3
   },
   "file_extension": ".py",
   "mimetype": "text/x-python",
   "name": "python",
   "nbconvert_exporter": "python",
   "pygments_lexer": "ipython3",
   "version": "3.9.7"
  }
 },
 "nbformat": 4,
 "nbformat_minor": 1
}
