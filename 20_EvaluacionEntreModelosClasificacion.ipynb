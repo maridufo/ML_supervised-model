{
 "cells": [
  {
   "cell_type": "markdown",
   "metadata": {
    "id": "3Gqu_tYHEZr5"
   },
   "source": [
    "# Evaluación entre diferentes Modelos de Clasificación"
   ]
  },
  {
   "cell_type": "markdown",
   "metadata": {
    "id": "QRjI2HEKEZr_"
   },
   "source": [
    "## 1. Librerias y configuraciones previas\n"
   ]
  },
  {
   "cell_type": "code",
   "execution_count": 1,
   "metadata": {},
   "outputs": [],
   "source": [
    "# Tratamiento de datos\n",
    "# ==============================================================================\n",
    "import pandas as pd\n",
    "import numpy as np\n",
    "\n",
    "\n",
    "# Almacenar en caché los resultados de funciones en el disco\n",
    "# ==============================================================================\n",
    "import joblib\n",
    "import os\n",
    "\n",
    "\n",
    "# Gestion de librerias\n",
    "# ==============================================================================\n",
    "from importlib import reload\n",
    "\n",
    "\n",
    "# Matemáticas y estadísticas\n",
    "# ==============================================================================\n",
    "import math\n",
    "\n",
    "\n",
    "# Preparación de datos\n",
    "# ==============================================================================\n",
    "from sklearn.neighbors import LocalOutlierFactor\n",
    "\n",
    "#Separar los datos entrenamiento y prueba\n",
    "from sklearn.model_selection import train_test_split\n",
    "\n",
    "\n",
    "#Escalar Variables\n",
    "from sklearn.preprocessing import MinMaxScaler\n",
    "\n",
    "\n",
    "#Evaluación del modelo\n",
    "from sklearn import metrics\n",
    "from sklearn.metrics import classification_report, confusion_matrix, ConfusionMatrixDisplay\n",
    "from sklearn.metrics import roc_auc_score\n",
    "from sklearn.metrics import roc_curve\n",
    "\n",
    "\n",
    "#Creación de modelo\n",
    "from sklearn import svm\n",
    "\n",
    "\n",
    "#configuracion de hiperparámetros\n",
    "from sklearn.model_selection import GridSearchCV\n",
    "from sklearn.model_selection import cross_val_score\n",
    "\n",
    "# Gráficos\n",
    "# ==============================================================================\n",
    "import matplotlib.pyplot as plt\n",
    "from matplotlib import style\n",
    "import seaborn as sns\n",
    "\n",
    "\n",
    "# Configuración warnings\n",
    "# ==============================================================================\n",
    "import warnings\n",
    "warnings.filterwarnings('ignore')"
   ]
  },
  {
   "cell_type": "markdown",
   "metadata": {},
   "source": [
    "## 2. Funciones"
   ]
  },
  {
   "cell_type": "code",
   "execution_count": 2,
   "metadata": {},
   "outputs": [],
   "source": [
    "#reload(utils.funciones)\n",
    "\n",
    "# Funciones externas\n",
    "# ==============================================================================\n",
    "from utils.funciones import multiple_plot, plot_roc_curve"
   ]
  },
  {
   "cell_type": "markdown",
   "metadata": {},
   "source": [
    "## 3. Carga del dataset"
   ]
  },
  {
   "cell_type": "code",
   "execution_count": 3,
   "metadata": {},
   "outputs": [
    {
     "data": {
      "text/plain": [
       "(100, 21)"
      ]
     },
     "execution_count": 3,
     "metadata": {},
     "output_type": "execute_result"
    }
   ],
   "source": [
    "#Carga del dataset\n",
    "\n",
    "dp=pd.read_csv('./datasets/02_GermanCredit_Prue.csv')\n",
    "dp.shape"
   ]
  },
  {
   "cell_type": "code",
   "execution_count": 4,
   "metadata": {},
   "outputs": [],
   "source": [
    "## Cargar datos con colab\n",
    "## =============================================================================\n",
    "\n",
    "#from google.colab import drive \n",
    "#import os\n",
    "\n",
    "#drive.mount('/gdrive')"
   ]
  },
  {
   "cell_type": "code",
   "execution_count": 5,
   "metadata": {},
   "outputs": [],
   "source": [
    "#os.chdir(\"/gdrive/MyDrive/ModelosCuantitativosPython/Notebooks\")\n",
    "#!ls"
   ]
  },
  {
   "cell_type": "code",
   "execution_count": 6,
   "metadata": {},
   "outputs": [
    {
     "name": "stdout",
     "output_type": "stream",
     "text": [
      "<class 'pandas.core.frame.DataFrame'>\n",
      "RangeIndex: 100 entries, 0 to 99\n",
      "Data columns (total 21 columns):\n",
      " #   Column                    Non-Null Count  Dtype \n",
      "---  ------                    --------------  ----- \n",
      " 0   checking_account_status   100 non-null    object\n",
      " 1   loan_duration_mo          100 non-null    int64 \n",
      " 2   credit_history            100 non-null    object\n",
      " 3   purpose                   100 non-null    object\n",
      " 4   loan_amount               100 non-null    int64 \n",
      " 5   savings_account_balance   100 non-null    object\n",
      " 6   time_employed_yrs         100 non-null    object\n",
      " 7   payment_pcnt_income       100 non-null    int64 \n",
      " 8   gender_status             100 non-null    object\n",
      " 9   other_signators           100 non-null    object\n",
      " 10  time_in_residence         100 non-null    int64 \n",
      " 11  property                  100 non-null    object\n",
      " 12  age_yrs                   100 non-null    int64 \n",
      " 13  other_credit_outstanding  100 non-null    object\n",
      " 14  home_ownership            100 non-null    object\n",
      " 15  number_loans              100 non-null    int64 \n",
      " 16  job_category              100 non-null    object\n",
      " 17  dependents                100 non-null    int64 \n",
      " 18  telephone                 100 non-null    object\n",
      " 19  foreign_worker            100 non-null    object\n",
      " 20  bad_credit                100 non-null    int64 \n",
      "dtypes: int64(8), object(13)\n",
      "memory usage: 16.5+ KB\n"
     ]
    }
   ],
   "source": [
    "dp.info()"
   ]
  },
  {
   "cell_type": "markdown",
   "metadata": {},
   "source": [
    "## 4. Visualización de datos"
   ]
  },
  {
   "cell_type": "markdown",
   "metadata": {},
   "source": [
    "### Variables de entrada"
   ]
  },
  {
   "cell_type": "code",
   "execution_count": 7,
   "metadata": {},
   "outputs": [
    {
     "data": {
      "text/html": [
       "<div>\n",
       "<style scoped>\n",
       "    .dataframe tbody tr th:only-of-type {\n",
       "        vertical-align: middle;\n",
       "    }\n",
       "\n",
       "    .dataframe tbody tr th {\n",
       "        vertical-align: top;\n",
       "    }\n",
       "\n",
       "    .dataframe thead th {\n",
       "        text-align: right;\n",
       "    }\n",
       "</style>\n",
       "<table border=\"1\" class=\"dataframe\">\n",
       "  <thead>\n",
       "    <tr style=\"text-align: right;\">\n",
       "      <th></th>\n",
       "      <th>checking_account_status</th>\n",
       "      <th>credit_history</th>\n",
       "      <th>purpose</th>\n",
       "      <th>savings_account_balance</th>\n",
       "      <th>time_employed_yrs</th>\n",
       "      <th>gender_status</th>\n",
       "      <th>other_signators</th>\n",
       "      <th>property</th>\n",
       "      <th>other_credit_outstanding</th>\n",
       "      <th>home_ownership</th>\n",
       "      <th>job_category</th>\n",
       "      <th>telephone</th>\n",
       "      <th>foreign_worker</th>\n",
       "    </tr>\n",
       "  </thead>\n",
       "  <tbody>\n",
       "    <tr>\n",
       "      <th>0</th>\n",
       "      <td>none</td>\n",
       "      <td>critical account - other non-bank loans</td>\n",
       "      <td>education</td>\n",
       "      <td>&lt; 100 DM</td>\n",
       "      <td>4 - 7 years</td>\n",
       "      <td>male-single</td>\n",
       "      <td>none</td>\n",
       "      <td>real estate</td>\n",
       "      <td>none</td>\n",
       "      <td>own</td>\n",
       "      <td>unskilled-resident</td>\n",
       "      <td>none</td>\n",
       "      <td>yes</td>\n",
       "    </tr>\n",
       "    <tr>\n",
       "      <th>1</th>\n",
       "      <td>&lt; 0 DM</td>\n",
       "      <td>no credit - paid</td>\n",
       "      <td>business</td>\n",
       "      <td>unknown/none</td>\n",
       "      <td>&lt; 1 year</td>\n",
       "      <td>male-single</td>\n",
       "      <td>none</td>\n",
       "      <td>car or other</td>\n",
       "      <td>bank</td>\n",
       "      <td>own</td>\n",
       "      <td>skilled</td>\n",
       "      <td>none</td>\n",
       "      <td>yes</td>\n",
       "    </tr>\n",
       "  </tbody>\n",
       "</table>\n",
       "</div>"
      ],
      "text/plain": [
       "  checking_account_status                           credit_history    purpose  \\\n",
       "0                    none  critical account - other non-bank loans  education   \n",
       "1                  < 0 DM                         no credit - paid   business   \n",
       "\n",
       "  savings_account_balance time_employed_yrs gender_status other_signators  \\\n",
       "0                < 100 DM       4 - 7 years   male-single            none   \n",
       "1            unknown/none          < 1 year   male-single            none   \n",
       "\n",
       "       property other_credit_outstanding home_ownership        job_category  \\\n",
       "0   real estate                     none            own  unskilled-resident   \n",
       "1  car or other                     bank            own             skilled   \n",
       "\n",
       "  telephone foreign_worker  \n",
       "0      none            yes  \n",
       "1      none            yes  "
      ]
     },
     "execution_count": 7,
     "metadata": {},
     "output_type": "execute_result"
    }
   ],
   "source": [
    "#Lista de variables categóricas\n",
    "catCols = dp.select_dtypes(include = [\"object\", 'category']).columns.tolist()\n",
    "\n",
    "dp[catCols].head(2)"
   ]
  },
  {
   "cell_type": "code",
   "execution_count": 8,
   "metadata": {},
   "outputs": [
    {
     "data": {
      "text/html": [
       "<div>\n",
       "<style scoped>\n",
       "    .dataframe tbody tr th:only-of-type {\n",
       "        vertical-align: middle;\n",
       "    }\n",
       "\n",
       "    .dataframe tbody tr th {\n",
       "        vertical-align: top;\n",
       "    }\n",
       "\n",
       "    .dataframe thead th {\n",
       "        text-align: right;\n",
       "    }\n",
       "</style>\n",
       "<table border=\"1\" class=\"dataframe\">\n",
       "  <thead>\n",
       "    <tr style=\"text-align: right;\">\n",
       "      <th></th>\n",
       "      <th>loan_duration_mo</th>\n",
       "      <th>loan_amount</th>\n",
       "      <th>payment_pcnt_income</th>\n",
       "      <th>time_in_residence</th>\n",
       "      <th>age_yrs</th>\n",
       "      <th>number_loans</th>\n",
       "      <th>dependents</th>\n",
       "      <th>bad_credit</th>\n",
       "    </tr>\n",
       "  </thead>\n",
       "  <tbody>\n",
       "    <tr>\n",
       "      <th>0</th>\n",
       "      <td>12</td>\n",
       "      <td>2096</td>\n",
       "      <td>2</td>\n",
       "      <td>3</td>\n",
       "      <td>49</td>\n",
       "      <td>1</td>\n",
       "      <td>2</td>\n",
       "      <td>0</td>\n",
       "    </tr>\n",
       "    <tr>\n",
       "      <th>1</th>\n",
       "      <td>30</td>\n",
       "      <td>8072</td>\n",
       "      <td>2</td>\n",
       "      <td>3</td>\n",
       "      <td>25</td>\n",
       "      <td>3</td>\n",
       "      <td>1</td>\n",
       "      <td>0</td>\n",
       "    </tr>\n",
       "  </tbody>\n",
       "</table>\n",
       "</div>"
      ],
      "text/plain": [
       "   loan_duration_mo  loan_amount  payment_pcnt_income  time_in_residence  \\\n",
       "0                12         2096                    2                  3   \n",
       "1                30         8072                    2                  3   \n",
       "\n",
       "   age_yrs  number_loans  dependents  bad_credit  \n",
       "0       49             1           2           0  \n",
       "1       25             3           1           0  "
      ]
     },
     "execution_count": 8,
     "metadata": {},
     "output_type": "execute_result"
    }
   ],
   "source": [
    "#Lista de variables numéricas\n",
    "\n",
    "numCols=dp.select_dtypes(include = ['float64','float64','int32','int64']).columns.tolist()\n",
    "\n",
    "dp[numCols].head(2)"
   ]
  },
  {
   "cell_type": "code",
   "execution_count": 9,
   "metadata": {},
   "outputs": [],
   "source": [
    "## Visualización de frecuencia de instancias para variables categóricas\n",
    "#multiple_plot(3, dp , catCols, None, 'countplot', 'Frecuencia de instancias para variables categóricas',30)"
   ]
  },
  {
   "cell_type": "code",
   "execution_count": 10,
   "metadata": {},
   "outputs": [],
   "source": [
    "## Visualización de variables numéricas\n",
    "#multiple_plot(1, dp , numCols, None, 'scatterplot', 'Relación entre las variables numéricas',30)"
   ]
  },
  {
   "cell_type": "code",
   "execution_count": 11,
   "metadata": {},
   "outputs": [],
   "source": [
    "#Eliminar la variable de salida de la lista de variable numéricas\n",
    "numCols.remove('bad_credit')"
   ]
  },
  {
   "cell_type": "markdown",
   "metadata": {},
   "source": [
    "### Variable de salida"
   ]
  },
  {
   "cell_type": "code",
   "execution_count": 12,
   "metadata": {},
   "outputs": [
    {
     "data": {
      "text/plain": [
       "bad_credit\n",
       "0    71\n",
       "1    29\n",
       "Name: bad_credit, dtype: int64"
      ]
     },
     "execution_count": 12,
     "metadata": {},
     "output_type": "execute_result"
    }
   ],
   "source": [
    "# Distriución de la variable de salida\n",
    "\n",
    "dp.groupby('bad_credit').bad_credit.count().sort_values(ascending=False)"
   ]
  },
  {
   "cell_type": "code",
   "execution_count": 13,
   "metadata": {},
   "outputs": [],
   "source": [
    "##Visualización de la variable de salida\n",
    "#multiple_plot(1, d , None, 'bad_credit', 'countplot', 'Gráfica de frecuencia de bad Credit',0)"
   ]
  },
  {
   "cell_type": "markdown",
   "metadata": {},
   "source": [
    "## 5. Transformación de datos"
   ]
  },
  {
   "cell_type": "markdown",
   "metadata": {},
   "source": [
    "### Valores atípicos para las variables de entrada"
   ]
  },
  {
   "cell_type": "code",
   "execution_count": 14,
   "metadata": {},
   "outputs": [
    {
     "name": "stdout",
     "output_type": "stream",
     "text": [
      "Indices de valores atípicos:  [2, 12, 29, 41, 47, 48, 54, 65, 70, 73]\n"
     ]
    }
   ],
   "source": [
    "#utilización de LocalOutlierFactor con 13 vecinos para identificar valores atípicos en las variables de entrada\n",
    "\n",
    "\n",
    "# crear un objeto LocalOutlierFactor con n_neighbors=13\n",
    "lof = LocalOutlierFactor(n_neighbors=13, contamination=0.1)\n",
    "\n",
    "# identificar los valires atípicos por medio de lof \n",
    "y_pred = lof.fit_predict(dp[numCols])\n",
    "\n",
    "# Identificar los índices de los valores atípicos\n",
    "outliers = y_pred == -1\n",
    "\n",
    "print('Indices de valores atípicos: ', dp[outliers].index.tolist())"
   ]
  },
  {
   "cell_type": "code",
   "execution_count": 15,
   "metadata": {},
   "outputs": [],
   "source": [
    "# Eliminar los valores atípicos del dataframe original\n",
    "dp = dp.loc[~outliers]"
   ]
  },
  {
   "cell_type": "markdown",
   "metadata": {},
   "source": [
    "### Creación de variables Dummies "
   ]
  },
  {
   "cell_type": "code",
   "execution_count": 16,
   "metadata": {},
   "outputs": [
    {
     "name": "stdout",
     "output_type": "stream",
     "text": [
      "<class 'pandas.core.frame.DataFrame'>\n",
      "Int64Index: 90 entries, 0 to 99\n",
      "Data columns (total 46 columns):\n",
      " #   Column                                                  Non-Null Count  Dtype\n",
      "---  ------                                                  --------------  -----\n",
      " 0   loan_duration_mo                                        90 non-null     int64\n",
      " 1   loan_amount                                             90 non-null     int64\n",
      " 2   payment_pcnt_income                                     90 non-null     int64\n",
      " 3   time_in_residence                                       90 non-null     int64\n",
      " 4   age_yrs                                                 90 non-null     int64\n",
      " 5   number_loans                                            90 non-null     int64\n",
      " 6   dependents                                              90 non-null     int64\n",
      " 7   bad_credit                                              90 non-null     int64\n",
      " 8   checking_account_status_< 0 DM                          90 non-null     uint8\n",
      " 9   checking_account_status_> 200 DM or salary assignment   90 non-null     uint8\n",
      " 10  checking_account_status_none                            90 non-null     uint8\n",
      " 11  credit_history_critical account - other non-bank loans  90 non-null     uint8\n",
      " 12  credit_history_current loans paid                       90 non-null     uint8\n",
      " 13  credit_history_no credit - paid                         90 non-null     uint8\n",
      " 14  credit_history_past payment delays                      90 non-null     uint8\n",
      " 15  purpose_car                                             90 non-null     uint8\n",
      " 16  purpose_education                                       90 non-null     uint8\n",
      " 17  purpose_furniture/equipment                             90 non-null     uint8\n",
      " 18  purpose_other                                           90 non-null     uint8\n",
      " 19  purpose_radio/television                                90 non-null     uint8\n",
      " 20  purpose_repairs                                         90 non-null     uint8\n",
      " 21  savings_account_balance_500 - 1000 DM                   90 non-null     uint8\n",
      " 22  savings_account_balance_< 100 DM                        90 non-null     uint8\n",
      " 23  savings_account_balance_>= 1000 DM                      90 non-null     uint8\n",
      " 24  savings_account_balance_unknown/none                    90 non-null     uint8\n",
      " 25  time_employed_yrs_4 - 7 years                           90 non-null     uint8\n",
      " 26  time_employed_yrs_< 1 year                              90 non-null     uint8\n",
      " 27  time_employed_yrs_>= 7 years                            90 non-null     uint8\n",
      " 28  time_employed_yrs_unemployed                            90 non-null     uint8\n",
      " 29  gender_status_male-divorced/separated                   90 non-null     uint8\n",
      " 30  gender_status_male-married/widowed                      90 non-null     uint8\n",
      " 31  gender_status_male-single                               90 non-null     uint8\n",
      " 32  other_signators_guarantor                               90 non-null     uint8\n",
      " 33  other_signators_none                                    90 non-null     uint8\n",
      " 34  property_car or other                                   90 non-null     uint8\n",
      " 35  property_real estate                                    90 non-null     uint8\n",
      " 36  property_unknown-none                                   90 non-null     uint8\n",
      " 37  other_credit_outstanding_none                           90 non-null     uint8\n",
      " 38  other_credit_outstanding_stores                         90 non-null     uint8\n",
      " 39  home_ownership_own                                      90 non-null     uint8\n",
      " 40  home_ownership_rent                                     90 non-null     uint8\n",
      " 41  job_category_skilled                                    90 non-null     uint8\n",
      " 42  job_category_unemployed-unskilled-non-resident          90 non-null     uint8\n",
      " 43  job_category_unskilled-resident                         90 non-null     uint8\n",
      " 44  telephone_yes                                           90 non-null     uint8\n",
      " 45  foreign_worker_yes                                      90 non-null     uint8\n",
      "dtypes: int64(8), uint8(38)\n",
      "memory usage: 9.7 KB\n"
     ]
    }
   ],
   "source": [
    "# Aplicación de la función de usuario Dummies: one-hot encoding\n",
    "\n",
    "dp =pd.get_dummies(dp, drop_first=1)\n",
    "\n",
    "dp.info()"
   ]
  },
  {
   "cell_type": "markdown",
   "metadata": {},
   "source": [
    "### Columnas categóricas faltantes"
   ]
  },
  {
   "cell_type": "code",
   "execution_count": 17,
   "metadata": {},
   "outputs": [
    {
     "data": {
      "text/plain": [
       "(100, 21)"
      ]
     },
     "execution_count": 17,
     "metadata": {},
     "output_type": "execute_result"
    }
   ],
   "source": [
    "#Carga del dataset\n",
    "\n",
    "d=pd.read_csv('./datasets/02_GermanCredit_Prue.csv')\n",
    "d.shape"
   ]
  },
  {
   "cell_type": "code",
   "execution_count": 18,
   "metadata": {},
   "outputs": [
    {
     "data": {
      "text/plain": [
       "(100, 46)"
      ]
     },
     "execution_count": 18,
     "metadata": {},
     "output_type": "execute_result"
    }
   ],
   "source": [
    "# Aplicación de la función de usuario Dummies: one-hot encoding\n",
    "\n",
    "d =pd.get_dummies(d, drop_first=1)\n",
    "\n",
    "d.shape"
   ]
  },
  {
   "cell_type": "code",
   "execution_count": 19,
   "metadata": {},
   "outputs": [],
   "source": [
    "# Obtener las columnas categóricas que están en el dataframe original pero no en el dataset de pruebas\n",
    "\n",
    "missingCols = set(d.columns) - set(dp.columns)\n",
    "\n",
    "# Agregar columnas con valores predeterminados 0\n",
    "for col in missingCols:\n",
    "    dp[col] = 0"
   ]
  },
  {
   "cell_type": "code",
   "execution_count": 20,
   "metadata": {},
   "outputs": [
    {
     "data": {
      "text/html": [
       "<div>\n",
       "<style scoped>\n",
       "    .dataframe tbody tr th:only-of-type {\n",
       "        vertical-align: middle;\n",
       "    }\n",
       "\n",
       "    .dataframe tbody tr th {\n",
       "        vertical-align: top;\n",
       "    }\n",
       "\n",
       "    .dataframe thead th {\n",
       "        text-align: right;\n",
       "    }\n",
       "</style>\n",
       "<table border=\"1\" class=\"dataframe\">\n",
       "  <thead>\n",
       "    <tr style=\"text-align: right;\">\n",
       "      <th></th>\n",
       "      <th>loan_duration_mo</th>\n",
       "      <th>loan_amount</th>\n",
       "      <th>payment_pcnt_income</th>\n",
       "      <th>time_in_residence</th>\n",
       "      <th>age_yrs</th>\n",
       "      <th>number_loans</th>\n",
       "      <th>dependents</th>\n",
       "      <th>bad_credit</th>\n",
       "      <th>checking_account_status_&lt; 0 DM</th>\n",
       "      <th>checking_account_status_&gt; 200 DM or salary assignment</th>\n",
       "      <th>...</th>\n",
       "      <th>property_unknown-none</th>\n",
       "      <th>other_credit_outstanding_none</th>\n",
       "      <th>other_credit_outstanding_stores</th>\n",
       "      <th>home_ownership_own</th>\n",
       "      <th>home_ownership_rent</th>\n",
       "      <th>job_category_skilled</th>\n",
       "      <th>job_category_unemployed-unskilled-non-resident</th>\n",
       "      <th>job_category_unskilled-resident</th>\n",
       "      <th>telephone_yes</th>\n",
       "      <th>foreign_worker_yes</th>\n",
       "    </tr>\n",
       "  </thead>\n",
       "  <tbody>\n",
       "    <tr>\n",
       "      <th>0</th>\n",
       "      <td>12</td>\n",
       "      <td>2096</td>\n",
       "      <td>2</td>\n",
       "      <td>3</td>\n",
       "      <td>49</td>\n",
       "      <td>1</td>\n",
       "      <td>2</td>\n",
       "      <td>0</td>\n",
       "      <td>0</td>\n",
       "      <td>0</td>\n",
       "      <td>...</td>\n",
       "      <td>0</td>\n",
       "      <td>1</td>\n",
       "      <td>0</td>\n",
       "      <td>1</td>\n",
       "      <td>0</td>\n",
       "      <td>0</td>\n",
       "      <td>0</td>\n",
       "      <td>1</td>\n",
       "      <td>0</td>\n",
       "      <td>1</td>\n",
       "    </tr>\n",
       "    <tr>\n",
       "      <th>1</th>\n",
       "      <td>30</td>\n",
       "      <td>8072</td>\n",
       "      <td>2</td>\n",
       "      <td>3</td>\n",
       "      <td>25</td>\n",
       "      <td>3</td>\n",
       "      <td>1</td>\n",
       "      <td>0</td>\n",
       "      <td>1</td>\n",
       "      <td>0</td>\n",
       "      <td>...</td>\n",
       "      <td>0</td>\n",
       "      <td>0</td>\n",
       "      <td>0</td>\n",
       "      <td>1</td>\n",
       "      <td>0</td>\n",
       "      <td>1</td>\n",
       "      <td>0</td>\n",
       "      <td>0</td>\n",
       "      <td>0</td>\n",
       "      <td>1</td>\n",
       "    </tr>\n",
       "    <tr>\n",
       "      <th>3</th>\n",
       "      <td>6</td>\n",
       "      <td>1352</td>\n",
       "      <td>1</td>\n",
       "      <td>2</td>\n",
       "      <td>23</td>\n",
       "      <td>1</td>\n",
       "      <td>1</td>\n",
       "      <td>0</td>\n",
       "      <td>1</td>\n",
       "      <td>0</td>\n",
       "      <td>...</td>\n",
       "      <td>0</td>\n",
       "      <td>1</td>\n",
       "      <td>0</td>\n",
       "      <td>0</td>\n",
       "      <td>1</td>\n",
       "      <td>0</td>\n",
       "      <td>1</td>\n",
       "      <td>0</td>\n",
       "      <td>1</td>\n",
       "      <td>1</td>\n",
       "    </tr>\n",
       "    <tr>\n",
       "      <th>4</th>\n",
       "      <td>27</td>\n",
       "      <td>5965</td>\n",
       "      <td>1</td>\n",
       "      <td>2</td>\n",
       "      <td>30</td>\n",
       "      <td>2</td>\n",
       "      <td>1</td>\n",
       "      <td>0</td>\n",
       "      <td>0</td>\n",
       "      <td>0</td>\n",
       "      <td>...</td>\n",
       "      <td>0</td>\n",
       "      <td>1</td>\n",
       "      <td>0</td>\n",
       "      <td>1</td>\n",
       "      <td>0</td>\n",
       "      <td>0</td>\n",
       "      <td>0</td>\n",
       "      <td>0</td>\n",
       "      <td>1</td>\n",
       "      <td>1</td>\n",
       "    </tr>\n",
       "    <tr>\n",
       "      <th>5</th>\n",
       "      <td>36</td>\n",
       "      <td>1819</td>\n",
       "      <td>4</td>\n",
       "      <td>4</td>\n",
       "      <td>37</td>\n",
       "      <td>1</td>\n",
       "      <td>1</td>\n",
       "      <td>1</td>\n",
       "      <td>0</td>\n",
       "      <td>0</td>\n",
       "      <td>...</td>\n",
       "      <td>1</td>\n",
       "      <td>0</td>\n",
       "      <td>1</td>\n",
       "      <td>0</td>\n",
       "      <td>0</td>\n",
       "      <td>1</td>\n",
       "      <td>0</td>\n",
       "      <td>0</td>\n",
       "      <td>1</td>\n",
       "      <td>1</td>\n",
       "    </tr>\n",
       "    <tr>\n",
       "      <th>...</th>\n",
       "      <td>...</td>\n",
       "      <td>...</td>\n",
       "      <td>...</td>\n",
       "      <td>...</td>\n",
       "      <td>...</td>\n",
       "      <td>...</td>\n",
       "      <td>...</td>\n",
       "      <td>...</td>\n",
       "      <td>...</td>\n",
       "      <td>...</td>\n",
       "      <td>...</td>\n",
       "      <td>...</td>\n",
       "      <td>...</td>\n",
       "      <td>...</td>\n",
       "      <td>...</td>\n",
       "      <td>...</td>\n",
       "      <td>...</td>\n",
       "      <td>...</td>\n",
       "      <td>...</td>\n",
       "      <td>...</td>\n",
       "      <td>...</td>\n",
       "    </tr>\n",
       "    <tr>\n",
       "      <th>95</th>\n",
       "      <td>9</td>\n",
       "      <td>1154</td>\n",
       "      <td>2</td>\n",
       "      <td>4</td>\n",
       "      <td>37</td>\n",
       "      <td>3</td>\n",
       "      <td>1</td>\n",
       "      <td>0</td>\n",
       "      <td>0</td>\n",
       "      <td>0</td>\n",
       "      <td>...</td>\n",
       "      <td>0</td>\n",
       "      <td>1</td>\n",
       "      <td>0</td>\n",
       "      <td>1</td>\n",
       "      <td>0</td>\n",
       "      <td>0</td>\n",
       "      <td>0</td>\n",
       "      <td>1</td>\n",
       "      <td>0</td>\n",
       "      <td>1</td>\n",
       "    </tr>\n",
       "    <tr>\n",
       "      <th>96</th>\n",
       "      <td>24</td>\n",
       "      <td>6579</td>\n",
       "      <td>4</td>\n",
       "      <td>2</td>\n",
       "      <td>29</td>\n",
       "      <td>1</td>\n",
       "      <td>1</td>\n",
       "      <td>0</td>\n",
       "      <td>1</td>\n",
       "      <td>0</td>\n",
       "      <td>...</td>\n",
       "      <td>1</td>\n",
       "      <td>1</td>\n",
       "      <td>0</td>\n",
       "      <td>0</td>\n",
       "      <td>0</td>\n",
       "      <td>0</td>\n",
       "      <td>0</td>\n",
       "      <td>0</td>\n",
       "      <td>1</td>\n",
       "      <td>1</td>\n",
       "    </tr>\n",
       "    <tr>\n",
       "      <th>97</th>\n",
       "      <td>12</td>\n",
       "      <td>3565</td>\n",
       "      <td>2</td>\n",
       "      <td>1</td>\n",
       "      <td>37</td>\n",
       "      <td>2</td>\n",
       "      <td>2</td>\n",
       "      <td>0</td>\n",
       "      <td>0</td>\n",
       "      <td>0</td>\n",
       "      <td>...</td>\n",
       "      <td>0</td>\n",
       "      <td>1</td>\n",
       "      <td>0</td>\n",
       "      <td>1</td>\n",
       "      <td>0</td>\n",
       "      <td>0</td>\n",
       "      <td>0</td>\n",
       "      <td>1</td>\n",
       "      <td>0</td>\n",
       "      <td>1</td>\n",
       "    </tr>\n",
       "    <tr>\n",
       "      <th>98</th>\n",
       "      <td>30</td>\n",
       "      <td>3857</td>\n",
       "      <td>4</td>\n",
       "      <td>4</td>\n",
       "      <td>40</td>\n",
       "      <td>1</td>\n",
       "      <td>1</td>\n",
       "      <td>0</td>\n",
       "      <td>1</td>\n",
       "      <td>0</td>\n",
       "      <td>...</td>\n",
       "      <td>0</td>\n",
       "      <td>1</td>\n",
       "      <td>0</td>\n",
       "      <td>1</td>\n",
       "      <td>0</td>\n",
       "      <td>0</td>\n",
       "      <td>0</td>\n",
       "      <td>0</td>\n",
       "      <td>1</td>\n",
       "      <td>1</td>\n",
       "    </tr>\n",
       "    <tr>\n",
       "      <th>99</th>\n",
       "      <td>45</td>\n",
       "      <td>1845</td>\n",
       "      <td>4</td>\n",
       "      <td>4</td>\n",
       "      <td>23</td>\n",
       "      <td>1</td>\n",
       "      <td>1</td>\n",
       "      <td>1</td>\n",
       "      <td>1</td>\n",
       "      <td>0</td>\n",
       "      <td>...</td>\n",
       "      <td>1</td>\n",
       "      <td>1</td>\n",
       "      <td>0</td>\n",
       "      <td>0</td>\n",
       "      <td>0</td>\n",
       "      <td>1</td>\n",
       "      <td>0</td>\n",
       "      <td>0</td>\n",
       "      <td>1</td>\n",
       "      <td>1</td>\n",
       "    </tr>\n",
       "  </tbody>\n",
       "</table>\n",
       "<p>90 rows × 46 columns</p>\n",
       "</div>"
      ],
      "text/plain": [
       "    loan_duration_mo  loan_amount  payment_pcnt_income  time_in_residence  \\\n",
       "0                 12         2096                    2                  3   \n",
       "1                 30         8072                    2                  3   \n",
       "3                  6         1352                    1                  2   \n",
       "4                 27         5965                    1                  2   \n",
       "5                 36         1819                    4                  4   \n",
       "..               ...          ...                  ...                ...   \n",
       "95                 9         1154                    2                  4   \n",
       "96                24         6579                    4                  2   \n",
       "97                12         3565                    2                  1   \n",
       "98                30         3857                    4                  4   \n",
       "99                45         1845                    4                  4   \n",
       "\n",
       "    age_yrs  number_loans  dependents  bad_credit  \\\n",
       "0        49             1           2           0   \n",
       "1        25             3           1           0   \n",
       "3        23             1           1           0   \n",
       "4        30             2           1           0   \n",
       "5        37             1           1           1   \n",
       "..      ...           ...         ...         ...   \n",
       "95       37             3           1           0   \n",
       "96       29             1           1           0   \n",
       "97       37             2           2           0   \n",
       "98       40             1           1           0   \n",
       "99       23             1           1           1   \n",
       "\n",
       "    checking_account_status_< 0 DM  \\\n",
       "0                                0   \n",
       "1                                1   \n",
       "3                                1   \n",
       "4                                0   \n",
       "5                                0   \n",
       "..                             ...   \n",
       "95                               0   \n",
       "96                               1   \n",
       "97                               0   \n",
       "98                               1   \n",
       "99                               1   \n",
       "\n",
       "    checking_account_status_> 200 DM or salary assignment  ...  \\\n",
       "0                                                   0      ...   \n",
       "1                                                   0      ...   \n",
       "3                                                   0      ...   \n",
       "4                                                   0      ...   \n",
       "5                                                   0      ...   \n",
       "..                                                ...      ...   \n",
       "95                                                  0      ...   \n",
       "96                                                  0      ...   \n",
       "97                                                  0      ...   \n",
       "98                                                  0      ...   \n",
       "99                                                  0      ...   \n",
       "\n",
       "    property_unknown-none  other_credit_outstanding_none  \\\n",
       "0                       0                              1   \n",
       "1                       0                              0   \n",
       "3                       0                              1   \n",
       "4                       0                              1   \n",
       "5                       1                              0   \n",
       "..                    ...                            ...   \n",
       "95                      0                              1   \n",
       "96                      1                              1   \n",
       "97                      0                              1   \n",
       "98                      0                              1   \n",
       "99                      1                              1   \n",
       "\n",
       "    other_credit_outstanding_stores  home_ownership_own  home_ownership_rent  \\\n",
       "0                                 0                   1                    0   \n",
       "1                                 0                   1                    0   \n",
       "3                                 0                   0                    1   \n",
       "4                                 0                   1                    0   \n",
       "5                                 1                   0                    0   \n",
       "..                              ...                 ...                  ...   \n",
       "95                                0                   1                    0   \n",
       "96                                0                   0                    0   \n",
       "97                                0                   1                    0   \n",
       "98                                0                   1                    0   \n",
       "99                                0                   0                    0   \n",
       "\n",
       "    job_category_skilled  job_category_unemployed-unskilled-non-resident  \\\n",
       "0                      0                                               0   \n",
       "1                      1                                               0   \n",
       "3                      0                                               1   \n",
       "4                      0                                               0   \n",
       "5                      1                                               0   \n",
       "..                   ...                                             ...   \n",
       "95                     0                                               0   \n",
       "96                     0                                               0   \n",
       "97                     0                                               0   \n",
       "98                     0                                               0   \n",
       "99                     1                                               0   \n",
       "\n",
       "    job_category_unskilled-resident  telephone_yes  foreign_worker_yes  \n",
       "0                                 1              0                   1  \n",
       "1                                 0              0                   1  \n",
       "3                                 0              1                   1  \n",
       "4                                 0              1                   1  \n",
       "5                                 0              1                   1  \n",
       "..                              ...            ...                 ...  \n",
       "95                                1              0                   1  \n",
       "96                                0              1                   1  \n",
       "97                                1              0                   1  \n",
       "98                                0              1                   1  \n",
       "99                                0              1                   1  \n",
       "\n",
       "[90 rows x 46 columns]"
      ]
     },
     "execution_count": 20,
     "metadata": {},
     "output_type": "execute_result"
    }
   ],
   "source": [
    "dp"
   ]
  },
  {
   "cell_type": "code",
   "execution_count": 21,
   "metadata": {},
   "outputs": [],
   "source": [
    "#Se establece las variables de entrada 'X' y la variable de salida 'y'\n",
    "\n",
    "Xp = dp.drop(columns ='bad_credit')\n",
    "yp = dp['bad_credit']"
   ]
  },
  {
   "cell_type": "code",
   "execution_count": 22,
   "metadata": {},
   "outputs": [
    {
     "data": {
      "text/html": [
       "<div>\n",
       "<style scoped>\n",
       "    .dataframe tbody tr th:only-of-type {\n",
       "        vertical-align: middle;\n",
       "    }\n",
       "\n",
       "    .dataframe tbody tr th {\n",
       "        vertical-align: top;\n",
       "    }\n",
       "\n",
       "    .dataframe thead th {\n",
       "        text-align: right;\n",
       "    }\n",
       "</style>\n",
       "<table border=\"1\" class=\"dataframe\">\n",
       "  <thead>\n",
       "    <tr style=\"text-align: right;\">\n",
       "      <th></th>\n",
       "      <th>loan_duration_mo</th>\n",
       "      <th>loan_amount</th>\n",
       "      <th>payment_pcnt_income</th>\n",
       "      <th>time_in_residence</th>\n",
       "      <th>age_yrs</th>\n",
       "      <th>number_loans</th>\n",
       "      <th>dependents</th>\n",
       "    </tr>\n",
       "  </thead>\n",
       "  <tbody>\n",
       "    <tr>\n",
       "      <th>0</th>\n",
       "      <td>0.1176</td>\n",
       "      <td>0.1310</td>\n",
       "      <td>0.3333</td>\n",
       "      <td>0.6667</td>\n",
       "      <td>0.5370</td>\n",
       "      <td>0.0000</td>\n",
       "      <td>1.0000</td>\n",
       "    </tr>\n",
       "    <tr>\n",
       "      <th>1</th>\n",
       "      <td>0.3824</td>\n",
       "      <td>0.5764</td>\n",
       "      <td>0.3333</td>\n",
       "      <td>0.6667</td>\n",
       "      <td>0.0926</td>\n",
       "      <td>0.6667</td>\n",
       "      <td>0.0000</td>\n",
       "    </tr>\n",
       "  </tbody>\n",
       "</table>\n",
       "</div>"
      ],
      "text/plain": [
       "   loan_duration_mo  loan_amount  payment_pcnt_income  time_in_residence  \\\n",
       "0            0.1176       0.1310               0.3333             0.6667   \n",
       "1            0.3824       0.5764               0.3333             0.6667   \n",
       "\n",
       "   age_yrs  number_loans  dependents  \n",
       "0   0.5370        0.0000      1.0000  \n",
       "1   0.0926        0.6667      0.0000  "
      ]
     },
     "execution_count": 22,
     "metadata": {},
     "output_type": "execute_result"
    }
   ],
   "source": [
    "#Escalar Variables númericas\n",
    "\n",
    "pd.set_option('display.float_format', lambda x: '%.4f' % x)\n",
    "\n",
    "# Cargar el scaler\n",
    "scaler = joblib.load('./modelos/scaler/minmaxFull_GermanCredits.pkl')\n",
    "\n",
    "# Se escalan los valores del dataset entrenamiento y prueba de las columnas numéricas\n",
    "Xp[numCols] = scaler.transform(Xp[numCols])\n",
    "\n",
    "Xp[numCols].head(2)"
   ]
  },
  {
   "cell_type": "markdown",
   "metadata": {},
   "source": [
    "## 6. Creación del modelo"
   ]
  },
  {
   "cell_type": "markdown",
   "metadata": {},
   "source": [
    "#### Creación y entrenamiento del modelo"
   ]
  },
  {
   "cell_type": "code",
   "execution_count": 23,
   "metadata": {},
   "outputs": [],
   "source": [
    "# Ruta donde se encuentran los modelos\n",
    "ruta_modelos = './modelos/clasificacion'"
   ]
  },
  {
   "cell_type": "code",
   "execution_count": 24,
   "metadata": {},
   "outputs": [
    {
     "data": {
      "text/html": [
       "<div>\n",
       "<style scoped>\n",
       "    .dataframe tbody tr th:only-of-type {\n",
       "        vertical-align: middle;\n",
       "    }\n",
       "\n",
       "    .dataframe tbody tr th {\n",
       "        vertical-align: top;\n",
       "    }\n",
       "\n",
       "    .dataframe thead th {\n",
       "        text-align: right;\n",
       "    }\n",
       "</style>\n",
       "<table border=\"1\" class=\"dataframe\">\n",
       "  <thead>\n",
       "    <tr style=\"text-align: right;\">\n",
       "      <th></th>\n",
       "      <th>model</th>\n",
       "      <th>Descripcion</th>\n",
       "      <th>accuracy</th>\n",
       "      <th>recall</th>\n",
       "      <th>f1_score</th>\n",
       "      <th>AUC</th>\n",
       "      <th>support</th>\n",
       "    </tr>\n",
       "  </thead>\n",
       "  <tbody>\n",
       "    <tr>\n",
       "      <th>0</th>\n",
       "      <td>AdaB_CV.pkl</td>\n",
       "      <td>(DecisionTreeClassifier(max_depth=1, random_st...</td>\n",
       "      <td>0.6556</td>\n",
       "      <td>0.8846</td>\n",
       "      <td>0.5974</td>\n",
       "      <td>0.7236</td>\n",
       "      <td>90.0000</td>\n",
       "    </tr>\n",
       "    <tr>\n",
       "      <th>1</th>\n",
       "      <td>KNN_CV_manhattan.pkl</td>\n",
       "      <td>KNeighborsClassifier(metric='manhattan', n_nei...</td>\n",
       "      <td>0.7556</td>\n",
       "      <td>0.6923</td>\n",
       "      <td>0.6207</td>\n",
       "      <td>0.7368</td>\n",
       "      <td>90.0000</td>\n",
       "    </tr>\n",
       "    <tr>\n",
       "      <th>2</th>\n",
       "      <td>LR_Ret_ovrLineal.pkl</td>\n",
       "      <td>LogisticRegression(class_weight='balanced', mu...</td>\n",
       "      <td>0.7444</td>\n",
       "      <td>0.7692</td>\n",
       "      <td>0.6349</td>\n",
       "      <td>0.7518</td>\n",
       "      <td>90.0000</td>\n",
       "    </tr>\n",
       "    <tr>\n",
       "      <th>3</th>\n",
       "      <td>NB_Ret_Bernulli.pkl</td>\n",
       "      <td>BernoulliNB(binarize=0.5)</td>\n",
       "      <td>0.7444</td>\n",
       "      <td>0.7692</td>\n",
       "      <td>0.6349</td>\n",
       "      <td>0.7518</td>\n",
       "      <td>90.0000</td>\n",
       "    </tr>\n",
       "    <tr>\n",
       "      <th>4</th>\n",
       "      <td>RForest_CV.pkl</td>\n",
       "      <td>(DecisionTreeClassifier(criterion='entropy', m...</td>\n",
       "      <td>0.7889</td>\n",
       "      <td>0.6154</td>\n",
       "      <td>0.6275</td>\n",
       "      <td>0.7374</td>\n",
       "      <td>90.0000</td>\n",
       "    </tr>\n",
       "    <tr>\n",
       "      <th>5</th>\n",
       "      <td>SVC_CV_lineal.pkl</td>\n",
       "      <td>SVC(C=0.01, kernel='linear', probability=True,...</td>\n",
       "      <td>0.6889</td>\n",
       "      <td>0.8077</td>\n",
       "      <td>0.6000</td>\n",
       "      <td>0.7242</td>\n",
       "      <td>90.0000</td>\n",
       "    </tr>\n",
       "    <tr>\n",
       "      <th>6</th>\n",
       "      <td>SVC_CV_poly.pkl</td>\n",
       "      <td>SVC(C=4, kernel='poly', probability=True, rand...</td>\n",
       "      <td>0.7111</td>\n",
       "      <td>0.5385</td>\n",
       "      <td>0.5185</td>\n",
       "      <td>0.6599</td>\n",
       "      <td>90.0000</td>\n",
       "    </tr>\n",
       "    <tr>\n",
       "      <th>7</th>\n",
       "      <td>SVC_CV_rbf.pkl</td>\n",
       "      <td>SVC(C=10, probability=True, random_state=0)</td>\n",
       "      <td>0.7222</td>\n",
       "      <td>0.5000</td>\n",
       "      <td>0.5098</td>\n",
       "      <td>0.6562</td>\n",
       "      <td>90.0000</td>\n",
       "    </tr>\n",
       "  </tbody>\n",
       "</table>\n",
       "</div>"
      ],
      "text/plain": [
       "                  model                                        Descripcion  \\\n",
       "0           AdaB_CV.pkl  (DecisionTreeClassifier(max_depth=1, random_st...   \n",
       "1  KNN_CV_manhattan.pkl  KNeighborsClassifier(metric='manhattan', n_nei...   \n",
       "2  LR_Ret_ovrLineal.pkl  LogisticRegression(class_weight='balanced', mu...   \n",
       "3   NB_Ret_Bernulli.pkl                          BernoulliNB(binarize=0.5)   \n",
       "4        RForest_CV.pkl  (DecisionTreeClassifier(criterion='entropy', m...   \n",
       "5     SVC_CV_lineal.pkl  SVC(C=0.01, kernel='linear', probability=True,...   \n",
       "6       SVC_CV_poly.pkl  SVC(C=4, kernel='poly', probability=True, rand...   \n",
       "7        SVC_CV_rbf.pkl        SVC(C=10, probability=True, random_state=0)   \n",
       "\n",
       "   accuracy  recall  f1_score    AUC  support  \n",
       "0    0.6556  0.8846    0.5974 0.7236  90.0000  \n",
       "1    0.7556  0.6923    0.6207 0.7368  90.0000  \n",
       "2    0.7444  0.7692    0.6349 0.7518  90.0000  \n",
       "3    0.7444  0.7692    0.6349 0.7518  90.0000  \n",
       "4    0.7889  0.6154    0.6275 0.7374  90.0000  \n",
       "5    0.6889  0.8077    0.6000 0.7242  90.0000  \n",
       "6    0.7111  0.5385    0.5185 0.6599  90.0000  \n",
       "7    0.7222  0.5000    0.5098 0.6562  90.0000  "
      ]
     },
     "execution_count": 24,
     "metadata": {},
     "output_type": "execute_result"
    }
   ],
   "source": [
    "# Lista para almacenar los modelos cargados\n",
    "modelos_cargados = []\n",
    "dr = pd.DataFrame()\n",
    "\n",
    "# Itera sobre los archivos en la ruta\n",
    "for archivo_modelo in os.listdir(ruta_modelos):\n",
    "    # Comprueba si el archivo es un modelo (puedes ajustar esta comprobación según tu estructura de nombres)\n",
    "    \n",
    "    if archivo_modelo.endswith('.pkl'):\n",
    "        ruta_completa = os.path.join(ruta_modelos, archivo_modelo)\n",
    "    \n",
    "        # Carga el modelo\n",
    "        modelo_cargado = joblib.load(ruta_completa)\n",
    "\n",
    "        # Agrega el modelo a la lista\n",
    "        modelos_cargados.append(archivo_modelo)\n",
    "\n",
    "        # Realizar predicciones (opcional)\n",
    "        y_pred = modelo_cargado.predict(Xp)\n",
    "\n",
    "\n",
    "        # Adicionar una nueva fila \n",
    "        nuevoModelo = {'model': archivo_modelo\n",
    "                      , 'Descripcion': modelo_cargado\n",
    "                      , 'accuracy': metrics.accuracy_score(yp, y_pred)\n",
    "                      , 'recall': metrics.recall_score(yp, y_pred)\n",
    "                      , 'f1_score': metrics.f1_score(yp, y_pred)\n",
    "                      , 'AUC': metrics.roc_auc_score(yp, y_pred)\n",
    "                      , 'support': round(dp.shape[0],0)\n",
    "                     }\n",
    "        dr = dr.append(nuevoModelo, ignore_index=True)\n",
    "\n",
    "# Imprimir el DataFrame actualizado\n",
    "dr"
   ]
  },
  {
   "cell_type": "code",
   "execution_count": 29,
   "metadata": {},
   "outputs": [
    {
     "data": {
      "text/html": [
       "<div>\n",
       "<style scoped>\n",
       "    .dataframe tbody tr th:only-of-type {\n",
       "        vertical-align: middle;\n",
       "    }\n",
       "\n",
       "    .dataframe tbody tr th {\n",
       "        vertical-align: top;\n",
       "    }\n",
       "\n",
       "    .dataframe thead th {\n",
       "        text-align: right;\n",
       "    }\n",
       "</style>\n",
       "<table border=\"1\" class=\"dataframe\">\n",
       "  <thead>\n",
       "    <tr style=\"text-align: right;\">\n",
       "      <th></th>\n",
       "      <th>model</th>\n",
       "      <th>Descripcion</th>\n",
       "      <th>accuracy</th>\n",
       "      <th>recall</th>\n",
       "      <th>f1_score</th>\n",
       "      <th>AUC</th>\n",
       "      <th>support</th>\n",
       "    </tr>\n",
       "  </thead>\n",
       "  <tbody>\n",
       "    <tr>\n",
       "      <th>2</th>\n",
       "      <td>LR_Ret_ovrLineal.pkl</td>\n",
       "      <td>LogisticRegression(class_weight='balanced', mu...</td>\n",
       "      <td>0.7444</td>\n",
       "      <td>0.7692</td>\n",
       "      <td>0.6349</td>\n",
       "      <td>0.7518</td>\n",
       "      <td>90.0000</td>\n",
       "    </tr>\n",
       "    <tr>\n",
       "      <th>3</th>\n",
       "      <td>NB_Ret_Bernulli.pkl</td>\n",
       "      <td>BernoulliNB(binarize=0.5)</td>\n",
       "      <td>0.7444</td>\n",
       "      <td>0.7692</td>\n",
       "      <td>0.6349</td>\n",
       "      <td>0.7518</td>\n",
       "      <td>90.0000</td>\n",
       "    </tr>\n",
       "    <tr>\n",
       "      <th>4</th>\n",
       "      <td>RForest_CV.pkl</td>\n",
       "      <td>(DecisionTreeClassifier(criterion='entropy', m...</td>\n",
       "      <td>0.7889</td>\n",
       "      <td>0.6154</td>\n",
       "      <td>0.6275</td>\n",
       "      <td>0.7374</td>\n",
       "      <td>90.0000</td>\n",
       "    </tr>\n",
       "    <tr>\n",
       "      <th>1</th>\n",
       "      <td>KNN_CV_manhattan.pkl</td>\n",
       "      <td>KNeighborsClassifier(metric='manhattan', n_nei...</td>\n",
       "      <td>0.7556</td>\n",
       "      <td>0.6923</td>\n",
       "      <td>0.6207</td>\n",
       "      <td>0.7368</td>\n",
       "      <td>90.0000</td>\n",
       "    </tr>\n",
       "    <tr>\n",
       "      <th>5</th>\n",
       "      <td>SVC_CV_lineal.pkl</td>\n",
       "      <td>SVC(C=0.01, kernel='linear', probability=True,...</td>\n",
       "      <td>0.6889</td>\n",
       "      <td>0.8077</td>\n",
       "      <td>0.6000</td>\n",
       "      <td>0.7242</td>\n",
       "      <td>90.0000</td>\n",
       "    </tr>\n",
       "    <tr>\n",
       "      <th>0</th>\n",
       "      <td>AdaB_CV.pkl</td>\n",
       "      <td>(DecisionTreeClassifier(max_depth=1, random_st...</td>\n",
       "      <td>0.6556</td>\n",
       "      <td>0.8846</td>\n",
       "      <td>0.5974</td>\n",
       "      <td>0.7236</td>\n",
       "      <td>90.0000</td>\n",
       "    </tr>\n",
       "    <tr>\n",
       "      <th>6</th>\n",
       "      <td>SVC_CV_poly.pkl</td>\n",
       "      <td>SVC(C=4, kernel='poly', probability=True, rand...</td>\n",
       "      <td>0.7111</td>\n",
       "      <td>0.5385</td>\n",
       "      <td>0.5185</td>\n",
       "      <td>0.6599</td>\n",
       "      <td>90.0000</td>\n",
       "    </tr>\n",
       "    <tr>\n",
       "      <th>7</th>\n",
       "      <td>SVC_CV_rbf.pkl</td>\n",
       "      <td>SVC(C=10, probability=True, random_state=0)</td>\n",
       "      <td>0.7222</td>\n",
       "      <td>0.5000</td>\n",
       "      <td>0.5098</td>\n",
       "      <td>0.6562</td>\n",
       "      <td>90.0000</td>\n",
       "    </tr>\n",
       "  </tbody>\n",
       "</table>\n",
       "</div>"
      ],
      "text/plain": [
       "                  model                                        Descripcion  \\\n",
       "2  LR_Ret_ovrLineal.pkl  LogisticRegression(class_weight='balanced', mu...   \n",
       "3   NB_Ret_Bernulli.pkl                          BernoulliNB(binarize=0.5)   \n",
       "4        RForest_CV.pkl  (DecisionTreeClassifier(criterion='entropy', m...   \n",
       "1  KNN_CV_manhattan.pkl  KNeighborsClassifier(metric='manhattan', n_nei...   \n",
       "5     SVC_CV_lineal.pkl  SVC(C=0.01, kernel='linear', probability=True,...   \n",
       "0           AdaB_CV.pkl  (DecisionTreeClassifier(max_depth=1, random_st...   \n",
       "6       SVC_CV_poly.pkl  SVC(C=4, kernel='poly', probability=True, rand...   \n",
       "7        SVC_CV_rbf.pkl        SVC(C=10, probability=True, random_state=0)   \n",
       "\n",
       "   accuracy  recall  f1_score    AUC  support  \n",
       "2    0.7444  0.7692    0.6349 0.7518  90.0000  \n",
       "3    0.7444  0.7692    0.6349 0.7518  90.0000  \n",
       "4    0.7889  0.6154    0.6275 0.7374  90.0000  \n",
       "1    0.7556  0.6923    0.6207 0.7368  90.0000  \n",
       "5    0.6889  0.8077    0.6000 0.7242  90.0000  \n",
       "0    0.6556  0.8846    0.5974 0.7236  90.0000  \n",
       "6    0.7111  0.5385    0.5185 0.6599  90.0000  \n",
       "7    0.7222  0.5000    0.5098 0.6562  90.0000  "
      ]
     },
     "execution_count": 29,
     "metadata": {},
     "output_type": "execute_result"
    }
   ],
   "source": [
    "# Top 3 de los mejores modelos\n",
    "dr.sort_values(by='f1_score', ascending=False)"
   ]
  },
  {
   "cell_type": "code",
   "execution_count": 26,
   "metadata": {
    "scrolled": false
   },
   "outputs": [
    {
     "data": {
      "image/png": "[encoded data removed]",
      "text/plain": [
       "<Figure size 432x288 with 2 Axes>"
      ]
     },
     "metadata": {
      "needs_background": "light"
     },
     "output_type": "display_data"
    },
    {
     "name": "stdout",
     "output_type": "stream",
     "text": [
      "              precision    recall  f1-score   support\n",
      "\n",
      "           0       0.89      0.73      0.80        64\n",
      "           1       0.54      0.77      0.63        26\n",
      "\n",
      "    accuracy                           0.74        90\n",
      "   macro avg       0.71      0.75      0.72        90\n",
      "weighted avg       0.79      0.74      0.75        90\n",
      "\n"
     ]
    },
    {
     "data": {
      "image/png": "[encoded data removed]",
      "text/plain": [
       "<Figure size 432x288 with 2 Axes>"
      ]
     },
     "metadata": {
      "needs_background": "light"
     },
     "output_type": "display_data"
    },
    {
     "name": "stdout",
     "output_type": "stream",
     "text": [
      "              precision    recall  f1-score   support\n",
      "\n",
      "           0       0.89      0.73      0.80        64\n",
      "           1       0.54      0.77      0.63        26\n",
      "\n",
      "    accuracy                           0.74        90\n",
      "   macro avg       0.71      0.75      0.72        90\n",
      "weighted avg       0.79      0.74      0.75        90\n",
      "\n"
     ]
    },
    {
     "data": {
      "image/png": "[encoded data removed]",
      "text/plain": [
       "<Figure size 432x288 with 2 Axes>"
      ]
     },
     "metadata": {
      "needs_background": "light"
     },
     "output_type": "display_data"
    },
    {
     "name": "stdout",
     "output_type": "stream",
     "text": [
      "              precision    recall  f1-score   support\n",
      "\n",
      "           0       0.85      0.86      0.85        64\n",
      "           1       0.64      0.62      0.63        26\n",
      "\n",
      "    accuracy                           0.79        90\n",
      "   macro avg       0.74      0.74      0.74        90\n",
      "weighted avg       0.79      0.79      0.79        90\n",
      "\n"
     ]
    },
    {
     "data": {
      "image/png": "[encoded data removed]",
      "text/plain": [
       "<Figure size 432x288 with 2 Axes>"
      ]
     },
     "metadata": {
      "needs_background": "light"
     },
     "output_type": "display_data"
    },
    {
     "name": "stdout",
     "output_type": "stream",
     "text": [
      "              precision    recall  f1-score   support\n",
      "\n",
      "           0       0.86      0.78      0.82        64\n",
      "           1       0.56      0.69      0.62        26\n",
      "\n",
      "    accuracy                           0.76        90\n",
      "   macro avg       0.71      0.74      0.72        90\n",
      "weighted avg       0.78      0.76      0.76        90\n",
      "\n"
     ]
    },
    {
     "data": {
      "image/png": "[encoded data removed]",
      "text/plain": [
       "<Figure size 432x288 with 2 Axes>"
      ]
     },
     "metadata": {
      "needs_background": "light"
     },
     "output_type": "display_data"
    },
    {
     "name": "stdout",
     "output_type": "stream",
     "text": [
      "              precision    recall  f1-score   support\n",
      "\n",
      "           0       0.89      0.64      0.75        64\n",
      "           1       0.48      0.81      0.60        26\n",
      "\n",
      "    accuracy                           0.69        90\n",
      "   macro avg       0.68      0.72      0.67        90\n",
      "weighted avg       0.77      0.69      0.70        90\n",
      "\n"
     ]
    },
    {
     "data": {
      "image/png": "[encoded data removed]",
      "text/plain": [
       "<Figure size 432x288 with 2 Axes>"
      ]
     },
     "metadata": {
      "needs_background": "light"
     },
     "output_type": "display_data"
    },
    {
     "name": "stdout",
     "output_type": "stream",
     "text": [
      "              precision    recall  f1-score   support\n",
      "\n",
      "           0       0.92      0.56      0.70        64\n",
      "           1       0.45      0.88      0.60        26\n",
      "\n",
      "    accuracy                           0.66        90\n",
      "   macro avg       0.69      0.72      0.65        90\n",
      "weighted avg       0.79      0.66      0.67        90\n",
      "\n"
     ]
    },
    {
     "data": {
      "image/png": "[encoded data removed]",
      "text/plain": [
       "<Figure size 432x288 with 2 Axes>"
      ]
     },
     "metadata": {
      "needs_background": "light"
     },
     "output_type": "display_data"
    },
    {
     "name": "stdout",
     "output_type": "stream",
     "text": [
      "              precision    recall  f1-score   support\n",
      "\n",
      "           0       0.81      0.78      0.79        64\n",
      "           1       0.50      0.54      0.52        26\n",
      "\n",
      "    accuracy                           0.71        90\n",
      "   macro avg       0.65      0.66      0.66        90\n",
      "weighted avg       0.72      0.71      0.71        90\n",
      "\n"
     ]
    },
    {
     "data": {
      "image/png": "[encoded data removed]",
      "text/plain": [
       "<Figure size 432x288 with 2 Axes>"
      ]
     },
     "metadata": {
      "needs_background": "light"
     },
     "output_type": "display_data"
    },
    {
     "name": "stdout",
     "output_type": "stream",
     "text": [
      "              precision    recall  f1-score   support\n",
      "\n",
      "           0       0.80      0.81      0.81        64\n",
      "           1       0.52      0.50      0.51        26\n",
      "\n",
      "    accuracy                           0.72        90\n",
      "   macro avg       0.66      0.66      0.66        90\n",
      "weighted avg       0.72      0.72      0.72        90\n",
      "\n"
     ]
    }
   ],
   "source": [
    "for i, row in dr.sort_values(by='f1_score', ascending=False).iterrows():\n",
    "    model_name = row['model']\n",
    "    \n",
    "    if archivo_modelo.endswith('.pkl'):\n",
    "        ruta_completa = os.path.join(ruta_modelos, model_name)\n",
    "    \n",
    "        # Carga el modelo\n",
    "        modelo_cargado = joblib.load(ruta_completa)\n",
    "\n",
    "        # Realizar predicciones (opcional)\n",
    "        y_pred = modelo_cargado.predict(Xp)\n",
    "\n",
    "        # Calcular la matriz de confusión\n",
    "        cm = confusion_matrix(yp, y_pred)\n",
    "        \n",
    "        # Crear la visualización de la matriz de confusión\n",
    "        disp = ConfusionMatrixDisplay(confusion_matrix=cm, display_labels=np.unique(yp))\n",
    "        \n",
    "        # Mostrar la visualización\n",
    "        disp.plot(cmap='Blues')\n",
    "        \n",
    "        # Configurar el título\n",
    "        plt.title(model_name)\n",
    "        \n",
    "        # Mostrar la figura\n",
    "        plt.show()\n",
    "\n",
    "        # Mostrar el informe de clasificación\n",
    "        print(classification_report(yp, y_pred))\n"
   ]
  },
  {
   "cell_type": "markdown",
   "metadata": {},
   "source": [
    "#### ROC - Receiver Operating Characteristic"
   ]
  },
  {
   "cell_type": "code",
   "execution_count": 27,
   "metadata": {},
   "outputs": [
    {
     "data": {
      "image/png": "[encoded data removed]",
      "text/plain": [
       "<Figure size 864x432 with 1 Axes>"
      ]
     },
     "metadata": {
      "needs_background": "light"
     },
     "output_type": "display_data"
    }
   ],
   "source": [
    "# Crear figura de tamaño 10x6\n",
    "fig = plt.figure(figsize=(12, 6))  \n",
    "\n",
    "\n",
    "for i, row in dr.sort_values(by='f1_score', ascending=False).iterrows():\n",
    "    model_name = row['model']\n",
    "    \n",
    "    if archivo_modelo.endswith('.pkl'):\n",
    "        ruta_completa = os.path.join(ruta_modelos, model_name)\n",
    "    \n",
    "        # Carga el modelo\n",
    "        modelo_cargado = joblib.load(ruta_completa)\n",
    "        \n",
    "        # Obtener probabilidades de predicción del modelo\n",
    "        probs = modelo_cargado.predict_proba(Xp)  \n",
    "\n",
    "        # Seleccionar la columna correspondiente a la probabilidad de clase positiva\n",
    "        probs = probs[:, 1]  \n",
    "\n",
    "        # Calcular el AUC-ROC\n",
    "        auc = roc_auc_score(yp, probs*(1))  \n",
    "\n",
    "        # Calcular las tasas de FPR y TPR\n",
    "        fpr, tpr, _ = roc_curve(yp, probs*(1))  \n",
    "\n",
    "        # Graficar la curva ROC del modelo actual\n",
    "        plt.plot(fpr, tpr, label=model_name)  \n",
    "\n",
    "        # Mostrar el AUC-ROC y el nombre del modelo\n",
    "        #print(\"{:.2f}: {}\".format(auc, model_name))  \n",
    "\n",
    "\n",
    "# Graficar la línea diagonal punteada (clasificador aleatorio)\n",
    "plt.plot([0, 1], [0, 1], linestyle='--')  \n",
    "plt.xlabel('False Positive Rate')  # Etiqueta del eje x\n",
    "plt.ylabel('True Positive Rate')  # Etiqueta del eje y\n",
    "plt.title('Receiver Operating Characteristic (ROC) Curve')  # Título del gráfico\n",
    "plt.legend()  # Mostrar la leyenda de los modelos\n",
    "plt.show()  # Mostrar el gráfico\n"
   ]
  },
  {
   "cell_type": "markdown",
   "metadata": {
    "id": "Vo9BaiBNEZsR"
   },
   "source": [
    "#### Referencias\n",
    "\n",
    "\n",
    "- *scikit-learn:*   \n",
    "    - https://scikit-learn.org/stable/modules/svm.html\n",
    "    \n",
    "    ROC\n",
    "    - https://stackabuse.com/understanding-roc-curves-with-python/\n",
    "\n",
    "\n",
    "\n",
    "- *Gráficas con  seaborn:*\n",
    "    - https://ichi.pro/es/como-utilizar-python-seaborn-para-analisis-de-datos-exploratorios-28897898172180\n",
    "\n",
    "\n",
    "\n",
    "- *Analítica de grandes datos:*\n",
    "    - https://jdvelasq.github.io/courses/analitica-de-grandes-datos/index.html"
   ]
  }
 ],
 "metadata": {
  "colab": {
   "collapsed_sections": [
    "O7K75kd1EZsG",
    "Vo9BaiBNEZsR"
   ],
   "name": "05_1_ModelosClasificacionValidacionCruzada.ipynb",
   "provenance": []
  },
  "kernelspec": {
   "display_name": "Python 3 (ipykernel)",
   "language": "python",
   "name": "python3"
  },
  "language_info": {
   "codemirror_mode": {
    "name": "ipython",
    "version": 3
   },
   "file_extension": ".py",
   "mimetype": "text/x-python",
   "name": "python",
   "nbconvert_exporter": "python",
   "pygments_lexer": "ipython3",
   "version": "3.9.7"
  }
 },
 "nbformat": 4,
 "nbformat_minor": 1
}
