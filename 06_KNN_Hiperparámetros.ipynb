{
 "cells": [
  {
   "cell_type": "markdown",
   "metadata": {},
   "source": [
    "# K-NN con Hiperparámetros"
   ]
  },
  {
   "cell_type": "markdown",
   "metadata": {},
   "source": [
    "### k-NN (Nearest Neighbour)"
   ]
  },
  {
   "cell_type": "markdown",
   "metadata": {},
   "source": [
    "\n",
    "- Se miran los k-casos más cercanos. \n",
    "\n",
    "- Se calcula la distancia media por clase o se asigna a la clase con más elementos.\n",
    "\n",
    "- El valor de k se suele determinar heurísticamente $k=\\sqrt{n} $ donde n es el número de ejemplos. (Es una opción con base teórica)"
   ]
  },
  {
   "cell_type": "markdown",
   "metadata": {
    "id": "E067WepIwXes"
   },
   "source": [
    "\n"
   ]
  },
  {
   "cell_type": "markdown",
   "metadata": {
    "id": "UoeVw4gTwXet"
   },
   "source": [
    "## 1. Librerias y configuraciones previas\n"
   ]
  },
  {
   "cell_type": "code",
   "execution_count": 1,
   "metadata": {},
   "outputs": [],
   "source": [
    "# Tratamiento de datos\n",
    "# ==============================================================================\n",
    "import pandas as pd\n",
    "import numpy as np\n",
    "\n",
    "\n",
    "# Almacenar en caché los resultados de funciones en el disco\n",
    "# ==============================================================================\n",
    "import joblib\n",
    "\n",
    "\n",
    "# Gestion de librerias\n",
    "# ==============================================================================\n",
    "from importlib import reload\n",
    "\n",
    "\n",
    "# Matemáticas y estadísticas\n",
    "# ==============================================================================\n",
    "import math\n",
    "\n",
    "\n",
    "# Preprocesado y modelado\n",
    "# ==============================================================================\n",
    "import math\n",
    "\n",
    "#Separar los datos entrenamiento y prueba\n",
    "from sklearn.model_selection import train_test_split\n",
    "\n",
    "\n",
    "#Escalar Variables\n",
    "from sklearn.preprocessing import MinMaxScaler\n",
    "\n",
    "\n",
    "#Evaluación del modelo\n",
    "from sklearn import metrics\n",
    "from sklearn.metrics import classification_report, confusion_matrix, ConfusionMatrixDisplay\n",
    "from sklearn.metrics import roc_auc_score\n",
    "from sklearn.metrics import roc_curve\n",
    "\n",
    "\n",
    "#Creación de modelo\n",
    "from sklearn.neighbors import KNeighborsClassifier\n",
    "\n",
    "\n",
    "#configuracion de hiperparámetros\n",
    "from sklearn.model_selection import GridSearchCV\n",
    "\n",
    "\n",
    "# Gráficos\n",
    "# ==============================================================================\n",
    "import matplotlib.pyplot as plt\n",
    "from matplotlib import style\n",
    "import seaborn as sns\n",
    "\n",
    "\n",
    "# Configuración warnings\n",
    "# ==============================================================================\n",
    "import warnings\n",
    "warnings.filterwarnings('ignore')"
   ]
  },
  {
   "cell_type": "markdown",
   "metadata": {},
   "source": [
    "## 2. Funciones"
   ]
  },
  {
   "cell_type": "code",
   "execution_count": 2,
   "metadata": {},
   "outputs": [],
   "source": [
    "#reload(utils.funciones)\n",
    "\n",
    "# Funciones externas\n",
    "# ==============================================================================\n",
    "from utils.funciones import multiple_plot, plot_roc_curve"
   ]
  },
  {
   "cell_type": "markdown",
   "metadata": {},
   "source": [
    "## 3. Carga del dataset"
   ]
  },
  {
   "cell_type": "code",
   "execution_count": 3,
   "metadata": {},
   "outputs": [],
   "source": [
    "#Se crea un dataframe d con los datos obtenidos de archivo de entrada\n",
    "d=pd.read_csv('./datasets/02_GermanCredit_Prep.csv')"
   ]
  },
  {
   "cell_type": "code",
   "execution_count": 4,
   "metadata": {},
   "outputs": [],
   "source": [
    "## Cargar datos con colab\n",
    "## =============================================================================\n",
    "\n",
    "#from google.colab import drive \n",
    "#import os\n",
    "\n",
    "#drive.mount('/gdrive')"
   ]
  },
  {
   "cell_type": "code",
   "execution_count": 5,
   "metadata": {},
   "outputs": [],
   "source": [
    "#os.chdir(\"/gdrive/MyDrive/ModelosCuantitativosPython/Notebooks\")\n",
    "#!ls"
   ]
  },
  {
   "cell_type": "code",
   "execution_count": 6,
   "metadata": {},
   "outputs": [
    {
     "name": "stdout",
     "output_type": "stream",
     "text": [
      "<class 'pandas.core.frame.DataFrame'>\n",
      "RangeIndex: 1138 entries, 0 to 1137\n",
      "Data columns (total 21 columns):\n",
      " #   Column                    Non-Null Count  Dtype \n",
      "---  ------                    --------------  ----- \n",
      " 0   checking_account_status   1138 non-null   object\n",
      " 1   loan_duration_mo          1138 non-null   int64 \n",
      " 2   credit_history            1138 non-null   object\n",
      " 3   purpose                   1138 non-null   object\n",
      " 4   loan_amount               1138 non-null   int64 \n",
      " 5   savings_account_balance   1138 non-null   object\n",
      " 6   time_employed_yrs         1138 non-null   object\n",
      " 7   payment_pcnt_income       1138 non-null   int64 \n",
      " 8   gender_status             1138 non-null   object\n",
      " 9   other_signators           1138 non-null   object\n",
      " 10  time_in_residence         1138 non-null   int64 \n",
      " 11  property                  1138 non-null   object\n",
      " 12  age_yrs                   1138 non-null   int64 \n",
      " 13  other_credit_outstanding  1138 non-null   object\n",
      " 14  home_ownership            1138 non-null   object\n",
      " 15  number_loans              1138 non-null   int64 \n",
      " 16  job_category              1138 non-null   object\n",
      " 17  dependents                1138 non-null   int64 \n",
      " 18  telephone                 1138 non-null   object\n",
      " 19  foreign_worker            1138 non-null   object\n",
      " 20  bad_credit                1138 non-null   int64 \n",
      "dtypes: int64(8), object(13)\n",
      "memory usage: 186.8+ KB\n"
     ]
    }
   ],
   "source": [
    "d.info()"
   ]
  },
  {
   "cell_type": "markdown",
   "metadata": {},
   "source": [
    "## 4. Visualización de datos"
   ]
  },
  {
   "cell_type": "markdown",
   "metadata": {},
   "source": [
    "### Variables de entrada"
   ]
  },
  {
   "cell_type": "code",
   "execution_count": 7,
   "metadata": {},
   "outputs": [
    {
     "data": {
      "text/html": [
       "<div>\n",
       "<style scoped>\n",
       "    .dataframe tbody tr th:only-of-type {\n",
       "        vertical-align: middle;\n",
       "    }\n",
       "\n",
       "    .dataframe tbody tr th {\n",
       "        vertical-align: top;\n",
       "    }\n",
       "\n",
       "    .dataframe thead th {\n",
       "        text-align: right;\n",
       "    }\n",
       "</style>\n",
       "<table border=\"1\" class=\"dataframe\">\n",
       "  <thead>\n",
       "    <tr style=\"text-align: right;\">\n",
       "      <th></th>\n",
       "      <th>checking_account_status</th>\n",
       "      <th>credit_history</th>\n",
       "      <th>purpose</th>\n",
       "      <th>savings_account_balance</th>\n",
       "      <th>time_employed_yrs</th>\n",
       "      <th>gender_status</th>\n",
       "      <th>other_signators</th>\n",
       "      <th>property</th>\n",
       "      <th>other_credit_outstanding</th>\n",
       "      <th>home_ownership</th>\n",
       "      <th>job_category</th>\n",
       "      <th>telephone</th>\n",
       "      <th>foreign_worker</th>\n",
       "    </tr>\n",
       "  </thead>\n",
       "  <tbody>\n",
       "    <tr>\n",
       "      <th>0</th>\n",
       "      <td>&lt; 0 DM</td>\n",
       "      <td>critical account - other non-bank loans</td>\n",
       "      <td>car</td>\n",
       "      <td>&lt; 100 DM</td>\n",
       "      <td>1 - 4 years</td>\n",
       "      <td>female-divorced/separated/married</td>\n",
       "      <td>co-applicant</td>\n",
       "      <td>real estate</td>\n",
       "      <td>none</td>\n",
       "      <td>own</td>\n",
       "      <td>skilled</td>\n",
       "      <td>none</td>\n",
       "      <td>yes</td>\n",
       "    </tr>\n",
       "    <tr>\n",
       "      <th>1</th>\n",
       "      <td>&lt; 0 DM</td>\n",
       "      <td>current loans paid</td>\n",
       "      <td>car</td>\n",
       "      <td>&lt; 100 DM</td>\n",
       "      <td>1 - 4 years</td>\n",
       "      <td>male-married/widowed</td>\n",
       "      <td>none</td>\n",
       "      <td>real estate</td>\n",
       "      <td>none</td>\n",
       "      <td>own</td>\n",
       "      <td>unskilled-resident</td>\n",
       "      <td>none</td>\n",
       "      <td>yes</td>\n",
       "    </tr>\n",
       "  </tbody>\n",
       "</table>\n",
       "</div>"
      ],
      "text/plain": [
       "  checking_account_status                           credit_history purpose  \\\n",
       "0                  < 0 DM  critical account - other non-bank loans     car   \n",
       "1                  < 0 DM                       current loans paid     car   \n",
       "\n",
       "  savings_account_balance time_employed_yrs  \\\n",
       "0                < 100 DM       1 - 4 years   \n",
       "1                < 100 DM       1 - 4 years   \n",
       "\n",
       "                       gender_status other_signators     property  \\\n",
       "0  female-divorced/separated/married    co-applicant  real estate   \n",
       "1               male-married/widowed            none  real estate   \n",
       "\n",
       "  other_credit_outstanding home_ownership        job_category telephone  \\\n",
       "0                     none            own             skilled      none   \n",
       "1                     none            own  unskilled-resident      none   \n",
       "\n",
       "  foreign_worker  \n",
       "0            yes  \n",
       "1            yes  "
      ]
     },
     "execution_count": 7,
     "metadata": {},
     "output_type": "execute_result"
    }
   ],
   "source": [
    "#Lista de variables categóricas\n",
    "catCols = d.select_dtypes(include = [\"object\", 'category']).columns.tolist()\n",
    "\n",
    "d[catCols].head(2)"
   ]
  },
  {
   "cell_type": "code",
   "execution_count": 8,
   "metadata": {},
   "outputs": [
    {
     "data": {
      "text/html": [
       "<div>\n",
       "<style scoped>\n",
       "    .dataframe tbody tr th:only-of-type {\n",
       "        vertical-align: middle;\n",
       "    }\n",
       "\n",
       "    .dataframe tbody tr th {\n",
       "        vertical-align: top;\n",
       "    }\n",
       "\n",
       "    .dataframe thead th {\n",
       "        text-align: right;\n",
       "    }\n",
       "</style>\n",
       "<table border=\"1\" class=\"dataframe\">\n",
       "  <thead>\n",
       "    <tr style=\"text-align: right;\">\n",
       "      <th></th>\n",
       "      <th>loan_duration_mo</th>\n",
       "      <th>loan_amount</th>\n",
       "      <th>payment_pcnt_income</th>\n",
       "      <th>time_in_residence</th>\n",
       "      <th>age_yrs</th>\n",
       "      <th>number_loans</th>\n",
       "      <th>dependents</th>\n",
       "      <th>bad_credit</th>\n",
       "    </tr>\n",
       "  </thead>\n",
       "  <tbody>\n",
       "    <tr>\n",
       "      <th>0</th>\n",
       "      <td>12</td>\n",
       "      <td>3499</td>\n",
       "      <td>3</td>\n",
       "      <td>2</td>\n",
       "      <td>29</td>\n",
       "      <td>2</td>\n",
       "      <td>1</td>\n",
       "      <td>1</td>\n",
       "    </tr>\n",
       "    <tr>\n",
       "      <th>1</th>\n",
       "      <td>12</td>\n",
       "      <td>1168</td>\n",
       "      <td>4</td>\n",
       "      <td>3</td>\n",
       "      <td>27</td>\n",
       "      <td>1</td>\n",
       "      <td>1</td>\n",
       "      <td>0</td>\n",
       "    </tr>\n",
       "  </tbody>\n",
       "</table>\n",
       "</div>"
      ],
      "text/plain": [
       "   loan_duration_mo  loan_amount  payment_pcnt_income  time_in_residence  \\\n",
       "0                12         3499                    3                  2   \n",
       "1                12         1168                    4                  3   \n",
       "\n",
       "   age_yrs  number_loans  dependents  bad_credit  \n",
       "0       29             2           1           1  \n",
       "1       27             1           1           0  "
      ]
     },
     "execution_count": 8,
     "metadata": {},
     "output_type": "execute_result"
    }
   ],
   "source": [
    "#Lista de variables numéricas\n",
    "\n",
    "numCols=d.select_dtypes(include = ['float64','float64','int32','int64']).columns.tolist()\n",
    "\n",
    "d[numCols].head(2)"
   ]
  },
  {
   "cell_type": "code",
   "execution_count": 9,
   "metadata": {},
   "outputs": [],
   "source": [
    "##Visualización de frecuencia de instancias para variables categóricas\n",
    "#multiple_plot(3, d , catCols, None, 'countplot', 'Frecuencia de instancias para variables categóricas',30)"
   ]
  },
  {
   "cell_type": "code",
   "execution_count": 10,
   "metadata": {},
   "outputs": [],
   "source": [
    "##Visualización de variables numéricas\n",
    "#multiple_plot(1, d , numCols, None, 'scatterplot', 'Relación entre las variables numéricas',30)"
   ]
  },
  {
   "cell_type": "code",
   "execution_count": 11,
   "metadata": {},
   "outputs": [],
   "source": [
    "#Eliminar la variable de salida de la lista de variable numéricas\n",
    "numCols.remove('bad_credit')"
   ]
  },
  {
   "cell_type": "markdown",
   "metadata": {},
   "source": [
    "### Variable de salida"
   ]
  },
  {
   "cell_type": "code",
   "execution_count": 12,
   "metadata": {},
   "outputs": [
    {
     "data": {
      "text/plain": [
       "bad_credit\n",
       "0    569\n",
       "1    569\n",
       "Name: bad_credit, dtype: int64"
      ]
     },
     "execution_count": 12,
     "metadata": {},
     "output_type": "execute_result"
    }
   ],
   "source": [
    "# Distriución de la variable de salida\n",
    "\n",
    "d.groupby('bad_credit').bad_credit.count().sort_values(ascending=False)"
   ]
  },
  {
   "cell_type": "code",
   "execution_count": 13,
   "metadata": {},
   "outputs": [],
   "source": [
    "##Visualización de la variable de salida\n",
    "#multiple_plot(1, d , None, 'bad_credit', 'countplot', 'Gráfica de frecuencia de bad Credit',0)"
   ]
  },
  {
   "cell_type": "markdown",
   "metadata": {},
   "source": [
    "## 5. Transformación de datos"
   ]
  },
  {
   "cell_type": "markdown",
   "metadata": {},
   "source": [
    "### Creación de variables Dummies "
   ]
  },
  {
   "cell_type": "code",
   "execution_count": 14,
   "metadata": {},
   "outputs": [
    {
     "name": "stdout",
     "output_type": "stream",
     "text": [
      "<class 'pandas.core.frame.DataFrame'>\n",
      "RangeIndex: 1138 entries, 0 to 1137\n",
      "Data columns (total 46 columns):\n",
      " #   Column                                                  Non-Null Count  Dtype\n",
      "---  ------                                                  --------------  -----\n",
      " 0   loan_duration_mo                                        1138 non-null   int64\n",
      " 1   loan_amount                                             1138 non-null   int64\n",
      " 2   payment_pcnt_income                                     1138 non-null   int64\n",
      " 3   time_in_residence                                       1138 non-null   int64\n",
      " 4   age_yrs                                                 1138 non-null   int64\n",
      " 5   number_loans                                            1138 non-null   int64\n",
      " 6   dependents                                              1138 non-null   int64\n",
      " 7   bad_credit                                              1138 non-null   int64\n",
      " 8   checking_account_status_< 0 DM                          1138 non-null   uint8\n",
      " 9   checking_account_status_> 200 DM or salary assignment   1138 non-null   uint8\n",
      " 10  checking_account_status_none                            1138 non-null   uint8\n",
      " 11  credit_history_critical account - other non-bank loans  1138 non-null   uint8\n",
      " 12  credit_history_current loans paid                       1138 non-null   uint8\n",
      " 13  credit_history_no credit - paid                         1138 non-null   uint8\n",
      " 14  credit_history_past payment delays                      1138 non-null   uint8\n",
      " 15  purpose_car                                             1138 non-null   uint8\n",
      " 16  purpose_education                                       1138 non-null   uint8\n",
      " 17  purpose_furniture/equipment                             1138 non-null   uint8\n",
      " 18  purpose_other                                           1138 non-null   uint8\n",
      " 19  purpose_radio/television                                1138 non-null   uint8\n",
      " 20  purpose_repairs                                         1138 non-null   uint8\n",
      " 21  savings_account_balance_500 - 1000 DM                   1138 non-null   uint8\n",
      " 22  savings_account_balance_< 100 DM                        1138 non-null   uint8\n",
      " 23  savings_account_balance_>= 1000 DM                      1138 non-null   uint8\n",
      " 24  savings_account_balance_unknown/none                    1138 non-null   uint8\n",
      " 25  time_employed_yrs_4 - 7 years                           1138 non-null   uint8\n",
      " 26  time_employed_yrs_< 1 year                              1138 non-null   uint8\n",
      " 27  time_employed_yrs_>= 7 years                            1138 non-null   uint8\n",
      " 28  time_employed_yrs_unemployed                            1138 non-null   uint8\n",
      " 29  gender_status_male-divorced/separated                   1138 non-null   uint8\n",
      " 30  gender_status_male-married/widowed                      1138 non-null   uint8\n",
      " 31  gender_status_male-single                               1138 non-null   uint8\n",
      " 32  other_signators_guarantor                               1138 non-null   uint8\n",
      " 33  other_signators_none                                    1138 non-null   uint8\n",
      " 34  property_car or other                                   1138 non-null   uint8\n",
      " 35  property_real estate                                    1138 non-null   uint8\n",
      " 36  property_unknown-none                                   1138 non-null   uint8\n",
      " 37  other_credit_outstanding_none                           1138 non-null   uint8\n",
      " 38  other_credit_outstanding_stores                         1138 non-null   uint8\n",
      " 39  home_ownership_own                                      1138 non-null   uint8\n",
      " 40  home_ownership_rent                                     1138 non-null   uint8\n",
      " 41  job_category_skilled                                    1138 non-null   uint8\n",
      " 42  job_category_unemployed-unskilled-non-resident          1138 non-null   uint8\n",
      " 43  job_category_unskilled-resident                         1138 non-null   uint8\n",
      " 44  telephone_yes                                           1138 non-null   uint8\n",
      " 45  foreign_worker_yes                                      1138 non-null   uint8\n",
      "dtypes: int64(8), uint8(38)\n",
      "memory usage: 113.5 KB\n"
     ]
    }
   ],
   "source": [
    "# Aplicación de la función de usuario Dummies: one-hot encoding\n",
    "\n",
    "d =pd.get_dummies(d, drop_first=1)\n",
    "\n",
    "d.info()"
   ]
  },
  {
   "cell_type": "markdown",
   "metadata": {},
   "source": [
    "## 6. Creación del modelo"
   ]
  },
  {
   "cell_type": "markdown",
   "metadata": {},
   "source": [
    "### Selecionar el conjunto de datos"
   ]
  },
  {
   "cell_type": "code",
   "execution_count": 15,
   "metadata": {},
   "outputs": [],
   "source": [
    "#Se establece las variables de entrada 'X' y la variable de salida 'y'\n",
    "\n",
    "X = d.drop(columns ='bad_credit')\n",
    "y = d['bad_credit']\n",
    "\n",
    "# la validación cruzada se realiza sobre todo el dataset\n",
    "X_Completo = X\n",
    "y_Completo = y"
   ]
  },
  {
   "cell_type": "markdown",
   "metadata": {},
   "source": [
    "### Escalar Variables"
   ]
  },
  {
   "cell_type": "code",
   "execution_count": 16,
   "metadata": {},
   "outputs": [
    {
     "name": "stdout",
     "output_type": "stream",
     "text": [
      "['loan_duration_mo', 'loan_amount', 'payment_pcnt_income', 'time_in_residence', 'age_yrs', 'number_loans', 'dependents']\n"
     ]
    }
   ],
   "source": [
    "#Se establecen las variables numéricas a escalar\n",
    "\n",
    "#Num_vars se le asigna la lista con las variables numerivas para posteriormente escalarlas\n",
    "num_vars = numCols\n",
    "\n",
    "print(num_vars)"
   ]
  },
  {
   "cell_type": "code",
   "execution_count": 17,
   "metadata": {},
   "outputs": [
    {
     "data": {
      "text/html": [
       "<div>\n",
       "<style scoped>\n",
       "    .dataframe tbody tr th:only-of-type {\n",
       "        vertical-align: middle;\n",
       "    }\n",
       "\n",
       "    .dataframe tbody tr th {\n",
       "        vertical-align: top;\n",
       "    }\n",
       "\n",
       "    .dataframe thead th {\n",
       "        text-align: right;\n",
       "    }\n",
       "</style>\n",
       "<table border=\"1\" class=\"dataframe\">\n",
       "  <thead>\n",
       "    <tr style=\"text-align: right;\">\n",
       "      <th></th>\n",
       "      <th>loan_duration_mo</th>\n",
       "      <th>loan_amount</th>\n",
       "      <th>payment_pcnt_income</th>\n",
       "      <th>time_in_residence</th>\n",
       "      <th>age_yrs</th>\n",
       "      <th>number_loans</th>\n",
       "      <th>dependents</th>\n",
       "    </tr>\n",
       "  </thead>\n",
       "  <tbody>\n",
       "    <tr>\n",
       "      <th>0</th>\n",
       "      <td>0.1176</td>\n",
       "      <td>0.2356</td>\n",
       "      <td>0.6667</td>\n",
       "      <td>0.3333</td>\n",
       "      <td>0.1667</td>\n",
       "      <td>0.3333</td>\n",
       "      <td>0.0000</td>\n",
       "    </tr>\n",
       "    <tr>\n",
       "      <th>1</th>\n",
       "      <td>0.1176</td>\n",
       "      <td>0.0619</td>\n",
       "      <td>1.0000</td>\n",
       "      <td>0.6667</td>\n",
       "      <td>0.1296</td>\n",
       "      <td>0.0000</td>\n",
       "      <td>0.0000</td>\n",
       "    </tr>\n",
       "  </tbody>\n",
       "</table>\n",
       "</div>"
      ],
      "text/plain": [
       "   loan_duration_mo  loan_amount  payment_pcnt_income  time_in_residence  \\\n",
       "0            0.1176       0.2356               0.6667             0.3333   \n",
       "1            0.1176       0.0619               1.0000             0.6667   \n",
       "\n",
       "   age_yrs  number_loans  dependents  \n",
       "0   0.1667        0.3333      0.0000  \n",
       "1   0.1296        0.0000      0.0000  "
      ]
     },
     "execution_count": 17,
     "metadata": {},
     "output_type": "execute_result"
    }
   ],
   "source": [
    "#Escalar Variables númericas\n",
    "\n",
    "pd.set_option('display.float_format', lambda x: '%.4f' % x)\n",
    "\n",
    "# Se crea un objeto MinMaxScaler\n",
    "scaler = MinMaxScaler()\n",
    "\n",
    "# Se escalan los valores del dataset entrenamiento y prueba de las columnas numéricas\n",
    "X_Completo[num_vars] = scaler.fit_transform(X_Completo[num_vars])\n",
    "\n",
    "\n",
    "X_Completo[num_vars].head(2)"
   ]
  },
  {
   "cell_type": "code",
   "execution_count": 18,
   "metadata": {},
   "outputs": [
    {
     "data": {
      "text/plain": [
       "['./modelos/scaler/minmaxFull_GermanCredits.pkl']"
      ]
     },
     "execution_count": 18,
     "metadata": {},
     "output_type": "execute_result"
    }
   ],
   "source": [
    "# Guardar el scaler\n",
    "joblib.dump(scaler, './modelos/scaler/minmaxFull_GermanCredits.pkl')"
   ]
  },
  {
   "cell_type": "markdown",
   "metadata": {},
   "source": [
    "### Creación del modelo"
   ]
  },
  {
   "cell_type": "markdown",
   "metadata": {},
   "source": [
    "#### Creación y entrenamiento del modelo"
   ]
  },
  {
   "cell_type": "code",
   "execution_count": 19,
   "metadata": {
    "scrolled": true
   },
   "outputs": [
    {
     "name": "stdout",
     "output_type": "stream",
     "text": [
      "Fitting 10 folds for each of 15 candidates, totalling 150 fits\n",
      "[CV 1/10] END metric=euclidean, n_neighbors=21;, score=(train=0.735, test=0.703) total time=   0.9s\n",
      "[CV 2/10] END metric=euclidean, n_neighbors=21;, score=(train=0.723, test=0.673) total time=   0.5s\n",
      "[CV 3/10] END metric=euclidean, n_neighbors=21;, score=(train=0.731, test=0.685) total time=   0.6s\n",
      "[CV 4/10] END metric=euclidean, n_neighbors=21;, score=(train=0.735, test=0.679) total time=   0.5s\n",
      "[CV 5/10] END metric=euclidean, n_neighbors=21;, score=(train=0.734, test=0.708) total time=   0.5s\n",
      "[CV 6/10] END metric=euclidean, n_neighbors=21;, score=(train=0.739, test=0.673) total time=   0.4s\n",
      "[CV 7/10] END metric=euclidean, n_neighbors=21;, score=(train=0.733, test=0.720) total time=   0.4s\n",
      "[CV 8/10] END metric=euclidean, n_neighbors=21;, score=(train=0.735, test=0.770) total time=   0.5s\n",
      "[CV 9/10] END metric=euclidean, n_neighbors=21;, score=(train=0.747, test=0.689) total time=   0.4s\n",
      "[CV 10/10] END metric=euclidean, n_neighbors=21;, score=(train=0.725, test=0.705) total time=   0.5s\n",
      "[CV 1/10] END metric=euclidean, n_neighbors=25;, score=(train=0.736, test=0.682) total time=   0.5s\n",
      "[CV 2/10] END metric=euclidean, n_neighbors=25;, score=(train=0.735, test=0.667) total time=   0.4s\n",
      "[CV 3/10] END metric=euclidean, n_neighbors=25;, score=(train=0.742, test=0.732) total time=   0.5s\n",
      "[CV 4/10] END metric=euclidean, n_neighbors=25;, score=(train=0.726, test=0.661) total time=   0.4s\n",
      "[CV 5/10] END metric=euclidean, n_neighbors=25;, score=(train=0.717, test=0.678) total time=   0.4s\n",
      "[CV 6/10] END metric=euclidean, n_neighbors=25;, score=(train=0.742, test=0.702) total time=   0.6s\n",
      "[CV 7/10] END metric=euclidean, n_neighbors=25;, score=(train=0.726, test=0.704) total time=   0.6s\n",
      "[CV 8/10] END metric=euclidean, n_neighbors=25;, score=(train=0.717, test=0.718) total time=   0.5s\n",
      "[CV 9/10] END metric=euclidean, n_neighbors=25;, score=(train=0.738, test=0.744) total time=   0.5s\n",
      "[CV 10/10] END metric=euclidean, n_neighbors=25;, score=(train=0.727, test=0.672) total time=   0.4s\n",
      "[CV 1/10] END metric=euclidean, n_neighbors=31;, score=(train=0.724, test=0.709) total time=   0.5s\n",
      "[CV 2/10] END metric=euclidean, n_neighbors=31;, score=(train=0.733, test=0.716) total time=   0.6s\n",
      "[CV 3/10] END metric=euclidean, n_neighbors=31;, score=(train=0.726, test=0.709) total time=   0.6s\n",
      "[CV 4/10] END metric=euclidean, n_neighbors=31;, score=(train=0.732, test=0.673) total time=   0.6s\n",
      "[CV 5/10] END metric=euclidean, n_neighbors=31;, score=(train=0.729, test=0.643) total time=   0.6s\n",
      "[CV 6/10] END metric=euclidean, n_neighbors=31;, score=(train=0.725, test=0.678) total time=   0.6s\n",
      "[CV 7/10] END metric=euclidean, n_neighbors=31;, score=(train=0.711, test=0.683) total time=   0.7s\n",
      "[CV 8/10] END metric=euclidean, n_neighbors=31;, score=(train=0.729, test=0.733) total time=   0.6s\n",
      "[CV 9/10] END metric=euclidean, n_neighbors=31;, score=(train=0.730, test=0.727) total time=   0.6s\n",
      "[CV 10/10] END metric=euclidean, n_neighbors=31;, score=(train=0.740, test=0.694) total time=   0.5s\n",
      "[CV 1/10] END metric=euclidean, n_neighbors=35;, score=(train=0.726, test=0.698) total time=   0.5s\n",
      "[CV 2/10] END metric=euclidean, n_neighbors=35;, score=(train=0.723, test=0.685) total time=   0.5s\n",
      "[CV 3/10] END metric=euclidean, n_neighbors=35;, score=(train=0.728, test=0.721) total time=   0.6s\n",
      "[CV 4/10] END metric=euclidean, n_neighbors=35;, score=(train=0.714, test=0.630) total time=   0.6s\n",
      "[CV 5/10] END metric=euclidean, n_neighbors=35;, score=(train=0.720, test=0.626) total time=   0.6s\n",
      "[CV 6/10] END metric=euclidean, n_neighbors=35;, score=(train=0.721, test=0.690) total time=   0.7s\n",
      "[CV 7/10] END metric=euclidean, n_neighbors=35;, score=(train=0.716, test=0.715) total time=   0.7s\n",
      "[CV 8/10] END metric=euclidean, n_neighbors=35;, score=(train=0.719, test=0.700) total time=   0.7s\n",
      "[CV 9/10] END metric=euclidean, n_neighbors=35;, score=(train=0.720, test=0.733) total time=   0.5s\n",
      "[CV 10/10] END metric=euclidean, n_neighbors=35;, score=(train=0.724, test=0.712) total time=   0.6s\n",
      "[CV 1/10] END metric=euclidean, n_neighbors=37;, score=(train=0.718, test=0.720) total time=   0.5s\n",
      "[CV 2/10] END metric=euclidean, n_neighbors=37;, score=(train=0.725, test=0.704) total time=   0.5s\n",
      "[CV 3/10] END metric=euclidean, n_neighbors=37;, score=(train=0.725, test=0.703) total time=   0.5s\n",
      "[CV 4/10] END metric=euclidean, n_neighbors=37;, score=(train=0.718, test=0.624) total time=   0.5s\n",
      "[CV 5/10] END metric=euclidean, n_neighbors=37;, score=(train=0.720, test=0.655) total time=   0.5s\n",
      "[CV 6/10] END metric=euclidean, n_neighbors=37;, score=(train=0.715, test=0.672) total time=   0.4s\n",
      "[CV 7/10] END metric=euclidean, n_neighbors=37;, score=(train=0.720, test=0.736) total time=   0.4s\n",
      "[CV 8/10] END metric=euclidean, n_neighbors=37;, score=(train=0.718, test=0.727) total time=   0.5s\n",
      "[CV 9/10] END metric=euclidean, n_neighbors=37;, score=(train=0.717, test=0.727) total time=   0.4s\n",
      "[CV 10/10] END metric=euclidean, n_neighbors=37;, score=(train=0.712, test=0.694) total time=   0.5s\n",
      "[CV 1/10] END metric=manhattan, n_neighbors=21;, score=(train=0.740, test=0.672) total time=   0.4s\n",
      "[CV 2/10] END metric=manhattan, n_neighbors=21;, score=(train=0.719, test=0.660) total time=   0.4s\n",
      "[CV 3/10] END metric=manhattan, n_neighbors=21;, score=(train=0.746, test=0.721) total time=   0.5s\n",
      "[CV 4/10] END metric=manhattan, n_neighbors=21;, score=(train=0.742, test=0.685) total time=   0.5s\n",
      "[CV 5/10] END metric=manhattan, n_neighbors=21;, score=(train=0.739, test=0.707) total time=   0.4s\n",
      "[CV 6/10] END metric=manhattan, n_neighbors=21;, score=(train=0.738, test=0.661) total time=   0.5s\n",
      "[CV 7/10] END metric=manhattan, n_neighbors=21;, score=(train=0.742, test=0.720) total time=   0.5s\n",
      "[CV 8/10] END metric=manhattan, n_neighbors=21;, score=(train=0.735, test=0.750) total time=   0.5s\n",
      "[CV 9/10] END metric=manhattan, n_neighbors=21;, score=(train=0.753, test=0.700) total time=   0.5s\n",
      "[CV 10/10] END metric=manhattan, n_neighbors=21;, score=(train=0.738, test=0.717) total time=   0.4s\n",
      "[CV 1/10] END metric=manhattan, n_neighbors=25;, score=(train=0.740, test=0.683) total time=   0.5s\n",
      "[CV 2/10] END metric=manhattan, n_neighbors=25;, score=(train=0.737, test=0.692) total time=   0.7s\n",
      "[CV 3/10] END metric=manhattan, n_neighbors=25;, score=(train=0.721, test=0.727) total time=   0.6s\n",
      "[CV 4/10] END metric=manhattan, n_neighbors=25;, score=(train=0.719, test=0.636) total time=   0.8s\n",
      "[CV 5/10] END metric=manhattan, n_neighbors=25;, score=(train=0.731, test=0.661) total time=   0.8s\n",
      "[CV 6/10] END metric=manhattan, n_neighbors=25;, score=(train=0.730, test=0.690) total time=   0.5s\n",
      "[CV 7/10] END metric=manhattan, n_neighbors=25;, score=(train=0.731, test=0.758) total time=   0.6s\n",
      "[CV 8/10] END metric=manhattan, n_neighbors=25;, score=(train=0.729, test=0.724) total time=   0.6s\n",
      "[CV 9/10] END metric=manhattan, n_neighbors=25;, score=(train=0.743, test=0.738) total time=   0.6s\n",
      "[CV 10/10] END metric=manhattan, n_neighbors=25;, score=(train=0.733, test=0.678) total time=   0.4s\n",
      "[CV 1/10] END metric=manhattan, n_neighbors=31;, score=(train=0.739, test=0.719) total time=   0.5s\n",
      "[CV 2/10] END metric=manhattan, n_neighbors=31;, score=(train=0.723, test=0.721) total time=   0.4s\n",
      "[CV 3/10] END metric=manhattan, n_neighbors=31;, score=(train=0.737, test=0.734) total time=   0.5s\n",
      "[CV 4/10] END metric=manhattan, n_neighbors=31;, score=(train=0.726, test=0.667) total time=   0.4s\n",
      "[CV 5/10] END metric=manhattan, n_neighbors=31;, score=(train=0.732, test=0.643) total time=   0.5s\n",
      "[CV 6/10] END metric=manhattan, n_neighbors=31;, score=(train=0.737, test=0.702) total time=   0.6s\n",
      "[CV 7/10] END metric=manhattan, n_neighbors=31;, score=(train=0.724, test=0.706) total time=   0.5s\n",
      "[CV 8/10] END metric=manhattan, n_neighbors=31;, score=(train=0.740, test=0.713) total time=   0.5s\n",
      "[CV 9/10] END metric=manhattan, n_neighbors=31;, score=(train=0.724, test=0.729) total time=   0.4s\n",
      "[CV 10/10] END metric=manhattan, n_neighbors=31;, score=(train=0.737, test=0.701) total time=   0.4s\n",
      "[CV 1/10] END metric=manhattan, n_neighbors=35;, score=(train=0.722, test=0.723) total time=   0.3s\n",
      "[CV 2/10] END metric=manhattan, n_neighbors=35;, score=(train=0.716, test=0.729) total time=   0.3s\n"
     ]
    },
    {
     "name": "stdout",
     "output_type": "stream",
     "text": [
      "[CV 3/10] END metric=manhattan, n_neighbors=35;, score=(train=0.724, test=0.667) total time=   0.4s\n",
      "[CV 4/10] END metric=manhattan, n_neighbors=35;, score=(train=0.719, test=0.655) total time=   0.4s\n",
      "[CV 5/10] END metric=manhattan, n_neighbors=35;, score=(train=0.721, test=0.649) total time=   0.4s\n",
      "[CV 6/10] END metric=manhattan, n_neighbors=35;, score=(train=0.712, test=0.667) total time=   0.4s\n",
      "[CV 7/10] END metric=manhattan, n_neighbors=35;, score=(train=0.711, test=0.694) total time=   0.4s\n",
      "[CV 8/10] END metric=manhattan, n_neighbors=35;, score=(train=0.718, test=0.718) total time=   0.3s\n",
      "[CV 9/10] END metric=manhattan, n_neighbors=35;, score=(train=0.713, test=0.729) total time=   0.5s\n",
      "[CV 10/10] END metric=manhattan, n_neighbors=35;, score=(train=0.713, test=0.695) total time=   0.7s\n",
      "[CV 1/10] END metric=manhattan, n_neighbors=37;, score=(train=0.707, test=0.709) total time=   0.5s\n",
      "[CV 2/10] END metric=manhattan, n_neighbors=37;, score=(train=0.698, test=0.697) total time=   0.5s\n",
      "[CV 3/10] END metric=manhattan, n_neighbors=37;, score=(train=0.712, test=0.691) total time=   0.4s\n",
      "[CV 4/10] END metric=manhattan, n_neighbors=37;, score=(train=0.720, test=0.649) total time=   0.4s\n",
      "[CV 5/10] END metric=manhattan, n_neighbors=37;, score=(train=0.712, test=0.649) total time=   0.4s\n",
      "[CV 6/10] END metric=manhattan, n_neighbors=37;, score=(train=0.705, test=0.690) total time=   0.5s\n",
      "[CV 7/10] END metric=manhattan, n_neighbors=37;, score=(train=0.706, test=0.695) total time=   0.4s\n",
      "[CV 8/10] END metric=manhattan, n_neighbors=37;, score=(train=0.703, test=0.701) total time=   0.5s\n",
      "[CV 9/10] END metric=manhattan, n_neighbors=37;, score=(train=0.715, test=0.746) total time=   0.4s\n",
      "[CV 10/10] END metric=manhattan, n_neighbors=37;, score=(train=0.716, test=0.684) total time=   0.5s\n",
      "[CV 1/10] END metric=chebyshev, n_neighbors=21;, score=(train=0.000, test=0.000) total time=   0.4s\n",
      "[CV 2/10] END metric=chebyshev, n_neighbors=21;, score=(train=0.053, test=0.000) total time=   0.4s\n",
      "[CV 3/10] END metric=chebyshev, n_neighbors=21;, score=(train=0.053, test=0.000) total time=   0.5s\n",
      "[CV 4/10] END metric=chebyshev, n_neighbors=21;, score=(train=0.027, test=0.000) total time=   0.4s\n",
      "[CV 5/10] END metric=chebyshev, n_neighbors=21;, score=(train=0.053, test=0.000) total time=   0.4s\n",
      "[CV 6/10] END metric=chebyshev, n_neighbors=21;, score=(train=0.053, test=0.000) total time=   0.4s\n",
      "[CV 7/10] END metric=chebyshev, n_neighbors=21;, score=(train=0.027, test=0.000) total time=   0.4s\n",
      "[CV 8/10] END metric=chebyshev, n_neighbors=21;, score=(train=0.000, test=0.000) total time=   0.4s\n",
      "[CV 9/10] END metric=chebyshev, n_neighbors=21;, score=(train=0.000, test=0.000) total time=   0.5s\n",
      "[CV 10/10] END metric=chebyshev, n_neighbors=21;, score=(train=0.027, test=0.000) total time=   0.5s\n",
      "[CV 1/10] END metric=chebyshev, n_neighbors=25;, score=(train=0.000, test=0.000) total time=   0.5s\n",
      "[CV 2/10] END metric=chebyshev, n_neighbors=25;, score=(train=0.000, test=0.000) total time=   0.4s\n",
      "[CV 3/10] END metric=chebyshev, n_neighbors=25;, score=(train=0.000, test=0.000) total time=   0.5s\n",
      "[CV 4/10] END metric=chebyshev, n_neighbors=25;, score=(train=0.000, test=0.000) total time=   0.6s\n",
      "[CV 5/10] END metric=chebyshev, n_neighbors=25;, score=(train=0.000, test=0.000) total time=   0.6s\n",
      "[CV 6/10] END metric=chebyshev, n_neighbors=25;, score=(train=0.000, test=0.000) total time=   0.5s\n",
      "[CV 7/10] END metric=chebyshev, n_neighbors=25;, score=(train=0.000, test=0.000) total time=   0.5s\n",
      "[CV 8/10] END metric=chebyshev, n_neighbors=25;, score=(train=0.000, test=0.000) total time=   0.5s\n",
      "[CV 9/10] END metric=chebyshev, n_neighbors=25;, score=(train=0.000, test=0.000) total time=   0.4s\n",
      "[CV 10/10] END metric=chebyshev, n_neighbors=25;, score=(train=0.000, test=0.000) total time=   0.4s\n",
      "[CV 1/10] END metric=chebyshev, n_neighbors=31;, score=(train=0.000, test=0.000) total time=   0.5s\n",
      "[CV 2/10] END metric=chebyshev, n_neighbors=31;, score=(train=0.000, test=0.000) total time=   0.5s\n",
      "[CV 3/10] END metric=chebyshev, n_neighbors=31;, score=(train=0.000, test=0.000) total time=   0.5s\n",
      "[CV 4/10] END metric=chebyshev, n_neighbors=31;, score=(train=0.000, test=0.000) total time=   0.5s\n",
      "[CV 5/10] END metric=chebyshev, n_neighbors=31;, score=(train=0.000, test=0.000) total time=   0.5s\n",
      "[CV 6/10] END metric=chebyshev, n_neighbors=31;, score=(train=0.000, test=0.000) total time=   0.6s\n",
      "[CV 7/10] END metric=chebyshev, n_neighbors=31;, score=(train=0.000, test=0.000) total time=   0.5s\n",
      "[CV 8/10] END metric=chebyshev, n_neighbors=31;, score=(train=0.000, test=0.000) total time=   0.5s\n",
      "[CV 9/10] END metric=chebyshev, n_neighbors=31;, score=(train=0.000, test=0.000) total time=   0.5s\n",
      "[CV 10/10] END metric=chebyshev, n_neighbors=31;, score=(train=0.000, test=0.000) total time=   0.4s\n",
      "[CV 1/10] END metric=chebyshev, n_neighbors=35;, score=(train=0.000, test=0.000) total time=   0.5s\n",
      "[CV 2/10] END metric=chebyshev, n_neighbors=35;, score=(train=0.000, test=0.000) total time=   0.4s\n",
      "[CV 3/10] END metric=chebyshev, n_neighbors=35;, score=(train=0.000, test=0.000) total time=   0.5s\n",
      "[CV 4/10] END metric=chebyshev, n_neighbors=35;, score=(train=0.000, test=0.000) total time=   0.4s\n",
      "[CV 5/10] END metric=chebyshev, n_neighbors=35;, score=(train=0.000, test=0.000) total time=   0.5s\n",
      "[CV 6/10] END metric=chebyshev, n_neighbors=35;, score=(train=0.000, test=0.000) total time=   0.5s\n",
      "[CV 7/10] END metric=chebyshev, n_neighbors=35;, score=(train=0.000, test=0.000) total time=   0.6s\n",
      "[CV 8/10] END metric=chebyshev, n_neighbors=35;, score=(train=0.000, test=0.000) total time=   0.5s\n",
      "[CV 9/10] END metric=chebyshev, n_neighbors=35;, score=(train=0.000, test=0.000) total time=   0.7s\n",
      "[CV 10/10] END metric=chebyshev, n_neighbors=35;, score=(train=0.000, test=0.000) total time=   0.6s\n",
      "[CV 1/10] END metric=chebyshev, n_neighbors=37;, score=(train=0.000, test=0.000) total time=   0.5s\n",
      "[CV 2/10] END metric=chebyshev, n_neighbors=37;, score=(train=0.000, test=0.000) total time=   0.5s\n",
      "[CV 3/10] END metric=chebyshev, n_neighbors=37;, score=(train=0.000, test=0.000) total time=   0.4s\n",
      "[CV 4/10] END metric=chebyshev, n_neighbors=37;, score=(train=0.000, test=0.000) total time=   0.4s\n",
      "[CV 5/10] END metric=chebyshev, n_neighbors=37;, score=(train=0.000, test=0.000) total time=   0.5s\n",
      "[CV 6/10] END metric=chebyshev, n_neighbors=37;, score=(train=0.000, test=0.000) total time=   0.5s\n",
      "[CV 7/10] END metric=chebyshev, n_neighbors=37;, score=(train=0.000, test=0.000) total time=   0.5s\n",
      "[CV 8/10] END metric=chebyshev, n_neighbors=37;, score=(train=0.000, test=0.000) total time=   0.4s\n",
      "[CV 9/10] END metric=chebyshev, n_neighbors=37;, score=(train=0.000, test=0.000) total time=   0.5s\n",
      "[CV 10/10] END metric=chebyshev, n_neighbors=37;, score=(train=0.000, test=0.000) total time=   0.6s\n"
     ]
    },
    {
     "data": {
      "text/html": [
       "<style>#sk-container-id-1 {color: black;background-color: white;}#sk-container-id-1 pre{padding: 0;}#sk-container-id-1 div.sk-toggleable {background-color: white;}#sk-container-id-1 label.sk-toggleable__label {cursor: pointer;display: block;width: 100%;margin-bottom: 0;padding: 0.3em;box-sizing: border-box;text-align: center;}#sk-container-id-1 label.sk-toggleable__label-arrow:before {content: \"▸\";float: left;margin-right: 0.25em;color: #696969;}#sk-container-id-1 label.sk-toggleable__label-arrow:hover:before {color: black;}#sk-container-id-1 div.sk-estimator:hover label.sk-toggleable__label-arrow:before {color: black;}#sk-container-id-1 div.sk-toggleable__content {max-height: 0;max-width: 0;overflow: hidden;text-align: left;background-color: #f0f8ff;}#sk-container-id-1 div.sk-toggleable__content pre {margin: 0.2em;color: black;border-radius: 0.25em;background-color: #f0f8ff;}#sk-container-id-1 input.sk-toggleable__control:checked~div.sk-toggleable__content {max-height: 200px;max-width: 100%;overflow: auto;}#sk-container-id-1 input.sk-toggleable__control:checked~label.sk-toggleable__label-arrow:before {content: \"▾\";}#sk-container-id-1 div.sk-estimator input.sk-toggleable__control:checked~label.sk-toggleable__label {background-color: #d4ebff;}#sk-container-id-1 div.sk-label input.sk-toggleable__control:checked~label.sk-toggleable__label {background-color: #d4ebff;}#sk-container-id-1 input.sk-hidden--visually {border: 0;clip: rect(1px 1px 1px 1px);clip: rect(1px, 1px, 1px, 1px);height: 1px;margin: -1px;overflow: hidden;padding: 0;position: absolute;width: 1px;}#sk-container-id-1 div.sk-estimator {font-family: monospace;background-color: #f0f8ff;border: 1px dotted black;border-radius: 0.25em;box-sizing: border-box;margin-bottom: 0.5em;}#sk-container-id-1 div.sk-estimator:hover {background-color: #d4ebff;}#sk-container-id-1 div.sk-parallel-item::after {content: \"\";width: 100%;border-bottom: 1px solid gray;flex-grow: 1;}#sk-container-id-1 div.sk-label:hover label.sk-toggleable__label {background-color: #d4ebff;}#sk-container-id-1 div.sk-serial::before {content: \"\";position: absolute;border-left: 1px solid gray;box-sizing: border-box;top: 0;bottom: 0;left: 50%;z-index: 0;}#sk-container-id-1 div.sk-serial {display: flex;flex-direction: column;align-items: center;background-color: white;padding-right: 0.2em;padding-left: 0.2em;position: relative;}#sk-container-id-1 div.sk-item {position: relative;z-index: 1;}#sk-container-id-1 div.sk-parallel {display: flex;align-items: stretch;justify-content: center;background-color: white;position: relative;}#sk-container-id-1 div.sk-item::before, #sk-container-id-1 div.sk-parallel-item::before {content: \"\";position: absolute;border-left: 1px solid gray;box-sizing: border-box;top: 0;bottom: 0;left: 50%;z-index: -1;}#sk-container-id-1 div.sk-parallel-item {display: flex;flex-direction: column;z-index: 1;position: relative;background-color: white;}#sk-container-id-1 div.sk-parallel-item:first-child::after {align-self: flex-end;width: 50%;}#sk-container-id-1 div.sk-parallel-item:last-child::after {align-self: flex-start;width: 50%;}#sk-container-id-1 div.sk-parallel-item:only-child::after {width: 0;}#sk-container-id-1 div.sk-dashed-wrapped {border: 1px dashed gray;margin: 0 0.4em 0.5em 0.4em;box-sizing: border-box;padding-bottom: 0.4em;background-color: white;}#sk-container-id-1 div.sk-label label {font-family: monospace;font-weight: bold;display: inline-block;line-height: 1.2em;}#sk-container-id-1 div.sk-label-container {text-align: center;}#sk-container-id-1 div.sk-container {/* jupyter's `normalize.less` sets `[hidden] { display: none; }` but bootstrap.min.css set `[hidden] { display: none !important; }` so we also need the `!important` here to be able to override the default hidden behavior on the sphinx rendered scikit-learn.org. See: https://github.com/scikit-learn/scikit-learn/issues/21755 */display: inline-block !important;position: relative;}#sk-container-id-1 div.sk-text-repr-fallback {display: none;}</style><div id=\"sk-container-id-1\" class=\"sk-top-container\"><div class=\"sk-text-repr-fallback\"><pre>GridSearchCV(cv=10, estimator=KNeighborsClassifier(),\n",
       "             param_grid={&#x27;metric&#x27;: [&#x27;euclidean&#x27;, &#x27;manhattan&#x27;, &#x27;chebyshev&#x27;],\n",
       "                         &#x27;n_neighbors&#x27;: [21, 25, 31, 35, 37]},\n",
       "             return_train_score=True, scoring=&#x27;f1&#x27;, verbose=4)</pre><b>In a Jupyter environment, please rerun this cell to show the HTML representation or trust the notebook. <br />On GitHub, the HTML representation is unable to render, please try loading this page with nbviewer.org.</b></div><div class=\"sk-container\" hidden><div class=\"sk-item sk-dashed-wrapped\"><div class=\"sk-label-container\"><div class=\"sk-label sk-toggleable\"><input class=\"sk-toggleable__control sk-hidden--visually\" id=\"sk-estimator-id-1\" type=\"checkbox\" ><label for=\"sk-estimator-id-1\" class=\"sk-toggleable__label sk-toggleable__label-arrow\">GridSearchCV</label><div class=\"sk-toggleable__content\"><pre>GridSearchCV(cv=10, estimator=KNeighborsClassifier(),\n",
       "             param_grid={&#x27;metric&#x27;: [&#x27;euclidean&#x27;, &#x27;manhattan&#x27;, &#x27;chebyshev&#x27;],\n",
       "                         &#x27;n_neighbors&#x27;: [21, 25, 31, 35, 37]},\n",
       "             return_train_score=True, scoring=&#x27;f1&#x27;, verbose=4)</pre></div></div></div><div class=\"sk-parallel\"><div class=\"sk-parallel-item\"><div class=\"sk-item\"><div class=\"sk-label-container\"><div class=\"sk-label sk-toggleable\"><input class=\"sk-toggleable__control sk-hidden--visually\" id=\"sk-estimator-id-2\" type=\"checkbox\" ><label for=\"sk-estimator-id-2\" class=\"sk-toggleable__label sk-toggleable__label-arrow\">estimator: KNeighborsClassifier</label><div class=\"sk-toggleable__content\"><pre>KNeighborsClassifier()</pre></div></div></div><div class=\"sk-serial\"><div class=\"sk-item\"><div class=\"sk-estimator sk-toggleable\"><input class=\"sk-toggleable__control sk-hidden--visually\" id=\"sk-estimator-id-3\" type=\"checkbox\" ><label for=\"sk-estimator-id-3\" class=\"sk-toggleable__label sk-toggleable__label-arrow\">KNeighborsClassifier</label><div class=\"sk-toggleable__content\"><pre>KNeighborsClassifier()</pre></div></div></div></div></div></div></div></div></div></div>"
      ],
      "text/plain": [
       "GridSearchCV(cv=10, estimator=KNeighborsClassifier(),\n",
       "             param_grid={'metric': ['euclidean', 'manhattan', 'chebyshev'],\n",
       "                         'n_neighbors': [21, 25, 31, 35, 37]},\n",
       "             return_train_score=True, scoring='f1', verbose=4)"
      ]
     },
     "execution_count": 19,
     "metadata": {},
     "output_type": "execute_result"
    }
   ],
   "source": [
    "np.random.seed(4)\n",
    "\n",
    "\n",
    "# Definición del modelo\n",
    "modelKNN = KNeighborsClassifier()\n",
    "\n",
    "#Número de vecinos a evaluar\n",
    "k=[21, 25, 31, 35, 37]\n",
    "\n",
    "# definicion de la variable con el número de pliegues\n",
    "CV = 10\n",
    "\n",
    "# valor de evaluación (scoring) del modelo \n",
    "scoring = 'f1' # Otros valores que puede tomar son: accuracy, precision, recall2, f1, roc_auc, balanced_accuracy\n",
    "\n",
    "# Definición de para\n",
    "parameters = {'n_neighbors':k, 'metric':['euclidean','manhattan','chebyshev']}\n",
    "\n",
    "\n",
    "# Creacion de gridSearch con los múltiples parámetros\n",
    "grid_knn = GridSearchCV(estimator=modelKNN\n",
    "                    , param_grid = parameters\n",
    "                    , cv=CV\n",
    "                    , scoring=scoring\n",
    "                    , return_train_score=True\n",
    "                    , verbose=4)\n",
    "\n",
    "\n",
    "grid_knn.fit(X_Completo, y_Completo)"
   ]
  },
  {
   "cell_type": "markdown",
   "metadata": {},
   "source": [
    "### Evaluación del modelo"
   ]
  },
  {
   "cell_type": "code",
   "execution_count": 20,
   "metadata": {},
   "outputs": [
    {
     "data": {
      "text/html": [
       "<div>\n",
       "<style scoped>\n",
       "    .dataframe tbody tr th:only-of-type {\n",
       "        vertical-align: middle;\n",
       "    }\n",
       "\n",
       "    .dataframe tbody tr th {\n",
       "        vertical-align: top;\n",
       "    }\n",
       "\n",
       "    .dataframe thead th {\n",
       "        text-align: right;\n",
       "    }\n",
       "</style>\n",
       "<table border=\"1\" class=\"dataframe\">\n",
       "  <thead>\n",
       "    <tr style=\"text-align: right;\">\n",
       "      <th></th>\n",
       "      <th>param_metric</th>\n",
       "      <th>param_n_neighbors</th>\n",
       "      <th>mean_test_score</th>\n",
       "      <th>std_test_score</th>\n",
       "      <th>mean_train_score</th>\n",
       "      <th>std_train_score</th>\n",
       "    </tr>\n",
       "  </thead>\n",
       "  <tbody>\n",
       "    <tr>\n",
       "      <th>7</th>\n",
       "      <td>manhattan</td>\n",
       "      <td>31</td>\n",
       "      <td>0.7033</td>\n",
       "      <td>0.0269</td>\n",
       "      <td>0.7319</td>\n",
       "      <td>0.0067</td>\n",
       "    </tr>\n",
       "    <tr>\n",
       "      <th>0</th>\n",
       "      <td>euclidean</td>\n",
       "      <td>21</td>\n",
       "      <td>0.7005</td>\n",
       "      <td>0.0278</td>\n",
       "      <td>0.7337</td>\n",
       "      <td>0.0064</td>\n",
       "    </tr>\n",
       "    <tr>\n",
       "      <th>5</th>\n",
       "      <td>manhattan</td>\n",
       "      <td>21</td>\n",
       "      <td>0.6992</td>\n",
       "      <td>0.0279</td>\n",
       "      <td>0.7391</td>\n",
       "      <td>0.0081</td>\n",
       "    </tr>\n",
       "    <tr>\n",
       "      <th>6</th>\n",
       "      <td>manhattan</td>\n",
       "      <td>25</td>\n",
       "      <td>0.6987</td>\n",
       "      <td>0.0356</td>\n",
       "      <td>0.7314</td>\n",
       "      <td>0.0070</td>\n",
       "    </tr>\n",
       "  </tbody>\n",
       "</table>\n",
       "</div>"
      ],
      "text/plain": [
       "  param_metric param_n_neighbors  mean_test_score  std_test_score  \\\n",
       "7    manhattan                31           0.7033          0.0269   \n",
       "0    euclidean                21           0.7005          0.0278   \n",
       "5    manhattan                21           0.6992          0.0279   \n",
       "6    manhattan                25           0.6987          0.0356   \n",
       "\n",
       "   mean_train_score  std_train_score  \n",
       "7            0.7319           0.0067  \n",
       "0            0.7337           0.0064  \n",
       "5            0.7391           0.0081  \n",
       "6            0.7314           0.0070  "
      ]
     },
     "execution_count": 20,
     "metadata": {},
     "output_type": "execute_result"
    }
   ],
   "source": [
    "# Resultados\n",
    "resultados = pd.DataFrame(grid_knn.cv_results_)\n",
    "resultados.filter(regex = '(param.*|mean_t|std_t)') \\\n",
    "    .drop(columns = 'params') \\\n",
    "    .sort_values('mean_test_score', ascending = False) \\\n",
    "    .head(4)"
   ]
  },
  {
   "cell_type": "code",
   "execution_count": 21,
   "metadata": {
    "scrolled": true
   },
   "outputs": [],
   "source": [
    "#grid_knn.cv_results_\n",
    "#grid_knn.best_score_\n"
   ]
  },
  {
   "cell_type": "code",
   "execution_count": 22,
   "metadata": {},
   "outputs": [
    {
     "data": {
      "text/html": [
       "<div>\n",
       "<style scoped>\n",
       "    .dataframe tbody tr th:only-of-type {\n",
       "        vertical-align: middle;\n",
       "    }\n",
       "\n",
       "    .dataframe tbody tr th {\n",
       "        vertical-align: top;\n",
       "    }\n",
       "\n",
       "    .dataframe thead th {\n",
       "        text-align: right;\n",
       "    }\n",
       "</style>\n",
       "<table border=\"1\" class=\"dataframe\">\n",
       "  <thead>\n",
       "    <tr style=\"text-align: right;\">\n",
       "      <th></th>\n",
       "      <th>param_metric</th>\n",
       "      <th>param_n_neighbors</th>\n",
       "      <th>mean_test_score</th>\n",
       "      <th>std_test_score</th>\n",
       "      <th>split0_test_score</th>\n",
       "      <th>split1_test_score</th>\n",
       "      <th>split2_test_score</th>\n",
       "      <th>split3_test_score</th>\n",
       "      <th>split4_test_score</th>\n",
       "      <th>split5_test_score</th>\n",
       "      <th>split6_test_score</th>\n",
       "      <th>split7_test_score</th>\n",
       "      <th>split8_test_score</th>\n",
       "      <th>split9_test_score</th>\n",
       "    </tr>\n",
       "  </thead>\n",
       "  <tbody>\n",
       "    <tr>\n",
       "      <th>7</th>\n",
       "      <td>manhattan</td>\n",
       "      <td>31</td>\n",
       "      <td>0.7033</td>\n",
       "      <td>0.0269</td>\n",
       "      <td>0.7188</td>\n",
       "      <td>0.7207</td>\n",
       "      <td>0.7339</td>\n",
       "      <td>0.6667</td>\n",
       "      <td>0.6429</td>\n",
       "      <td>0.7018</td>\n",
       "      <td>0.7059</td>\n",
       "      <td>0.7130</td>\n",
       "      <td>0.7288</td>\n",
       "      <td>0.7009</td>\n",
       "    </tr>\n",
       "    <tr>\n",
       "      <th>0</th>\n",
       "      <td>euclidean</td>\n",
       "      <td>21</td>\n",
       "      <td>0.7005</td>\n",
       "      <td>0.0278</td>\n",
       "      <td>0.7031</td>\n",
       "      <td>0.6729</td>\n",
       "      <td>0.6847</td>\n",
       "      <td>0.6789</td>\n",
       "      <td>0.7080</td>\n",
       "      <td>0.6726</td>\n",
       "      <td>0.7200</td>\n",
       "      <td>0.7705</td>\n",
       "      <td>0.6891</td>\n",
       "      <td>0.7049</td>\n",
       "    </tr>\n",
       "    <tr>\n",
       "      <th>5</th>\n",
       "      <td>manhattan</td>\n",
       "      <td>21</td>\n",
       "      <td>0.6992</td>\n",
       "      <td>0.0279</td>\n",
       "      <td>0.6719</td>\n",
       "      <td>0.6604</td>\n",
       "      <td>0.7207</td>\n",
       "      <td>0.6847</td>\n",
       "      <td>0.7069</td>\n",
       "      <td>0.6607</td>\n",
       "      <td>0.7200</td>\n",
       "      <td>0.7500</td>\n",
       "      <td>0.7000</td>\n",
       "      <td>0.7167</td>\n",
       "    </tr>\n",
       "    <tr>\n",
       "      <th>6</th>\n",
       "      <td>manhattan</td>\n",
       "      <td>25</td>\n",
       "      <td>0.6987</td>\n",
       "      <td>0.0356</td>\n",
       "      <td>0.6825</td>\n",
       "      <td>0.6916</td>\n",
       "      <td>0.7273</td>\n",
       "      <td>0.6364</td>\n",
       "      <td>0.6607</td>\n",
       "      <td>0.6903</td>\n",
       "      <td>0.7581</td>\n",
       "      <td>0.7241</td>\n",
       "      <td>0.7377</td>\n",
       "      <td>0.6783</td>\n",
       "    </tr>\n",
       "    <tr>\n",
       "      <th>2</th>\n",
       "      <td>euclidean</td>\n",
       "      <td>31</td>\n",
       "      <td>0.6966</td>\n",
       "      <td>0.0262</td>\n",
       "      <td>0.7087</td>\n",
       "      <td>0.7156</td>\n",
       "      <td>0.7091</td>\n",
       "      <td>0.6727</td>\n",
       "      <td>0.6435</td>\n",
       "      <td>0.6783</td>\n",
       "      <td>0.6833</td>\n",
       "      <td>0.7333</td>\n",
       "      <td>0.7273</td>\n",
       "      <td>0.6942</td>\n",
       "    </tr>\n",
       "    <tr>\n",
       "      <th>4</th>\n",
       "      <td>euclidean</td>\n",
       "      <td>37</td>\n",
       "      <td>0.6963</td>\n",
       "      <td>0.0342</td>\n",
       "      <td>0.7200</td>\n",
       "      <td>0.7037</td>\n",
       "      <td>0.7027</td>\n",
       "      <td>0.6239</td>\n",
       "      <td>0.6552</td>\n",
       "      <td>0.6724</td>\n",
       "      <td>0.7360</td>\n",
       "      <td>0.7273</td>\n",
       "      <td>0.7273</td>\n",
       "      <td>0.6942</td>\n",
       "    </tr>\n",
       "    <tr>\n",
       "      <th>1</th>\n",
       "      <td>euclidean</td>\n",
       "      <td>25</td>\n",
       "      <td>0.6960</td>\n",
       "      <td>0.0271</td>\n",
       "      <td>0.6822</td>\n",
       "      <td>0.6667</td>\n",
       "      <td>0.7321</td>\n",
       "      <td>0.6607</td>\n",
       "      <td>0.6783</td>\n",
       "      <td>0.7018</td>\n",
       "      <td>0.7040</td>\n",
       "      <td>0.7179</td>\n",
       "      <td>0.7438</td>\n",
       "      <td>0.6723</td>\n",
       "    </tr>\n",
       "    <tr>\n",
       "      <th>8</th>\n",
       "      <td>manhattan</td>\n",
       "      <td>35</td>\n",
       "      <td>0.6925</td>\n",
       "      <td>0.0298</td>\n",
       "      <td>0.7231</td>\n",
       "      <td>0.7290</td>\n",
       "      <td>0.6667</td>\n",
       "      <td>0.6545</td>\n",
       "      <td>0.6491</td>\n",
       "      <td>0.6667</td>\n",
       "      <td>0.6942</td>\n",
       "      <td>0.7179</td>\n",
       "      <td>0.7288</td>\n",
       "      <td>0.6949</td>\n",
       "    </tr>\n",
       "    <tr>\n",
       "      <th>3</th>\n",
       "      <td>euclidean</td>\n",
       "      <td>35</td>\n",
       "      <td>0.6910</td>\n",
       "      <td>0.0344</td>\n",
       "      <td>0.6984</td>\n",
       "      <td>0.6852</td>\n",
       "      <td>0.7207</td>\n",
       "      <td>0.6296</td>\n",
       "      <td>0.6261</td>\n",
       "      <td>0.6897</td>\n",
       "      <td>0.7154</td>\n",
       "      <td>0.7000</td>\n",
       "      <td>0.7333</td>\n",
       "      <td>0.7119</td>\n",
       "    </tr>\n",
       "    <tr>\n",
       "      <th>9</th>\n",
       "      <td>manhattan</td>\n",
       "      <td>37</td>\n",
       "      <td>0.6910</td>\n",
       "      <td>0.0266</td>\n",
       "      <td>0.7087</td>\n",
       "      <td>0.6972</td>\n",
       "      <td>0.6909</td>\n",
       "      <td>0.6486</td>\n",
       "      <td>0.6491</td>\n",
       "      <td>0.6903</td>\n",
       "      <td>0.6949</td>\n",
       "      <td>0.7009</td>\n",
       "      <td>0.7458</td>\n",
       "      <td>0.6838</td>\n",
       "    </tr>\n",
       "  </tbody>\n",
       "</table>\n",
       "</div>"
      ],
      "text/plain": [
       "  param_metric param_n_neighbors  mean_test_score  std_test_score  \\\n",
       "7    manhattan                31           0.7033          0.0269   \n",
       "0    euclidean                21           0.7005          0.0278   \n",
       "5    manhattan                21           0.6992          0.0279   \n",
       "6    manhattan                25           0.6987          0.0356   \n",
       "2    euclidean                31           0.6966          0.0262   \n",
       "4    euclidean                37           0.6963          0.0342   \n",
       "1    euclidean                25           0.6960          0.0271   \n",
       "8    manhattan                35           0.6925          0.0298   \n",
       "3    euclidean                35           0.6910          0.0344   \n",
       "9    manhattan                37           0.6910          0.0266   \n",
       "\n",
       "   split0_test_score  split1_test_score  split2_test_score  split3_test_score  \\\n",
       "7             0.7188             0.7207             0.7339             0.6667   \n",
       "0             0.7031             0.6729             0.6847             0.6789   \n",
       "5             0.6719             0.6604             0.7207             0.6847   \n",
       "6             0.6825             0.6916             0.7273             0.6364   \n",
       "2             0.7087             0.7156             0.7091             0.6727   \n",
       "4             0.7200             0.7037             0.7027             0.6239   \n",
       "1             0.6822             0.6667             0.7321             0.6607   \n",
       "8             0.7231             0.7290             0.6667             0.6545   \n",
       "3             0.6984             0.6852             0.7207             0.6296   \n",
       "9             0.7087             0.6972             0.6909             0.6486   \n",
       "\n",
       "   split4_test_score  split5_test_score  split6_test_score  split7_test_score  \\\n",
       "7             0.6429             0.7018             0.7059             0.7130   \n",
       "0             0.7080             0.6726             0.7200             0.7705   \n",
       "5             0.7069             0.6607             0.7200             0.7500   \n",
       "6             0.6607             0.6903             0.7581             0.7241   \n",
       "2             0.6435             0.6783             0.6833             0.7333   \n",
       "4             0.6552             0.6724             0.7360             0.7273   \n",
       "1             0.6783             0.7018             0.7040             0.7179   \n",
       "8             0.6491             0.6667             0.6942             0.7179   \n",
       "3             0.6261             0.6897             0.7154             0.7000   \n",
       "9             0.6491             0.6903             0.6949             0.7009   \n",
       "\n",
       "   split8_test_score  split9_test_score  \n",
       "7             0.7288             0.7009  \n",
       "0             0.6891             0.7049  \n",
       "5             0.7000             0.7167  \n",
       "6             0.7377             0.6783  \n",
       "2             0.7273             0.6942  \n",
       "4             0.7273             0.6942  \n",
       "1             0.7438             0.6723  \n",
       "8             0.7288             0.6949  \n",
       "3             0.7333             0.7119  \n",
       "9             0.7458             0.6838  "
      ]
     },
     "execution_count": 22,
     "metadata": {},
     "output_type": "execute_result"
    }
   ],
   "source": [
    "# Obtener los resultados de la búsqueda de la cuadrícula para grid_knn\n",
    "results_grid_knn = pd.DataFrame(grid_knn.cv_results_)\n",
    "\n",
    "# Seleccionar las columnas deseadas\n",
    "columns_grid_knn = ['param_metric', 'param_n_neighbors']  + \\\n",
    "               ['mean_test_score', 'std_test_score']  + \\\n",
    "               [f'split{i}_test_score' for i in range(CV)]\n",
    "\n",
    "# Filtrar y mostrar los resultados\n",
    "results_grid_knn_filtered = results_grid_knn[columns_grid_knn]\n",
    "\n",
    "results_grid_knn_filtered.sort_values(by='mean_test_score', ascending=False).head(10)"
   ]
  },
  {
   "cell_type": "code",
   "execution_count": 23,
   "metadata": {},
   "outputs": [
    {
     "name": "stdout",
     "output_type": "stream",
     "text": [
      "Resultados grid_knn:\n",
      "Mejor score de validación ( f1 ): 0.7033287961716663\n",
      "Mejor conjunto de hiperparámetros: {'metric': 'manhattan', 'n_neighbors': 31}\n"
     ]
    }
   ],
   "source": [
    "# Resultados de grid_knn\n",
    "print(\"Resultados grid_knn:\")\n",
    "print(\"Mejor score de validación (\", scoring, \"):\"  ,grid_knn.best_score_)\n",
    "print(\"Mejor conjunto de hiperparámetros:\", grid_knn.best_params_)"
   ]
  },
  {
   "cell_type": "markdown",
   "metadata": {},
   "source": [
    "### Creación el modelo final"
   ]
  },
  {
   "cell_type": "code",
   "execution_count": 24,
   "metadata": {},
   "outputs": [
    {
     "data": {
      "text/html": [
       "<style>#sk-container-id-2 {color: black;background-color: white;}#sk-container-id-2 pre{padding: 0;}#sk-container-id-2 div.sk-toggleable {background-color: white;}#sk-container-id-2 label.sk-toggleable__label {cursor: pointer;display: block;width: 100%;margin-bottom: 0;padding: 0.3em;box-sizing: border-box;text-align: center;}#sk-container-id-2 label.sk-toggleable__label-arrow:before {content: \"▸\";float: left;margin-right: 0.25em;color: #696969;}#sk-container-id-2 label.sk-toggleable__label-arrow:hover:before {color: black;}#sk-container-id-2 div.sk-estimator:hover label.sk-toggleable__label-arrow:before {color: black;}#sk-container-id-2 div.sk-toggleable__content {max-height: 0;max-width: 0;overflow: hidden;text-align: left;background-color: #f0f8ff;}#sk-container-id-2 div.sk-toggleable__content pre {margin: 0.2em;color: black;border-radius: 0.25em;background-color: #f0f8ff;}#sk-container-id-2 input.sk-toggleable__control:checked~div.sk-toggleable__content {max-height: 200px;max-width: 100%;overflow: auto;}#sk-container-id-2 input.sk-toggleable__control:checked~label.sk-toggleable__label-arrow:before {content: \"▾\";}#sk-container-id-2 div.sk-estimator input.sk-toggleable__control:checked~label.sk-toggleable__label {background-color: #d4ebff;}#sk-container-id-2 div.sk-label input.sk-toggleable__control:checked~label.sk-toggleable__label {background-color: #d4ebff;}#sk-container-id-2 input.sk-hidden--visually {border: 0;clip: rect(1px 1px 1px 1px);clip: rect(1px, 1px, 1px, 1px);height: 1px;margin: -1px;overflow: hidden;padding: 0;position: absolute;width: 1px;}#sk-container-id-2 div.sk-estimator {font-family: monospace;background-color: #f0f8ff;border: 1px dotted black;border-radius: 0.25em;box-sizing: border-box;margin-bottom: 0.5em;}#sk-container-id-2 div.sk-estimator:hover {background-color: #d4ebff;}#sk-container-id-2 div.sk-parallel-item::after {content: \"\";width: 100%;border-bottom: 1px solid gray;flex-grow: 1;}#sk-container-id-2 div.sk-label:hover label.sk-toggleable__label {background-color: #d4ebff;}#sk-container-id-2 div.sk-serial::before {content: \"\";position: absolute;border-left: 1px solid gray;box-sizing: border-box;top: 0;bottom: 0;left: 50%;z-index: 0;}#sk-container-id-2 div.sk-serial {display: flex;flex-direction: column;align-items: center;background-color: white;padding-right: 0.2em;padding-left: 0.2em;position: relative;}#sk-container-id-2 div.sk-item {position: relative;z-index: 1;}#sk-container-id-2 div.sk-parallel {display: flex;align-items: stretch;justify-content: center;background-color: white;position: relative;}#sk-container-id-2 div.sk-item::before, #sk-container-id-2 div.sk-parallel-item::before {content: \"\";position: absolute;border-left: 1px solid gray;box-sizing: border-box;top: 0;bottom: 0;left: 50%;z-index: -1;}#sk-container-id-2 div.sk-parallel-item {display: flex;flex-direction: column;z-index: 1;position: relative;background-color: white;}#sk-container-id-2 div.sk-parallel-item:first-child::after {align-self: flex-end;width: 50%;}#sk-container-id-2 div.sk-parallel-item:last-child::after {align-self: flex-start;width: 50%;}#sk-container-id-2 div.sk-parallel-item:only-child::after {width: 0;}#sk-container-id-2 div.sk-dashed-wrapped {border: 1px dashed gray;margin: 0 0.4em 0.5em 0.4em;box-sizing: border-box;padding-bottom: 0.4em;background-color: white;}#sk-container-id-2 div.sk-label label {font-family: monospace;font-weight: bold;display: inline-block;line-height: 1.2em;}#sk-container-id-2 div.sk-label-container {text-align: center;}#sk-container-id-2 div.sk-container {/* jupyter's `normalize.less` sets `[hidden] { display: none; }` but bootstrap.min.css set `[hidden] { display: none !important; }` so we also need the `!important` here to be able to override the default hidden behavior on the sphinx rendered scikit-learn.org. See: https://github.com/scikit-learn/scikit-learn/issues/21755 */display: inline-block !important;position: relative;}#sk-container-id-2 div.sk-text-repr-fallback {display: none;}</style><div id=\"sk-container-id-2\" class=\"sk-top-container\"><div class=\"sk-text-repr-fallback\"><pre>KNeighborsClassifier(metric=&#x27;manhattan&#x27;, n_neighbors=31)</pre><b>In a Jupyter environment, please rerun this cell to show the HTML representation or trust the notebook. <br />On GitHub, the HTML representation is unable to render, please try loading this page with nbviewer.org.</b></div><div class=\"sk-container\" hidden><div class=\"sk-item\"><div class=\"sk-estimator sk-toggleable\"><input class=\"sk-toggleable__control sk-hidden--visually\" id=\"sk-estimator-id-4\" type=\"checkbox\" checked><label for=\"sk-estimator-id-4\" class=\"sk-toggleable__label sk-toggleable__label-arrow\">KNeighborsClassifier</label><div class=\"sk-toggleable__content\"><pre>KNeighborsClassifier(metric=&#x27;manhattan&#x27;, n_neighbors=31)</pre></div></div></div></div></div>"
      ],
      "text/plain": [
       "KNeighborsClassifier(metric='manhattan', n_neighbors=31)"
      ]
     },
     "execution_count": 24,
     "metadata": {},
     "output_type": "execute_result"
    }
   ],
   "source": [
    "# Usar los mejores parámetros para ajustar el modelo\n",
    "modelKNN.set_params(**grid_knn.best_params_)\n",
    "modelKNN.fit(X_Completo, y_Completo)"
   ]
  },
  {
   "cell_type": "markdown",
   "metadata": {},
   "source": [
    "### Guardar modelo"
   ]
  },
  {
   "cell_type": "code",
   "execution_count": 25,
   "metadata": {},
   "outputs": [
    {
     "data": {
      "text/plain": [
       "['./modelos/clasificacion/KNN_CV_manhattan.pkl']"
      ]
     },
     "execution_count": 25,
     "metadata": {},
     "output_type": "execute_result"
    }
   ],
   "source": [
    "#Se guarda el modelo de Regresión logística\n",
    "joblib.dump(modelKNN, './modelos/clasificacion/KNN_CV_manhattan.pkl')"
   ]
  },
  {
   "cell_type": "markdown",
   "metadata": {
    "id": "1zXB7bOYwXe6"
   },
   "source": [
    "#### Referencias\n",
    "\n",
    "\n",
    "- K-Neighbors Classifier\n",
    "\n",
    "    - https://scikit-learn.org/stable/modules/generated/sklearn.neighbors.KNeighborsClassifier.html\n",
    "    \n",
    "    \n",
    "- Parámetros Regresion Logística \n",
    "\n",
    "    - https://holypython.com/log-reg/logistic-regression-optimization-parameters/\n",
    "\n",
    "\n",
    "- *scikit-learn:*   \n",
    "    - https://scikit-learn.org/stable/modules/svm.html\n",
    "\n",
    "\n",
    "\n",
    "- *Gráficas con  seaborn:*\n",
    "    - https://ichi.pro/es/como-utilizar-python-seaborn-para-analisis-de-datos-exploratorios-28897898172180\n",
    "\n",
    "\n",
    "\n",
    "- *Analítica de grandes datos:*\n",
    "    - https://jdvelasq.github.io/courses/analitica-de-grandes-datos/index.html"
   ]
  }
 ],
 "metadata": {
  "colab": {
   "collapsed_sections": [
    "1zXB7bOYwXe6"
   ],
   "name": "04_3_RegresionLogistica.ipynb",
   "provenance": []
  },
  "kernelspec": {
   "display_name": "Python 3 (ipykernel)",
   "language": "python",
   "name": "python3"
  },
  "language_info": {
   "codemirror_mode": {
    "name": "ipython",
    "version": 3
   },
   "file_extension": ".py",
   "mimetype": "text/x-python",
   "name": "python",
   "nbconvert_exporter": "python",
   "pygments_lexer": "ipython3",
   "version": "3.9.7"
  }
 },
 "nbformat": 4,
 "nbformat_minor": 1
}
